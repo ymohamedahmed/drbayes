{
  "nbformat": 4,
  "nbformat_minor": 0,
  "metadata": {
    "kernelspec": {
      "display_name": "Python 3",
      "language": "python",
      "name": "python3"
    },
    "language_info": {
      "codemirror_mode": {
        "name": "ipython",
        "version": 3
      },
      "file_extension": ".py",
      "mimetype": "text/x-python",
      "name": "python",
      "nbconvert_exporter": "python",
      "pygments_lexer": "ipython3",
      "version": "3.9.2"
    },
    "colab": {
      "name": "SIBDL-demo-group-13.ipynb",
      "provenance": [],
      "collapsed_sections": [],
      "include_colab_link": true
    },
    "accelerator": "GPU",
    "widgets": {
      "application/vnd.jupyter.widget-state+json": {
        "38d5d97f1bdf4302823554cfcb7cf8b6": {
          "model_module": "@jupyter-widgets/controls",
          "model_name": "HBoxModel",
          "state": {
            "_view_name": "HBoxView",
            "_dom_classes": [],
            "_model_name": "HBoxModel",
            "_view_module": "@jupyter-widgets/controls",
            "_model_module_version": "1.5.0",
            "_view_count": null,
            "_view_module_version": "1.5.0",
            "box_style": "",
            "layout": "IPY_MODEL_9378ad4272374967b5c93346b1007d54",
            "_model_module": "@jupyter-widgets/controls",
            "children": [
              "IPY_MODEL_c932910dd6a349f0bab8d98ce96eb089",
              "IPY_MODEL_c1d932acc167402d8d8cb0693f5725be"
            ]
          }
        },
        "9378ad4272374967b5c93346b1007d54": {
          "model_module": "@jupyter-widgets/base",
          "model_name": "LayoutModel",
          "state": {
            "_view_name": "LayoutView",
            "grid_template_rows": null,
            "right": null,
            "justify_content": null,
            "_view_module": "@jupyter-widgets/base",
            "overflow": null,
            "_model_module_version": "1.2.0",
            "_view_count": null,
            "flex_flow": null,
            "width": null,
            "min_width": null,
            "border": null,
            "align_items": null,
            "bottom": null,
            "_model_module": "@jupyter-widgets/base",
            "top": null,
            "grid_column": null,
            "overflow_y": null,
            "overflow_x": null,
            "grid_auto_flow": null,
            "grid_area": null,
            "grid_template_columns": null,
            "flex": null,
            "_model_name": "LayoutModel",
            "justify_items": null,
            "grid_row": null,
            "max_height": null,
            "align_content": null,
            "visibility": null,
            "align_self": null,
            "height": null,
            "min_height": null,
            "padding": null,
            "grid_auto_rows": null,
            "grid_gap": null,
            "max_width": null,
            "order": null,
            "_view_module_version": "1.2.0",
            "grid_template_areas": null,
            "object_position": null,
            "object_fit": null,
            "grid_auto_columns": null,
            "margin": null,
            "display": null,
            "left": null
          }
        },
        "c932910dd6a349f0bab8d98ce96eb089": {
          "model_module": "@jupyter-widgets/controls",
          "model_name": "FloatProgressModel",
          "state": {
            "_view_name": "ProgressView",
            "style": "IPY_MODEL_977ff4d64c0d4c3ab282ff8fd3bdbda6",
            "_dom_classes": [],
            "description": "loss: 0.0006468822761128346: 100%",
            "_model_name": "FloatProgressModel",
            "bar_style": "success",
            "max": 50,
            "_view_module": "@jupyter-widgets/controls",
            "_model_module_version": "1.5.0",
            "value": 50,
            "_view_count": null,
            "_view_module_version": "1.5.0",
            "orientation": "horizontal",
            "min": 0,
            "description_tooltip": null,
            "_model_module": "@jupyter-widgets/controls",
            "layout": "IPY_MODEL_558c3044670b4fd5b4298dbdd18db3f6"
          }
        },
        "c1d932acc167402d8d8cb0693f5725be": {
          "model_module": "@jupyter-widgets/controls",
          "model_name": "HTMLModel",
          "state": {
            "_view_name": "HTMLView",
            "style": "IPY_MODEL_6e6c0e8e3792426b80464bd1ced77b4c",
            "_dom_classes": [],
            "description": "",
            "_model_name": "HTMLModel",
            "placeholder": "​",
            "_view_module": "@jupyter-widgets/controls",
            "_model_module_version": "1.5.0",
            "value": " 50/50 [07:41&lt;00:00,  9.23s/it]",
            "_view_count": null,
            "_view_module_version": "1.5.0",
            "description_tooltip": null,
            "_model_module": "@jupyter-widgets/controls",
            "layout": "IPY_MODEL_aec0dc3d56c54b4f858971efdddf4d7f"
          }
        },
        "977ff4d64c0d4c3ab282ff8fd3bdbda6": {
          "model_module": "@jupyter-widgets/controls",
          "model_name": "ProgressStyleModel",
          "state": {
            "_view_name": "StyleView",
            "_model_name": "ProgressStyleModel",
            "description_width": "initial",
            "_view_module": "@jupyter-widgets/base",
            "_model_module_version": "1.5.0",
            "_view_count": null,
            "_view_module_version": "1.2.0",
            "bar_color": null,
            "_model_module": "@jupyter-widgets/controls"
          }
        },
        "558c3044670b4fd5b4298dbdd18db3f6": {
          "model_module": "@jupyter-widgets/base",
          "model_name": "LayoutModel",
          "state": {
            "_view_name": "LayoutView",
            "grid_template_rows": null,
            "right": null,
            "justify_content": null,
            "_view_module": "@jupyter-widgets/base",
            "overflow": null,
            "_model_module_version": "1.2.0",
            "_view_count": null,
            "flex_flow": null,
            "width": null,
            "min_width": null,
            "border": null,
            "align_items": null,
            "bottom": null,
            "_model_module": "@jupyter-widgets/base",
            "top": null,
            "grid_column": null,
            "overflow_y": null,
            "overflow_x": null,
            "grid_auto_flow": null,
            "grid_area": null,
            "grid_template_columns": null,
            "flex": null,
            "_model_name": "LayoutModel",
            "justify_items": null,
            "grid_row": null,
            "max_height": null,
            "align_content": null,
            "visibility": null,
            "align_self": null,
            "height": null,
            "min_height": null,
            "padding": null,
            "grid_auto_rows": null,
            "grid_gap": null,
            "max_width": null,
            "order": null,
            "_view_module_version": "1.2.0",
            "grid_template_areas": null,
            "object_position": null,
            "object_fit": null,
            "grid_auto_columns": null,
            "margin": null,
            "display": null,
            "left": null
          }
        },
        "6e6c0e8e3792426b80464bd1ced77b4c": {
          "model_module": "@jupyter-widgets/controls",
          "model_name": "DescriptionStyleModel",
          "state": {
            "_view_name": "StyleView",
            "_model_name": "DescriptionStyleModel",
            "description_width": "",
            "_view_module": "@jupyter-widgets/base",
            "_model_module_version": "1.5.0",
            "_view_count": null,
            "_view_module_version": "1.2.0",
            "_model_module": "@jupyter-widgets/controls"
          }
        },
        "aec0dc3d56c54b4f858971efdddf4d7f": {
          "model_module": "@jupyter-widgets/base",
          "model_name": "LayoutModel",
          "state": {
            "_view_name": "LayoutView",
            "grid_template_rows": null,
            "right": null,
            "justify_content": null,
            "_view_module": "@jupyter-widgets/base",
            "overflow": null,
            "_model_module_version": "1.2.0",
            "_view_count": null,
            "flex_flow": null,
            "width": null,
            "min_width": null,
            "border": null,
            "align_items": null,
            "bottom": null,
            "_model_module": "@jupyter-widgets/base",
            "top": null,
            "grid_column": null,
            "overflow_y": null,
            "overflow_x": null,
            "grid_auto_flow": null,
            "grid_area": null,
            "grid_template_columns": null,
            "flex": null,
            "_model_name": "LayoutModel",
            "justify_items": null,
            "grid_row": null,
            "max_height": null,
            "align_content": null,
            "visibility": null,
            "align_self": null,
            "height": null,
            "min_height": null,
            "padding": null,
            "grid_auto_rows": null,
            "grid_gap": null,
            "max_width": null,
            "order": null,
            "_view_module_version": "1.2.0",
            "grid_template_areas": null,
            "object_position": null,
            "object_fit": null,
            "grid_auto_columns": null,
            "margin": null,
            "display": null,
            "left": null
          }
        },
        "9f46495abae54d9da450ebe6563ebf05": {
          "model_module": "@jupyter-widgets/controls",
          "model_name": "HBoxModel",
          "state": {
            "_view_name": "HBoxView",
            "_dom_classes": [],
            "_model_name": "HBoxModel",
            "_view_module": "@jupyter-widgets/controls",
            "_model_module_version": "1.5.0",
            "_view_count": null,
            "_view_module_version": "1.5.0",
            "box_style": "",
            "layout": "IPY_MODEL_db11bc8561db4f0c83169b765301068f",
            "_model_module": "@jupyter-widgets/controls",
            "children": [
              "IPY_MODEL_f48f6ea748214a9b9f97c1a4ee46413e",
              "IPY_MODEL_43f67724d4134cc2ac16518681257039"
            ]
          }
        },
        "db11bc8561db4f0c83169b765301068f": {
          "model_module": "@jupyter-widgets/base",
          "model_name": "LayoutModel",
          "state": {
            "_view_name": "LayoutView",
            "grid_template_rows": null,
            "right": null,
            "justify_content": null,
            "_view_module": "@jupyter-widgets/base",
            "overflow": null,
            "_model_module_version": "1.2.0",
            "_view_count": null,
            "flex_flow": null,
            "width": null,
            "min_width": null,
            "border": null,
            "align_items": null,
            "bottom": null,
            "_model_module": "@jupyter-widgets/base",
            "top": null,
            "grid_column": null,
            "overflow_y": null,
            "overflow_x": null,
            "grid_auto_flow": null,
            "grid_area": null,
            "grid_template_columns": null,
            "flex": null,
            "_model_name": "LayoutModel",
            "justify_items": null,
            "grid_row": null,
            "max_height": null,
            "align_content": null,
            "visibility": null,
            "align_self": null,
            "height": null,
            "min_height": null,
            "padding": null,
            "grid_auto_rows": null,
            "grid_gap": null,
            "max_width": null,
            "order": null,
            "_view_module_version": "1.2.0",
            "grid_template_areas": null,
            "object_position": null,
            "object_fit": null,
            "grid_auto_columns": null,
            "margin": null,
            "display": null,
            "left": null
          }
        },
        "f48f6ea748214a9b9f97c1a4ee46413e": {
          "model_module": "@jupyter-widgets/controls",
          "model_name": "FloatProgressModel",
          "state": {
            "_view_name": "ProgressView",
            "style": "IPY_MODEL_1e55f1199e8a40ceba081c9207904031",
            "_dom_classes": [],
            "description": "loss: 0.0006167532845710715: 100%",
            "_model_name": "FloatProgressModel",
            "bar_style": "success",
            "max": 100,
            "_view_module": "@jupyter-widgets/controls",
            "_model_module_version": "1.5.0",
            "value": 100,
            "_view_count": null,
            "_view_module_version": "1.5.0",
            "orientation": "horizontal",
            "min": 0,
            "description_tooltip": null,
            "_model_module": "@jupyter-widgets/controls",
            "layout": "IPY_MODEL_18622ab1664c4340890431625e536a56"
          }
        },
        "43f67724d4134cc2ac16518681257039": {
          "model_module": "@jupyter-widgets/controls",
          "model_name": "HTMLModel",
          "state": {
            "_view_name": "HTMLView",
            "style": "IPY_MODEL_6e04c84fc98940f5bdc9b006cf61ba39",
            "_dom_classes": [],
            "description": "",
            "_model_name": "HTMLModel",
            "placeholder": "​",
            "_view_module": "@jupyter-widgets/controls",
            "_model_module_version": "1.5.0",
            "value": " 100/100 [34:25&lt;00:00, 20.65s/it]",
            "_view_count": null,
            "_view_module_version": "1.5.0",
            "description_tooltip": null,
            "_model_module": "@jupyter-widgets/controls",
            "layout": "IPY_MODEL_c4e3759bcaed4283934fc80e0b93a342"
          }
        },
        "1e55f1199e8a40ceba081c9207904031": {
          "model_module": "@jupyter-widgets/controls",
          "model_name": "ProgressStyleModel",
          "state": {
            "_view_name": "StyleView",
            "_model_name": "ProgressStyleModel",
            "description_width": "initial",
            "_view_module": "@jupyter-widgets/base",
            "_model_module_version": "1.5.0",
            "_view_count": null,
            "_view_module_version": "1.2.0",
            "bar_color": null,
            "_model_module": "@jupyter-widgets/controls"
          }
        },
        "18622ab1664c4340890431625e536a56": {
          "model_module": "@jupyter-widgets/base",
          "model_name": "LayoutModel",
          "state": {
            "_view_name": "LayoutView",
            "grid_template_rows": null,
            "right": null,
            "justify_content": null,
            "_view_module": "@jupyter-widgets/base",
            "overflow": null,
            "_model_module_version": "1.2.0",
            "_view_count": null,
            "flex_flow": null,
            "width": null,
            "min_width": null,
            "border": null,
            "align_items": null,
            "bottom": null,
            "_model_module": "@jupyter-widgets/base",
            "top": null,
            "grid_column": null,
            "overflow_y": null,
            "overflow_x": null,
            "grid_auto_flow": null,
            "grid_area": null,
            "grid_template_columns": null,
            "flex": null,
            "_model_name": "LayoutModel",
            "justify_items": null,
            "grid_row": null,
            "max_height": null,
            "align_content": null,
            "visibility": null,
            "align_self": null,
            "height": null,
            "min_height": null,
            "padding": null,
            "grid_auto_rows": null,
            "grid_gap": null,
            "max_width": null,
            "order": null,
            "_view_module_version": "1.2.0",
            "grid_template_areas": null,
            "object_position": null,
            "object_fit": null,
            "grid_auto_columns": null,
            "margin": null,
            "display": null,
            "left": null
          }
        },
        "6e04c84fc98940f5bdc9b006cf61ba39": {
          "model_module": "@jupyter-widgets/controls",
          "model_name": "DescriptionStyleModel",
          "state": {
            "_view_name": "StyleView",
            "_model_name": "DescriptionStyleModel",
            "description_width": "",
            "_view_module": "@jupyter-widgets/base",
            "_model_module_version": "1.5.0",
            "_view_count": null,
            "_view_module_version": "1.2.0",
            "_model_module": "@jupyter-widgets/controls"
          }
        },
        "c4e3759bcaed4283934fc80e0b93a342": {
          "model_module": "@jupyter-widgets/base",
          "model_name": "LayoutModel",
          "state": {
            "_view_name": "LayoutView",
            "grid_template_rows": null,
            "right": null,
            "justify_content": null,
            "_view_module": "@jupyter-widgets/base",
            "overflow": null,
            "_model_module_version": "1.2.0",
            "_view_count": null,
            "flex_flow": null,
            "width": null,
            "min_width": null,
            "border": null,
            "align_items": null,
            "bottom": null,
            "_model_module": "@jupyter-widgets/base",
            "top": null,
            "grid_column": null,
            "overflow_y": null,
            "overflow_x": null,
            "grid_auto_flow": null,
            "grid_area": null,
            "grid_template_columns": null,
            "flex": null,
            "_model_name": "LayoutModel",
            "justify_items": null,
            "grid_row": null,
            "max_height": null,
            "align_content": null,
            "visibility": null,
            "align_self": null,
            "height": null,
            "min_height": null,
            "padding": null,
            "grid_auto_rows": null,
            "grid_gap": null,
            "max_width": null,
            "order": null,
            "_view_module_version": "1.2.0",
            "grid_template_areas": null,
            "object_position": null,
            "object_fit": null,
            "grid_auto_columns": null,
            "margin": null,
            "display": null,
            "left": null
          }
        },
        "11ae161f9fc74a97a252beab703ef537": {
          "model_module": "@jupyter-widgets/controls",
          "model_name": "HBoxModel",
          "state": {
            "_view_name": "HBoxView",
            "_dom_classes": [],
            "_model_name": "HBoxModel",
            "_view_module": "@jupyter-widgets/controls",
            "_model_module_version": "1.5.0",
            "_view_count": null,
            "_view_module_version": "1.5.0",
            "box_style": "",
            "layout": "IPY_MODEL_5c3f1e86c653483ab5aaa0ff7641ed8e",
            "_model_module": "@jupyter-widgets/controls",
            "children": [
              "IPY_MODEL_7bff50cdc8fc4266bed4ba6817f7fcde",
              "IPY_MODEL_4cf82be353c048c1b35299e65ecd7436"
            ]
          }
        },
        "5c3f1e86c653483ab5aaa0ff7641ed8e": {
          "model_module": "@jupyter-widgets/base",
          "model_name": "LayoutModel",
          "state": {
            "_view_name": "LayoutView",
            "grid_template_rows": null,
            "right": null,
            "justify_content": null,
            "_view_module": "@jupyter-widgets/base",
            "overflow": null,
            "_model_module_version": "1.2.0",
            "_view_count": null,
            "flex_flow": null,
            "width": null,
            "min_width": null,
            "border": null,
            "align_items": null,
            "bottom": null,
            "_model_module": "@jupyter-widgets/base",
            "top": null,
            "grid_column": null,
            "overflow_y": null,
            "overflow_x": null,
            "grid_auto_flow": null,
            "grid_area": null,
            "grid_template_columns": null,
            "flex": null,
            "_model_name": "LayoutModel",
            "justify_items": null,
            "grid_row": null,
            "max_height": null,
            "align_content": null,
            "visibility": null,
            "align_self": null,
            "height": null,
            "min_height": null,
            "padding": null,
            "grid_auto_rows": null,
            "grid_gap": null,
            "max_width": null,
            "order": null,
            "_view_module_version": "1.2.0",
            "grid_template_areas": null,
            "object_position": null,
            "object_fit": null,
            "grid_auto_columns": null,
            "margin": null,
            "display": null,
            "left": null
          }
        },
        "7bff50cdc8fc4266bed4ba6817f7fcde": {
          "model_module": "@jupyter-widgets/controls",
          "model_name": "FloatProgressModel",
          "state": {
            "_view_name": "ProgressView",
            "style": "IPY_MODEL_1635ce878a044f6b861ad9ecfcf49062",
            "_dom_classes": [],
            "description": "",
            "_model_name": "FloatProgressModel",
            "bar_style": "success",
            "max": 1,
            "_view_module": "@jupyter-widgets/controls",
            "_model_module_version": "1.5.0",
            "value": 1,
            "_view_count": null,
            "_view_module_version": "1.5.0",
            "orientation": "horizontal",
            "min": 0,
            "description_tooltip": null,
            "_model_module": "@jupyter-widgets/controls",
            "layout": "IPY_MODEL_e5b4dadb2b97492ea82a0b367f571e01"
          }
        },
        "4cf82be353c048c1b35299e65ecd7436": {
          "model_module": "@jupyter-widgets/controls",
          "model_name": "HTMLModel",
          "state": {
            "_view_name": "HTMLView",
            "style": "IPY_MODEL_fee0f8dbbc324a22b18f063021f102f2",
            "_dom_classes": [],
            "description": "",
            "_model_name": "HTMLModel",
            "placeholder": "​",
            "_view_module": "@jupyter-widgets/controls",
            "_model_module_version": "1.5.0",
            "value": " 118/? [03:39&lt;00:00,  1.86s/it]",
            "_view_count": null,
            "_view_module_version": "1.5.0",
            "description_tooltip": null,
            "_model_module": "@jupyter-widgets/controls",
            "layout": "IPY_MODEL_91c9e7338f434de0b25e81caab977311"
          }
        },
        "1635ce878a044f6b861ad9ecfcf49062": {
          "model_module": "@jupyter-widgets/controls",
          "model_name": "ProgressStyleModel",
          "state": {
            "_view_name": "StyleView",
            "_model_name": "ProgressStyleModel",
            "description_width": "initial",
            "_view_module": "@jupyter-widgets/base",
            "_model_module_version": "1.5.0",
            "_view_count": null,
            "_view_module_version": "1.2.0",
            "bar_color": null,
            "_model_module": "@jupyter-widgets/controls"
          }
        },
        "e5b4dadb2b97492ea82a0b367f571e01": {
          "model_module": "@jupyter-widgets/base",
          "model_name": "LayoutModel",
          "state": {
            "_view_name": "LayoutView",
            "grid_template_rows": null,
            "right": null,
            "justify_content": null,
            "_view_module": "@jupyter-widgets/base",
            "overflow": null,
            "_model_module_version": "1.2.0",
            "_view_count": null,
            "flex_flow": null,
            "width": null,
            "min_width": null,
            "border": null,
            "align_items": null,
            "bottom": null,
            "_model_module": "@jupyter-widgets/base",
            "top": null,
            "grid_column": null,
            "overflow_y": null,
            "overflow_x": null,
            "grid_auto_flow": null,
            "grid_area": null,
            "grid_template_columns": null,
            "flex": null,
            "_model_name": "LayoutModel",
            "justify_items": null,
            "grid_row": null,
            "max_height": null,
            "align_content": null,
            "visibility": null,
            "align_self": null,
            "height": null,
            "min_height": null,
            "padding": null,
            "grid_auto_rows": null,
            "grid_gap": null,
            "max_width": null,
            "order": null,
            "_view_module_version": "1.2.0",
            "grid_template_areas": null,
            "object_position": null,
            "object_fit": null,
            "grid_auto_columns": null,
            "margin": null,
            "display": null,
            "left": null
          }
        },
        "fee0f8dbbc324a22b18f063021f102f2": {
          "model_module": "@jupyter-widgets/controls",
          "model_name": "DescriptionStyleModel",
          "state": {
            "_view_name": "StyleView",
            "_model_name": "DescriptionStyleModel",
            "description_width": "",
            "_view_module": "@jupyter-widgets/base",
            "_model_module_version": "1.5.0",
            "_view_count": null,
            "_view_module_version": "1.2.0",
            "_model_module": "@jupyter-widgets/controls"
          }
        },
        "91c9e7338f434de0b25e81caab977311": {
          "model_module": "@jupyter-widgets/base",
          "model_name": "LayoutModel",
          "state": {
            "_view_name": "LayoutView",
            "grid_template_rows": null,
            "right": null,
            "justify_content": null,
            "_view_module": "@jupyter-widgets/base",
            "overflow": null,
            "_model_module_version": "1.2.0",
            "_view_count": null,
            "flex_flow": null,
            "width": null,
            "min_width": null,
            "border": null,
            "align_items": null,
            "bottom": null,
            "_model_module": "@jupyter-widgets/base",
            "top": null,
            "grid_column": null,
            "overflow_y": null,
            "overflow_x": null,
            "grid_auto_flow": null,
            "grid_area": null,
            "grid_template_columns": null,
            "flex": null,
            "_model_name": "LayoutModel",
            "justify_items": null,
            "grid_row": null,
            "max_height": null,
            "align_content": null,
            "visibility": null,
            "align_self": null,
            "height": null,
            "min_height": null,
            "padding": null,
            "grid_auto_rows": null,
            "grid_gap": null,
            "max_width": null,
            "order": null,
            "_view_module_version": "1.2.0",
            "grid_template_areas": null,
            "object_position": null,
            "object_fit": null,
            "grid_auto_columns": null,
            "margin": null,
            "display": null,
            "left": null
          }
        },
        "1a9d4aa3090741d6898fbffb56cb3533": {
          "model_module": "@jupyter-widgets/controls",
          "model_name": "HBoxModel",
          "state": {
            "_view_name": "HBoxView",
            "_dom_classes": [],
            "_model_name": "HBoxModel",
            "_view_module": "@jupyter-widgets/controls",
            "_model_module_version": "1.5.0",
            "_view_count": null,
            "_view_module_version": "1.5.0",
            "box_style": "",
            "layout": "IPY_MODEL_3741ef7604bd4660b724aa8a31b54cf5",
            "_model_module": "@jupyter-widgets/controls",
            "children": [
              "IPY_MODEL_b4ed049eef654f63897429f427a1d4d3",
              "IPY_MODEL_3fad7a47995a43af84752924bafc04fc"
            ]
          }
        },
        "3741ef7604bd4660b724aa8a31b54cf5": {
          "model_module": "@jupyter-widgets/base",
          "model_name": "LayoutModel",
          "state": {
            "_view_name": "LayoutView",
            "grid_template_rows": null,
            "right": null,
            "justify_content": null,
            "_view_module": "@jupyter-widgets/base",
            "overflow": null,
            "_model_module_version": "1.2.0",
            "_view_count": null,
            "flex_flow": null,
            "width": null,
            "min_width": null,
            "border": null,
            "align_items": null,
            "bottom": null,
            "_model_module": "@jupyter-widgets/base",
            "top": null,
            "grid_column": null,
            "overflow_y": null,
            "overflow_x": null,
            "grid_auto_flow": null,
            "grid_area": null,
            "grid_template_columns": null,
            "flex": null,
            "_model_name": "LayoutModel",
            "justify_items": null,
            "grid_row": null,
            "max_height": null,
            "align_content": null,
            "visibility": null,
            "align_self": null,
            "height": null,
            "min_height": null,
            "padding": null,
            "grid_auto_rows": null,
            "grid_gap": null,
            "max_width": null,
            "order": null,
            "_view_module_version": "1.2.0",
            "grid_template_areas": null,
            "object_position": null,
            "object_fit": null,
            "grid_auto_columns": null,
            "margin": null,
            "display": null,
            "left": null
          }
        },
        "b4ed049eef654f63897429f427a1d4d3": {
          "model_module": "@jupyter-widgets/controls",
          "model_name": "FloatProgressModel",
          "state": {
            "_view_name": "ProgressView",
            "style": "IPY_MODEL_cb5fe563d706492e89c904f7acb4be73",
            "_dom_classes": [],
            "description": "",
            "_model_name": "FloatProgressModel",
            "bar_style": "success",
            "max": 1,
            "_view_module": "@jupyter-widgets/controls",
            "_model_module_version": "1.5.0",
            "value": 1,
            "_view_count": null,
            "_view_module_version": "1.5.0",
            "orientation": "horizontal",
            "min": 0,
            "description_tooltip": null,
            "_model_module": "@jupyter-widgets/controls",
            "layout": "IPY_MODEL_7b94e15465f0420db721a22979181bf9"
          }
        },
        "3fad7a47995a43af84752924bafc04fc": {
          "model_module": "@jupyter-widgets/controls",
          "model_name": "HTMLModel",
          "state": {
            "_view_name": "HTMLView",
            "style": "IPY_MODEL_6ed5ef9daa4140588dcda9e1b9add931",
            "_dom_classes": [],
            "description": "",
            "_model_name": "HTMLModel",
            "placeholder": "​",
            "_view_module": "@jupyter-widgets/controls",
            "_model_module_version": "1.5.0",
            "value": " 118/? [30:02&lt;00:00, 15.27s/it]",
            "_view_count": null,
            "_view_module_version": "1.5.0",
            "description_tooltip": null,
            "_model_module": "@jupyter-widgets/controls",
            "layout": "IPY_MODEL_63ff71fb0cb84b8682f0de0ea03e8059"
          }
        },
        "cb5fe563d706492e89c904f7acb4be73": {
          "model_module": "@jupyter-widgets/controls",
          "model_name": "ProgressStyleModel",
          "state": {
            "_view_name": "StyleView",
            "_model_name": "ProgressStyleModel",
            "description_width": "initial",
            "_view_module": "@jupyter-widgets/base",
            "_model_module_version": "1.5.0",
            "_view_count": null,
            "_view_module_version": "1.2.0",
            "bar_color": null,
            "_model_module": "@jupyter-widgets/controls"
          }
        },
        "7b94e15465f0420db721a22979181bf9": {
          "model_module": "@jupyter-widgets/base",
          "model_name": "LayoutModel",
          "state": {
            "_view_name": "LayoutView",
            "grid_template_rows": null,
            "right": null,
            "justify_content": null,
            "_view_module": "@jupyter-widgets/base",
            "overflow": null,
            "_model_module_version": "1.2.0",
            "_view_count": null,
            "flex_flow": null,
            "width": null,
            "min_width": null,
            "border": null,
            "align_items": null,
            "bottom": null,
            "_model_module": "@jupyter-widgets/base",
            "top": null,
            "grid_column": null,
            "overflow_y": null,
            "overflow_x": null,
            "grid_auto_flow": null,
            "grid_area": null,
            "grid_template_columns": null,
            "flex": null,
            "_model_name": "LayoutModel",
            "justify_items": null,
            "grid_row": null,
            "max_height": null,
            "align_content": null,
            "visibility": null,
            "align_self": null,
            "height": null,
            "min_height": null,
            "padding": null,
            "grid_auto_rows": null,
            "grid_gap": null,
            "max_width": null,
            "order": null,
            "_view_module_version": "1.2.0",
            "grid_template_areas": null,
            "object_position": null,
            "object_fit": null,
            "grid_auto_columns": null,
            "margin": null,
            "display": null,
            "left": null
          }
        },
        "6ed5ef9daa4140588dcda9e1b9add931": {
          "model_module": "@jupyter-widgets/controls",
          "model_name": "DescriptionStyleModel",
          "state": {
            "_view_name": "StyleView",
            "_model_name": "DescriptionStyleModel",
            "description_width": "",
            "_view_module": "@jupyter-widgets/base",
            "_model_module_version": "1.5.0",
            "_view_count": null,
            "_view_module_version": "1.2.0",
            "_model_module": "@jupyter-widgets/controls"
          }
        },
        "63ff71fb0cb84b8682f0de0ea03e8059": {
          "model_module": "@jupyter-widgets/base",
          "model_name": "LayoutModel",
          "state": {
            "_view_name": "LayoutView",
            "grid_template_rows": null,
            "right": null,
            "justify_content": null,
            "_view_module": "@jupyter-widgets/base",
            "overflow": null,
            "_model_module_version": "1.2.0",
            "_view_count": null,
            "flex_flow": null,
            "width": null,
            "min_width": null,
            "border": null,
            "align_items": null,
            "bottom": null,
            "_model_module": "@jupyter-widgets/base",
            "top": null,
            "grid_column": null,
            "overflow_y": null,
            "overflow_x": null,
            "grid_auto_flow": null,
            "grid_area": null,
            "grid_template_columns": null,
            "flex": null,
            "_model_name": "LayoutModel",
            "justify_items": null,
            "grid_row": null,
            "max_height": null,
            "align_content": null,
            "visibility": null,
            "align_self": null,
            "height": null,
            "min_height": null,
            "padding": null,
            "grid_auto_rows": null,
            "grid_gap": null,
            "max_width": null,
            "order": null,
            "_view_module_version": "1.2.0",
            "grid_template_areas": null,
            "object_position": null,
            "object_fit": null,
            "grid_auto_columns": null,
            "margin": null,
            "display": null,
            "left": null
          }
        }
      }
    }
  },
  "cells": [
    {
      "cell_type": "markdown",
      "metadata": {
        "id": "view-in-github",
        "colab_type": "text"
      },
      "source": [
        "<a href=\"https://colab.research.google.com/github/ymohamedahmed/drbayes/blob/master/SIBDL_demo_group_13.ipynb\" target=\"_parent\"><img src=\"https://colab.research.google.com/assets/colab-badge.svg\" alt=\"Open In Colab\"/></a>"
      ]
    },
    {
      "cell_type": "markdown",
      "metadata": {
        "id": "t1HFtcUoANXK"
      },
      "source": [
        "# Machine Learning Seminars - Subspace Inference for Bayesian Deep Learning - Demo\n",
        "\n",
        "*Reviewed by Chiara Campagnola, Yousuf Mohamed-Ahmed and Hannah Teufel*\n",
        "\n",
        "**Aims of this notebook**:\n",
        "- Empirically evaluate the effectiveness of the uncertainty estimates produced (this is **not** evaluated by the paper)\n",
        "- Evaluate the performance gains achieved by applying approximate inference techniques in subspaces *vs* in the full space\n",
        "<!-- - Compare the method proposed by the paper to non-neural network based approaches -->\n",
        "\n",
        "**Research questions**:\n",
        "- In comparison to ensembles and 'full' variational inference (VI); how well does VI in PCA subspace perform in terms of uncertainty estimates (measured by [expected calibration error](https://arxiv.org/pdf/1706.04599.pdf) and out-of-distribution uncertainty estimates).\n",
        "- Using the same comparisons, how does 'performance' of the paper stack up? "
      ]
    },
    {
      "cell_type": "markdown",
      "metadata": {
        "id": "uid9lGO39gvk"
      },
      "source": [
        "## Setup"
      ]
    },
    {
      "cell_type": "code",
      "metadata": {
        "id": "DtjBG4O5AU0y",
        "colab": {
          "base_uri": "https://localhost:8080/"
        },
        "outputId": "60f35335-6fde-497f-e51c-ecbc42755a33"
      },
      "source": [
        "!rm -rf drbayes\n",
        "!git clone https://github.com/ymohamedahmed/drbayes.git"
      ],
      "execution_count": 17,
      "outputs": [
        {
          "output_type": "stream",
          "text": [
            "Cloning into 'drbayes'...\n",
            "remote: Enumerating objects: 104, done.\u001b[K\n",
            "remote: Counting objects: 100% (104/104), done.\u001b[K\n",
            "remote: Compressing objects: 100% (81/81), done.\u001b[K\n",
            "remote: Total 365 (delta 51), reused 56 (delta 21), pack-reused 261\u001b[K\n",
            "Receiving objects: 100% (365/365), 15.17 MiB | 37.51 MiB/s, done.\n",
            "Resolving deltas: 100% (121/121), done.\n"
          ],
          "name": "stdout"
        }
      ]
    },
    {
      "cell_type": "code",
      "metadata": {
        "id": "03E9eUMjAvMz",
        "colab": {
          "base_uri": "https://localhost:8080/"
        },
        "outputId": "e66a2e43-98f4-4903-fefa-52327294428a"
      },
      "source": [
        "!pip install -e drbayes"
      ],
      "execution_count": 18,
      "outputs": [
        {
          "output_type": "stream",
          "text": [
            "Obtaining file:///content/drbayes\n",
            "Requirement already satisfied: tqdm>=4.26.0 in /usr/local/lib/python3.7/dist-packages (from subspace-inference==0.0) (4.41.1)\n",
            "Requirement already satisfied: numpy>=1.14.3 in /usr/local/lib/python3.7/dist-packages (from subspace-inference==0.0) (1.19.5)\n",
            "Requirement already satisfied: torchvision>=0.2.1 in /usr/local/lib/python3.7/dist-packages (from subspace-inference==0.0) (0.9.0+cu101)\n",
            "Requirement already satisfied: gpytorch>=0.1.0rc4 in /usr/local/lib/python3.7/dist-packages (from subspace-inference==0.0) (1.4.0)\n",
            "Requirement already satisfied: tabulate>=0.8.2 in /usr/local/lib/python3.7/dist-packages (from subspace-inference==0.0) (0.8.9)\n",
            "Requirement already satisfied: scipy>=1.1.0 in /usr/local/lib/python3.7/dist-packages (from subspace-inference==0.0) (1.4.1)\n",
            "Requirement already satisfied: setuptools>=39.1.0 in /usr/local/lib/python3.7/dist-packages (from subspace-inference==0.0) (54.0.0)\n",
            "Requirement already satisfied: matplotlib>=2.2.2 in /usr/local/lib/python3.7/dist-packages (from subspace-inference==0.0) (3.2.2)\n",
            "Requirement already satisfied: torch>=1.0.0 in /usr/local/lib/python3.7/dist-packages (from subspace-inference==0.0) (1.8.0+cu101)\n",
            "Requirement already satisfied: scikit_learn>=0.20.2 in /usr/local/lib/python3.7/dist-packages (from subspace-inference==0.0) (0.22.2.post1)\n",
            "Requirement already satisfied: pyro-ppl==1.5.2 in /usr/local/lib/python3.7/dist-packages (from subspace-inference==0.0) (1.5.2)\n",
            "Requirement already satisfied: pyparsing>=2.4.5 in /usr/local/lib/python3.7/dist-packages (from subspace-inference==0.0) (2.4.7)\n",
            "Requirement already satisfied: Pillow in /usr/local/lib/python3.7/dist-packages (from subspace-inference==0.0) (7.0.0)\n",
            "Requirement already satisfied: kiwisolver>=1.0.1 in /usr/local/lib/python3.7/dist-packages (from matplotlib>=2.2.2->subspace-inference==0.0) (1.3.1)\n",
            "Requirement already satisfied: cycler>=0.10 in /usr/local/lib/python3.7/dist-packages (from matplotlib>=2.2.2->subspace-inference==0.0) (0.10.0)\n",
            "Requirement already satisfied: python-dateutil>=2.1 in /usr/local/lib/python3.7/dist-packages (from matplotlib>=2.2.2->subspace-inference==0.0) (2.8.1)\n",
            "Requirement already satisfied: typing-extensions in /usr/local/lib/python3.7/dist-packages (from torch>=1.0.0->subspace-inference==0.0) (3.7.4.3)\n",
            "Requirement already satisfied: joblib>=0.11 in /usr/local/lib/python3.7/dist-packages (from scikit_learn>=0.20.2->subspace-inference==0.0) (1.0.1)\n",
            "Requirement already satisfied: pyro-api>=0.1.1 in /usr/local/lib/python3.7/dist-packages (from pyro-ppl==1.5.2->subspace-inference==0.0) (0.1.2)\n",
            "Requirement already satisfied: opt-einsum>=2.3.2 in /usr/local/lib/python3.7/dist-packages (from pyro-ppl==1.5.2->subspace-inference==0.0) (3.3.0)\n",
            "Requirement already satisfied: six in /usr/local/lib/python3.7/dist-packages (from cycler>=0.10->matplotlib>=2.2.2->subspace-inference==0.0) (1.15.0)\n",
            "Installing collected packages: subspace-inference\n",
            "  Found existing installation: subspace-inference 0.0\n",
            "    Can't uninstall 'subspace-inference'. No files were found to uninstall.\n",
            "  Running setup.py develop for subspace-inference\n",
            "Successfully installed subspace-inference\n"
          ],
          "name": "stdout"
        }
      ]
    },
    {
      "cell_type": "code",
      "metadata": {
        "id": "qTnpHtKDANXP",
        "colab": {
          "base_uri": "https://localhost:8080/"
        },
        "outputId": "f5f8ef1a-9f28-418d-8568-6906dff6fd7d"
      },
      "source": [
        "import sys\n",
        "import numpy as np\n",
        "import matplotlib.pyplot as plt\n",
        "%matplotlib inline\n",
        "\n",
        "import torch\n",
        "import torch.utils.data\n",
        "from torch.nn import functional as F\n",
        "import torch.nn as nn\n",
        "from torchvision import datasets, transforms\n",
        "\n",
        "import seaborn as sns\n",
        "\n",
        "import subspace_inference\n",
        "import subspace_inference.utils as utils\n",
        "from subspace_inference.posteriors import SWAG\n",
        "from subspace_inference import models, losses, utils\n",
        "from subspace_inference.models import MLP\n",
        "from subspace_inference.visualization import plot_predictive\n",
        "from subspace_inference.posteriors.proj_model import SubspaceModel\n",
        "from tqdm.notebook import tqdm\n",
        "from subspace_inference.posteriors.vi_model import VIModel, ELBO\n",
        "import math\n",
        "\n",
        "import os\n",
        "\n",
        "torch.backends.cudnn.benchmark = True\n",
        "torch.manual_seed(1)\n",
        "torch.cuda.manual_seed(1)\n",
        "np.random.seed(1)\n",
        "\n",
        "%load_ext autoreload\n",
        "%autoreload 2"
      ],
      "execution_count": 19,
      "outputs": [
        {
          "output_type": "stream",
          "text": [
            "The autoreload extension is already loaded. To reload it, use:\n",
            "  %reload_ext autoreload\n"
          ],
          "name": "stdout"
        }
      ]
    },
    {
      "cell_type": "code",
      "metadata": {
        "id": "1UwutCr-CoVz"
      },
      "source": [
        "device = torch.device(\"cuda:0\" if torch.cuda.is_available() else \"cpu\")"
      ],
      "execution_count": 20,
      "outputs": []
    },
    {
      "cell_type": "code",
      "metadata": {
        "id": "wqOHeNvdANXS"
      },
      "source": [
        "transform=transforms.Compose([\n",
        "        transforms.ToTensor(),\n",
        "        transforms.Normalize((0.1307,), (0.3081,))\n",
        "        ])\n",
        "train_all = datasets.QMNIST(root=\"../data\",train=True, download=True,\n",
        "                   transform=transform)\n",
        "train_val_split = int(0.8*len(train_all))\n",
        "train_idx, val_idx = range(0, train_val_split), range(train_val_split, len(train_all))\n",
        "\n",
        "train = torch.utils.data.Subset(train_all, train_idx)\n",
        "val = torch.utils.data.Subset(train_all, val_idx)\n",
        "test = datasets.QMNIST('../data', train=False,download=True,\n",
        "                   transform=transform)\n",
        "train_loader = torch.utils.data.DataLoader(train,batch_size=512)\n",
        "val_loader = torch.utils.data.DataLoader(val,batch_size=512)"
      ],
      "execution_count": 57,
      "outputs": []
    },
    {
      "cell_type": "code",
      "metadata": {
        "id": "MhcN0Zwa9Khx"
      },
      "source": [
        "class VanillaMLP(nn.Module):\n",
        "  def __init__(self, dims):\n",
        "    super(VanillaMLP,self).__init__()\n",
        "    self.dims = dims\n",
        "    layers = [nn.Flatten()] + [lay for (x,y) in zip(dims[:-1],dims[1:]) for lay in [nn.Linear(x,y), nn.ReLU()] ]\n",
        "    layers.pop()\n",
        "    self.model = nn.Sequential(*layers)\n",
        "\n",
        "  def forward(self,x):\n",
        "    return self.model(x)"
      ],
      "execution_count": 22,
      "outputs": []
    },
    {
      "cell_type": "markdown",
      "metadata": {
        "id": "gchOCSV-ANXT"
      },
      "source": [
        "## Models"
      ]
    },
    {
      "cell_type": "code",
      "metadata": {
        "id": "THx5CUJMDa5u"
      },
      "source": [
        "def loss_acc(model, loss_function, loader):\n",
        "  N = 0\n",
        "  total_loss = 0\n",
        "  acc = 0\n",
        "  for x,y in loader:\n",
        "    x = x.to(device)\n",
        "    y = y.to(device)\n",
        "\n",
        "    out = model(loader)\n",
        "    loss = loss_function(out,y)\n",
        "    total_loss += loss.item()\n",
        "    acc += (out==y).sum()\n",
        "    N += x.size(0)\n",
        "  return loss/N, acc/N\n",
        "\n",
        "def convergence(val_losses):\n",
        "  return len(val_losses) > 10 and val_losses[-1] <= val_losses[-10]\n",
        "\n",
        "def train(model, loss_function, max_epochs, train_loader):\n",
        "  optimizer = torch.optim.Adam(model.parameters(), lr=0.001)\n",
        "  swag_model = SWAG(VanillaMLP, subspace_type=\"pca\",\n",
        "                  subspace_kwargs={\"max_rank\": 10, \"pca_rank\": 10},dims=[28*28,50,20,10])\n",
        "  for epoch in range(max_epochs):\n",
        "    total_loss = 0\n",
        "    for x,y in train_loader:\n",
        "      x = x.to(device)\n",
        "      y = y.to(device)\n",
        "      optimizer.zero_grad()\n",
        "      out = model(x)\n",
        "      swag_model.collect_model(model)\n",
        "\n",
        "      loss = loss_function(out,y).item() \n",
        "      loss.backward()\n",
        "      optimizer.step()\n",
        "    if epoch % 10 == 0:\n",
        "        print(f\"Epoch: {epoch}, loss: {loss}\")\n",
        "\n",
        "  torch.save(swag_model, \"drbayes/swag_model_qmnist.pt\")\n",
        "  return swag_model.get_space()\n",
        "\n",
        "def train(model, loss_function, max_epochs, train_loader, val_loader, lr, swag=False):\n",
        "  optimizer = torch.optim.Adam(model.parameters(), lr=lr)\n",
        "  vlosses = []\n",
        "  if swag:\n",
        "    swag_model = SWAG(VanillaMLP, subspace_type=\"pca\",\n",
        "                    subspace_kwargs={\"max_rank\": 10, \"pca_rank\": 10},dims=model.dims)\n",
        "  pbar = tqdm(range(max_epochs))\n",
        "  for epoch in pbar:\n",
        "    for x,y in train_loader:\n",
        "      x = x.to(device)\n",
        "      y = y.to(device)\n",
        "      optimizer.zero_grad()\n",
        "      out = model(x)\n",
        "      if swag: \n",
        "        swag_model.collect_model(model)\n",
        "      loss = loss_function(model,x,y)[0]\n",
        "      loss.backward()\n",
        "      optimizer.step()\n",
        "    vloss, vacc = loss_acc(model, loss_function, val_loader)\n",
        "    vlosses.append(vloss)\n",
        "    if convergence(losses):\n",
        "      print(\"converged\")\n",
        "      break\n",
        "    bar.set_description(f'loss: {vloss}')\n",
        "    if epoch % 2 == 0:\n",
        "        print(f\"Epoch: {epoch}, loss: {vacc}\")\n"
      ],
      "execution_count": 28,
      "outputs": []
    },
    {
      "cell_type": "markdown",
      "metadata": {
        "id": "raWEYW_IANXT"
      },
      "source": [
        "### Mean Field Variational Inference"
      ]
    },
    {
      "cell_type": "code",
      "metadata": {
        "colab": {
          "base_uri": "https://localhost:8080/"
        },
        "id": "LU6sRS76_Bnz",
        "outputId": "d8fc0b47-04a2-4c8f-e561-d876d19ffea6"
      },
      "source": [
        "def number_of_params(dims):\n",
        "  d = np.array(dims)\n",
        "  return ((d[:-1]*d[1:])+d[1:]).sum()\n",
        "init_sigma = 1.\n",
        "prior_sigma = 1.\n",
        "dims = [28*28,10]\n",
        "criterion = losses.cross_entropy\n",
        "temperature = 0.01\n",
        "# number_params = len(.parameters())\n",
        "number_params = number_of_params(dims)\n",
        "print(number_params)\n",
        "identity_space = SubspaceModel(torch.zeros(number_params), torch.eye(number_params))\n",
        "full_vi_model = VIModel(\n",
        "    subspace=identity_space,\n",
        "    init_inv_softplus_sigma=math.log(math.exp(init_sigma) - 1.0),\n",
        "    prior_log_sigma=math.log(prior_sigma),\n",
        "    base=VanillaMLP,\n",
        "    dims=dims\n",
        ")\n",
        "# print(full_vi_model)\n",
        "\n",
        "# full_vi_model.to(device)"
      ],
      "execution_count": 10,
      "outputs": [
        {
          "output_type": "stream",
          "text": [
            "7850\n"
          ],
          "name": "stdout"
        }
      ]
    },
    {
      "cell_type": "code",
      "metadata": {
        "colab": {
          "base_uri": "https://localhost:8080/",
          "height": 501,
          "referenced_widgets": [
            "38d5d97f1bdf4302823554cfcb7cf8b6",
            "9378ad4272374967b5c93346b1007d54",
            "c932910dd6a349f0bab8d98ce96eb089",
            "c1d932acc167402d8d8cb0693f5725be",
            "977ff4d64c0d4c3ab282ff8fd3bdbda6",
            "558c3044670b4fd5b4298dbdd18db3f6",
            "6e6c0e8e3792426b80464bd1ced77b4c",
            "aec0dc3d56c54b4f858971efdddf4d7f"
          ]
        },
        "id": "BPwC_BsS_Qrb",
        "outputId": "c3c20516-9517-4d55-bdc0-7966baea8367"
      },
      "source": [
        "full_vi_model.to(device)\n",
        "elbo = ELBO(criterion, len(train_loader.dataset), temperature=temperature)\n",
        "train_vi_model(full_vi_model, elbo, 50, train_loader,lr=0.01)\n",
        "# torch.save(full_vi_model.state_dict(), \"drbayes/full-vi-pca-model.pt\")"
      ],
      "execution_count": 33,
      "outputs": [
        {
          "output_type": "display_data",
          "data": {
            "application/vnd.jupyter.widget-view+json": {
              "model_id": "38d5d97f1bdf4302823554cfcb7cf8b6",
              "version_minor": 0,
              "version_major": 2
            },
            "text/plain": [
              "HBox(children=(FloatProgress(value=0.0, max=50.0), HTML(value='')))"
            ]
          },
          "metadata": {
            "tags": []
          }
        },
        {
          "output_type": "stream",
          "text": [
            "Epoch: 0, loss: 0.0008180220577865838\n",
            "Epoch: 2, loss: 0.000810457852979501\n",
            "Epoch: 4, loss: 0.0008041149731104572\n",
            "Epoch: 6, loss: 0.0007976021368056536\n",
            "Epoch: 8, loss: 0.0007612998275707165\n",
            "Epoch: 10, loss: 0.0007470322951674462\n",
            "Epoch: 12, loss: 0.0007309044523785512\n",
            "Epoch: 14, loss: 0.0007205517152945201\n",
            "Epoch: 16, loss: 0.0007231044278790553\n",
            "Epoch: 18, loss: 0.0007202681042253971\n",
            "Epoch: 20, loss: 0.0007065397637585799\n",
            "Epoch: 22, loss: 0.0007192969715843598\n",
            "Epoch: 24, loss: 0.0007009561580295364\n",
            "Epoch: 26, loss: 0.0007046009958411256\n",
            "Epoch: 28, loss: 0.0006855234963198503\n",
            "Epoch: 30, loss: 0.000671438501526912\n",
            "Epoch: 32, loss: 0.0006922752710059285\n",
            "Epoch: 34, loss: 0.0006819618388389548\n",
            "Epoch: 36, loss: 0.000680034129632016\n",
            "Epoch: 38, loss: 0.000664166567971309\n",
            "Epoch: 40, loss: 0.0006560656376183033\n",
            "Epoch: 42, loss: 0.0006687452895566821\n",
            "Epoch: 44, loss: 0.0006390286854157845\n",
            "Epoch: 46, loss: 0.0006788375919063887\n",
            "Epoch: 48, loss: 0.0006550956812997659\n",
            "\n"
          ],
          "name": "stdout"
        }
      ]
    },
    {
      "cell_type": "code",
      "metadata": {
        "colab": {
          "base_uri": "https://localhost:8080/",
          "height": 935,
          "referenced_widgets": [
            "9f46495abae54d9da450ebe6563ebf05",
            "db11bc8561db4f0c83169b765301068f",
            "f48f6ea748214a9b9f97c1a4ee46413e",
            "43f67724d4134cc2ac16518681257039",
            "1e55f1199e8a40ceba081c9207904031",
            "18622ab1664c4340890431625e536a56",
            "6e04c84fc98940f5bdc9b006cf61ba39",
            "c4e3759bcaed4283934fc80e0b93a342"
          ]
        },
        "id": "258a8F7VptbV",
        "outputId": "a9c42d3b-2bbe-4539-8543-f457fe831139"
      },
      "source": [
        "train_vi_model(full_vi_model, elbo, 100, train_loader,lr=0.001)"
      ],
      "execution_count": 55,
      "outputs": [
        {
          "output_type": "display_data",
          "data": {
            "application/vnd.jupyter.widget-view+json": {
              "model_id": "9f46495abae54d9da450ebe6563ebf05",
              "version_minor": 0,
              "version_major": 2
            },
            "text/plain": [
              "HBox(children=(FloatProgress(value=0.0), HTML(value='')))"
            ]
          },
          "metadata": {
            "tags": []
          }
        },
        {
          "output_type": "stream",
          "text": [
            "Epoch: 0, loss: 0.0007026797382781903\n",
            "Epoch: 2, loss: 0.0007042520966380834\n",
            "Epoch: 4, loss: 0.0006989381814996402\n",
            "Epoch: 6, loss: 0.0006977453984941045\n",
            "Epoch: 8, loss: 0.0006972624263415734\n",
            "Epoch: 10, loss: 0.0006914581285168728\n",
            "Epoch: 12, loss: 0.0006926703689619899\n",
            "Epoch: 14, loss: 0.0006893741205334663\n",
            "Epoch: 16, loss: 0.0006884578088919321\n",
            "Epoch: 18, loss: 0.0006856171811309953\n",
            "Epoch: 20, loss: 0.000684600281342864\n",
            "Epoch: 22, loss: 0.0006818366101011634\n",
            "Epoch: 24, loss: 0.0006768600701354444\n",
            "Epoch: 26, loss: 0.0006750988005350034\n",
            "Epoch: 28, loss: 0.0006752999259158969\n",
            "Epoch: 30, loss: 0.0006738073330062131\n",
            "Epoch: 32, loss: 0.0006724552974104881\n",
            "Epoch: 34, loss: 0.0006683868775765101\n",
            "Epoch: 36, loss: 0.00066771533023566\n",
            "Epoch: 38, loss: 0.0006656540175589423\n",
            "Epoch: 40, loss: 0.0006639196455478668\n",
            "Epoch: 42, loss: 0.0006621713461043934\n",
            "Epoch: 44, loss: 0.0006600721725573142\n",
            "Epoch: 46, loss: 0.0006594876303027073\n",
            "Epoch: 48, loss: 0.0006562185333420833\n",
            "Epoch: 50, loss: 0.0006556012770471474\n",
            "Epoch: 52, loss: 0.0006517296766241392\n",
            "Epoch: 54, loss: 0.0006520883979896704\n",
            "Epoch: 56, loss: 0.0006486808410535257\n",
            "Epoch: 58, loss: 0.000648431875060002\n",
            "Epoch: 60, loss: 0.0006470696178264916\n",
            "Epoch: 62, loss: 0.0006446748767048121\n",
            "Epoch: 64, loss: 0.0006425526341423392\n",
            "Epoch: 66, loss: 0.0006408384166968366\n",
            "Epoch: 68, loss: 0.0006398397959458331\n",
            "Epoch: 70, loss: 0.0006389428233106931\n",
            "Epoch: 72, loss: 0.0006382830976818999\n",
            "Epoch: 74, loss: 0.000633514527666072\n",
            "Epoch: 76, loss: 0.0006346596034243702\n",
            "Epoch: 78, loss: 0.0006318801667230824\n",
            "Epoch: 80, loss: 0.0006289028492756188\n",
            "Epoch: 82, loss: 0.000628808527564009\n",
            "Epoch: 84, loss: 0.0006259161682178576\n",
            "Epoch: 86, loss: 0.0006248989662155509\n",
            "Epoch: 88, loss: 0.0006246522700724503\n",
            "Epoch: 90, loss: 0.0006232205711926023\n",
            "Epoch: 92, loss: 0.0006210433797600368\n",
            "Epoch: 94, loss: 0.0006199648461615046\n",
            "Epoch: 96, loss: 0.0006181816389163336\n",
            "Epoch: 98, loss: 0.0006172902171189586\n",
            "\n"
          ],
          "name": "stdout"
        }
      ]
    },
    {
      "cell_type": "code",
      "metadata": {
        "id": "FjrnN_vXnY5P"
      },
      "source": [
        "torch.save(full_vi_model.state_dict(), \"drbayes/full-vi-pca-model.pt\")"
      ],
      "execution_count": 17,
      "outputs": []
    },
    {
      "cell_type": "code",
      "metadata": {
        "colab": {
          "base_uri": "https://localhost:8080/",
          "height": 101,
          "referenced_widgets": [
            "11ae161f9fc74a97a252beab703ef537",
            "5c3f1e86c653483ab5aaa0ff7641ed8e",
            "7bff50cdc8fc4266bed4ba6817f7fcde",
            "4cf82be353c048c1b35299e65ecd7436",
            "1635ce878a044f6b861ad9ecfcf49062",
            "e5b4dadb2b97492ea82a0b367f571e01",
            "fee0f8dbbc324a22b18f063021f102f2",
            "91c9e7338f434de0b25e81caab977311"
          ]
        },
        "id": "HSZuJW5lJil4",
        "outputId": "7b85a35a-b289-490f-ea24-f8d20363d049"
      },
      "source": [
        "num_evals = 1000\n",
        "test_batch_size = 512\n",
        "test_loader = torch.utils.data.DataLoader(test,batch_size=test_batch_size)\n",
        "num_classes = 10\n",
        "preds = torch.zeros((len(test_loader.dataset), num_classes))\n",
        "# preds = preds.to(device)\n",
        "print(len(test_loader.dataset))\n",
        "for n, (x,_) in tqdm(enumerate(test_loader)):\n",
        "  x = x.to(device)\n",
        "  for i in range(num_evals):\n",
        "    preds[n*test_batch_size:(n+1)*test_batch_size] += F.softmax(full_vi_model(x).cpu(),dim=1)\n",
        "  del x \n",
        "  torch.cuda.empty_cache()\n",
        "preds = 1/num_evals*preds\n",
        "print((1.*torch.argmax(preds, dim=1).eq(test_loader.dataset.targets[:,0])).mean())"
      ],
      "execution_count": 56,
      "outputs": [
        {
          "output_type": "stream",
          "text": [
            "60000\n"
          ],
          "name": "stdout"
        },
        {
          "output_type": "display_data",
          "data": {
            "application/vnd.jupyter.widget-view+json": {
              "model_id": "11ae161f9fc74a97a252beab703ef537",
              "version_minor": 0,
              "version_major": 2
            },
            "text/plain": [
              "HBox(children=(FloatProgress(value=1.0, bar_style='info', max=1.0), HTML(value='')))"
            ]
          },
          "metadata": {
            "tags": []
          }
        },
        {
          "output_type": "stream",
          "text": [
            "\n",
            "tensor(0.8970)\n"
          ],
          "name": "stdout"
        }
      ]
    },
    {
      "cell_type": "code",
      "metadata": {
        "colab": {
          "base_uri": "https://localhost:8080/",
          "height": 1000
        },
        "id": "nQoHDqXmte7f",
        "outputId": "aa1677d5-06d8-4e1b-b6f2-67b50696f447"
      },
      "source": [
        "inds = torch.max(preds,dim=1)[0].argsort()[:10]\n",
        "print(torch.max(preds,dim=1)[0][inds])\n",
        "for i,im in enumerate(test_loader.dataset.data[inds]):\n",
        "  plt.imshow(im,cmap='gray')\n",
        "  plt.title(f'predicted: {preds[i].argmax()}')\n",
        "  plt.show()"
      ],
      "execution_count": 58,
      "outputs": [
        {
          "output_type": "stream",
          "text": [
            "tensor([0.2817, 0.2819, 0.2891, 0.2958, 0.2993, 0.3038, 0.3043, 0.3058, 0.3160,\n",
            "        0.3179], grad_fn=<IndexBackward>)\n"
          ],
          "name": "stdout"
        },
        {
          "output_type": "display_data",
          "data": {
            "image/png": "[encoded data removed]",
            "text/plain": [
              "<Figure size 432x288 with 1 Axes>"
            ]
          },
          "metadata": {
            "tags": [],
            "needs_background": "light"
          }
        },
        {
          "output_type": "display_data",
          "data": {
            "image/png": "[encoded data removed]",
            "text/plain": [
              "<Figure size 432x288 with 1 Axes>"
            ]
          },
          "metadata": {
            "tags": [],
            "needs_background": "light"
          }
        },
        {
          "output_type": "display_data",
          "data": {
            "image/png": "[encoded data removed]",
            "text/plain": [
              "<Figure size 432x288 with 1 Axes>"
            ]
          },
          "metadata": {
            "tags": [],
            "needs_background": "light"
          }
        },
        {
          "output_type": "display_data",
          "data": {
            "image/png": "[encoded data removed]",
            "text/plain": [
              "<Figure size 432x288 with 1 Axes>"
            ]
          },
          "metadata": {
            "tags": [],
            "needs_background": "light"
          }
        },
        {
          "output_type": "display_data",
          "data": {
            "image/png": "[encoded data removed]",
            "text/plain": [
              "<Figure size 432x288 with 1 Axes>"
            ]
          },
          "metadata": {
            "tags": [],
            "needs_background": "light"
          }
        },
        {
          "output_type": "display_data",
          "data": {
            "image/png": "[encoded data removed]",
            "text/plain": [
              "<Figure size 432x288 with 1 Axes>"
            ]
          },
          "metadata": {
            "tags": [],
            "needs_background": "light"
          }
        },
        {
          "output_type": "display_data",
          "data": {
            "image/png": "[encoded data removed]",
            "text/plain": [
              "<Figure size 432x288 with 1 Axes>"
            ]
          },
          "metadata": {
            "tags": [],
            "needs_background": "light"
          }
        },
        {
          "output_type": "display_data",
          "data": {
            "image/png": "[encoded data removed]",
            "text/plain": [
              "<Figure size 432x288 with 1 Axes>"
            ]
          },
          "metadata": {
            "tags": [],
            "needs_background": "light"
          }
        },
        {
          "output_type": "display_data",
          "data": {
            "image/png": "[encoded data removed]",
            "text/plain": [
              "<Figure size 432x288 with 1 Axes>"
            ]
          },
          "metadata": {
            "tags": [],
            "needs_background": "light"
          }
        },
        {
          "output_type": "display_data",
          "data": {
            "image/png": "[encoded data removed]",
            "text/plain": [
              "<Figure size 432x288 with 1 Axes>"
            ]
          },
          "metadata": {
            "tags": [],
            "needs_background": "light"
          }
        }
      ]
    },
    {
      "cell_type": "markdown",
      "metadata": {
        "id": "IyFkYb7MANXU"
      },
      "source": [
        "### Ensembles"
      ]
    },
    {
      "cell_type": "markdown",
      "metadata": {
        "id": "acED4SKvANXU"
      },
      "source": [
        "### Neural network + Bayesian Linear Regression"
      ]
    },
    {
      "cell_type": "markdown",
      "metadata": {
        "id": "yw3J4TWtANXV"
      },
      "source": [
        "### _SIBDL_: PCA subspace"
      ]
    },
    {
      "cell_type": "code",
      "metadata": {
        "id": "wQ7DJHwhANXY",
        "colab": {
          "base_uri": "https://localhost:8080/"
        },
        "outputId": "ed3af29f-0798-422d-e754-2623b6d42249"
      },
      "source": [
        "model = VanillaMLP([28*28,50,20,10])\n",
        "model.to(device)"
      ],
      "execution_count": 9,
      "outputs": [
        {
          "output_type": "execute_result",
          "data": {
            "text/plain": [
              "VanillaMLP(\n",
              "  (model): Sequential(\n",
              "    (0): Flatten(start_dim=1, end_dim=-1)\n",
              "    (1): Linear(in_features=784, out_features=50, bias=True)\n",
              "    (2): ReLU()\n",
              "    (3): Linear(in_features=50, out_features=20, bias=True)\n",
              "    (4): ReLU()\n",
              "    (5): Linear(in_features=20, out_features=10, bias=True)\n",
              "  )\n",
              ")"
            ]
          },
          "metadata": {
            "tags": []
          },
          "execution_count": 9
        }
      ]
    },
    {
      "cell_type": "code",
      "metadata": {
        "colab": {
          "base_uri": "https://localhost:8080/"
        },
        "id": "hPO8E0UmHcfj",
        "outputId": "d38ded00-b9ce-4d72-df4b-cf57c5cf70ae"
      },
      "source": [
        "space = pretrain_mlp(model, F.cross_entropy, 100, train_loader)\n",
        "torch.save(model.state_dict(), \"drbayes/MLP-qmnist.pt\")\n",
        "mean, _, cov_factor = space\n",
        "subspace = SubspaceModel(mean, cov_factor)\n",
        "torch.save(subspace.state_dict(), \"drbayes/pca-subspace-qmnist.pt\")"
      ],
      "execution_count": 10,
      "outputs": [
        {
          "output_type": "stream",
          "text": [
            "Epoch: 0, loss: 0.00497192470356822\n",
            "Epoch: 10, loss: 0.0024160456378012896\n",
            "Epoch: 20, loss: 0.0017338517354801297\n",
            "Epoch: 30, loss: 0.0021731380838900805\n",
            "Epoch: 40, loss: 0.0001031545689329505\n",
            "Epoch: 50, loss: 8.925090514821932e-05\n",
            "Epoch: 60, loss: 0.0005254982970654964\n",
            "Epoch: 70, loss: 0.0007059096824377775\n",
            "Epoch: 80, loss: 0.00010775399277918041\n",
            "Epoch: 90, loss: 8.92047246452421e-05\n"
          ],
          "name": "stdout"
        }
      ]
    },
    {
      "cell_type": "code",
      "metadata": {
        "id": "rZCPBVTTANXY",
        "colab": {
          "base_uri": "https://localhost:8080/",
          "height": 362
        },
        "outputId": "2f29215b-6fca-4189-9d8e-5b844bbd763f"
      },
      "source": [
        "init_sigma = 1.\n",
        "prior_sigma = 5.\n",
        "criterion = losses.cross_entropy\n",
        "temperature = 1.\n",
        "\n",
        "vi_model = VIModel(\n",
        "    subspace=subspace,\n",
        "    init_inv_softplus_sigma=math.log(math.exp(init_sigma) - 1.0),\n",
        "    prior_log_sigma=math.log(prior_sigma),\n",
        "    base=VanillaMLP,\n",
        "    dims=[28*28,50,20,10]\n",
        ")\n",
        "\n",
        "vi_model.to(device)\n",
        "vi_model.load_state_dict(torch.load('drbayes/vi-pca-model.pt'))"
      ],
      "execution_count": 11,
      "outputs": [
        {
          "output_type": "error",
          "ename": "RuntimeError",
          "evalue": "ignored",
          "traceback": [
            "\u001b[0;31m---------------------------------------------------------------------------\u001b[0m",
            "\u001b[0;31mRuntimeError\u001b[0m                              Traceback (most recent call last)",
            "\u001b[0;32m<ipython-input-11-d87c8aa8ff34>\u001b[0m in \u001b[0;36m<module>\u001b[0;34m()\u001b[0m\n\u001b[1;32m     15\u001b[0m \u001b[0;34m\u001b[0m\u001b[0m\n\u001b[1;32m     16\u001b[0m \u001b[0mvi_model\u001b[0m\u001b[0;34m.\u001b[0m\u001b[0mto\u001b[0m\u001b[0;34m(\u001b[0m\u001b[0mdevice\u001b[0m\u001b[0;34m)\u001b[0m\u001b[0;34m\u001b[0m\u001b[0;34m\u001b[0m\u001b[0m\n\u001b[0;32m---> 17\u001b[0;31m \u001b[0mvi_model\u001b[0m\u001b[0;34m.\u001b[0m\u001b[0mload_state_dict\u001b[0m\u001b[0;34m(\u001b[0m\u001b[0mtorch\u001b[0m\u001b[0;34m.\u001b[0m\u001b[0mload\u001b[0m\u001b[0;34m(\u001b[0m\u001b[0;34m'drbayes/vi-pca-model.pt'\u001b[0m\u001b[0;34m)\u001b[0m\u001b[0;34m)\u001b[0m\u001b[0;34m\u001b[0m\u001b[0;34m\u001b[0m\u001b[0m\n\u001b[0m",
            "\u001b[0;32m/usr/local/lib/python3.7/dist-packages/torch/serialization.py\u001b[0m in \u001b[0;36mload\u001b[0;34m(f, map_location, pickle_module, **pickle_load_args)\u001b[0m\n\u001b[1;32m    592\u001b[0m                     \u001b[0mopened_file\u001b[0m\u001b[0;34m.\u001b[0m\u001b[0mseek\u001b[0m\u001b[0;34m(\u001b[0m\u001b[0morig_position\u001b[0m\u001b[0;34m)\u001b[0m\u001b[0;34m\u001b[0m\u001b[0;34m\u001b[0m\u001b[0m\n\u001b[1;32m    593\u001b[0m                     \u001b[0;32mreturn\u001b[0m \u001b[0mtorch\u001b[0m\u001b[0;34m.\u001b[0m\u001b[0mjit\u001b[0m\u001b[0;34m.\u001b[0m\u001b[0mload\u001b[0m\u001b[0;34m(\u001b[0m\u001b[0mopened_file\u001b[0m\u001b[0;34m)\u001b[0m\u001b[0;34m\u001b[0m\u001b[0;34m\u001b[0m\u001b[0m\n\u001b[0;32m--> 594\u001b[0;31m                 \u001b[0;32mreturn\u001b[0m \u001b[0m_load\u001b[0m\u001b[0;34m(\u001b[0m\u001b[0mopened_zipfile\u001b[0m\u001b[0;34m,\u001b[0m \u001b[0mmap_location\u001b[0m\u001b[0;34m,\u001b[0m \u001b[0mpickle_module\u001b[0m\u001b[0;34m,\u001b[0m \u001b[0;34m**\u001b[0m\u001b[0mpickle_load_args\u001b[0m\u001b[0;34m)\u001b[0m\u001b[0;34m\u001b[0m\u001b[0;34m\u001b[0m\u001b[0m\n\u001b[0m\u001b[1;32m    595\u001b[0m         \u001b[0;32mreturn\u001b[0m \u001b[0m_legacy_load\u001b[0m\u001b[0;34m(\u001b[0m\u001b[0mopened_file\u001b[0m\u001b[0;34m,\u001b[0m \u001b[0mmap_location\u001b[0m\u001b[0;34m,\u001b[0m \u001b[0mpickle_module\u001b[0m\u001b[0;34m,\u001b[0m \u001b[0;34m**\u001b[0m\u001b[0mpickle_load_args\u001b[0m\u001b[0;34m)\u001b[0m\u001b[0;34m\u001b[0m\u001b[0;34m\u001b[0m\u001b[0m\n\u001b[1;32m    596\u001b[0m \u001b[0;34m\u001b[0m\u001b[0m\n",
            "\u001b[0;32m/usr/local/lib/python3.7/dist-packages/torch/serialization.py\u001b[0m in \u001b[0;36m_load\u001b[0;34m(zip_file, map_location, pickle_module, pickle_file, **pickle_load_args)\u001b[0m\n\u001b[1;32m    851\u001b[0m     \u001b[0munpickler\u001b[0m \u001b[0;34m=\u001b[0m \u001b[0mpickle_module\u001b[0m\u001b[0;34m.\u001b[0m\u001b[0mUnpickler\u001b[0m\u001b[0;34m(\u001b[0m\u001b[0mdata_file\u001b[0m\u001b[0;34m,\u001b[0m \u001b[0;34m**\u001b[0m\u001b[0mpickle_load_args\u001b[0m\u001b[0;34m)\u001b[0m\u001b[0;34m\u001b[0m\u001b[0;34m\u001b[0m\u001b[0m\n\u001b[1;32m    852\u001b[0m     \u001b[0munpickler\u001b[0m\u001b[0;34m.\u001b[0m\u001b[0mpersistent_load\u001b[0m \u001b[0;34m=\u001b[0m \u001b[0mpersistent_load\u001b[0m\u001b[0;34m\u001b[0m\u001b[0;34m\u001b[0m\u001b[0m\n\u001b[0;32m--> 853\u001b[0;31m     \u001b[0mresult\u001b[0m \u001b[0;34m=\u001b[0m \u001b[0munpickler\u001b[0m\u001b[0;34m.\u001b[0m\u001b[0mload\u001b[0m\u001b[0;34m(\u001b[0m\u001b[0;34m)\u001b[0m\u001b[0;34m\u001b[0m\u001b[0;34m\u001b[0m\u001b[0m\n\u001b[0m\u001b[1;32m    854\u001b[0m \u001b[0;34m\u001b[0m\u001b[0m\n\u001b[1;32m    855\u001b[0m     \u001b[0mtorch\u001b[0m\u001b[0;34m.\u001b[0m\u001b[0m_utils\u001b[0m\u001b[0;34m.\u001b[0m\u001b[0m_validate_loaded_sparse_tensors\u001b[0m\u001b[0;34m(\u001b[0m\u001b[0;34m)\u001b[0m\u001b[0;34m\u001b[0m\u001b[0;34m\u001b[0m\u001b[0m\n",
            "\u001b[0;32m/usr/local/lib/python3.7/dist-packages/torch/serialization.py\u001b[0m in \u001b[0;36mpersistent_load\u001b[0;34m(saved_id)\u001b[0m\n\u001b[1;32m    843\u001b[0m         \u001b[0mdata_type\u001b[0m\u001b[0;34m,\u001b[0m \u001b[0mkey\u001b[0m\u001b[0;34m,\u001b[0m \u001b[0mlocation\u001b[0m\u001b[0;34m,\u001b[0m \u001b[0msize\u001b[0m \u001b[0;34m=\u001b[0m \u001b[0mdata\u001b[0m\u001b[0;34m\u001b[0m\u001b[0;34m\u001b[0m\u001b[0m\n\u001b[1;32m    844\u001b[0m         \u001b[0;32mif\u001b[0m \u001b[0mkey\u001b[0m \u001b[0;32mnot\u001b[0m \u001b[0;32min\u001b[0m \u001b[0mloaded_storages\u001b[0m\u001b[0;34m:\u001b[0m\u001b[0;34m\u001b[0m\u001b[0;34m\u001b[0m\u001b[0m\n\u001b[0;32m--> 845\u001b[0;31m             \u001b[0mload_tensor\u001b[0m\u001b[0;34m(\u001b[0m\u001b[0mdata_type\u001b[0m\u001b[0;34m,\u001b[0m \u001b[0msize\u001b[0m\u001b[0;34m,\u001b[0m \u001b[0mkey\u001b[0m\u001b[0;34m,\u001b[0m \u001b[0m_maybe_decode_ascii\u001b[0m\u001b[0;34m(\u001b[0m\u001b[0mlocation\u001b[0m\u001b[0;34m)\u001b[0m\u001b[0;34m)\u001b[0m\u001b[0;34m\u001b[0m\u001b[0;34m\u001b[0m\u001b[0m\n\u001b[0m\u001b[1;32m    846\u001b[0m         \u001b[0mstorage\u001b[0m \u001b[0;34m=\u001b[0m \u001b[0mloaded_storages\u001b[0m\u001b[0;34m[\u001b[0m\u001b[0mkey\u001b[0m\u001b[0;34m]\u001b[0m\u001b[0;34m\u001b[0m\u001b[0;34m\u001b[0m\u001b[0m\n\u001b[1;32m    847\u001b[0m         \u001b[0;32mreturn\u001b[0m \u001b[0mstorage\u001b[0m\u001b[0;34m\u001b[0m\u001b[0;34m\u001b[0m\u001b[0m\n",
            "\u001b[0;32m/usr/local/lib/python3.7/dist-packages/torch/serialization.py\u001b[0m in \u001b[0;36mload_tensor\u001b[0;34m(data_type, size, key, location)\u001b[0m\n\u001b[1;32m    832\u001b[0m \u001b[0;34m\u001b[0m\u001b[0m\n\u001b[1;32m    833\u001b[0m         \u001b[0mstorage\u001b[0m \u001b[0;34m=\u001b[0m \u001b[0mzip_file\u001b[0m\u001b[0;34m.\u001b[0m\u001b[0mget_storage_from_record\u001b[0m\u001b[0;34m(\u001b[0m\u001b[0mname\u001b[0m\u001b[0;34m,\u001b[0m \u001b[0msize\u001b[0m\u001b[0;34m,\u001b[0m \u001b[0mdtype\u001b[0m\u001b[0;34m)\u001b[0m\u001b[0;34m.\u001b[0m\u001b[0mstorage\u001b[0m\u001b[0;34m(\u001b[0m\u001b[0;34m)\u001b[0m\u001b[0;34m\u001b[0m\u001b[0;34m\u001b[0m\u001b[0m\n\u001b[0;32m--> 834\u001b[0;31m         \u001b[0mloaded_storages\u001b[0m\u001b[0;34m[\u001b[0m\u001b[0mkey\u001b[0m\u001b[0;34m]\u001b[0m \u001b[0;34m=\u001b[0m \u001b[0mrestore_location\u001b[0m\u001b[0;34m(\u001b[0m\u001b[0mstorage\u001b[0m\u001b[0;34m,\u001b[0m \u001b[0mlocation\u001b[0m\u001b[0;34m)\u001b[0m\u001b[0;34m\u001b[0m\u001b[0;34m\u001b[0m\u001b[0m\n\u001b[0m\u001b[1;32m    835\u001b[0m \u001b[0;34m\u001b[0m\u001b[0m\n\u001b[1;32m    836\u001b[0m     \u001b[0;32mdef\u001b[0m \u001b[0mpersistent_load\u001b[0m\u001b[0;34m(\u001b[0m\u001b[0msaved_id\u001b[0m\u001b[0;34m)\u001b[0m\u001b[0;34m:\u001b[0m\u001b[0;34m\u001b[0m\u001b[0;34m\u001b[0m\u001b[0m\n",
            "\u001b[0;32m/usr/local/lib/python3.7/dist-packages/torch/serialization.py\u001b[0m in \u001b[0;36mdefault_restore_location\u001b[0;34m(storage, location)\u001b[0m\n\u001b[1;32m    173\u001b[0m \u001b[0;32mdef\u001b[0m \u001b[0mdefault_restore_location\u001b[0m\u001b[0;34m(\u001b[0m\u001b[0mstorage\u001b[0m\u001b[0;34m,\u001b[0m \u001b[0mlocation\u001b[0m\u001b[0;34m)\u001b[0m\u001b[0;34m:\u001b[0m\u001b[0;34m\u001b[0m\u001b[0;34m\u001b[0m\u001b[0m\n\u001b[1;32m    174\u001b[0m     \u001b[0;32mfor\u001b[0m \u001b[0m_\u001b[0m\u001b[0;34m,\u001b[0m \u001b[0m_\u001b[0m\u001b[0;34m,\u001b[0m \u001b[0mfn\u001b[0m \u001b[0;32min\u001b[0m \u001b[0m_package_registry\u001b[0m\u001b[0;34m:\u001b[0m\u001b[0;34m\u001b[0m\u001b[0;34m\u001b[0m\u001b[0m\n\u001b[0;32m--> 175\u001b[0;31m         \u001b[0mresult\u001b[0m \u001b[0;34m=\u001b[0m \u001b[0mfn\u001b[0m\u001b[0;34m(\u001b[0m\u001b[0mstorage\u001b[0m\u001b[0;34m,\u001b[0m \u001b[0mlocation\u001b[0m\u001b[0;34m)\u001b[0m\u001b[0;34m\u001b[0m\u001b[0;34m\u001b[0m\u001b[0m\n\u001b[0m\u001b[1;32m    176\u001b[0m         \u001b[0;32mif\u001b[0m \u001b[0mresult\u001b[0m \u001b[0;32mis\u001b[0m \u001b[0;32mnot\u001b[0m \u001b[0;32mNone\u001b[0m\u001b[0;34m:\u001b[0m\u001b[0;34m\u001b[0m\u001b[0;34m\u001b[0m\u001b[0m\n\u001b[1;32m    177\u001b[0m             \u001b[0;32mreturn\u001b[0m \u001b[0mresult\u001b[0m\u001b[0;34m\u001b[0m\u001b[0;34m\u001b[0m\u001b[0m\n",
            "\u001b[0;32m/usr/local/lib/python3.7/dist-packages/torch/serialization.py\u001b[0m in \u001b[0;36m_cuda_deserialize\u001b[0;34m(obj, location)\u001b[0m\n\u001b[1;32m    149\u001b[0m \u001b[0;32mdef\u001b[0m \u001b[0m_cuda_deserialize\u001b[0m\u001b[0;34m(\u001b[0m\u001b[0mobj\u001b[0m\u001b[0;34m,\u001b[0m \u001b[0mlocation\u001b[0m\u001b[0;34m)\u001b[0m\u001b[0;34m:\u001b[0m\u001b[0;34m\u001b[0m\u001b[0;34m\u001b[0m\u001b[0m\n\u001b[1;32m    150\u001b[0m     \u001b[0;32mif\u001b[0m \u001b[0mlocation\u001b[0m\u001b[0;34m.\u001b[0m\u001b[0mstartswith\u001b[0m\u001b[0;34m(\u001b[0m\u001b[0;34m'cuda'\u001b[0m\u001b[0;34m)\u001b[0m\u001b[0;34m:\u001b[0m\u001b[0;34m\u001b[0m\u001b[0;34m\u001b[0m\u001b[0m\n\u001b[0;32m--> 151\u001b[0;31m         \u001b[0mdevice\u001b[0m \u001b[0;34m=\u001b[0m \u001b[0mvalidate_cuda_device\u001b[0m\u001b[0;34m(\u001b[0m\u001b[0mlocation\u001b[0m\u001b[0;34m)\u001b[0m\u001b[0;34m\u001b[0m\u001b[0;34m\u001b[0m\u001b[0m\n\u001b[0m\u001b[1;32m    152\u001b[0m         \u001b[0;32mif\u001b[0m \u001b[0mgetattr\u001b[0m\u001b[0;34m(\u001b[0m\u001b[0mobj\u001b[0m\u001b[0;34m,\u001b[0m \u001b[0;34m\"_torch_load_uninitialized\"\u001b[0m\u001b[0;34m,\u001b[0m \u001b[0;32mFalse\u001b[0m\u001b[0;34m)\u001b[0m\u001b[0;34m:\u001b[0m\u001b[0;34m\u001b[0m\u001b[0;34m\u001b[0m\u001b[0m\n\u001b[1;32m    153\u001b[0m             \u001b[0mstorage_type\u001b[0m \u001b[0;34m=\u001b[0m \u001b[0mgetattr\u001b[0m\u001b[0;34m(\u001b[0m\u001b[0mtorch\u001b[0m\u001b[0;34m.\u001b[0m\u001b[0mcuda\u001b[0m\u001b[0;34m,\u001b[0m \u001b[0mtype\u001b[0m\u001b[0;34m(\u001b[0m\u001b[0mobj\u001b[0m\u001b[0;34m)\u001b[0m\u001b[0;34m.\u001b[0m\u001b[0m__name__\u001b[0m\u001b[0;34m)\u001b[0m\u001b[0;34m\u001b[0m\u001b[0;34m\u001b[0m\u001b[0m\n",
            "\u001b[0;32m/usr/local/lib/python3.7/dist-packages/torch/serialization.py\u001b[0m in \u001b[0;36mvalidate_cuda_device\u001b[0;34m(location)\u001b[0m\n\u001b[1;32m    133\u001b[0m \u001b[0;34m\u001b[0m\u001b[0m\n\u001b[1;32m    134\u001b[0m     \u001b[0;32mif\u001b[0m \u001b[0;32mnot\u001b[0m \u001b[0mtorch\u001b[0m\u001b[0;34m.\u001b[0m\u001b[0mcuda\u001b[0m\u001b[0;34m.\u001b[0m\u001b[0mis_available\u001b[0m\u001b[0;34m(\u001b[0m\u001b[0;34m)\u001b[0m\u001b[0;34m:\u001b[0m\u001b[0;34m\u001b[0m\u001b[0;34m\u001b[0m\u001b[0m\n\u001b[0;32m--> 135\u001b[0;31m         raise RuntimeError('Attempting to deserialize object on a CUDA '\n\u001b[0m\u001b[1;32m    136\u001b[0m                            \u001b[0;34m'device but torch.cuda.is_available() is False. '\u001b[0m\u001b[0;34m\u001b[0m\u001b[0;34m\u001b[0m\u001b[0m\n\u001b[1;32m    137\u001b[0m                            \u001b[0;34m'If you are running on a CPU-only machine, '\u001b[0m\u001b[0;34m\u001b[0m\u001b[0;34m\u001b[0m\u001b[0m\n",
            "\u001b[0;31mRuntimeError\u001b[0m: Attempting to deserialize object on a CUDA device but torch.cuda.is_available() is False. If you are running on a CPU-only machine, please use torch.load with map_location=torch.device('cpu') to map your storages to the CPU."
          ]
        }
      ]
    },
    {
      "cell_type": "code",
      "metadata": {
        "colab": {
          "base_uri": "https://localhost:8080/"
        },
        "id": "crmTTP5eEw3w",
        "outputId": "dc2855f0-3764-4e0d-9f5e-1bf2892ba86a"
      },
      "source": [
        "elbo = ELBO(criterion, len(train_loader.dataset), temperature=temperature)\n",
        "train_vi_model(vi_model, elbo, 30, train_loader)\n",
        "torch.save(vi_model.state_dict(), \"drbayes/vi-pca-model.pt\")"
      ],
      "execution_count": 12,
      "outputs": [
        {
          "output_type": "stream",
          "text": [
            "Epoch: 0, loss: 0.00027755380142480135\n",
            "Epoch: 10, loss: 0.00022986989642959088\n",
            "Epoch: 20, loss: 0.00021843708236701787\n"
          ],
          "name": "stdout"
        }
      ]
    },
    {
      "cell_type": "code",
      "metadata": {
        "colab": {
          "base_uri": "https://localhost:8080/",
          "height": 84,
          "referenced_widgets": [
            "1a9d4aa3090741d6898fbffb56cb3533",
            "3741ef7604bd4660b724aa8a31b54cf5",
            "b4ed049eef654f63897429f427a1d4d3",
            "3fad7a47995a43af84752924bafc04fc",
            "cb5fe563d706492e89c904f7acb4be73",
            "7b94e15465f0420db721a22979181bf9",
            "6ed5ef9daa4140588dcda9e1b9add931",
            "63ff71fb0cb84b8682f0de0ea03e8059"
          ]
        },
        "id": "4xL5GWzfg6VW",
        "outputId": "eda20726-6e73-4d70-abae-cc19e0babf88"
      },
      "source": [
        "num_evals = 100\n",
        "test_batch_size = 512\n",
        "test_loader = torch.utils.data.DataLoader(test,batch_size=test_batch_size)\n",
        "num_classes = 10\n",
        "preds = torch.zeros((len(test_loader.dataset), num_classes))\n",
        "# preds = preds.to(device)\n",
        "print(len(test_loader.dataset))\n",
        "for n, (x,y) in tqdm(enumerate(test_loader)):\n",
        "  x = x.to(device)\n",
        "  for i in range(num_evals):\n",
        "    preds[n*test_batch_size:(n+1)*test_batch_size] += F.softmax(vi_model(x).cpu(),dim=1)\n",
        "  del x \n",
        "  torch.cuda.empty_cache()\n",
        "preds = 1/num_evals*preds\n",
        "print((1.*torch.argmax(preds, dim=1).eq(test_loader.dataset.targets[:,0])).mean())"
      ],
      "execution_count": 25,
      "outputs": [
        {
          "output_type": "stream",
          "text": [
            "60000\n"
          ],
          "name": "stdout"
        },
        {
          "output_type": "display_data",
          "data": {
            "application/vnd.jupyter.widget-view+json": {
              "model_id": "1a9d4aa3090741d6898fbffb56cb3533",
              "version_minor": 0,
              "version_major": 2
            },
            "text/plain": [
              "HBox(children=(FloatProgress(value=1.0, bar_style='info', max=1.0), HTML(value='')))"
            ]
          },
          "metadata": {
            "tags": []
          }
        },
        {
          "output_type": "stream",
          "text": [
            "\n"
          ],
          "name": "stdout"
        }
      ]
    },
    {
      "cell_type": "code",
      "metadata": {
        "colab": {
          "base_uri": "https://localhost:8080/",
          "height": 1000
        },
        "id": "uJqi8iYgn04_",
        "outputId": "c9b7d028-b3d4-4b33-b491-6a7c5b45e678"
      },
      "source": [
        "inds = torch.max(preds,dim=1)[0].argsort()[:10]\n",
        "print(torch.max(preds,dim=1)[0][inds])\n",
        "for i,im in enumerate(test_loader.dataset.data[inds]):\n",
        "  plt.imshow(im,cmap='gray')\n",
        "  plt.title(f'predicted: {preds[i].argmax()}')\n",
        "  plt.show()"
      ],
      "execution_count": 32,
      "outputs": [
        {
          "output_type": "stream",
          "text": [
            "tensor([0.2998, 0.3426, 0.3545, 0.3602, 0.3694, 0.3808, 0.3981, 0.4009, 0.4023,\n",
            "        0.4100], grad_fn=<IndexBackward>)\n",
            "tensor([2.3121e-13, 4.4572e-16, 6.0676e-12, 7.1356e-09, 1.5891e-19, 8.4657e-12,\n",
            "        4.9507e-29, 1.0000e+00, 4.3077e-14, 1.1976e-10],\n",
            "       grad_fn=<SelectBackward>)\n"
          ],
          "name": "stdout"
        },
        {
          "output_type": "display_data",
          "data": {
            "image/png": "[encoded data removed]",
            "text/plain": [
              "<Figure size 432x288 with 1 Axes>"
            ]
          },
          "metadata": {
            "tags": [],
            "needs_background": "light"
          }
        },
        {
          "output_type": "stream",
          "text": [
            "tensor([4.9270e-10, 9.0126e-09, 1.0000e+00, 4.5122e-12, 3.4076e-22, 1.3993e-09,\n",
            "        5.2431e-13, 3.9875e-18, 1.5328e-09, 1.1064e-16],\n",
            "       grad_fn=<SelectBackward>)\n"
          ],
          "name": "stdout"
        },
        {
          "output_type": "display_data",
          "data": {
            "image/png": "[encoded data removed]",
            "text/plain": [
              "<Figure size 432x288 with 1 Axes>"
            ]
          },
          "metadata": {
            "tags": [],
            "needs_background": "light"
          }
        },
        {
          "output_type": "stream",
          "text": [
            "tensor([1.6124e-11, 9.9998e-01, 4.0230e-06, 1.6821e-08, 5.8121e-08, 8.6070e-09,\n",
            "        7.2224e-12, 7.3269e-06, 5.7727e-06, 2.2635e-09],\n",
            "       grad_fn=<SelectBackward>)\n"
          ],
          "name": "stdout"
        },
        {
          "output_type": "display_data",
          "data": {
            "image/png": "[encoded data removed]",
            "text/plain": [
              "<Figure size 432x288 with 1 Axes>"
            ]
          },
          "metadata": {
            "tags": [],
            "needs_background": "light"
          }
        },
        {
          "output_type": "stream",
          "text": [
            "tensor([1.0000e+00, 1.6297e-08, 6.3652e-11, 3.8670e-12, 4.3049e-10, 2.8304e-09,\n",
            "        5.8860e-08, 4.8369e-09, 3.1018e-13, 1.8701e-10],\n",
            "       grad_fn=<SelectBackward>)\n"
          ],
          "name": "stdout"
        },
        {
          "output_type": "display_data",
          "data": {
            "image/png": "[encoded data removed]",
            "text/plain": [
              "<Figure size 432x288 with 1 Axes>"
            ]
          },
          "metadata": {
            "tags": [],
            "needs_background": "light"
          }
        },
        {
          "output_type": "stream",
          "text": [
            "tensor([4.6211e-13, 4.3122e-10, 2.1455e-12, 3.1617e-11, 1.0000e+00, 4.9353e-14,\n",
            "        1.3110e-13, 4.0685e-08, 8.6470e-13, 8.8055e-07],\n",
            "       grad_fn=<SelectBackward>)\n"
          ],
          "name": "stdout"
        },
        {
          "output_type": "display_data",
          "data": {
            "image/png": "[encoded data removed]",
            "text/plain": [
              "<Figure size 432x288 with 1 Axes>"
            ]
          },
          "metadata": {
            "tags": [],
            "needs_background": "light"
          }
        },
        {
          "output_type": "stream",
          "text": [
            "tensor([9.4232e-14, 9.9999e-01, 4.7623e-10, 4.3453e-11, 1.7875e-09, 2.6415e-12,\n",
            "        4.7712e-15, 5.1174e-06, 1.1451e-09, 3.9510e-13],\n",
            "       grad_fn=<SelectBackward>)\n"
          ],
          "name": "stdout"
        },
        {
          "output_type": "display_data",
          "data": {
            "image/png": "[encoded data removed]",
            "text/plain": [
              "<Figure size 432x288 with 1 Axes>"
            ]
          },
          "metadata": {
            "tags": [],
            "needs_background": "light"
          }
        },
        {
          "output_type": "stream",
          "text": [
            "tensor([2.2682e-16, 1.7807e-07, 3.3007e-13, 3.5003e-08, 9.9998e-01, 1.7609e-09,\n",
            "        3.9527e-16, 1.1153e-08, 1.7756e-05, 2.7533e-07],\n",
            "       grad_fn=<SelectBackward>)\n"
          ],
          "name": "stdout"
        },
        {
          "output_type": "display_data",
          "data": {
            "image/png": "[encoded data removed]",
            "text/plain": [
              "<Figure size 432x288 with 1 Axes>"
            ]
          },
          "metadata": {
            "tags": [],
            "needs_background": "light"
          }
        },
        {
          "output_type": "stream",
          "text": [
            "tensor([1.4117e-15, 1.7036e-07, 1.6760e-10, 2.7806e-07, 2.5143e-08, 3.1681e-11,\n",
            "        1.4529e-23, 2.0553e-08, 2.1823e-11, 1.0000e+00],\n",
            "       grad_fn=<SelectBackward>)\n"
          ],
          "name": "stdout"
        },
        {
          "output_type": "display_data",
          "data": {
            "image/png": "[encoded data removed]",
            "text/plain": [
              "<Figure size 432x288 with 1 Axes>"
            ]
          },
          "metadata": {
            "tags": [],
            "needs_background": "light"
          }
        },
        {
          "output_type": "stream",
          "text": [
            "tensor([4.6440e-09, 5.8705e-10, 1.9194e-09, 6.2098e-10, 3.0199e-02, 7.5829e-01,\n",
            "        1.0813e-01, 1.3187e-16, 3.7901e-02, 6.5480e-02],\n",
            "       grad_fn=<SelectBackward>)\n"
          ],
          "name": "stdout"
        },
        {
          "output_type": "display_data",
          "data": {
            "image/png": "[encoded data removed]",
            "text/plain": [
              "<Figure size 432x288 with 1 Axes>"
            ]
          },
          "metadata": {
            "tags": [],
            "needs_background": "light"
          }
        },
        {
          "output_type": "stream",
          "text": [
            "tensor([5.1242e-16, 9.0639e-17, 1.7029e-18, 6.3931e-11, 1.7817e-06, 5.2788e-14,\n",
            "        7.6714e-27, 1.1602e-07, 8.7703e-11, 1.0000e+00],\n",
            "       grad_fn=<SelectBackward>)\n"
          ],
          "name": "stdout"
        },
        {
          "output_type": "display_data",
          "data": {
            "image/png": "[encoded data removed]",
            "text/plain": [
              "<Figure size 432x288 with 1 Axes>"
            ]
          },
          "metadata": {
            "tags": [],
            "needs_background": "light"
          }
        }
      ]
    },
    {
      "cell_type": "markdown",
      "metadata": {
        "id": "b4TxmtQbANXY"
      },
      "source": [
        "## _References_"
      ]
    },
    {
      "cell_type": "markdown",
      "metadata": {
        "id": "ZZ8oHrcOANXY"
      },
      "source": [
        "- A very useful repository for a lot of Bayesian NN implementations: https://github.com/JavierAntoran/Bayesian-Neural-Networks\n",
        "- The code for the paper is found at https://github.com/wjmaddox/drbayes and specifically the following notebook was adapted for this demonstration (https://github.com/wjmaddox/drbayes/blob/master/experiments/synthetic_regression/visualizing_uncertainty.ipynb)\n"
      ]
    },
    {
      "cell_type": "code",
      "metadata": {
        "id": "TxYdtvcTANXZ",
        "colab": {
          "base_uri": "https://localhost:8080/"
        },
        "outputId": "e0947ae9-716b-4880-8f1c-690df08459be"
      },
      "source": [
        "!git config --global user.email \"youmed.tech@gmail.com\"\n",
        "!git config --global user.name \"ymohamedahmed\"\n",
        "!git --git-dir=drbayes/.git add -f drbayes/*.pt\n",
        "!git --git-dir=drbayes/.git commit -m \"updated checkpoints\"\n",
        "!git --git-dir=drbayes/.git push\n",
        "# !cd ../"
      ],
      "execution_count": 16,
      "outputs": [
        {
          "output_type": "stream",
          "text": [
            "On branch master\n",
            "Your branch is ahead of 'origin/master' by 1 commit.\n",
            "  (use \"git push\" to publish your local commits)\n",
            "\n",
            "Changes not staged for commit:\n",
            "\t\u001b[31mdeleted:    .gitignore\u001b[m\n",
            "\t\u001b[31mdeleted:    435_supplement.pdf\u001b[m\n",
            "\t\u001b[31mdeleted:    LICENSE\u001b[m\n",
            "\t\u001b[31mdeleted:    MLP-qmnist.pt\u001b[m\n",
            "\t\u001b[31mdeleted:    README.md\u001b[m\n",
            "\t\u001b[31mdeleted:    SIBDL_demo_group_13.ipynb\u001b[m\n",
            "\t\u001b[31mdeleted:    experiments/cifar_exps/README.md\u001b[m\n",
            "\t\u001b[31mdeleted:    experiments/cifar_exps/subspace_ess.py\u001b[m\n",
            "\t\u001b[31mdeleted:    experiments/cifar_exps/subspace_vi.py\u001b[m\n",
            "\t\u001b[31mdeleted:    experiments/cifar_exps/swag.py\u001b[m\n",
            "\t\u001b[31mdeleted:    experiments/data/MNIST/raw/train-images-idx3-ubyte\u001b[m\n",
            "\t\u001b[31mdeleted:    experiments/synthetic_regression/SIBDL-demo-group-13.ipynb\u001b[m\n",
            "\t\u001b[31mdeleted:    experiments/synthetic_regression/ckpts/curve.pt\u001b[m\n",
            "\t\u001b[31mdeleted:    experiments/synthetic_regression/ckpts/curve_parameters.npy\u001b[m\n",
            "\t\u001b[31mdeleted:    experiments/synthetic_regression/ckpts/data.npy\u001b[m\n",
            "\t\u001b[31mdeleted:    experiments/synthetic_regression/ckpts/sgd_checkpoint1.pt\u001b[m\n",
            "\t\u001b[31mdeleted:    experiments/synthetic_regression/ckpts/sgd_checkpoint2.pt\u001b[m\n",
            "\t\u001b[31mdeleted:    experiments/synthetic_regression/ckpts/sgd_checkpoint3.pt\u001b[m\n",
            "\t\u001b[31mdeleted:    experiments/synthetic_regression/ckpts/sgd_checkpoint4.pt\u001b[m\n",
            "\t\u001b[31mdeleted:    experiments/synthetic_regression/ckpts/sgd_checkpoint5.pt\u001b[m\n",
            "\t\u001b[31mdeleted:    experiments/synthetic_regression/ckpts/swag_checkpoint0-3000.pt\u001b[m\n",
            "\t\u001b[31mdeleted:    experiments/synthetic_regression/ckpts/swag_checkpoint1-3000.pt\u001b[m\n",
            "\t\u001b[31mdeleted:    experiments/synthetic_regression/data/MNIST/raw/train-images-idx3-ubyte\u001b[m\n",
            "\t\u001b[31mdeleted:    experiments/synthetic_regression/visualization.py\u001b[m\n",
            "\t\u001b[31mdeleted:    experiments/synthetic_regression/visualizing_uncertainty.ipynb\u001b[m\n",
            "\t\u001b[31mdeleted:    experiments/uci_exps/.coveragerc\u001b[m\n",
            "\t\u001b[31mdeleted:    experiments/uci_exps/.gitignore\u001b[m\n",
            "\t\u001b[31mdeleted:    experiments/uci_exps/.travis.yml\u001b[m\n",
            "\t\u001b[31mdeleted:    experiments/uci_exps/LICENSE\u001b[m\n",
            "\t\u001b[31mdeleted:    experiments/uci_exps/README.md\u001b[m\n",
            "\t\u001b[31mdeleted:    experiments/uci_exps/bayesian_benchmarks/__init__.py\u001b[m\n",
            "\t\u001b[31mdeleted:    experiments/uci_exps/bayesian_benchmarks/bayesian_benchmarksrc\u001b[m\n",
            "\t\u001b[31mdeleted:    experiments/uci_exps/bayesian_benchmarks/data.py\u001b[m\n",
            "\t\u001b[31mdeleted:    experiments/uci_exps/bayesian_benchmarks/database_utils.py\u001b[m\n",
            "\t\u001b[31mdeleted:    experiments/uci_exps/bayesian_benchmarks/models/README.md\u001b[m\n",
            "\t\u001b[31mdeleted:    experiments/uci_exps/bayesian_benchmarks/models/deep_gp_doubly_stochastic/README.md\u001b[m\n",
            "\t\u001b[31mdeleted:    experiments/uci_exps/bayesian_benchmarks/models/deep_gp_doubly_stochastic/models.py\u001b[m\n",
            "\t\u001b[31mdeleted:    experiments/uci_exps/bayesian_benchmarks/models/get_model.py\u001b[m\n",
            "\t\u001b[31mdeleted:    experiments/uci_exps/bayesian_benchmarks/models/nnet/models.py\u001b[m\n",
            "\t\u001b[31mdeleted:    experiments/uci_exps/bayesian_benchmarks/models/nnet/neural_linear.py\u001b[m\n",
            "\t\u001b[31mdeleted:    experiments/uci_exps/bayesian_benchmarks/models/non_bayesian_models.py\u001b[m\n",
            "\t\u001b[31mdeleted:    experiments/uci_exps/bayesian_benchmarks/models/template.py\u001b[m\n",
            "\t\u001b[31mdeleted:    experiments/uci_exps/bayesian_benchmarks/models/variationally_sparse_gp/README.md\u001b[m\n",
            "\t\u001b[31mdeleted:    experiments/uci_exps/bayesian_benchmarks/models/variationally_sparse_gp/models.py\u001b[m\n",
            "\t\u001b[31mdeleted:    experiments/uci_exps/bayesian_benchmarks/models/variationally_sparse_gp_minibatch/models.py\u001b[m\n",
            "\t\u001b[31mdeleted:    experiments/uci_exps/bayesian_benchmarks/paths.py\u001b[m\n",
            "\t\u001b[31mdeleted:    experiments/uci_exps/bayesian_benchmarks/results/calibration.ipynb\u001b[m\n",
            "\t\u001b[31mdeleted:    experiments/uci_exps/bayesian_benchmarks/results/sgd_nl_results.ipynb\u001b[m\n",
            "\t\u001b[31mdeleted:    experiments/uci_exps/bayesian_benchmarks/results/view_results.ipynb\u001b[m\n",
            "\t\u001b[31mdeleted:    experiments/uci_exps/bayesian_benchmarks/scripts/make_experiments.py\u001b[m\n",
            "\t\u001b[31mdeleted:    experiments/uci_exps/bayesian_benchmarks/scripts/run_all_pytest.py\u001b[m\n",
            "\t\u001b[31mdeleted:    experiments/uci_exps/bayesian_benchmarks/tasks/active_learning_continuous.py\u001b[m\n",
            "\t\u001b[31mdeleted:    experiments/uci_exps/bayesian_benchmarks/tasks/active_learning_discrete.py\u001b[m\n",
            "\t\u001b[31mdeleted:    experiments/uci_exps/bayesian_benchmarks/tasks/adversarial.py\u001b[m\n",
            "\t\u001b[31mdeleted:    experiments/uci_exps/bayesian_benchmarks/tasks/classification.py\u001b[m\n",
            "\t\u001b[31mdeleted:    experiments/uci_exps/bayesian_benchmarks/tasks/conditional_density_estimation.py\u001b[m\n",
            "\t\u001b[31mdeleted:    experiments/uci_exps/bayesian_benchmarks/tasks/learned_synthetic.py\u001b[m\n",
            "\t\u001b[31mdeleted:    experiments/uci_exps/bayesian_benchmarks/tasks/mmd.py\u001b[m\n",
            "\t\u001b[31mdeleted:    experiments/uci_exps/bayesian_benchmarks/tasks/nl_regression.py\u001b[m\n",
            "\t\u001b[31mdeleted:    experiments/uci_exps/bayesian_benchmarks/tasks/regression.py\u001b[m\n",
            "\t\u001b[31mdeleted:    experiments/uci_exps/bayesian_benchmarks/tasks/regression_runner.py\u001b[m\n",
            "\t\u001b[31mdeleted:    experiments/uci_exps/bayesian_benchmarks/tasks/run_ucilarge.sh\u001b[m\n",
            "\t\u001b[31mdeleted:    experiments/uci_exps/bayesian_benchmarks/tasks/run_ucismall.sh\u001b[m\n",
            "\t\u001b[31mdeleted:    experiments/uci_exps/bayesian_benchmarks/tasks/swag_regression.py\u001b[m\n",
            "\t\u001b[31mdeleted:    experiments/uci_exps/bayesian_benchmarks/tasks/view_results.py\u001b[m\n",
            "\t\u001b[31mdeleted:    experiments/uci_exps/setup.py\u001b[m\n",
            "\t\u001b[31mdeleted:    experiments/uci_exps/tests/test_data.py\u001b[m\n",
            "\t\u001b[31mdeleted:    experiments/uci_exps/tests/test_database.py\u001b[m\n",
            "\t\u001b[31mdeleted:    experiments/uci_exps/tests/test_models.py\u001b[m\n",
            "\t\u001b[31mdeleted:    experiments/uci_exps/tests/test_tasks.py\u001b[m\n",
            "\t\u001b[31mdeleted:    requirements.txt\u001b[m\n",
            "\t\u001b[31mdeleted:    setup.py\u001b[m\n",
            "\t\u001b[31mdeleted:    subspace_inference/__init__.py\u001b[m\n",
            "\t\u001b[31mdeleted:    subspace_inference/curves.py\u001b[m\n",
            "\t\u001b[31mdeleted:    subspace_inference/data.py\u001b[m\n",
            "\t\u001b[31mdeleted:    subspace_inference/losses.py\u001b[m\n",
            "\t\u001b[31mdeleted:    subspace_inference/models/__init__.py\u001b[m\n",
            "\t\u001b[31mdeleted:    subspace_inference/models/layers.py\u001b[m\n",
            "\t\u001b[31mdeleted:    subspace_inference/models/mlp.py\u001b[m\n",
            "\t\u001b[31mdeleted:    subspace_inference/models/preresnet.py\u001b[m\n",
            "\t\u001b[31mdeleted:    subspace_inference/models/preresnet_dropout.py\u001b[m\n",
            "\t\u001b[31mdeleted:    subspace_inference/models/regression_net.py\u001b[m\n",
            "\t\u001b[31mdeleted:    subspace_inference/models/vgg.py\u001b[m\n",
            "\t\u001b[31mdeleted:    subspace_inference/models/vgg_dropout.py\u001b[m\n",
            "\t\u001b[31mdeleted:    subspace_inference/models/wide_resnet.py\u001b[m\n",
            "\t\u001b[31mdeleted:    subspace_inference/models/wide_resnet_dropout.py\u001b[m\n",
            "\t\u001b[31mdeleted:    subspace_inference/posteriors/__init__.py\u001b[m\n",
            "\t\u001b[31mdeleted:    subspace_inference/posteriors/elliptical_slice.py\u001b[m\n",
            "\t\u001b[31mdeleted:    subspace_inference/posteriors/ess.py\u001b[m\n",
            "\t\u001b[31mdeleted:    subspace_inference/posteriors/inferences.py\u001b[m\n",
            "\t\u001b[31mdeleted:    subspace_inference/posteriors/proj_model.py\u001b[m\n",
            "\t\u001b[31mdeleted:    subspace_inference/posteriors/pyro.py\u001b[m\n",
            "\t\u001b[31mdeleted:    subspace_inference/posteriors/realnvp.py\u001b[m\n",
            "\t\u001b[31mdeleted:    subspace_inference/posteriors/subspaces.py\u001b[m\n",
            "\t\u001b[31mdeleted:    subspace_inference/posteriors/swag.py\u001b[m\n",
            "\t\u001b[31mdeleted:    subspace_inference/posteriors/vi_model.py\u001b[m\n",
            "\t\u001b[31mdeleted:    subspace_inference/posteriors/vinf_model.py\u001b[m\n",
            "\t\u001b[31mdeleted:    subspace_inference/utils.py\u001b[m\n",
            "\t\u001b[31mdeleted:    subspace_inference/visualization.py\u001b[m\n",
            "\t\u001b[31mdeleted:    vi-pca-model.pt\u001b[m\n",
            "\n",
            "Untracked files:\n",
            "\t\u001b[31m.config/\u001b[m\n",
            "\t\u001b[31mdrbayes/.gitignore\u001b[m\n",
            "\t\u001b[31mdrbayes/LICENSE\u001b[m\n",
            "\t\u001b[31mdrbayes/README.md\u001b[m\n",
            "\t\u001b[31mdrbayes/SIBDL_demo_group_13.ipynb\u001b[m\n",
            "\t\u001b[31mdrbayes/experiments/\u001b[m\n",
            "\t\u001b[31mdrbayes/setup.py\u001b[m\n",
            "\t\u001b[31mdrbayes/subspace_inference/\u001b[m\n",
            "\t\u001b[31msample_data/\u001b[m\n",
            "\n",
            "no changes added to commit\n",
            "fatal: could not read Username for 'https://github.com': No such device or address\n"
          ],
          "name": "stdout"
        }
      ]
    },
    {
      "cell_type": "code",
      "metadata": {
        "colab": {
          "base_uri": "https://localhost:8080/"
        },
        "id": "mp6BXqghM4jD",
        "outputId": "0da44fe3-8359-47ec-a32b-f2d204e0af54"
      },
      "source": [
        "!git --git-dir=drbayes/.git push"
      ],
      "execution_count": 20,
      "outputs": [
        {
          "output_type": "stream",
          "text": [
            "fatal: could not read Username for 'https://github.com': No such device or address\n"
          ],
          "name": "stdout"
        }
      ]
    },
    {
      "cell_type": "code",
      "metadata": {
        "id": "ibmJ03GZOd9r"
      },
      "source": [
        "del preds\n",
        "torch.cuda.empty_cache()"
      ],
      "execution_count": 23,
      "outputs": []
    },
    {
      "cell_type": "code",
      "metadata": {
        "id": "-uk9L9yJ9uzw"
      },
      "source": [
        ""
      ],
      "execution_count": null,
      "outputs": []
    }
  ]
}