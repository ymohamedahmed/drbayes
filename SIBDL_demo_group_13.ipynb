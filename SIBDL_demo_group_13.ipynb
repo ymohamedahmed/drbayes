{
  "nbformat": 4,
  "nbformat_minor": 0,
  "metadata": {
    "accelerator": "GPU",
    "colab": {
      "name": "SIBDL-demo-group-13.ipynb",
      "provenance": [],
      "collapsed_sections": [],
      "toc_visible": true,
      "include_colab_link": true
    },
    "kernelspec": {
      "display_name": "Python 3",
      "language": "python",
      "name": "python3"
    },
    "language_info": {
      "codemirror_mode": {
        "name": "ipython",
        "version": 3
      },
      "file_extension": ".py",
      "mimetype": "text/x-python",
      "name": "python",
      "nbconvert_exporter": "python",
      "pygments_lexer": "ipython3",
      "version": "3.9.2"
    },
    "widgets": {
      "application/vnd.jupyter.widget-state+json": {
        "57d0970dc6984f91a7967ea7a394254f": {
          "model_module": "@jupyter-widgets/controls",
          "model_name": "HBoxModel",
          "state": {
            "_view_name": "HBoxView",
            "_dom_classes": [],
            "_model_name": "HBoxModel",
            "_view_module": "@jupyter-widgets/controls",
            "_model_module_version": "1.5.0",
            "_view_count": null,
            "_view_module_version": "1.5.0",
            "box_style": "",
            "layout": "IPY_MODEL_b8b871789651491a87e84639c8200250",
            "_model_module": "@jupyter-widgets/controls",
            "children": [
              "IPY_MODEL_1f4b5225d3114b999af96793c23418f5",
              "IPY_MODEL_2439a2990b0645a4a67f09a413be1978"
            ]
          }
        },
        "b8b871789651491a87e84639c8200250": {
          "model_module": "@jupyter-widgets/base",
          "model_name": "LayoutModel",
          "state": {
            "_view_name": "LayoutView",
            "grid_template_rows": null,
            "right": null,
            "justify_content": null,
            "_view_module": "@jupyter-widgets/base",
            "overflow": null,
            "_model_module_version": "1.2.0",
            "_view_count": null,
            "flex_flow": null,
            "width": null,
            "min_width": null,
            "border": null,
            "align_items": null,
            "bottom": null,
            "_model_module": "@jupyter-widgets/base",
            "top": null,
            "grid_column": null,
            "overflow_y": null,
            "overflow_x": null,
            "grid_auto_flow": null,
            "grid_area": null,
            "grid_template_columns": null,
            "flex": null,
            "_model_name": "LayoutModel",
            "justify_items": null,
            "grid_row": null,
            "max_height": null,
            "align_content": null,
            "visibility": null,
            "align_self": null,
            "height": null,
            "min_height": null,
            "padding": null,
            "grid_auto_rows": null,
            "grid_gap": null,
            "max_width": null,
            "order": null,
            "_view_module_version": "1.2.0",
            "grid_template_areas": null,
            "object_position": null,
            "object_fit": null,
            "grid_auto_columns": null,
            "margin": null,
            "display": null,
            "left": null
          }
        },
        "1f4b5225d3114b999af96793c23418f5": {
          "model_module": "@jupyter-widgets/controls",
          "model_name": "FloatProgressModel",
          "state": {
            "_view_name": "ProgressView",
            "style": "IPY_MODEL_3a7c4a32df964a70b8f214546d22a1bd",
            "_dom_classes": [],
            "description": "",
            "_model_name": "FloatProgressModel",
            "bar_style": "success",
            "max": 9704059,
            "_view_module": "@jupyter-widgets/controls",
            "_model_module_version": "1.5.0",
            "value": 9704059,
            "_view_count": null,
            "_view_module_version": "1.5.0",
            "orientation": "horizontal",
            "min": 0,
            "description_tooltip": null,
            "_model_module": "@jupyter-widgets/controls",
            "layout": "IPY_MODEL_1b55d3fbe36646a4a95c6318be5368a1"
          }
        },
        "2439a2990b0645a4a67f09a413be1978": {
          "model_module": "@jupyter-widgets/controls",
          "model_name": "HTMLModel",
          "state": {
            "_view_name": "HTMLView",
            "style": "IPY_MODEL_f0f7e2ac83ee45fb92b4f9cdd90ccd0d",
            "_dom_classes": [],
            "description": "",
            "_model_name": "HTMLModel",
            "placeholder": "​",
            "_view_module": "@jupyter-widgets/controls",
            "_model_module_version": "1.5.0",
            "value": " 9704448/? [00:02&lt;00:00, 3819950.04it/s]",
            "_view_count": null,
            "_view_module_version": "1.5.0",
            "description_tooltip": null,
            "_model_module": "@jupyter-widgets/controls",
            "layout": "IPY_MODEL_2e1f9d3a9dfd49b1822a559d69946c51"
          }
        },
        "3a7c4a32df964a70b8f214546d22a1bd": {
          "model_module": "@jupyter-widgets/controls",
          "model_name": "ProgressStyleModel",
          "state": {
            "_view_name": "StyleView",
            "_model_name": "ProgressStyleModel",
            "description_width": "initial",
            "_view_module": "@jupyter-widgets/base",
            "_model_module_version": "1.5.0",
            "_view_count": null,
            "_view_module_version": "1.2.0",
            "bar_color": null,
            "_model_module": "@jupyter-widgets/controls"
          }
        },
        "1b55d3fbe36646a4a95c6318be5368a1": {
          "model_module": "@jupyter-widgets/base",
          "model_name": "LayoutModel",
          "state": {
            "_view_name": "LayoutView",
            "grid_template_rows": null,
            "right": null,
            "justify_content": null,
            "_view_module": "@jupyter-widgets/base",
            "overflow": null,
            "_model_module_version": "1.2.0",
            "_view_count": null,
            "flex_flow": null,
            "width": null,
            "min_width": null,
            "border": null,
            "align_items": null,
            "bottom": null,
            "_model_module": "@jupyter-widgets/base",
            "top": null,
            "grid_column": null,
            "overflow_y": null,
            "overflow_x": null,
            "grid_auto_flow": null,
            "grid_area": null,
            "grid_template_columns": null,
            "flex": null,
            "_model_name": "LayoutModel",
            "justify_items": null,
            "grid_row": null,
            "max_height": null,
            "align_content": null,
            "visibility": null,
            "align_self": null,
            "height": null,
            "min_height": null,
            "padding": null,
            "grid_auto_rows": null,
            "grid_gap": null,
            "max_width": null,
            "order": null,
            "_view_module_version": "1.2.0",
            "grid_template_areas": null,
            "object_position": null,
            "object_fit": null,
            "grid_auto_columns": null,
            "margin": null,
            "display": null,
            "left": null
          }
        },
        "f0f7e2ac83ee45fb92b4f9cdd90ccd0d": {
          "model_module": "@jupyter-widgets/controls",
          "model_name": "DescriptionStyleModel",
          "state": {
            "_view_name": "StyleView",
            "_model_name": "DescriptionStyleModel",
            "description_width": "",
            "_view_module": "@jupyter-widgets/base",
            "_model_module_version": "1.5.0",
            "_view_count": null,
            "_view_module_version": "1.2.0",
            "_model_module": "@jupyter-widgets/controls"
          }
        },
        "2e1f9d3a9dfd49b1822a559d69946c51": {
          "model_module": "@jupyter-widgets/base",
          "model_name": "LayoutModel",
          "state": {
            "_view_name": "LayoutView",
            "grid_template_rows": null,
            "right": null,
            "justify_content": null,
            "_view_module": "@jupyter-widgets/base",
            "overflow": null,
            "_model_module_version": "1.2.0",
            "_view_count": null,
            "flex_flow": null,
            "width": null,
            "min_width": null,
            "border": null,
            "align_items": null,
            "bottom": null,
            "_model_module": "@jupyter-widgets/base",
            "top": null,
            "grid_column": null,
            "overflow_y": null,
            "overflow_x": null,
            "grid_auto_flow": null,
            "grid_area": null,
            "grid_template_columns": null,
            "flex": null,
            "_model_name": "LayoutModel",
            "justify_items": null,
            "grid_row": null,
            "max_height": null,
            "align_content": null,
            "visibility": null,
            "align_self": null,
            "height": null,
            "min_height": null,
            "padding": null,
            "grid_auto_rows": null,
            "grid_gap": null,
            "max_width": null,
            "order": null,
            "_view_module_version": "1.2.0",
            "grid_template_areas": null,
            "object_position": null,
            "object_fit": null,
            "grid_auto_columns": null,
            "margin": null,
            "display": null,
            "left": null
          }
        },
        "8475aa44612245059fc48f152f5a3012": {
          "model_module": "@jupyter-widgets/controls",
          "model_name": "HBoxModel",
          "state": {
            "_view_name": "HBoxView",
            "_dom_classes": [],
            "_model_name": "HBoxModel",
            "_view_module": "@jupyter-widgets/controls",
            "_model_module_version": "1.5.0",
            "_view_count": null,
            "_view_module_version": "1.5.0",
            "box_style": "",
            "layout": "IPY_MODEL_79333f204f4d4d7fb5e5810b9ff88fab",
            "_model_module": "@jupyter-widgets/controls",
            "children": [
              "IPY_MODEL_d9ebbcd3ea0945bcb5e87a23edaef265",
              "IPY_MODEL_dd37fe904e4140a4a710accedd829f98"
            ]
          }
        },
        "79333f204f4d4d7fb5e5810b9ff88fab": {
          "model_module": "@jupyter-widgets/base",
          "model_name": "LayoutModel",
          "state": {
            "_view_name": "LayoutView",
            "grid_template_rows": null,
            "right": null,
            "justify_content": null,
            "_view_module": "@jupyter-widgets/base",
            "overflow": null,
            "_model_module_version": "1.2.0",
            "_view_count": null,
            "flex_flow": null,
            "width": null,
            "min_width": null,
            "border": null,
            "align_items": null,
            "bottom": null,
            "_model_module": "@jupyter-widgets/base",
            "top": null,
            "grid_column": null,
            "overflow_y": null,
            "overflow_x": null,
            "grid_auto_flow": null,
            "grid_area": null,
            "grid_template_columns": null,
            "flex": null,
            "_model_name": "LayoutModel",
            "justify_items": null,
            "grid_row": null,
            "max_height": null,
            "align_content": null,
            "visibility": null,
            "align_self": null,
            "height": null,
            "min_height": null,
            "padding": null,
            "grid_auto_rows": null,
            "grid_gap": null,
            "max_width": null,
            "order": null,
            "_view_module_version": "1.2.0",
            "grid_template_areas": null,
            "object_position": null,
            "object_fit": null,
            "grid_auto_columns": null,
            "margin": null,
            "display": null,
            "left": null
          }
        },
        "d9ebbcd3ea0945bcb5e87a23edaef265": {
          "model_module": "@jupyter-widgets/controls",
          "model_name": "FloatProgressModel",
          "state": {
            "_view_name": "ProgressView",
            "style": "IPY_MODEL_e0253b93854a4e29a523cbf13970fedf",
            "_dom_classes": [],
            "description": "",
            "_model_name": "FloatProgressModel",
            "bar_style": "success",
            "max": 463024,
            "_view_module": "@jupyter-widgets/controls",
            "_model_module_version": "1.5.0",
            "value": 463024,
            "_view_count": null,
            "_view_module_version": "1.5.0",
            "orientation": "horizontal",
            "min": 0,
            "description_tooltip": null,
            "_model_module": "@jupyter-widgets/controls",
            "layout": "IPY_MODEL_1ea8b94523174f26827adf8eb638264e"
          }
        },
        "dd37fe904e4140a4a710accedd829f98": {
          "model_module": "@jupyter-widgets/controls",
          "model_name": "HTMLModel",
          "state": {
            "_view_name": "HTMLView",
            "style": "IPY_MODEL_7116e887db824dd79821ab810a480f63",
            "_dom_classes": [],
            "description": "",
            "_model_name": "HTMLModel",
            "placeholder": "​",
            "_view_module": "@jupyter-widgets/controls",
            "_model_module_version": "1.5.0",
            "value": " 463872/? [00:00&lt;00:00, 1013389.77it/s]",
            "_view_count": null,
            "_view_module_version": "1.5.0",
            "description_tooltip": null,
            "_model_module": "@jupyter-widgets/controls",
            "layout": "IPY_MODEL_49afe57bdbf34d41a2d1bb19efa26aaa"
          }
        },
        "e0253b93854a4e29a523cbf13970fedf": {
          "model_module": "@jupyter-widgets/controls",
          "model_name": "ProgressStyleModel",
          "state": {
            "_view_name": "StyleView",
            "_model_name": "ProgressStyleModel",
            "description_width": "initial",
            "_view_module": "@jupyter-widgets/base",
            "_model_module_version": "1.5.0",
            "_view_count": null,
            "_view_module_version": "1.2.0",
            "bar_color": null,
            "_model_module": "@jupyter-widgets/controls"
          }
        },
        "1ea8b94523174f26827adf8eb638264e": {
          "model_module": "@jupyter-widgets/base",
          "model_name": "LayoutModel",
          "state": {
            "_view_name": "LayoutView",
            "grid_template_rows": null,
            "right": null,
            "justify_content": null,
            "_view_module": "@jupyter-widgets/base",
            "overflow": null,
            "_model_module_version": "1.2.0",
            "_view_count": null,
            "flex_flow": null,
            "width": null,
            "min_width": null,
            "border": null,
            "align_items": null,
            "bottom": null,
            "_model_module": "@jupyter-widgets/base",
            "top": null,
            "grid_column": null,
            "overflow_y": null,
            "overflow_x": null,
            "grid_auto_flow": null,
            "grid_area": null,
            "grid_template_columns": null,
            "flex": null,
            "_model_name": "LayoutModel",
            "justify_items": null,
            "grid_row": null,
            "max_height": null,
            "align_content": null,
            "visibility": null,
            "align_self": null,
            "height": null,
            "min_height": null,
            "padding": null,
            "grid_auto_rows": null,
            "grid_gap": null,
            "max_width": null,
            "order": null,
            "_view_module_version": "1.2.0",
            "grid_template_areas": null,
            "object_position": null,
            "object_fit": null,
            "grid_auto_columns": null,
            "margin": null,
            "display": null,
            "left": null
          }
        },
        "7116e887db824dd79821ab810a480f63": {
          "model_module": "@jupyter-widgets/controls",
          "model_name": "DescriptionStyleModel",
          "state": {
            "_view_name": "StyleView",
            "_model_name": "DescriptionStyleModel",
            "description_width": "",
            "_view_module": "@jupyter-widgets/base",
            "_model_module_version": "1.5.0",
            "_view_count": null,
            "_view_module_version": "1.2.0",
            "_model_module": "@jupyter-widgets/controls"
          }
        },
        "49afe57bdbf34d41a2d1bb19efa26aaa": {
          "model_module": "@jupyter-widgets/base",
          "model_name": "LayoutModel",
          "state": {
            "_view_name": "LayoutView",
            "grid_template_rows": null,
            "right": null,
            "justify_content": null,
            "_view_module": "@jupyter-widgets/base",
            "overflow": null,
            "_model_module_version": "1.2.0",
            "_view_count": null,
            "flex_flow": null,
            "width": null,
            "min_width": null,
            "border": null,
            "align_items": null,
            "bottom": null,
            "_model_module": "@jupyter-widgets/base",
            "top": null,
            "grid_column": null,
            "overflow_y": null,
            "overflow_x": null,
            "grid_auto_flow": null,
            "grid_area": null,
            "grid_template_columns": null,
            "flex": null,
            "_model_name": "LayoutModel",
            "justify_items": null,
            "grid_row": null,
            "max_height": null,
            "align_content": null,
            "visibility": null,
            "align_self": null,
            "height": null,
            "min_height": null,
            "padding": null,
            "grid_auto_rows": null,
            "grid_gap": null,
            "max_width": null,
            "order": null,
            "_view_module_version": "1.2.0",
            "grid_template_areas": null,
            "object_position": null,
            "object_fit": null,
            "grid_auto_columns": null,
            "margin": null,
            "display": null,
            "left": null
          }
        },
        "c5d47f5a593147168d78023f6e0dc1a7": {
          "model_module": "@jupyter-widgets/controls",
          "model_name": "HBoxModel",
          "state": {
            "_view_name": "HBoxView",
            "_dom_classes": [],
            "_model_name": "HBoxModel",
            "_view_module": "@jupyter-widgets/controls",
            "_model_module_version": "1.5.0",
            "_view_count": null,
            "_view_module_version": "1.5.0",
            "box_style": "",
            "layout": "IPY_MODEL_4cd76cda34d249a2a43f1f5320a55ac2",
            "_model_module": "@jupyter-widgets/controls",
            "children": [
              "IPY_MODEL_2164f5853b04460b92617d15616d2de3",
              "IPY_MODEL_fa30edcca3da41429009500d17878cd3"
            ]
          }
        },
        "4cd76cda34d249a2a43f1f5320a55ac2": {
          "model_module": "@jupyter-widgets/base",
          "model_name": "LayoutModel",
          "state": {
            "_view_name": "LayoutView",
            "grid_template_rows": null,
            "right": null,
            "justify_content": null,
            "_view_module": "@jupyter-widgets/base",
            "overflow": null,
            "_model_module_version": "1.2.0",
            "_view_count": null,
            "flex_flow": null,
            "width": null,
            "min_width": null,
            "border": null,
            "align_items": null,
            "bottom": null,
            "_model_module": "@jupyter-widgets/base",
            "top": null,
            "grid_column": null,
            "overflow_y": null,
            "overflow_x": null,
            "grid_auto_flow": null,
            "grid_area": null,
            "grid_template_columns": null,
            "flex": null,
            "_model_name": "LayoutModel",
            "justify_items": null,
            "grid_row": null,
            "max_height": null,
            "align_content": null,
            "visibility": null,
            "align_self": null,
            "height": null,
            "min_height": null,
            "padding": null,
            "grid_auto_rows": null,
            "grid_gap": null,
            "max_width": null,
            "order": null,
            "_view_module_version": "1.2.0",
            "grid_template_areas": null,
            "object_position": null,
            "object_fit": null,
            "grid_auto_columns": null,
            "margin": null,
            "display": null,
            "left": null
          }
        },
        "2164f5853b04460b92617d15616d2de3": {
          "model_module": "@jupyter-widgets/controls",
          "model_name": "FloatProgressModel",
          "state": {
            "_view_name": "ProgressView",
            "style": "IPY_MODEL_ae28877592264e2d90802a7c53846500",
            "_dom_classes": [],
            "description": "",
            "_model_name": "FloatProgressModel",
            "bar_style": "success",
            "max": 9742279,
            "_view_module": "@jupyter-widgets/controls",
            "_model_module_version": "1.5.0",
            "value": 9742279,
            "_view_count": null,
            "_view_module_version": "1.5.0",
            "orientation": "horizontal",
            "min": 0,
            "description_tooltip": null,
            "_model_module": "@jupyter-widgets/controls",
            "layout": "IPY_MODEL_71f9dbfb699246bd876e1f03a8e59e2a"
          }
        },
        "fa30edcca3da41429009500d17878cd3": {
          "model_module": "@jupyter-widgets/controls",
          "model_name": "HTMLModel",
          "state": {
            "_view_name": "HTMLView",
            "style": "IPY_MODEL_f9b20f4145d64f92bc4406f7a961348a",
            "_dom_classes": [],
            "description": "",
            "_model_name": "HTMLModel",
            "placeholder": "​",
            "_view_module": "@jupyter-widgets/controls",
            "_model_module_version": "1.5.0",
            "value": " 9742336/? [00:00&lt;00:00, 11627560.95it/s]",
            "_view_count": null,
            "_view_module_version": "1.5.0",
            "description_tooltip": null,
            "_model_module": "@jupyter-widgets/controls",
            "layout": "IPY_MODEL_20efc093a8754f1d963373dd65727bef"
          }
        },
        "ae28877592264e2d90802a7c53846500": {
          "model_module": "@jupyter-widgets/controls",
          "model_name": "ProgressStyleModel",
          "state": {
            "_view_name": "StyleView",
            "_model_name": "ProgressStyleModel",
            "description_width": "initial",
            "_view_module": "@jupyter-widgets/base",
            "_model_module_version": "1.5.0",
            "_view_count": null,
            "_view_module_version": "1.2.0",
            "bar_color": null,
            "_model_module": "@jupyter-widgets/controls"
          }
        },
        "71f9dbfb699246bd876e1f03a8e59e2a": {
          "model_module": "@jupyter-widgets/base",
          "model_name": "LayoutModel",
          "state": {
            "_view_name": "LayoutView",
            "grid_template_rows": null,
            "right": null,
            "justify_content": null,
            "_view_module": "@jupyter-widgets/base",
            "overflow": null,
            "_model_module_version": "1.2.0",
            "_view_count": null,
            "flex_flow": null,
            "width": null,
            "min_width": null,
            "border": null,
            "align_items": null,
            "bottom": null,
            "_model_module": "@jupyter-widgets/base",
            "top": null,
            "grid_column": null,
            "overflow_y": null,
            "overflow_x": null,
            "grid_auto_flow": null,
            "grid_area": null,
            "grid_template_columns": null,
            "flex": null,
            "_model_name": "LayoutModel",
            "justify_items": null,
            "grid_row": null,
            "max_height": null,
            "align_content": null,
            "visibility": null,
            "align_self": null,
            "height": null,
            "min_height": null,
            "padding": null,
            "grid_auto_rows": null,
            "grid_gap": null,
            "max_width": null,
            "order": null,
            "_view_module_version": "1.2.0",
            "grid_template_areas": null,
            "object_position": null,
            "object_fit": null,
            "grid_auto_columns": null,
            "margin": null,
            "display": null,
            "left": null
          }
        },
        "f9b20f4145d64f92bc4406f7a961348a": {
          "model_module": "@jupyter-widgets/controls",
          "model_name": "DescriptionStyleModel",
          "state": {
            "_view_name": "StyleView",
            "_model_name": "DescriptionStyleModel",
            "description_width": "",
            "_view_module": "@jupyter-widgets/base",
            "_model_module_version": "1.5.0",
            "_view_count": null,
            "_view_module_version": "1.2.0",
            "_model_module": "@jupyter-widgets/controls"
          }
        },
        "20efc093a8754f1d963373dd65727bef": {
          "model_module": "@jupyter-widgets/base",
          "model_name": "LayoutModel",
          "state": {
            "_view_name": "LayoutView",
            "grid_template_rows": null,
            "right": null,
            "justify_content": null,
            "_view_module": "@jupyter-widgets/base",
            "overflow": null,
            "_model_module_version": "1.2.0",
            "_view_count": null,
            "flex_flow": null,
            "width": null,
            "min_width": null,
            "border": null,
            "align_items": null,
            "bottom": null,
            "_model_module": "@jupyter-widgets/base",
            "top": null,
            "grid_column": null,
            "overflow_y": null,
            "overflow_x": null,
            "grid_auto_flow": null,
            "grid_area": null,
            "grid_template_columns": null,
            "flex": null,
            "_model_name": "LayoutModel",
            "justify_items": null,
            "grid_row": null,
            "max_height": null,
            "align_content": null,
            "visibility": null,
            "align_self": null,
            "height": null,
            "min_height": null,
            "padding": null,
            "grid_auto_rows": null,
            "grid_gap": null,
            "max_width": null,
            "order": null,
            "_view_module_version": "1.2.0",
            "grid_template_areas": null,
            "object_position": null,
            "object_fit": null,
            "grid_auto_columns": null,
            "margin": null,
            "display": null,
            "left": null
          }
        },
        "f787f1dea29e46ecb8520e5905727dfa": {
          "model_module": "@jupyter-widgets/controls",
          "model_name": "HBoxModel",
          "state": {
            "_view_name": "HBoxView",
            "_dom_classes": [],
            "_model_name": "HBoxModel",
            "_view_module": "@jupyter-widgets/controls",
            "_model_module_version": "1.5.0",
            "_view_count": null,
            "_view_module_version": "1.5.0",
            "box_style": "",
            "layout": "IPY_MODEL_ecfe81082f6143a58cc0e1622939d664",
            "_model_module": "@jupyter-widgets/controls",
            "children": [
              "IPY_MODEL_cd62a6a18d5844cb9fb20f7890c9a3dc",
              "IPY_MODEL_2f8f179c43904c8ca56388c0ba465888"
            ]
          }
        },
        "ecfe81082f6143a58cc0e1622939d664": {
          "model_module": "@jupyter-widgets/base",
          "model_name": "LayoutModel",
          "state": {
            "_view_name": "LayoutView",
            "grid_template_rows": null,
            "right": null,
            "justify_content": null,
            "_view_module": "@jupyter-widgets/base",
            "overflow": null,
            "_model_module_version": "1.2.0",
            "_view_count": null,
            "flex_flow": null,
            "width": null,
            "min_width": null,
            "border": null,
            "align_items": null,
            "bottom": null,
            "_model_module": "@jupyter-widgets/base",
            "top": null,
            "grid_column": null,
            "overflow_y": null,
            "overflow_x": null,
            "grid_auto_flow": null,
            "grid_area": null,
            "grid_template_columns": null,
            "flex": null,
            "_model_name": "LayoutModel",
            "justify_items": null,
            "grid_row": null,
            "max_height": null,
            "align_content": null,
            "visibility": null,
            "align_self": null,
            "height": null,
            "min_height": null,
            "padding": null,
            "grid_auto_rows": null,
            "grid_gap": null,
            "max_width": null,
            "order": null,
            "_view_module_version": "1.2.0",
            "grid_template_areas": null,
            "object_position": null,
            "object_fit": null,
            "grid_auto_columns": null,
            "margin": null,
            "display": null,
            "left": null
          }
        },
        "cd62a6a18d5844cb9fb20f7890c9a3dc": {
          "model_module": "@jupyter-widgets/controls",
          "model_name": "FloatProgressModel",
          "state": {
            "_view_name": "ProgressView",
            "style": "IPY_MODEL_0b0c12dc35ad46dc939d789b9f3d863a",
            "_dom_classes": [],
            "description": "",
            "_model_name": "FloatProgressModel",
            "bar_style": "success",
            "max": 526800,
            "_view_module": "@jupyter-widgets/controls",
            "_model_module_version": "1.5.0",
            "value": 526800,
            "_view_count": null,
            "_view_module_version": "1.5.0",
            "orientation": "horizontal",
            "min": 0,
            "description_tooltip": null,
            "_model_module": "@jupyter-widgets/controls",
            "layout": "IPY_MODEL_b74f7212e9184e43bfc2ce5d6fe8455a"
          }
        },
        "2f8f179c43904c8ca56388c0ba465888": {
          "model_module": "@jupyter-widgets/controls",
          "model_name": "HTMLModel",
          "state": {
            "_view_name": "HTMLView",
            "style": "IPY_MODEL_54bd2d40efcc4ae6a48afac011c37972",
            "_dom_classes": [],
            "description": "",
            "_model_name": "HTMLModel",
            "placeholder": "​",
            "_view_module": "@jupyter-widgets/controls",
            "_model_module_version": "1.5.0",
            "value": " 527360/? [00:00&lt;00:00, 936150.83it/s]",
            "_view_count": null,
            "_view_module_version": "1.5.0",
            "description_tooltip": null,
            "_model_module": "@jupyter-widgets/controls",
            "layout": "IPY_MODEL_e1b61178e8314538931733d86a79c89d"
          }
        },
        "0b0c12dc35ad46dc939d789b9f3d863a": {
          "model_module": "@jupyter-widgets/controls",
          "model_name": "ProgressStyleModel",
          "state": {
            "_view_name": "StyleView",
            "_model_name": "ProgressStyleModel",
            "description_width": "initial",
            "_view_module": "@jupyter-widgets/base",
            "_model_module_version": "1.5.0",
            "_view_count": null,
            "_view_module_version": "1.2.0",
            "bar_color": null,
            "_model_module": "@jupyter-widgets/controls"
          }
        },
        "b74f7212e9184e43bfc2ce5d6fe8455a": {
          "model_module": "@jupyter-widgets/base",
          "model_name": "LayoutModel",
          "state": {
            "_view_name": "LayoutView",
            "grid_template_rows": null,
            "right": null,
            "justify_content": null,
            "_view_module": "@jupyter-widgets/base",
            "overflow": null,
            "_model_module_version": "1.2.0",
            "_view_count": null,
            "flex_flow": null,
            "width": null,
            "min_width": null,
            "border": null,
            "align_items": null,
            "bottom": null,
            "_model_module": "@jupyter-widgets/base",
            "top": null,
            "grid_column": null,
            "overflow_y": null,
            "overflow_x": null,
            "grid_auto_flow": null,
            "grid_area": null,
            "grid_template_columns": null,
            "flex": null,
            "_model_name": "LayoutModel",
            "justify_items": null,
            "grid_row": null,
            "max_height": null,
            "align_content": null,
            "visibility": null,
            "align_self": null,
            "height": null,
            "min_height": null,
            "padding": null,
            "grid_auto_rows": null,
            "grid_gap": null,
            "max_width": null,
            "order": null,
            "_view_module_version": "1.2.0",
            "grid_template_areas": null,
            "object_position": null,
            "object_fit": null,
            "grid_auto_columns": null,
            "margin": null,
            "display": null,
            "left": null
          }
        },
        "54bd2d40efcc4ae6a48afac011c37972": {
          "model_module": "@jupyter-widgets/controls",
          "model_name": "DescriptionStyleModel",
          "state": {
            "_view_name": "StyleView",
            "_model_name": "DescriptionStyleModel",
            "description_width": "",
            "_view_module": "@jupyter-widgets/base",
            "_model_module_version": "1.5.0",
            "_view_count": null,
            "_view_module_version": "1.2.0",
            "_model_module": "@jupyter-widgets/controls"
          }
        },
        "e1b61178e8314538931733d86a79c89d": {
          "model_module": "@jupyter-widgets/base",
          "model_name": "LayoutModel",
          "state": {
            "_view_name": "LayoutView",
            "grid_template_rows": null,
            "right": null,
            "justify_content": null,
            "_view_module": "@jupyter-widgets/base",
            "overflow": null,
            "_model_module_version": "1.2.0",
            "_view_count": null,
            "flex_flow": null,
            "width": null,
            "min_width": null,
            "border": null,
            "align_items": null,
            "bottom": null,
            "_model_module": "@jupyter-widgets/base",
            "top": null,
            "grid_column": null,
            "overflow_y": null,
            "overflow_x": null,
            "grid_auto_flow": null,
            "grid_area": null,
            "grid_template_columns": null,
            "flex": null,
            "_model_name": "LayoutModel",
            "justify_items": null,
            "grid_row": null,
            "max_height": null,
            "align_content": null,
            "visibility": null,
            "align_self": null,
            "height": null,
            "min_height": null,
            "padding": null,
            "grid_auto_rows": null,
            "grid_gap": null,
            "max_width": null,
            "order": null,
            "_view_module_version": "1.2.0",
            "grid_template_areas": null,
            "object_position": null,
            "object_fit": null,
            "grid_auto_columns": null,
            "margin": null,
            "display": null,
            "left": null
          }
        },
        "4dfd72be003f4211b8a5c75fb6398343": {
          "model_module": "@jupyter-widgets/controls",
          "model_name": "HBoxModel",
          "state": {
            "_view_name": "HBoxView",
            "_dom_classes": [],
            "_model_name": "HBoxModel",
            "_view_module": "@jupyter-widgets/controls",
            "_model_module_version": "1.5.0",
            "_view_count": null,
            "_view_module_version": "1.5.0",
            "box_style": "",
            "layout": "IPY_MODEL_b54c53bc60c74850803f1129b2dca9a7",
            "_model_module": "@jupyter-widgets/controls",
            "children": [
              "IPY_MODEL_e42c8418085a48b09688f492c600d19f",
              "IPY_MODEL_7826048887bc4ca7bb83f00389a78711"
            ]
          }
        },
        "b54c53bc60c74850803f1129b2dca9a7": {
          "model_module": "@jupyter-widgets/base",
          "model_name": "LayoutModel",
          "state": {
            "_view_name": "LayoutView",
            "grid_template_rows": null,
            "right": null,
            "justify_content": null,
            "_view_module": "@jupyter-widgets/base",
            "overflow": null,
            "_model_module_version": "1.2.0",
            "_view_count": null,
            "flex_flow": null,
            "width": null,
            "min_width": null,
            "border": null,
            "align_items": null,
            "bottom": null,
            "_model_module": "@jupyter-widgets/base",
            "top": null,
            "grid_column": null,
            "overflow_y": null,
            "overflow_x": null,
            "grid_auto_flow": null,
            "grid_area": null,
            "grid_template_columns": null,
            "flex": null,
            "_model_name": "LayoutModel",
            "justify_items": null,
            "grid_row": null,
            "max_height": null,
            "align_content": null,
            "visibility": null,
            "align_self": null,
            "height": null,
            "min_height": null,
            "padding": null,
            "grid_auto_rows": null,
            "grid_gap": null,
            "max_width": null,
            "order": null,
            "_view_module_version": "1.2.0",
            "grid_template_areas": null,
            "object_position": null,
            "object_fit": null,
            "grid_auto_columns": null,
            "margin": null,
            "display": null,
            "left": null
          }
        },
        "e42c8418085a48b09688f492c600d19f": {
          "model_module": "@jupyter-widgets/controls",
          "model_name": "FloatProgressModel",
          "state": {
            "_view_name": "ProgressView",
            "style": "IPY_MODEL_0c5b6370baad4591bdb493210910197e",
            "_dom_classes": [],
            "description": "loss: 0.0, acc: 0.899:   5%",
            "_model_name": "FloatProgressModel",
            "bar_style": "danger",
            "max": 500,
            "_view_module": "@jupyter-widgets/controls",
            "_model_module_version": "1.5.0",
            "value": 27,
            "_view_count": null,
            "_view_module_version": "1.5.0",
            "orientation": "horizontal",
            "min": 0,
            "description_tooltip": null,
            "_model_module": "@jupyter-widgets/controls",
            "layout": "IPY_MODEL_808fd4d809334f1c8f017c7c3da0f5ef"
          }
        },
        "7826048887bc4ca7bb83f00389a78711": {
          "model_module": "@jupyter-widgets/controls",
          "model_name": "HTMLModel",
          "state": {
            "_view_name": "HTMLView",
            "style": "IPY_MODEL_bf29e4f4dbdc43a6aa471ff3e2f912bb",
            "_dom_classes": [],
            "description": "",
            "_model_name": "HTMLModel",
            "placeholder": "​",
            "_view_module": "@jupyter-widgets/controls",
            "_model_module_version": "1.5.0",
            "value": " 27/500 [03:16&lt;54:35,  6.92s/it]",
            "_view_count": null,
            "_view_module_version": "1.5.0",
            "description_tooltip": null,
            "_model_module": "@jupyter-widgets/controls",
            "layout": "IPY_MODEL_a383b1c358d94837886d49e67754473e"
          }
        },
        "0c5b6370baad4591bdb493210910197e": {
          "model_module": "@jupyter-widgets/controls",
          "model_name": "ProgressStyleModel",
          "state": {
            "_view_name": "StyleView",
            "_model_name": "ProgressStyleModel",
            "description_width": "initial",
            "_view_module": "@jupyter-widgets/base",
            "_model_module_version": "1.5.0",
            "_view_count": null,
            "_view_module_version": "1.2.0",
            "bar_color": null,
            "_model_module": "@jupyter-widgets/controls"
          }
        },
        "808fd4d809334f1c8f017c7c3da0f5ef": {
          "model_module": "@jupyter-widgets/base",
          "model_name": "LayoutModel",
          "state": {
            "_view_name": "LayoutView",
            "grid_template_rows": null,
            "right": null,
            "justify_content": null,
            "_view_module": "@jupyter-widgets/base",
            "overflow": null,
            "_model_module_version": "1.2.0",
            "_view_count": null,
            "flex_flow": null,
            "width": null,
            "min_width": null,
            "border": null,
            "align_items": null,
            "bottom": null,
            "_model_module": "@jupyter-widgets/base",
            "top": null,
            "grid_column": null,
            "overflow_y": null,
            "overflow_x": null,
            "grid_auto_flow": null,
            "grid_area": null,
            "grid_template_columns": null,
            "flex": null,
            "_model_name": "LayoutModel",
            "justify_items": null,
            "grid_row": null,
            "max_height": null,
            "align_content": null,
            "visibility": null,
            "align_self": null,
            "height": null,
            "min_height": null,
            "padding": null,
            "grid_auto_rows": null,
            "grid_gap": null,
            "max_width": null,
            "order": null,
            "_view_module_version": "1.2.0",
            "grid_template_areas": null,
            "object_position": null,
            "object_fit": null,
            "grid_auto_columns": null,
            "margin": null,
            "display": null,
            "left": null
          }
        },
        "bf29e4f4dbdc43a6aa471ff3e2f912bb": {
          "model_module": "@jupyter-widgets/controls",
          "model_name": "DescriptionStyleModel",
          "state": {
            "_view_name": "StyleView",
            "_model_name": "DescriptionStyleModel",
            "description_width": "",
            "_view_module": "@jupyter-widgets/base",
            "_model_module_version": "1.5.0",
            "_view_count": null,
            "_view_module_version": "1.2.0",
            "_model_module": "@jupyter-widgets/controls"
          }
        },
        "a383b1c358d94837886d49e67754473e": {
          "model_module": "@jupyter-widgets/base",
          "model_name": "LayoutModel",
          "state": {
            "_view_name": "LayoutView",
            "grid_template_rows": null,
            "right": null,
            "justify_content": null,
            "_view_module": "@jupyter-widgets/base",
            "overflow": null,
            "_model_module_version": "1.2.0",
            "_view_count": null,
            "flex_flow": null,
            "width": null,
            "min_width": null,
            "border": null,
            "align_items": null,
            "bottom": null,
            "_model_module": "@jupyter-widgets/base",
            "top": null,
            "grid_column": null,
            "overflow_y": null,
            "overflow_x": null,
            "grid_auto_flow": null,
            "grid_area": null,
            "grid_template_columns": null,
            "flex": null,
            "_model_name": "LayoutModel",
            "justify_items": null,
            "grid_row": null,
            "max_height": null,
            "align_content": null,
            "visibility": null,
            "align_self": null,
            "height": null,
            "min_height": null,
            "padding": null,
            "grid_auto_rows": null,
            "grid_gap": null,
            "max_width": null,
            "order": null,
            "_view_module_version": "1.2.0",
            "grid_template_areas": null,
            "object_position": null,
            "object_fit": null,
            "grid_auto_columns": null,
            "margin": null,
            "display": null,
            "left": null
          }
        },
        "866a165558df4ad9b3803aa5c3dd2943": {
          "model_module": "@jupyter-widgets/controls",
          "model_name": "HBoxModel",
          "state": {
            "_view_name": "HBoxView",
            "_dom_classes": [],
            "_model_name": "HBoxModel",
            "_view_module": "@jupyter-widgets/controls",
            "_model_module_version": "1.5.0",
            "_view_count": null,
            "_view_module_version": "1.5.0",
            "box_style": "",
            "layout": "IPY_MODEL_dff8cb162abb4827acf07a28bb80d791",
            "_model_module": "@jupyter-widgets/controls",
            "children": [
              "IPY_MODEL_753bb32d4a8b4af2970f79853ea9b263",
              "IPY_MODEL_084372da086b4ce09343c631a033a218"
            ]
          }
        },
        "dff8cb162abb4827acf07a28bb80d791": {
          "model_module": "@jupyter-widgets/base",
          "model_name": "LayoutModel",
          "state": {
            "_view_name": "LayoutView",
            "grid_template_rows": null,
            "right": null,
            "justify_content": null,
            "_view_module": "@jupyter-widgets/base",
            "overflow": null,
            "_model_module_version": "1.2.0",
            "_view_count": null,
            "flex_flow": null,
            "width": null,
            "min_width": null,
            "border": null,
            "align_items": null,
            "bottom": null,
            "_model_module": "@jupyter-widgets/base",
            "top": null,
            "grid_column": null,
            "overflow_y": null,
            "overflow_x": null,
            "grid_auto_flow": null,
            "grid_area": null,
            "grid_template_columns": null,
            "flex": null,
            "_model_name": "LayoutModel",
            "justify_items": null,
            "grid_row": null,
            "max_height": null,
            "align_content": null,
            "visibility": null,
            "align_self": null,
            "height": null,
            "min_height": null,
            "padding": null,
            "grid_auto_rows": null,
            "grid_gap": null,
            "max_width": null,
            "order": null,
            "_view_module_version": "1.2.0",
            "grid_template_areas": null,
            "object_position": null,
            "object_fit": null,
            "grid_auto_columns": null,
            "margin": null,
            "display": null,
            "left": null
          }
        },
        "753bb32d4a8b4af2970f79853ea9b263": {
          "model_module": "@jupyter-widgets/controls",
          "model_name": "FloatProgressModel",
          "state": {
            "_view_name": "ProgressView",
            "style": "IPY_MODEL_4e3416f57ee94a869f636b632177b4c2",
            "_dom_classes": [],
            "description": "loss: 0.0, acc: 0.916:   2%",
            "_model_name": "FloatProgressModel",
            "bar_style": "danger",
            "max": 500,
            "_view_module": "@jupyter-widgets/controls",
            "_model_module_version": "1.5.0",
            "value": 10,
            "_view_count": null,
            "_view_module_version": "1.5.0",
            "orientation": "horizontal",
            "min": 0,
            "description_tooltip": null,
            "_model_module": "@jupyter-widgets/controls",
            "layout": "IPY_MODEL_069dbe8876714ffa915ece244c8f551a"
          }
        },
        "084372da086b4ce09343c631a033a218": {
          "model_module": "@jupyter-widgets/controls",
          "model_name": "HTMLModel",
          "state": {
            "_view_name": "HTMLView",
            "style": "IPY_MODEL_31e30383f82a4a7dba46787465539dfc",
            "_dom_classes": [],
            "description": "",
            "_model_name": "HTMLModel",
            "placeholder": "​",
            "_view_module": "@jupyter-widgets/controls",
            "_model_module_version": "1.5.0",
            "value": " 10/500 [01:18&lt;58:41,  7.19s/it]",
            "_view_count": null,
            "_view_module_version": "1.5.0",
            "description_tooltip": null,
            "_model_module": "@jupyter-widgets/controls",
            "layout": "IPY_MODEL_56019ce08202457c8658b78bcf32e1ce"
          }
        },
        "4e3416f57ee94a869f636b632177b4c2": {
          "model_module": "@jupyter-widgets/controls",
          "model_name": "ProgressStyleModel",
          "state": {
            "_view_name": "StyleView",
            "_model_name": "ProgressStyleModel",
            "description_width": "initial",
            "_view_module": "@jupyter-widgets/base",
            "_model_module_version": "1.5.0",
            "_view_count": null,
            "_view_module_version": "1.2.0",
            "bar_color": null,
            "_model_module": "@jupyter-widgets/controls"
          }
        },
        "069dbe8876714ffa915ece244c8f551a": {
          "model_module": "@jupyter-widgets/base",
          "model_name": "LayoutModel",
          "state": {
            "_view_name": "LayoutView",
            "grid_template_rows": null,
            "right": null,
            "justify_content": null,
            "_view_module": "@jupyter-widgets/base",
            "overflow": null,
            "_model_module_version": "1.2.0",
            "_view_count": null,
            "flex_flow": null,
            "width": null,
            "min_width": null,
            "border": null,
            "align_items": null,
            "bottom": null,
            "_model_module": "@jupyter-widgets/base",
            "top": null,
            "grid_column": null,
            "overflow_y": null,
            "overflow_x": null,
            "grid_auto_flow": null,
            "grid_area": null,
            "grid_template_columns": null,
            "flex": null,
            "_model_name": "LayoutModel",
            "justify_items": null,
            "grid_row": null,
            "max_height": null,
            "align_content": null,
            "visibility": null,
            "align_self": null,
            "height": null,
            "min_height": null,
            "padding": null,
            "grid_auto_rows": null,
            "grid_gap": null,
            "max_width": null,
            "order": null,
            "_view_module_version": "1.2.0",
            "grid_template_areas": null,
            "object_position": null,
            "object_fit": null,
            "grid_auto_columns": null,
            "margin": null,
            "display": null,
            "left": null
          }
        },
        "31e30383f82a4a7dba46787465539dfc": {
          "model_module": "@jupyter-widgets/controls",
          "model_name": "DescriptionStyleModel",
          "state": {
            "_view_name": "StyleView",
            "_model_name": "DescriptionStyleModel",
            "description_width": "",
            "_view_module": "@jupyter-widgets/base",
            "_model_module_version": "1.5.0",
            "_view_count": null,
            "_view_module_version": "1.2.0",
            "_model_module": "@jupyter-widgets/controls"
          }
        },
        "56019ce08202457c8658b78bcf32e1ce": {
          "model_module": "@jupyter-widgets/base",
          "model_name": "LayoutModel",
          "state": {
            "_view_name": "LayoutView",
            "grid_template_rows": null,
            "right": null,
            "justify_content": null,
            "_view_module": "@jupyter-widgets/base",
            "overflow": null,
            "_model_module_version": "1.2.0",
            "_view_count": null,
            "flex_flow": null,
            "width": null,
            "min_width": null,
            "border": null,
            "align_items": null,
            "bottom": null,
            "_model_module": "@jupyter-widgets/base",
            "top": null,
            "grid_column": null,
            "overflow_y": null,
            "overflow_x": null,
            "grid_auto_flow": null,
            "grid_area": null,
            "grid_template_columns": null,
            "flex": null,
            "_model_name": "LayoutModel",
            "justify_items": null,
            "grid_row": null,
            "max_height": null,
            "align_content": null,
            "visibility": null,
            "align_self": null,
            "height": null,
            "min_height": null,
            "padding": null,
            "grid_auto_rows": null,
            "grid_gap": null,
            "max_width": null,
            "order": null,
            "_view_module_version": "1.2.0",
            "grid_template_areas": null,
            "object_position": null,
            "object_fit": null,
            "grid_auto_columns": null,
            "margin": null,
            "display": null,
            "left": null
          }
        },
        "b8587f4bbadf47d8806cf2fa89b02963": {
          "model_module": "@jupyter-widgets/controls",
          "model_name": "HBoxModel",
          "state": {
            "_view_name": "HBoxView",
            "_dom_classes": [],
            "_model_name": "HBoxModel",
            "_view_module": "@jupyter-widgets/controls",
            "_model_module_version": "1.5.0",
            "_view_count": null,
            "_view_module_version": "1.5.0",
            "box_style": "",
            "layout": "IPY_MODEL_6a6f5c04408a4b558ee70c23d865f528",
            "_model_module": "@jupyter-widgets/controls",
            "children": [
              "IPY_MODEL_34b22b17c7ac4e9fa2fef144765cd37d",
              "IPY_MODEL_f471e958fe4e46d283568ebcb764344c"
            ]
          }
        },
        "6a6f5c04408a4b558ee70c23d865f528": {
          "model_module": "@jupyter-widgets/base",
          "model_name": "LayoutModel",
          "state": {
            "_view_name": "LayoutView",
            "grid_template_rows": null,
            "right": null,
            "justify_content": null,
            "_view_module": "@jupyter-widgets/base",
            "overflow": null,
            "_model_module_version": "1.2.0",
            "_view_count": null,
            "flex_flow": null,
            "width": null,
            "min_width": null,
            "border": null,
            "align_items": null,
            "bottom": null,
            "_model_module": "@jupyter-widgets/base",
            "top": null,
            "grid_column": null,
            "overflow_y": null,
            "overflow_x": null,
            "grid_auto_flow": null,
            "grid_area": null,
            "grid_template_columns": null,
            "flex": null,
            "_model_name": "LayoutModel",
            "justify_items": null,
            "grid_row": null,
            "max_height": null,
            "align_content": null,
            "visibility": null,
            "align_self": null,
            "height": null,
            "min_height": null,
            "padding": null,
            "grid_auto_rows": null,
            "grid_gap": null,
            "max_width": null,
            "order": null,
            "_view_module_version": "1.2.0",
            "grid_template_areas": null,
            "object_position": null,
            "object_fit": null,
            "grid_auto_columns": null,
            "margin": null,
            "display": null,
            "left": null
          }
        },
        "34b22b17c7ac4e9fa2fef144765cd37d": {
          "model_module": "@jupyter-widgets/controls",
          "model_name": "FloatProgressModel",
          "state": {
            "_view_name": "ProgressView",
            "style": "IPY_MODEL_16b4caf7c2b344fe8c7b19bc1b7cc52b",
            "_dom_classes": [],
            "description": "loss: 0.0, acc: 0.916:   2%",
            "_model_name": "FloatProgressModel",
            "bar_style": "danger",
            "max": 500,
            "_view_module": "@jupyter-widgets/controls",
            "_model_module_version": "1.5.0",
            "value": 10,
            "_view_count": null,
            "_view_module_version": "1.5.0",
            "orientation": "horizontal",
            "min": 0,
            "description_tooltip": null,
            "_model_module": "@jupyter-widgets/controls",
            "layout": "IPY_MODEL_823b4b74b0534b8f859adf16848c3f15"
          }
        },
        "f471e958fe4e46d283568ebcb764344c": {
          "model_module": "@jupyter-widgets/controls",
          "model_name": "HTMLModel",
          "state": {
            "_view_name": "HTMLView",
            "style": "IPY_MODEL_2bcda07086ba44888f66377c2425dd76",
            "_dom_classes": [],
            "description": "",
            "_model_name": "HTMLModel",
            "placeholder": "​",
            "_view_module": "@jupyter-widgets/controls",
            "_model_module_version": "1.5.0",
            "value": " 10/500 [01:15&lt;56:18,  6.90s/it]",
            "_view_count": null,
            "_view_module_version": "1.5.0",
            "description_tooltip": null,
            "_model_module": "@jupyter-widgets/controls",
            "layout": "IPY_MODEL_37029dc94f8d4ebbb77a93b73b7aa304"
          }
        },
        "16b4caf7c2b344fe8c7b19bc1b7cc52b": {
          "model_module": "@jupyter-widgets/controls",
          "model_name": "ProgressStyleModel",
          "state": {
            "_view_name": "StyleView",
            "_model_name": "ProgressStyleModel",
            "description_width": "initial",
            "_view_module": "@jupyter-widgets/base",
            "_model_module_version": "1.5.0",
            "_view_count": null,
            "_view_module_version": "1.2.0",
            "bar_color": null,
            "_model_module": "@jupyter-widgets/controls"
          }
        },
        "823b4b74b0534b8f859adf16848c3f15": {
          "model_module": "@jupyter-widgets/base",
          "model_name": "LayoutModel",
          "state": {
            "_view_name": "LayoutView",
            "grid_template_rows": null,
            "right": null,
            "justify_content": null,
            "_view_module": "@jupyter-widgets/base",
            "overflow": null,
            "_model_module_version": "1.2.0",
            "_view_count": null,
            "flex_flow": null,
            "width": null,
            "min_width": null,
            "border": null,
            "align_items": null,
            "bottom": null,
            "_model_module": "@jupyter-widgets/base",
            "top": null,
            "grid_column": null,
            "overflow_y": null,
            "overflow_x": null,
            "grid_auto_flow": null,
            "grid_area": null,
            "grid_template_columns": null,
            "flex": null,
            "_model_name": "LayoutModel",
            "justify_items": null,
            "grid_row": null,
            "max_height": null,
            "align_content": null,
            "visibility": null,
            "align_self": null,
            "height": null,
            "min_height": null,
            "padding": null,
            "grid_auto_rows": null,
            "grid_gap": null,
            "max_width": null,
            "order": null,
            "_view_module_version": "1.2.0",
            "grid_template_areas": null,
            "object_position": null,
            "object_fit": null,
            "grid_auto_columns": null,
            "margin": null,
            "display": null,
            "left": null
          }
        },
        "2bcda07086ba44888f66377c2425dd76": {
          "model_module": "@jupyter-widgets/controls",
          "model_name": "DescriptionStyleModel",
          "state": {
            "_view_name": "StyleView",
            "_model_name": "DescriptionStyleModel",
            "description_width": "",
            "_view_module": "@jupyter-widgets/base",
            "_model_module_version": "1.5.0",
            "_view_count": null,
            "_view_module_version": "1.2.0",
            "_model_module": "@jupyter-widgets/controls"
          }
        },
        "37029dc94f8d4ebbb77a93b73b7aa304": {
          "model_module": "@jupyter-widgets/base",
          "model_name": "LayoutModel",
          "state": {
            "_view_name": "LayoutView",
            "grid_template_rows": null,
            "right": null,
            "justify_content": null,
            "_view_module": "@jupyter-widgets/base",
            "overflow": null,
            "_model_module_version": "1.2.0",
            "_view_count": null,
            "flex_flow": null,
            "width": null,
            "min_width": null,
            "border": null,
            "align_items": null,
            "bottom": null,
            "_model_module": "@jupyter-widgets/base",
            "top": null,
            "grid_column": null,
            "overflow_y": null,
            "overflow_x": null,
            "grid_auto_flow": null,
            "grid_area": null,
            "grid_template_columns": null,
            "flex": null,
            "_model_name": "LayoutModel",
            "justify_items": null,
            "grid_row": null,
            "max_height": null,
            "align_content": null,
            "visibility": null,
            "align_self": null,
            "height": null,
            "min_height": null,
            "padding": null,
            "grid_auto_rows": null,
            "grid_gap": null,
            "max_width": null,
            "order": null,
            "_view_module_version": "1.2.0",
            "grid_template_areas": null,
            "object_position": null,
            "object_fit": null,
            "grid_auto_columns": null,
            "margin": null,
            "display": null,
            "left": null
          }
        },
        "194d4b6a83ff4f3fa9b7b468b67c7f15": {
          "model_module": "@jupyter-widgets/controls",
          "model_name": "HBoxModel",
          "state": {
            "_view_name": "HBoxView",
            "_dom_classes": [],
            "_model_name": "HBoxModel",
            "_view_module": "@jupyter-widgets/controls",
            "_model_module_version": "1.5.0",
            "_view_count": null,
            "_view_module_version": "1.5.0",
            "box_style": "",
            "layout": "IPY_MODEL_913eb769ba4b444babb6da5d47df72bd",
            "_model_module": "@jupyter-widgets/controls",
            "children": [
              "IPY_MODEL_8d22edf9cdf24bc08ad69490358f702f",
              "IPY_MODEL_c7bde53a3dd24940a515c7fde7a9ed6a"
            ]
          }
        },
        "913eb769ba4b444babb6da5d47df72bd": {
          "model_module": "@jupyter-widgets/base",
          "model_name": "LayoutModel",
          "state": {
            "_view_name": "LayoutView",
            "grid_template_rows": null,
            "right": null,
            "justify_content": null,
            "_view_module": "@jupyter-widgets/base",
            "overflow": null,
            "_model_module_version": "1.2.0",
            "_view_count": null,
            "flex_flow": null,
            "width": null,
            "min_width": null,
            "border": null,
            "align_items": null,
            "bottom": null,
            "_model_module": "@jupyter-widgets/base",
            "top": null,
            "grid_column": null,
            "overflow_y": null,
            "overflow_x": null,
            "grid_auto_flow": null,
            "grid_area": null,
            "grid_template_columns": null,
            "flex": null,
            "_model_name": "LayoutModel",
            "justify_items": null,
            "grid_row": null,
            "max_height": null,
            "align_content": null,
            "visibility": null,
            "align_self": null,
            "height": null,
            "min_height": null,
            "padding": null,
            "grid_auto_rows": null,
            "grid_gap": null,
            "max_width": null,
            "order": null,
            "_view_module_version": "1.2.0",
            "grid_template_areas": null,
            "object_position": null,
            "object_fit": null,
            "grid_auto_columns": null,
            "margin": null,
            "display": null,
            "left": null
          }
        },
        "8d22edf9cdf24bc08ad69490358f702f": {
          "model_module": "@jupyter-widgets/controls",
          "model_name": "FloatProgressModel",
          "state": {
            "_view_name": "ProgressView",
            "style": "IPY_MODEL_e6d2ea6f871d4ccc9133917380aed27f",
            "_dom_classes": [],
            "description": "loss: 0.0, acc: 0.916:   2%",
            "_model_name": "FloatProgressModel",
            "bar_style": "danger",
            "max": 500,
            "_view_module": "@jupyter-widgets/controls",
            "_model_module_version": "1.5.0",
            "value": 10,
            "_view_count": null,
            "_view_module_version": "1.5.0",
            "orientation": "horizontal",
            "min": 0,
            "description_tooltip": null,
            "_model_module": "@jupyter-widgets/controls",
            "layout": "IPY_MODEL_0f228f37edf34682aa8dc819292f1240"
          }
        },
        "c7bde53a3dd24940a515c7fde7a9ed6a": {
          "model_module": "@jupyter-widgets/controls",
          "model_name": "HTMLModel",
          "state": {
            "_view_name": "HTMLView",
            "style": "IPY_MODEL_4ccf4939c05d4346abea12994604f991",
            "_dom_classes": [],
            "description": "",
            "_model_name": "HTMLModel",
            "placeholder": "​",
            "_view_module": "@jupyter-widgets/controls",
            "_model_module_version": "1.5.0",
            "value": " 10/500 [01:13&lt;54:17,  6.65s/it]",
            "_view_count": null,
            "_view_module_version": "1.5.0",
            "description_tooltip": null,
            "_model_module": "@jupyter-widgets/controls",
            "layout": "IPY_MODEL_b63c88c6b9e240cc8886dc5047533ac8"
          }
        },
        "e6d2ea6f871d4ccc9133917380aed27f": {
          "model_module": "@jupyter-widgets/controls",
          "model_name": "ProgressStyleModel",
          "state": {
            "_view_name": "StyleView",
            "_model_name": "ProgressStyleModel",
            "description_width": "initial",
            "_view_module": "@jupyter-widgets/base",
            "_model_module_version": "1.5.0",
            "_view_count": null,
            "_view_module_version": "1.2.0",
            "bar_color": null,
            "_model_module": "@jupyter-widgets/controls"
          }
        },
        "0f228f37edf34682aa8dc819292f1240": {
          "model_module": "@jupyter-widgets/base",
          "model_name": "LayoutModel",
          "state": {
            "_view_name": "LayoutView",
            "grid_template_rows": null,
            "right": null,
            "justify_content": null,
            "_view_module": "@jupyter-widgets/base",
            "overflow": null,
            "_model_module_version": "1.2.0",
            "_view_count": null,
            "flex_flow": null,
            "width": null,
            "min_width": null,
            "border": null,
            "align_items": null,
            "bottom": null,
            "_model_module": "@jupyter-widgets/base",
            "top": null,
            "grid_column": null,
            "overflow_y": null,
            "overflow_x": null,
            "grid_auto_flow": null,
            "grid_area": null,
            "grid_template_columns": null,
            "flex": null,
            "_model_name": "LayoutModel",
            "justify_items": null,
            "grid_row": null,
            "max_height": null,
            "align_content": null,
            "visibility": null,
            "align_self": null,
            "height": null,
            "min_height": null,
            "padding": null,
            "grid_auto_rows": null,
            "grid_gap": null,
            "max_width": null,
            "order": null,
            "_view_module_version": "1.2.0",
            "grid_template_areas": null,
            "object_position": null,
            "object_fit": null,
            "grid_auto_columns": null,
            "margin": null,
            "display": null,
            "left": null
          }
        },
        "4ccf4939c05d4346abea12994604f991": {
          "model_module": "@jupyter-widgets/controls",
          "model_name": "DescriptionStyleModel",
          "state": {
            "_view_name": "StyleView",
            "_model_name": "DescriptionStyleModel",
            "description_width": "",
            "_view_module": "@jupyter-widgets/base",
            "_model_module_version": "1.5.0",
            "_view_count": null,
            "_view_module_version": "1.2.0",
            "_model_module": "@jupyter-widgets/controls"
          }
        },
        "b63c88c6b9e240cc8886dc5047533ac8": {
          "model_module": "@jupyter-widgets/base",
          "model_name": "LayoutModel",
          "state": {
            "_view_name": "LayoutView",
            "grid_template_rows": null,
            "right": null,
            "justify_content": null,
            "_view_module": "@jupyter-widgets/base",
            "overflow": null,
            "_model_module_version": "1.2.0",
            "_view_count": null,
            "flex_flow": null,
            "width": null,
            "min_width": null,
            "border": null,
            "align_items": null,
            "bottom": null,
            "_model_module": "@jupyter-widgets/base",
            "top": null,
            "grid_column": null,
            "overflow_y": null,
            "overflow_x": null,
            "grid_auto_flow": null,
            "grid_area": null,
            "grid_template_columns": null,
            "flex": null,
            "_model_name": "LayoutModel",
            "justify_items": null,
            "grid_row": null,
            "max_height": null,
            "align_content": null,
            "visibility": null,
            "align_self": null,
            "height": null,
            "min_height": null,
            "padding": null,
            "grid_auto_rows": null,
            "grid_gap": null,
            "max_width": null,
            "order": null,
            "_view_module_version": "1.2.0",
            "grid_template_areas": null,
            "object_position": null,
            "object_fit": null,
            "grid_auto_columns": null,
            "margin": null,
            "display": null,
            "left": null
          }
        },
        "9f960f863f214bb9ba8e25e9acf61b56": {
          "model_module": "@jupyter-widgets/controls",
          "model_name": "HBoxModel",
          "state": {
            "_view_name": "HBoxView",
            "_dom_classes": [],
            "_model_name": "HBoxModel",
            "_view_module": "@jupyter-widgets/controls",
            "_model_module_version": "1.5.0",
            "_view_count": null,
            "_view_module_version": "1.5.0",
            "box_style": "",
            "layout": "IPY_MODEL_77af69e73c9e4ab2a556ab2ed171333e",
            "_model_module": "@jupyter-widgets/controls",
            "children": [
              "IPY_MODEL_f4c68bc110294ccc86036e09c890c7b9",
              "IPY_MODEL_4cd23b6eeeca49e189e39b28cee33d0d"
            ]
          }
        },
        "77af69e73c9e4ab2a556ab2ed171333e": {
          "model_module": "@jupyter-widgets/base",
          "model_name": "LayoutModel",
          "state": {
            "_view_name": "LayoutView",
            "grid_template_rows": null,
            "right": null,
            "justify_content": null,
            "_view_module": "@jupyter-widgets/base",
            "overflow": null,
            "_model_module_version": "1.2.0",
            "_view_count": null,
            "flex_flow": null,
            "width": null,
            "min_width": null,
            "border": null,
            "align_items": null,
            "bottom": null,
            "_model_module": "@jupyter-widgets/base",
            "top": null,
            "grid_column": null,
            "overflow_y": null,
            "overflow_x": null,
            "grid_auto_flow": null,
            "grid_area": null,
            "grid_template_columns": null,
            "flex": null,
            "_model_name": "LayoutModel",
            "justify_items": null,
            "grid_row": null,
            "max_height": null,
            "align_content": null,
            "visibility": null,
            "align_self": null,
            "height": null,
            "min_height": null,
            "padding": null,
            "grid_auto_rows": null,
            "grid_gap": null,
            "max_width": null,
            "order": null,
            "_view_module_version": "1.2.0",
            "grid_template_areas": null,
            "object_position": null,
            "object_fit": null,
            "grid_auto_columns": null,
            "margin": null,
            "display": null,
            "left": null
          }
        },
        "f4c68bc110294ccc86036e09c890c7b9": {
          "model_module": "@jupyter-widgets/controls",
          "model_name": "FloatProgressModel",
          "state": {
            "_view_name": "ProgressView",
            "style": "IPY_MODEL_a90221149f09414ead4c52d37f55b5da",
            "_dom_classes": [],
            "description": "loss: 0.0, acc: 0.916:   2%",
            "_model_name": "FloatProgressModel",
            "bar_style": "danger",
            "max": 500,
            "_view_module": "@jupyter-widgets/controls",
            "_model_module_version": "1.5.0",
            "value": 10,
            "_view_count": null,
            "_view_module_version": "1.5.0",
            "orientation": "horizontal",
            "min": 0,
            "description_tooltip": null,
            "_model_module": "@jupyter-widgets/controls",
            "layout": "IPY_MODEL_1e6958632ba94b10a59cca649cdb1fa9"
          }
        },
        "4cd23b6eeeca49e189e39b28cee33d0d": {
          "model_module": "@jupyter-widgets/controls",
          "model_name": "HTMLModel",
          "state": {
            "_view_name": "HTMLView",
            "style": "IPY_MODEL_3fa16d6b0d53429d9df2b94596d61fee",
            "_dom_classes": [],
            "description": "",
            "_model_name": "HTMLModel",
            "placeholder": "​",
            "_view_module": "@jupyter-widgets/controls",
            "_model_module_version": "1.5.0",
            "value": " 10/500 [01:12&lt;54:40,  6.70s/it]",
            "_view_count": null,
            "_view_module_version": "1.5.0",
            "description_tooltip": null,
            "_model_module": "@jupyter-widgets/controls",
            "layout": "IPY_MODEL_9ce5f4c5049749f78aab92c91fa835a1"
          }
        },
        "a90221149f09414ead4c52d37f55b5da": {
          "model_module": "@jupyter-widgets/controls",
          "model_name": "ProgressStyleModel",
          "state": {
            "_view_name": "StyleView",
            "_model_name": "ProgressStyleModel",
            "description_width": "initial",
            "_view_module": "@jupyter-widgets/base",
            "_model_module_version": "1.5.0",
            "_view_count": null,
            "_view_module_version": "1.2.0",
            "bar_color": null,
            "_model_module": "@jupyter-widgets/controls"
          }
        },
        "1e6958632ba94b10a59cca649cdb1fa9": {
          "model_module": "@jupyter-widgets/base",
          "model_name": "LayoutModel",
          "state": {
            "_view_name": "LayoutView",
            "grid_template_rows": null,
            "right": null,
            "justify_content": null,
            "_view_module": "@jupyter-widgets/base",
            "overflow": null,
            "_model_module_version": "1.2.0",
            "_view_count": null,
            "flex_flow": null,
            "width": null,
            "min_width": null,
            "border": null,
            "align_items": null,
            "bottom": null,
            "_model_module": "@jupyter-widgets/base",
            "top": null,
            "grid_column": null,
            "overflow_y": null,
            "overflow_x": null,
            "grid_auto_flow": null,
            "grid_area": null,
            "grid_template_columns": null,
            "flex": null,
            "_model_name": "LayoutModel",
            "justify_items": null,
            "grid_row": null,
            "max_height": null,
            "align_content": null,
            "visibility": null,
            "align_self": null,
            "height": null,
            "min_height": null,
            "padding": null,
            "grid_auto_rows": null,
            "grid_gap": null,
            "max_width": null,
            "order": null,
            "_view_module_version": "1.2.0",
            "grid_template_areas": null,
            "object_position": null,
            "object_fit": null,
            "grid_auto_columns": null,
            "margin": null,
            "display": null,
            "left": null
          }
        },
        "3fa16d6b0d53429d9df2b94596d61fee": {
          "model_module": "@jupyter-widgets/controls",
          "model_name": "DescriptionStyleModel",
          "state": {
            "_view_name": "StyleView",
            "_model_name": "DescriptionStyleModel",
            "description_width": "",
            "_view_module": "@jupyter-widgets/base",
            "_model_module_version": "1.5.0",
            "_view_count": null,
            "_view_module_version": "1.2.0",
            "_model_module": "@jupyter-widgets/controls"
          }
        },
        "9ce5f4c5049749f78aab92c91fa835a1": {
          "model_module": "@jupyter-widgets/base",
          "model_name": "LayoutModel",
          "state": {
            "_view_name": "LayoutView",
            "grid_template_rows": null,
            "right": null,
            "justify_content": null,
            "_view_module": "@jupyter-widgets/base",
            "overflow": null,
            "_model_module_version": "1.2.0",
            "_view_count": null,
            "flex_flow": null,
            "width": null,
            "min_width": null,
            "border": null,
            "align_items": null,
            "bottom": null,
            "_model_module": "@jupyter-widgets/base",
            "top": null,
            "grid_column": null,
            "overflow_y": null,
            "overflow_x": null,
            "grid_auto_flow": null,
            "grid_area": null,
            "grid_template_columns": null,
            "flex": null,
            "_model_name": "LayoutModel",
            "justify_items": null,
            "grid_row": null,
            "max_height": null,
            "align_content": null,
            "visibility": null,
            "align_self": null,
            "height": null,
            "min_height": null,
            "padding": null,
            "grid_auto_rows": null,
            "grid_gap": null,
            "max_width": null,
            "order": null,
            "_view_module_version": "1.2.0",
            "grid_template_areas": null,
            "object_position": null,
            "object_fit": null,
            "grid_auto_columns": null,
            "margin": null,
            "display": null,
            "left": null
          }
        },
        "69b8db410edc46d5b4ed2e179132a427": {
          "model_module": "@jupyter-widgets/controls",
          "model_name": "HBoxModel",
          "state": {
            "_view_name": "HBoxView",
            "_dom_classes": [],
            "_model_name": "HBoxModel",
            "_view_module": "@jupyter-widgets/controls",
            "_model_module_version": "1.5.0",
            "_view_count": null,
            "_view_module_version": "1.5.0",
            "box_style": "",
            "layout": "IPY_MODEL_c6d22124bd4b4d50a520430f5fc33e69",
            "_model_module": "@jupyter-widgets/controls",
            "children": [
              "IPY_MODEL_e5082cf5c4a5490dbc900675ab5ba0bd",
              "IPY_MODEL_1ccf083603d14363aa351ec98560c641"
            ]
          }
        },
        "c6d22124bd4b4d50a520430f5fc33e69": {
          "model_module": "@jupyter-widgets/base",
          "model_name": "LayoutModel",
          "state": {
            "_view_name": "LayoutView",
            "grid_template_rows": null,
            "right": null,
            "justify_content": null,
            "_view_module": "@jupyter-widgets/base",
            "overflow": null,
            "_model_module_version": "1.2.0",
            "_view_count": null,
            "flex_flow": null,
            "width": null,
            "min_width": null,
            "border": null,
            "align_items": null,
            "bottom": null,
            "_model_module": "@jupyter-widgets/base",
            "top": null,
            "grid_column": null,
            "overflow_y": null,
            "overflow_x": null,
            "grid_auto_flow": null,
            "grid_area": null,
            "grid_template_columns": null,
            "flex": null,
            "_model_name": "LayoutModel",
            "justify_items": null,
            "grid_row": null,
            "max_height": null,
            "align_content": null,
            "visibility": null,
            "align_self": null,
            "height": null,
            "min_height": null,
            "padding": null,
            "grid_auto_rows": null,
            "grid_gap": null,
            "max_width": null,
            "order": null,
            "_view_module_version": "1.2.0",
            "grid_template_areas": null,
            "object_position": null,
            "object_fit": null,
            "grid_auto_columns": null,
            "margin": null,
            "display": null,
            "left": null
          }
        },
        "e5082cf5c4a5490dbc900675ab5ba0bd": {
          "model_module": "@jupyter-widgets/controls",
          "model_name": "FloatProgressModel",
          "state": {
            "_view_name": "ProgressView",
            "style": "IPY_MODEL_20cdb10e17934d3db3a2e48fa9e82ede",
            "_dom_classes": [],
            "description": "loss: 0.0, acc: 0.916:   2%",
            "_model_name": "FloatProgressModel",
            "bar_style": "danger",
            "max": 500,
            "_view_module": "@jupyter-widgets/controls",
            "_model_module_version": "1.5.0",
            "value": 10,
            "_view_count": null,
            "_view_module_version": "1.5.0",
            "orientation": "horizontal",
            "min": 0,
            "description_tooltip": null,
            "_model_module": "@jupyter-widgets/controls",
            "layout": "IPY_MODEL_f8833de3f8694f1a868b22ebb013fabe"
          }
        },
        "1ccf083603d14363aa351ec98560c641": {
          "model_module": "@jupyter-widgets/controls",
          "model_name": "HTMLModel",
          "state": {
            "_view_name": "HTMLView",
            "style": "IPY_MODEL_366f23dffe924502bf7d43580693dcef",
            "_dom_classes": [],
            "description": "",
            "_model_name": "HTMLModel",
            "placeholder": "​",
            "_view_module": "@jupyter-widgets/controls",
            "_model_module_version": "1.5.0",
            "value": " 10/500 [01:13&lt;55:04,  6.74s/it]",
            "_view_count": null,
            "_view_module_version": "1.5.0",
            "description_tooltip": null,
            "_model_module": "@jupyter-widgets/controls",
            "layout": "IPY_MODEL_7b2a24182aa0439181614c42acfe9b94"
          }
        },
        "20cdb10e17934d3db3a2e48fa9e82ede": {
          "model_module": "@jupyter-widgets/controls",
          "model_name": "ProgressStyleModel",
          "state": {
            "_view_name": "StyleView",
            "_model_name": "ProgressStyleModel",
            "description_width": "initial",
            "_view_module": "@jupyter-widgets/base",
            "_model_module_version": "1.5.0",
            "_view_count": null,
            "_view_module_version": "1.2.0",
            "bar_color": null,
            "_model_module": "@jupyter-widgets/controls"
          }
        },
        "f8833de3f8694f1a868b22ebb013fabe": {
          "model_module": "@jupyter-widgets/base",
          "model_name": "LayoutModel",
          "state": {
            "_view_name": "LayoutView",
            "grid_template_rows": null,
            "right": null,
            "justify_content": null,
            "_view_module": "@jupyter-widgets/base",
            "overflow": null,
            "_model_module_version": "1.2.0",
            "_view_count": null,
            "flex_flow": null,
            "width": null,
            "min_width": null,
            "border": null,
            "align_items": null,
            "bottom": null,
            "_model_module": "@jupyter-widgets/base",
            "top": null,
            "grid_column": null,
            "overflow_y": null,
            "overflow_x": null,
            "grid_auto_flow": null,
            "grid_area": null,
            "grid_template_columns": null,
            "flex": null,
            "_model_name": "LayoutModel",
            "justify_items": null,
            "grid_row": null,
            "max_height": null,
            "align_content": null,
            "visibility": null,
            "align_self": null,
            "height": null,
            "min_height": null,
            "padding": null,
            "grid_auto_rows": null,
            "grid_gap": null,
            "max_width": null,
            "order": null,
            "_view_module_version": "1.2.0",
            "grid_template_areas": null,
            "object_position": null,
            "object_fit": null,
            "grid_auto_columns": null,
            "margin": null,
            "display": null,
            "left": null
          }
        },
        "366f23dffe924502bf7d43580693dcef": {
          "model_module": "@jupyter-widgets/controls",
          "model_name": "DescriptionStyleModel",
          "state": {
            "_view_name": "StyleView",
            "_model_name": "DescriptionStyleModel",
            "description_width": "",
            "_view_module": "@jupyter-widgets/base",
            "_model_module_version": "1.5.0",
            "_view_count": null,
            "_view_module_version": "1.2.0",
            "_model_module": "@jupyter-widgets/controls"
          }
        },
        "7b2a24182aa0439181614c42acfe9b94": {
          "model_module": "@jupyter-widgets/base",
          "model_name": "LayoutModel",
          "state": {
            "_view_name": "LayoutView",
            "grid_template_rows": null,
            "right": null,
            "justify_content": null,
            "_view_module": "@jupyter-widgets/base",
            "overflow": null,
            "_model_module_version": "1.2.0",
            "_view_count": null,
            "flex_flow": null,
            "width": null,
            "min_width": null,
            "border": null,
            "align_items": null,
            "bottom": null,
            "_model_module": "@jupyter-widgets/base",
            "top": null,
            "grid_column": null,
            "overflow_y": null,
            "overflow_x": null,
            "grid_auto_flow": null,
            "grid_area": null,
            "grid_template_columns": null,
            "flex": null,
            "_model_name": "LayoutModel",
            "justify_items": null,
            "grid_row": null,
            "max_height": null,
            "align_content": null,
            "visibility": null,
            "align_self": null,
            "height": null,
            "min_height": null,
            "padding": null,
            "grid_auto_rows": null,
            "grid_gap": null,
            "max_width": null,
            "order": null,
            "_view_module_version": "1.2.0",
            "grid_template_areas": null,
            "object_position": null,
            "object_fit": null,
            "grid_auto_columns": null,
            "margin": null,
            "display": null,
            "left": null
          }
        },
        "eec87fa22b904e618f43bc6aa56f7f38": {
          "model_module": "@jupyter-widgets/controls",
          "model_name": "HBoxModel",
          "state": {
            "_view_name": "HBoxView",
            "_dom_classes": [],
            "_model_name": "HBoxModel",
            "_view_module": "@jupyter-widgets/controls",
            "_model_module_version": "1.5.0",
            "_view_count": null,
            "_view_module_version": "1.5.0",
            "box_style": "",
            "layout": "IPY_MODEL_8e5e4e88bf0a40d09ea800e122611981",
            "_model_module": "@jupyter-widgets/controls",
            "children": [
              "IPY_MODEL_5836cf476d424767850b61aa207a8559",
              "IPY_MODEL_0d2a3b3147204b5189779959f5c745b8"
            ]
          }
        },
        "8e5e4e88bf0a40d09ea800e122611981": {
          "model_module": "@jupyter-widgets/base",
          "model_name": "LayoutModel",
          "state": {
            "_view_name": "LayoutView",
            "grid_template_rows": null,
            "right": null,
            "justify_content": null,
            "_view_module": "@jupyter-widgets/base",
            "overflow": null,
            "_model_module_version": "1.2.0",
            "_view_count": null,
            "flex_flow": null,
            "width": null,
            "min_width": null,
            "border": null,
            "align_items": null,
            "bottom": null,
            "_model_module": "@jupyter-widgets/base",
            "top": null,
            "grid_column": null,
            "overflow_y": null,
            "overflow_x": null,
            "grid_auto_flow": null,
            "grid_area": null,
            "grid_template_columns": null,
            "flex": null,
            "_model_name": "LayoutModel",
            "justify_items": null,
            "grid_row": null,
            "max_height": null,
            "align_content": null,
            "visibility": null,
            "align_self": null,
            "height": null,
            "min_height": null,
            "padding": null,
            "grid_auto_rows": null,
            "grid_gap": null,
            "max_width": null,
            "order": null,
            "_view_module_version": "1.2.0",
            "grid_template_areas": null,
            "object_position": null,
            "object_fit": null,
            "grid_auto_columns": null,
            "margin": null,
            "display": null,
            "left": null
          }
        },
        "5836cf476d424767850b61aa207a8559": {
          "model_module": "@jupyter-widgets/controls",
          "model_name": "FloatProgressModel",
          "state": {
            "_view_name": "ProgressView",
            "style": "IPY_MODEL_768d99c8bcef4b84a50bcf5dc40768d2",
            "_dom_classes": [],
            "description": "loss: 0.0, acc: 0.916:   2%",
            "_model_name": "FloatProgressModel",
            "bar_style": "danger",
            "max": 500,
            "_view_module": "@jupyter-widgets/controls",
            "_model_module_version": "1.5.0",
            "value": 10,
            "_view_count": null,
            "_view_module_version": "1.5.0",
            "orientation": "horizontal",
            "min": 0,
            "description_tooltip": null,
            "_model_module": "@jupyter-widgets/controls",
            "layout": "IPY_MODEL_bccd72078f9e492c840ed9f68351f613"
          }
        },
        "0d2a3b3147204b5189779959f5c745b8": {
          "model_module": "@jupyter-widgets/controls",
          "model_name": "HTMLModel",
          "state": {
            "_view_name": "HTMLView",
            "style": "IPY_MODEL_274bc4f5b18046ccb5738fc16682ca87",
            "_dom_classes": [],
            "description": "",
            "_model_name": "HTMLModel",
            "placeholder": "​",
            "_view_module": "@jupyter-widgets/controls",
            "_model_module_version": "1.5.0",
            "value": " 10/500 [01:13&lt;54:26,  6.67s/it]",
            "_view_count": null,
            "_view_module_version": "1.5.0",
            "description_tooltip": null,
            "_model_module": "@jupyter-widgets/controls",
            "layout": "IPY_MODEL_cf36b6ae644846bfb6f8c4526baa4282"
          }
        },
        "768d99c8bcef4b84a50bcf5dc40768d2": {
          "model_module": "@jupyter-widgets/controls",
          "model_name": "ProgressStyleModel",
          "state": {
            "_view_name": "StyleView",
            "_model_name": "ProgressStyleModel",
            "description_width": "initial",
            "_view_module": "@jupyter-widgets/base",
            "_model_module_version": "1.5.0",
            "_view_count": null,
            "_view_module_version": "1.2.0",
            "bar_color": null,
            "_model_module": "@jupyter-widgets/controls"
          }
        },
        "bccd72078f9e492c840ed9f68351f613": {
          "model_module": "@jupyter-widgets/base",
          "model_name": "LayoutModel",
          "state": {
            "_view_name": "LayoutView",
            "grid_template_rows": null,
            "right": null,
            "justify_content": null,
            "_view_module": "@jupyter-widgets/base",
            "overflow": null,
            "_model_module_version": "1.2.0",
            "_view_count": null,
            "flex_flow": null,
            "width": null,
            "min_width": null,
            "border": null,
            "align_items": null,
            "bottom": null,
            "_model_module": "@jupyter-widgets/base",
            "top": null,
            "grid_column": null,
            "overflow_y": null,
            "overflow_x": null,
            "grid_auto_flow": null,
            "grid_area": null,
            "grid_template_columns": null,
            "flex": null,
            "_model_name": "LayoutModel",
            "justify_items": null,
            "grid_row": null,
            "max_height": null,
            "align_content": null,
            "visibility": null,
            "align_self": null,
            "height": null,
            "min_height": null,
            "padding": null,
            "grid_auto_rows": null,
            "grid_gap": null,
            "max_width": null,
            "order": null,
            "_view_module_version": "1.2.0",
            "grid_template_areas": null,
            "object_position": null,
            "object_fit": null,
            "grid_auto_columns": null,
            "margin": null,
            "display": null,
            "left": null
          }
        },
        "274bc4f5b18046ccb5738fc16682ca87": {
          "model_module": "@jupyter-widgets/controls",
          "model_name": "DescriptionStyleModel",
          "state": {
            "_view_name": "StyleView",
            "_model_name": "DescriptionStyleModel",
            "description_width": "",
            "_view_module": "@jupyter-widgets/base",
            "_model_module_version": "1.5.0",
            "_view_count": null,
            "_view_module_version": "1.2.0",
            "_model_module": "@jupyter-widgets/controls"
          }
        },
        "cf36b6ae644846bfb6f8c4526baa4282": {
          "model_module": "@jupyter-widgets/base",
          "model_name": "LayoutModel",
          "state": {
            "_view_name": "LayoutView",
            "grid_template_rows": null,
            "right": null,
            "justify_content": null,
            "_view_module": "@jupyter-widgets/base",
            "overflow": null,
            "_model_module_version": "1.2.0",
            "_view_count": null,
            "flex_flow": null,
            "width": null,
            "min_width": null,
            "border": null,
            "align_items": null,
            "bottom": null,
            "_model_module": "@jupyter-widgets/base",
            "top": null,
            "grid_column": null,
            "overflow_y": null,
            "overflow_x": null,
            "grid_auto_flow": null,
            "grid_area": null,
            "grid_template_columns": null,
            "flex": null,
            "_model_name": "LayoutModel",
            "justify_items": null,
            "grid_row": null,
            "max_height": null,
            "align_content": null,
            "visibility": null,
            "align_self": null,
            "height": null,
            "min_height": null,
            "padding": null,
            "grid_auto_rows": null,
            "grid_gap": null,
            "max_width": null,
            "order": null,
            "_view_module_version": "1.2.0",
            "grid_template_areas": null,
            "object_position": null,
            "object_fit": null,
            "grid_auto_columns": null,
            "margin": null,
            "display": null,
            "left": null
          }
        },
        "1ff33987efb5425a9ef7172d791bd8be": {
          "model_module": "@jupyter-widgets/controls",
          "model_name": "HBoxModel",
          "state": {
            "_view_name": "HBoxView",
            "_dom_classes": [],
            "_model_name": "HBoxModel",
            "_view_module": "@jupyter-widgets/controls",
            "_model_module_version": "1.5.0",
            "_view_count": null,
            "_view_module_version": "1.5.0",
            "box_style": "",
            "layout": "IPY_MODEL_6460858e8ff04c2e9f0b4c2e07a0888a",
            "_model_module": "@jupyter-widgets/controls",
            "children": [
              "IPY_MODEL_4f101033601340759857117473380f95",
              "IPY_MODEL_ffa3055f4fc94b61992e5e27c8c3239e"
            ]
          }
        },
        "6460858e8ff04c2e9f0b4c2e07a0888a": {
          "model_module": "@jupyter-widgets/base",
          "model_name": "LayoutModel",
          "state": {
            "_view_name": "LayoutView",
            "grid_template_rows": null,
            "right": null,
            "justify_content": null,
            "_view_module": "@jupyter-widgets/base",
            "overflow": null,
            "_model_module_version": "1.2.0",
            "_view_count": null,
            "flex_flow": null,
            "width": null,
            "min_width": null,
            "border": null,
            "align_items": null,
            "bottom": null,
            "_model_module": "@jupyter-widgets/base",
            "top": null,
            "grid_column": null,
            "overflow_y": null,
            "overflow_x": null,
            "grid_auto_flow": null,
            "grid_area": null,
            "grid_template_columns": null,
            "flex": null,
            "_model_name": "LayoutModel",
            "justify_items": null,
            "grid_row": null,
            "max_height": null,
            "align_content": null,
            "visibility": null,
            "align_self": null,
            "height": null,
            "min_height": null,
            "padding": null,
            "grid_auto_rows": null,
            "grid_gap": null,
            "max_width": null,
            "order": null,
            "_view_module_version": "1.2.0",
            "grid_template_areas": null,
            "object_position": null,
            "object_fit": null,
            "grid_auto_columns": null,
            "margin": null,
            "display": null,
            "left": null
          }
        },
        "4f101033601340759857117473380f95": {
          "model_module": "@jupyter-widgets/controls",
          "model_name": "FloatProgressModel",
          "state": {
            "_view_name": "ProgressView",
            "style": "IPY_MODEL_2b60f95f23d6429ab6c08aba7f0c209a",
            "_dom_classes": [],
            "description": "loss: 0.0, acc: 0.916:   2%",
            "_model_name": "FloatProgressModel",
            "bar_style": "danger",
            "max": 500,
            "_view_module": "@jupyter-widgets/controls",
            "_model_module_version": "1.5.0",
            "value": 10,
            "_view_count": null,
            "_view_module_version": "1.5.0",
            "orientation": "horizontal",
            "min": 0,
            "description_tooltip": null,
            "_model_module": "@jupyter-widgets/controls",
            "layout": "IPY_MODEL_e46b7e46da5b43518d668d5edb4898fe"
          }
        },
        "ffa3055f4fc94b61992e5e27c8c3239e": {
          "model_module": "@jupyter-widgets/controls",
          "model_name": "HTMLModel",
          "state": {
            "_view_name": "HTMLView",
            "style": "IPY_MODEL_bd21b24deb834dde8210b29b24c225b0",
            "_dom_classes": [],
            "description": "",
            "_model_name": "HTMLModel",
            "placeholder": "​",
            "_view_module": "@jupyter-widgets/controls",
            "_model_module_version": "1.5.0",
            "value": " 10/500 [01:13&lt;54:11,  6.64s/it]",
            "_view_count": null,
            "_view_module_version": "1.5.0",
            "description_tooltip": null,
            "_model_module": "@jupyter-widgets/controls",
            "layout": "IPY_MODEL_0c44851a62534e599026fffd72d5ecc6"
          }
        },
        "2b60f95f23d6429ab6c08aba7f0c209a": {
          "model_module": "@jupyter-widgets/controls",
          "model_name": "ProgressStyleModel",
          "state": {
            "_view_name": "StyleView",
            "_model_name": "ProgressStyleModel",
            "description_width": "initial",
            "_view_module": "@jupyter-widgets/base",
            "_model_module_version": "1.5.0",
            "_view_count": null,
            "_view_module_version": "1.2.0",
            "bar_color": null,
            "_model_module": "@jupyter-widgets/controls"
          }
        },
        "e46b7e46da5b43518d668d5edb4898fe": {
          "model_module": "@jupyter-widgets/base",
          "model_name": "LayoutModel",
          "state": {
            "_view_name": "LayoutView",
            "grid_template_rows": null,
            "right": null,
            "justify_content": null,
            "_view_module": "@jupyter-widgets/base",
            "overflow": null,
            "_model_module_version": "1.2.0",
            "_view_count": null,
            "flex_flow": null,
            "width": null,
            "min_width": null,
            "border": null,
            "align_items": null,
            "bottom": null,
            "_model_module": "@jupyter-widgets/base",
            "top": null,
            "grid_column": null,
            "overflow_y": null,
            "overflow_x": null,
            "grid_auto_flow": null,
            "grid_area": null,
            "grid_template_columns": null,
            "flex": null,
            "_model_name": "LayoutModel",
            "justify_items": null,
            "grid_row": null,
            "max_height": null,
            "align_content": null,
            "visibility": null,
            "align_self": null,
            "height": null,
            "min_height": null,
            "padding": null,
            "grid_auto_rows": null,
            "grid_gap": null,
            "max_width": null,
            "order": null,
            "_view_module_version": "1.2.0",
            "grid_template_areas": null,
            "object_position": null,
            "object_fit": null,
            "grid_auto_columns": null,
            "margin": null,
            "display": null,
            "left": null
          }
        },
        "bd21b24deb834dde8210b29b24c225b0": {
          "model_module": "@jupyter-widgets/controls",
          "model_name": "DescriptionStyleModel",
          "state": {
            "_view_name": "StyleView",
            "_model_name": "DescriptionStyleModel",
            "description_width": "",
            "_view_module": "@jupyter-widgets/base",
            "_model_module_version": "1.5.0",
            "_view_count": null,
            "_view_module_version": "1.2.0",
            "_model_module": "@jupyter-widgets/controls"
          }
        },
        "0c44851a62534e599026fffd72d5ecc6": {
          "model_module": "@jupyter-widgets/base",
          "model_name": "LayoutModel",
          "state": {
            "_view_name": "LayoutView",
            "grid_template_rows": null,
            "right": null,
            "justify_content": null,
            "_view_module": "@jupyter-widgets/base",
            "overflow": null,
            "_model_module_version": "1.2.0",
            "_view_count": null,
            "flex_flow": null,
            "width": null,
            "min_width": null,
            "border": null,
            "align_items": null,
            "bottom": null,
            "_model_module": "@jupyter-widgets/base",
            "top": null,
            "grid_column": null,
            "overflow_y": null,
            "overflow_x": null,
            "grid_auto_flow": null,
            "grid_area": null,
            "grid_template_columns": null,
            "flex": null,
            "_model_name": "LayoutModel",
            "justify_items": null,
            "grid_row": null,
            "max_height": null,
            "align_content": null,
            "visibility": null,
            "align_self": null,
            "height": null,
            "min_height": null,
            "padding": null,
            "grid_auto_rows": null,
            "grid_gap": null,
            "max_width": null,
            "order": null,
            "_view_module_version": "1.2.0",
            "grid_template_areas": null,
            "object_position": null,
            "object_fit": null,
            "grid_auto_columns": null,
            "margin": null,
            "display": null,
            "left": null
          }
        },
        "a32620db69204ec299c2ad4fd67fc191": {
          "model_module": "@jupyter-widgets/controls",
          "model_name": "HBoxModel",
          "state": {
            "_view_name": "HBoxView",
            "_dom_classes": [],
            "_model_name": "HBoxModel",
            "_view_module": "@jupyter-widgets/controls",
            "_model_module_version": "1.5.0",
            "_view_count": null,
            "_view_module_version": "1.5.0",
            "box_style": "",
            "layout": "IPY_MODEL_07374833836b4fd88f59fa0ebb1fb7fd",
            "_model_module": "@jupyter-widgets/controls",
            "children": [
              "IPY_MODEL_8de76201b9384241ab45588342c5f3ca",
              "IPY_MODEL_5d532c9b2aa043feb0aa8d317aeb8095"
            ]
          }
        },
        "07374833836b4fd88f59fa0ebb1fb7fd": {
          "model_module": "@jupyter-widgets/base",
          "model_name": "LayoutModel",
          "state": {
            "_view_name": "LayoutView",
            "grid_template_rows": null,
            "right": null,
            "justify_content": null,
            "_view_module": "@jupyter-widgets/base",
            "overflow": null,
            "_model_module_version": "1.2.0",
            "_view_count": null,
            "flex_flow": null,
            "width": null,
            "min_width": null,
            "border": null,
            "align_items": null,
            "bottom": null,
            "_model_module": "@jupyter-widgets/base",
            "top": null,
            "grid_column": null,
            "overflow_y": null,
            "overflow_x": null,
            "grid_auto_flow": null,
            "grid_area": null,
            "grid_template_columns": null,
            "flex": null,
            "_model_name": "LayoutModel",
            "justify_items": null,
            "grid_row": null,
            "max_height": null,
            "align_content": null,
            "visibility": null,
            "align_self": null,
            "height": null,
            "min_height": null,
            "padding": null,
            "grid_auto_rows": null,
            "grid_gap": null,
            "max_width": null,
            "order": null,
            "_view_module_version": "1.2.0",
            "grid_template_areas": null,
            "object_position": null,
            "object_fit": null,
            "grid_auto_columns": null,
            "margin": null,
            "display": null,
            "left": null
          }
        },
        "8de76201b9384241ab45588342c5f3ca": {
          "model_module": "@jupyter-widgets/controls",
          "model_name": "FloatProgressModel",
          "state": {
            "_view_name": "ProgressView",
            "style": "IPY_MODEL_99ea71e064f54fe9b4eb80d3586b91b1",
            "_dom_classes": [],
            "description": "loss: 0.0, acc: 0.916:   2%",
            "_model_name": "FloatProgressModel",
            "bar_style": "danger",
            "max": 500,
            "_view_module": "@jupyter-widgets/controls",
            "_model_module_version": "1.5.0",
            "value": 10,
            "_view_count": null,
            "_view_module_version": "1.5.0",
            "orientation": "horizontal",
            "min": 0,
            "description_tooltip": null,
            "_model_module": "@jupyter-widgets/controls",
            "layout": "IPY_MODEL_26ad3b22f1bf4d1d9d650b8649c343bf"
          }
        },
        "5d532c9b2aa043feb0aa8d317aeb8095": {
          "model_module": "@jupyter-widgets/controls",
          "model_name": "HTMLModel",
          "state": {
            "_view_name": "HTMLView",
            "style": "IPY_MODEL_0bba103cae7c4c848667cc63db66a8f2",
            "_dom_classes": [],
            "description": "",
            "_model_name": "HTMLModel",
            "placeholder": "​",
            "_view_module": "@jupyter-widgets/controls",
            "_model_module_version": "1.5.0",
            "value": " 10/500 [01:13&lt;54:27,  6.67s/it]",
            "_view_count": null,
            "_view_module_version": "1.5.0",
            "description_tooltip": null,
            "_model_module": "@jupyter-widgets/controls",
            "layout": "IPY_MODEL_88499153348f4d26aa51489704b74cca"
          }
        },
        "99ea71e064f54fe9b4eb80d3586b91b1": {
          "model_module": "@jupyter-widgets/controls",
          "model_name": "ProgressStyleModel",
          "state": {
            "_view_name": "StyleView",
            "_model_name": "ProgressStyleModel",
            "description_width": "initial",
            "_view_module": "@jupyter-widgets/base",
            "_model_module_version": "1.5.0",
            "_view_count": null,
            "_view_module_version": "1.2.0",
            "bar_color": null,
            "_model_module": "@jupyter-widgets/controls"
          }
        },
        "26ad3b22f1bf4d1d9d650b8649c343bf": {
          "model_module": "@jupyter-widgets/base",
          "model_name": "LayoutModel",
          "state": {
            "_view_name": "LayoutView",
            "grid_template_rows": null,
            "right": null,
            "justify_content": null,
            "_view_module": "@jupyter-widgets/base",
            "overflow": null,
            "_model_module_version": "1.2.0",
            "_view_count": null,
            "flex_flow": null,
            "width": null,
            "min_width": null,
            "border": null,
            "align_items": null,
            "bottom": null,
            "_model_module": "@jupyter-widgets/base",
            "top": null,
            "grid_column": null,
            "overflow_y": null,
            "overflow_x": null,
            "grid_auto_flow": null,
            "grid_area": null,
            "grid_template_columns": null,
            "flex": null,
            "_model_name": "LayoutModel",
            "justify_items": null,
            "grid_row": null,
            "max_height": null,
            "align_content": null,
            "visibility": null,
            "align_self": null,
            "height": null,
            "min_height": null,
            "padding": null,
            "grid_auto_rows": null,
            "grid_gap": null,
            "max_width": null,
            "order": null,
            "_view_module_version": "1.2.0",
            "grid_template_areas": null,
            "object_position": null,
            "object_fit": null,
            "grid_auto_columns": null,
            "margin": null,
            "display": null,
            "left": null
          }
        },
        "0bba103cae7c4c848667cc63db66a8f2": {
          "model_module": "@jupyter-widgets/controls",
          "model_name": "DescriptionStyleModel",
          "state": {
            "_view_name": "StyleView",
            "_model_name": "DescriptionStyleModel",
            "description_width": "",
            "_view_module": "@jupyter-widgets/base",
            "_model_module_version": "1.5.0",
            "_view_count": null,
            "_view_module_version": "1.2.0",
            "_model_module": "@jupyter-widgets/controls"
          }
        },
        "88499153348f4d26aa51489704b74cca": {
          "model_module": "@jupyter-widgets/base",
          "model_name": "LayoutModel",
          "state": {
            "_view_name": "LayoutView",
            "grid_template_rows": null,
            "right": null,
            "justify_content": null,
            "_view_module": "@jupyter-widgets/base",
            "overflow": null,
            "_model_module_version": "1.2.0",
            "_view_count": null,
            "flex_flow": null,
            "width": null,
            "min_width": null,
            "border": null,
            "align_items": null,
            "bottom": null,
            "_model_module": "@jupyter-widgets/base",
            "top": null,
            "grid_column": null,
            "overflow_y": null,
            "overflow_x": null,
            "grid_auto_flow": null,
            "grid_area": null,
            "grid_template_columns": null,
            "flex": null,
            "_model_name": "LayoutModel",
            "justify_items": null,
            "grid_row": null,
            "max_height": null,
            "align_content": null,
            "visibility": null,
            "align_self": null,
            "height": null,
            "min_height": null,
            "padding": null,
            "grid_auto_rows": null,
            "grid_gap": null,
            "max_width": null,
            "order": null,
            "_view_module_version": "1.2.0",
            "grid_template_areas": null,
            "object_position": null,
            "object_fit": null,
            "grid_auto_columns": null,
            "margin": null,
            "display": null,
            "left": null
          }
        },
        "5df67c270a9a4b87bca0782ed397c3ca": {
          "model_module": "@jupyter-widgets/controls",
          "model_name": "HBoxModel",
          "state": {
            "_view_name": "HBoxView",
            "_dom_classes": [],
            "_model_name": "HBoxModel",
            "_view_module": "@jupyter-widgets/controls",
            "_model_module_version": "1.5.0",
            "_view_count": null,
            "_view_module_version": "1.5.0",
            "box_style": "",
            "layout": "IPY_MODEL_857b0821d8e9450d97d454d89aad7229",
            "_model_module": "@jupyter-widgets/controls",
            "children": [
              "IPY_MODEL_1f2236b398844a7fbd6156ac95504dbf",
              "IPY_MODEL_f124964b37424196a55214212c557146"
            ]
          }
        },
        "857b0821d8e9450d97d454d89aad7229": {
          "model_module": "@jupyter-widgets/base",
          "model_name": "LayoutModel",
          "state": {
            "_view_name": "LayoutView",
            "grid_template_rows": null,
            "right": null,
            "justify_content": null,
            "_view_module": "@jupyter-widgets/base",
            "overflow": null,
            "_model_module_version": "1.2.0",
            "_view_count": null,
            "flex_flow": null,
            "width": null,
            "min_width": null,
            "border": null,
            "align_items": null,
            "bottom": null,
            "_model_module": "@jupyter-widgets/base",
            "top": null,
            "grid_column": null,
            "overflow_y": null,
            "overflow_x": null,
            "grid_auto_flow": null,
            "grid_area": null,
            "grid_template_columns": null,
            "flex": null,
            "_model_name": "LayoutModel",
            "justify_items": null,
            "grid_row": null,
            "max_height": null,
            "align_content": null,
            "visibility": null,
            "align_self": null,
            "height": null,
            "min_height": null,
            "padding": null,
            "grid_auto_rows": null,
            "grid_gap": null,
            "max_width": null,
            "order": null,
            "_view_module_version": "1.2.0",
            "grid_template_areas": null,
            "object_position": null,
            "object_fit": null,
            "grid_auto_columns": null,
            "margin": null,
            "display": null,
            "left": null
          }
        },
        "1f2236b398844a7fbd6156ac95504dbf": {
          "model_module": "@jupyter-widgets/controls",
          "model_name": "FloatProgressModel",
          "state": {
            "_view_name": "ProgressView",
            "style": "IPY_MODEL_d58b3d36477e418dadfca2bfad50ac60",
            "_dom_classes": [],
            "description": "loss: 0.0, acc: 0.916:   2%",
            "_model_name": "FloatProgressModel",
            "bar_style": "danger",
            "max": 500,
            "_view_module": "@jupyter-widgets/controls",
            "_model_module_version": "1.5.0",
            "value": 10,
            "_view_count": null,
            "_view_module_version": "1.5.0",
            "orientation": "horizontal",
            "min": 0,
            "description_tooltip": null,
            "_model_module": "@jupyter-widgets/controls",
            "layout": "IPY_MODEL_562b73f011dd46b49994bd58f9bb883b"
          }
        },
        "f124964b37424196a55214212c557146": {
          "model_module": "@jupyter-widgets/controls",
          "model_name": "HTMLModel",
          "state": {
            "_view_name": "HTMLView",
            "style": "IPY_MODEL_4e9a44fed6824425bba62c5dc8b49ea6",
            "_dom_classes": [],
            "description": "",
            "_model_name": "HTMLModel",
            "placeholder": "​",
            "_view_module": "@jupyter-widgets/controls",
            "_model_module_version": "1.5.0",
            "value": " 10/500 [01:14&lt;55:55,  6.85s/it]",
            "_view_count": null,
            "_view_module_version": "1.5.0",
            "description_tooltip": null,
            "_model_module": "@jupyter-widgets/controls",
            "layout": "IPY_MODEL_ef643e67489641eeb1df83c65caa04c5"
          }
        },
        "d58b3d36477e418dadfca2bfad50ac60": {
          "model_module": "@jupyter-widgets/controls",
          "model_name": "ProgressStyleModel",
          "state": {
            "_view_name": "StyleView",
            "_model_name": "ProgressStyleModel",
            "description_width": "initial",
            "_view_module": "@jupyter-widgets/base",
            "_model_module_version": "1.5.0",
            "_view_count": null,
            "_view_module_version": "1.2.0",
            "bar_color": null,
            "_model_module": "@jupyter-widgets/controls"
          }
        },
        "562b73f011dd46b49994bd58f9bb883b": {
          "model_module": "@jupyter-widgets/base",
          "model_name": "LayoutModel",
          "state": {
            "_view_name": "LayoutView",
            "grid_template_rows": null,
            "right": null,
            "justify_content": null,
            "_view_module": "@jupyter-widgets/base",
            "overflow": null,
            "_model_module_version": "1.2.0",
            "_view_count": null,
            "flex_flow": null,
            "width": null,
            "min_width": null,
            "border": null,
            "align_items": null,
            "bottom": null,
            "_model_module": "@jupyter-widgets/base",
            "top": null,
            "grid_column": null,
            "overflow_y": null,
            "overflow_x": null,
            "grid_auto_flow": null,
            "grid_area": null,
            "grid_template_columns": null,
            "flex": null,
            "_model_name": "LayoutModel",
            "justify_items": null,
            "grid_row": null,
            "max_height": null,
            "align_content": null,
            "visibility": null,
            "align_self": null,
            "height": null,
            "min_height": null,
            "padding": null,
            "grid_auto_rows": null,
            "grid_gap": null,
            "max_width": null,
            "order": null,
            "_view_module_version": "1.2.0",
            "grid_template_areas": null,
            "object_position": null,
            "object_fit": null,
            "grid_auto_columns": null,
            "margin": null,
            "display": null,
            "left": null
          }
        },
        "4e9a44fed6824425bba62c5dc8b49ea6": {
          "model_module": "@jupyter-widgets/controls",
          "model_name": "DescriptionStyleModel",
          "state": {
            "_view_name": "StyleView",
            "_model_name": "DescriptionStyleModel",
            "description_width": "",
            "_view_module": "@jupyter-widgets/base",
            "_model_module_version": "1.5.0",
            "_view_count": null,
            "_view_module_version": "1.2.0",
            "_model_module": "@jupyter-widgets/controls"
          }
        },
        "ef643e67489641eeb1df83c65caa04c5": {
          "model_module": "@jupyter-widgets/base",
          "model_name": "LayoutModel",
          "state": {
            "_view_name": "LayoutView",
            "grid_template_rows": null,
            "right": null,
            "justify_content": null,
            "_view_module": "@jupyter-widgets/base",
            "overflow": null,
            "_model_module_version": "1.2.0",
            "_view_count": null,
            "flex_flow": null,
            "width": null,
            "min_width": null,
            "border": null,
            "align_items": null,
            "bottom": null,
            "_model_module": "@jupyter-widgets/base",
            "top": null,
            "grid_column": null,
            "overflow_y": null,
            "overflow_x": null,
            "grid_auto_flow": null,
            "grid_area": null,
            "grid_template_columns": null,
            "flex": null,
            "_model_name": "LayoutModel",
            "justify_items": null,
            "grid_row": null,
            "max_height": null,
            "align_content": null,
            "visibility": null,
            "align_self": null,
            "height": null,
            "min_height": null,
            "padding": null,
            "grid_auto_rows": null,
            "grid_gap": null,
            "max_width": null,
            "order": null,
            "_view_module_version": "1.2.0",
            "grid_template_areas": null,
            "object_position": null,
            "object_fit": null,
            "grid_auto_columns": null,
            "margin": null,
            "display": null,
            "left": null
          }
        },
        "9d8f30a2aa344c85bb36e4d1515b431a": {
          "model_module": "@jupyter-widgets/controls",
          "model_name": "HBoxModel",
          "state": {
            "_view_name": "HBoxView",
            "_dom_classes": [],
            "_model_name": "HBoxModel",
            "_view_module": "@jupyter-widgets/controls",
            "_model_module_version": "1.5.0",
            "_view_count": null,
            "_view_module_version": "1.5.0",
            "box_style": "",
            "layout": "IPY_MODEL_f2848f8738be4ec6881f0f52af74f044",
            "_model_module": "@jupyter-widgets/controls",
            "children": [
              "IPY_MODEL_8e6bea07fce6474a81edfb4f0c93a081",
              "IPY_MODEL_cdaa3f107b174b7ab4cc17566dc3c65a"
            ]
          }
        },
        "f2848f8738be4ec6881f0f52af74f044": {
          "model_module": "@jupyter-widgets/base",
          "model_name": "LayoutModel",
          "state": {
            "_view_name": "LayoutView",
            "grid_template_rows": null,
            "right": null,
            "justify_content": null,
            "_view_module": "@jupyter-widgets/base",
            "overflow": null,
            "_model_module_version": "1.2.0",
            "_view_count": null,
            "flex_flow": null,
            "width": null,
            "min_width": null,
            "border": null,
            "align_items": null,
            "bottom": null,
            "_model_module": "@jupyter-widgets/base",
            "top": null,
            "grid_column": null,
            "overflow_y": null,
            "overflow_x": null,
            "grid_auto_flow": null,
            "grid_area": null,
            "grid_template_columns": null,
            "flex": null,
            "_model_name": "LayoutModel",
            "justify_items": null,
            "grid_row": null,
            "max_height": null,
            "align_content": null,
            "visibility": null,
            "align_self": null,
            "height": null,
            "min_height": null,
            "padding": null,
            "grid_auto_rows": null,
            "grid_gap": null,
            "max_width": null,
            "order": null,
            "_view_module_version": "1.2.0",
            "grid_template_areas": null,
            "object_position": null,
            "object_fit": null,
            "grid_auto_columns": null,
            "margin": null,
            "display": null,
            "left": null
          }
        },
        "8e6bea07fce6474a81edfb4f0c93a081": {
          "model_module": "@jupyter-widgets/controls",
          "model_name": "FloatProgressModel",
          "state": {
            "_view_name": "ProgressView",
            "style": "IPY_MODEL_8093a27fb8f9411186f11337a7d214b5",
            "_dom_classes": [],
            "description": "loss: 0.0, acc: 0.916:   2%",
            "_model_name": "FloatProgressModel",
            "bar_style": "danger",
            "max": 500,
            "_view_module": "@jupyter-widgets/controls",
            "_model_module_version": "1.5.0",
            "value": 10,
            "_view_count": null,
            "_view_module_version": "1.5.0",
            "orientation": "horizontal",
            "min": 0,
            "description_tooltip": null,
            "_model_module": "@jupyter-widgets/controls",
            "layout": "IPY_MODEL_9db9b70f26ae4895a5917ea8b55dfef1"
          }
        },
        "cdaa3f107b174b7ab4cc17566dc3c65a": {
          "model_module": "@jupyter-widgets/controls",
          "model_name": "HTMLModel",
          "state": {
            "_view_name": "HTMLView",
            "style": "IPY_MODEL_a807377073fe4c0a90c47e44a4e061b9",
            "_dom_classes": [],
            "description": "",
            "_model_name": "HTMLModel",
            "placeholder": "​",
            "_view_module": "@jupyter-widgets/controls",
            "_model_module_version": "1.5.0",
            "value": " 10/500 [01:12&lt;53:30,  6.55s/it]",
            "_view_count": null,
            "_view_module_version": "1.5.0",
            "description_tooltip": null,
            "_model_module": "@jupyter-widgets/controls",
            "layout": "IPY_MODEL_cafa104afc774455a6a36a5f05cceba9"
          }
        },
        "8093a27fb8f9411186f11337a7d214b5": {
          "model_module": "@jupyter-widgets/controls",
          "model_name": "ProgressStyleModel",
          "state": {
            "_view_name": "StyleView",
            "_model_name": "ProgressStyleModel",
            "description_width": "initial",
            "_view_module": "@jupyter-widgets/base",
            "_model_module_version": "1.5.0",
            "_view_count": null,
            "_view_module_version": "1.2.0",
            "bar_color": null,
            "_model_module": "@jupyter-widgets/controls"
          }
        },
        "9db9b70f26ae4895a5917ea8b55dfef1": {
          "model_module": "@jupyter-widgets/base",
          "model_name": "LayoutModel",
          "state": {
            "_view_name": "LayoutView",
            "grid_template_rows": null,
            "right": null,
            "justify_content": null,
            "_view_module": "@jupyter-widgets/base",
            "overflow": null,
            "_model_module_version": "1.2.0",
            "_view_count": null,
            "flex_flow": null,
            "width": null,
            "min_width": null,
            "border": null,
            "align_items": null,
            "bottom": null,
            "_model_module": "@jupyter-widgets/base",
            "top": null,
            "grid_column": null,
            "overflow_y": null,
            "overflow_x": null,
            "grid_auto_flow": null,
            "grid_area": null,
            "grid_template_columns": null,
            "flex": null,
            "_model_name": "LayoutModel",
            "justify_items": null,
            "grid_row": null,
            "max_height": null,
            "align_content": null,
            "visibility": null,
            "align_self": null,
            "height": null,
            "min_height": null,
            "padding": null,
            "grid_auto_rows": null,
            "grid_gap": null,
            "max_width": null,
            "order": null,
            "_view_module_version": "1.2.0",
            "grid_template_areas": null,
            "object_position": null,
            "object_fit": null,
            "grid_auto_columns": null,
            "margin": null,
            "display": null,
            "left": null
          }
        },
        "a807377073fe4c0a90c47e44a4e061b9": {
          "model_module": "@jupyter-widgets/controls",
          "model_name": "DescriptionStyleModel",
          "state": {
            "_view_name": "StyleView",
            "_model_name": "DescriptionStyleModel",
            "description_width": "",
            "_view_module": "@jupyter-widgets/base",
            "_model_module_version": "1.5.0",
            "_view_count": null,
            "_view_module_version": "1.2.0",
            "_model_module": "@jupyter-widgets/controls"
          }
        },
        "cafa104afc774455a6a36a5f05cceba9": {
          "model_module": "@jupyter-widgets/base",
          "model_name": "LayoutModel",
          "state": {
            "_view_name": "LayoutView",
            "grid_template_rows": null,
            "right": null,
            "justify_content": null,
            "_view_module": "@jupyter-widgets/base",
            "overflow": null,
            "_model_module_version": "1.2.0",
            "_view_count": null,
            "flex_flow": null,
            "width": null,
            "min_width": null,
            "border": null,
            "align_items": null,
            "bottom": null,
            "_model_module": "@jupyter-widgets/base",
            "top": null,
            "grid_column": null,
            "overflow_y": null,
            "overflow_x": null,
            "grid_auto_flow": null,
            "grid_area": null,
            "grid_template_columns": null,
            "flex": null,
            "_model_name": "LayoutModel",
            "justify_items": null,
            "grid_row": null,
            "max_height": null,
            "align_content": null,
            "visibility": null,
            "align_self": null,
            "height": null,
            "min_height": null,
            "padding": null,
            "grid_auto_rows": null,
            "grid_gap": null,
            "max_width": null,
            "order": null,
            "_view_module_version": "1.2.0",
            "grid_template_areas": null,
            "object_position": null,
            "object_fit": null,
            "grid_auto_columns": null,
            "margin": null,
            "display": null,
            "left": null
          }
        },
        "304cbd9fc727498f8609a7a21a741b9f": {
          "model_module": "@jupyter-widgets/controls",
          "model_name": "HBoxModel",
          "state": {
            "_view_name": "HBoxView",
            "_dom_classes": [],
            "_model_name": "HBoxModel",
            "_view_module": "@jupyter-widgets/controls",
            "_model_module_version": "1.5.0",
            "_view_count": null,
            "_view_module_version": "1.5.0",
            "box_style": "",
            "layout": "IPY_MODEL_4afbd9ff3fc34e63abbe72f62f651917",
            "_model_module": "@jupyter-widgets/controls",
            "children": [
              "IPY_MODEL_3a1714bdd4b848b3abb2c3e4dbc2f26f",
              "IPY_MODEL_d15357e1d6ad45a0b07e5e047cffd06b"
            ]
          }
        },
        "4afbd9ff3fc34e63abbe72f62f651917": {
          "model_module": "@jupyter-widgets/base",
          "model_name": "LayoutModel",
          "state": {
            "_view_name": "LayoutView",
            "grid_template_rows": null,
            "right": null,
            "justify_content": null,
            "_view_module": "@jupyter-widgets/base",
            "overflow": null,
            "_model_module_version": "1.2.0",
            "_view_count": null,
            "flex_flow": null,
            "width": null,
            "min_width": null,
            "border": null,
            "align_items": null,
            "bottom": null,
            "_model_module": "@jupyter-widgets/base",
            "top": null,
            "grid_column": null,
            "overflow_y": null,
            "overflow_x": null,
            "grid_auto_flow": null,
            "grid_area": null,
            "grid_template_columns": null,
            "flex": null,
            "_model_name": "LayoutModel",
            "justify_items": null,
            "grid_row": null,
            "max_height": null,
            "align_content": null,
            "visibility": null,
            "align_self": null,
            "height": null,
            "min_height": null,
            "padding": null,
            "grid_auto_rows": null,
            "grid_gap": null,
            "max_width": null,
            "order": null,
            "_view_module_version": "1.2.0",
            "grid_template_areas": null,
            "object_position": null,
            "object_fit": null,
            "grid_auto_columns": null,
            "margin": null,
            "display": null,
            "left": null
          }
        },
        "3a1714bdd4b848b3abb2c3e4dbc2f26f": {
          "model_module": "@jupyter-widgets/controls",
          "model_name": "FloatProgressModel",
          "state": {
            "_view_name": "ProgressView",
            "style": "IPY_MODEL_e4fbd7d782b44d299d34be28f78d05ca",
            "_dom_classes": [],
            "description": "loss: 0.0, acc: 0.928:   5%",
            "_model_name": "FloatProgressModel",
            "bar_style": "danger",
            "max": 500,
            "_view_module": "@jupyter-widgets/controls",
            "_model_module_version": "1.5.0",
            "value": 26,
            "_view_count": null,
            "_view_module_version": "1.5.0",
            "orientation": "horizontal",
            "min": 0,
            "description_tooltip": null,
            "_model_module": "@jupyter-widgets/controls",
            "layout": "IPY_MODEL_4fd871886c52490d80550b9864a3ca13"
          }
        },
        "d15357e1d6ad45a0b07e5e047cffd06b": {
          "model_module": "@jupyter-widgets/controls",
          "model_name": "HTMLModel",
          "state": {
            "_view_name": "HTMLView",
            "style": "IPY_MODEL_459f5a175b914a609a7c919570041af8",
            "_dom_classes": [],
            "description": "",
            "_model_name": "HTMLModel",
            "placeholder": "​",
            "_view_module": "@jupyter-widgets/controls",
            "_model_module_version": "1.5.0",
            "value": " 26/500 [03:02&lt;53:47,  6.81s/it]",
            "_view_count": null,
            "_view_module_version": "1.5.0",
            "description_tooltip": null,
            "_model_module": "@jupyter-widgets/controls",
            "layout": "IPY_MODEL_7eed88e89f894d72966a7fdd313db90e"
          }
        },
        "e4fbd7d782b44d299d34be28f78d05ca": {
          "model_module": "@jupyter-widgets/controls",
          "model_name": "ProgressStyleModel",
          "state": {
            "_view_name": "StyleView",
            "_model_name": "ProgressStyleModel",
            "description_width": "initial",
            "_view_module": "@jupyter-widgets/base",
            "_model_module_version": "1.5.0",
            "_view_count": null,
            "_view_module_version": "1.2.0",
            "bar_color": null,
            "_model_module": "@jupyter-widgets/controls"
          }
        },
        "4fd871886c52490d80550b9864a3ca13": {
          "model_module": "@jupyter-widgets/base",
          "model_name": "LayoutModel",
          "state": {
            "_view_name": "LayoutView",
            "grid_template_rows": null,
            "right": null,
            "justify_content": null,
            "_view_module": "@jupyter-widgets/base",
            "overflow": null,
            "_model_module_version": "1.2.0",
            "_view_count": null,
            "flex_flow": null,
            "width": null,
            "min_width": null,
            "border": null,
            "align_items": null,
            "bottom": null,
            "_model_module": "@jupyter-widgets/base",
            "top": null,
            "grid_column": null,
            "overflow_y": null,
            "overflow_x": null,
            "grid_auto_flow": null,
            "grid_area": null,
            "grid_template_columns": null,
            "flex": null,
            "_model_name": "LayoutModel",
            "justify_items": null,
            "grid_row": null,
            "max_height": null,
            "align_content": null,
            "visibility": null,
            "align_self": null,
            "height": null,
            "min_height": null,
            "padding": null,
            "grid_auto_rows": null,
            "grid_gap": null,
            "max_width": null,
            "order": null,
            "_view_module_version": "1.2.0",
            "grid_template_areas": null,
            "object_position": null,
            "object_fit": null,
            "grid_auto_columns": null,
            "margin": null,
            "display": null,
            "left": null
          }
        },
        "459f5a175b914a609a7c919570041af8": {
          "model_module": "@jupyter-widgets/controls",
          "model_name": "DescriptionStyleModel",
          "state": {
            "_view_name": "StyleView",
            "_model_name": "DescriptionStyleModel",
            "description_width": "",
            "_view_module": "@jupyter-widgets/base",
            "_model_module_version": "1.5.0",
            "_view_count": null,
            "_view_module_version": "1.2.0",
            "_model_module": "@jupyter-widgets/controls"
          }
        },
        "7eed88e89f894d72966a7fdd313db90e": {
          "model_module": "@jupyter-widgets/base",
          "model_name": "LayoutModel",
          "state": {
            "_view_name": "LayoutView",
            "grid_template_rows": null,
            "right": null,
            "justify_content": null,
            "_view_module": "@jupyter-widgets/base",
            "overflow": null,
            "_model_module_version": "1.2.0",
            "_view_count": null,
            "flex_flow": null,
            "width": null,
            "min_width": null,
            "border": null,
            "align_items": null,
            "bottom": null,
            "_model_module": "@jupyter-widgets/base",
            "top": null,
            "grid_column": null,
            "overflow_y": null,
            "overflow_x": null,
            "grid_auto_flow": null,
            "grid_area": null,
            "grid_template_columns": null,
            "flex": null,
            "_model_name": "LayoutModel",
            "justify_items": null,
            "grid_row": null,
            "max_height": null,
            "align_content": null,
            "visibility": null,
            "align_self": null,
            "height": null,
            "min_height": null,
            "padding": null,
            "grid_auto_rows": null,
            "grid_gap": null,
            "max_width": null,
            "order": null,
            "_view_module_version": "1.2.0",
            "grid_template_areas": null,
            "object_position": null,
            "object_fit": null,
            "grid_auto_columns": null,
            "margin": null,
            "display": null,
            "left": null
          }
        },
        "4114fff0ba4440a0a451736d0b2e5128": {
          "model_module": "@jupyter-widgets/controls",
          "model_name": "HBoxModel",
          "state": {
            "_view_name": "HBoxView",
            "_dom_classes": [],
            "_model_name": "HBoxModel",
            "_view_module": "@jupyter-widgets/controls",
            "_model_module_version": "1.5.0",
            "_view_count": null,
            "_view_module_version": "1.5.0",
            "box_style": "",
            "layout": "IPY_MODEL_5ead7e4266e942e98ffb9a82c8108b44",
            "_model_module": "@jupyter-widgets/controls",
            "children": [
              "IPY_MODEL_5b606819f9614e7587e4001e03776de4",
              "IPY_MODEL_d0ab280a416f489c8f9887c7b7718734"
            ]
          }
        },
        "5ead7e4266e942e98ffb9a82c8108b44": {
          "model_module": "@jupyter-widgets/base",
          "model_name": "LayoutModel",
          "state": {
            "_view_name": "LayoutView",
            "grid_template_rows": null,
            "right": null,
            "justify_content": null,
            "_view_module": "@jupyter-widgets/base",
            "overflow": null,
            "_model_module_version": "1.2.0",
            "_view_count": null,
            "flex_flow": null,
            "width": null,
            "min_width": null,
            "border": null,
            "align_items": null,
            "bottom": null,
            "_model_module": "@jupyter-widgets/base",
            "top": null,
            "grid_column": null,
            "overflow_y": null,
            "overflow_x": null,
            "grid_auto_flow": null,
            "grid_area": null,
            "grid_template_columns": null,
            "flex": null,
            "_model_name": "LayoutModel",
            "justify_items": null,
            "grid_row": null,
            "max_height": null,
            "align_content": null,
            "visibility": null,
            "align_self": null,
            "height": null,
            "min_height": null,
            "padding": null,
            "grid_auto_rows": null,
            "grid_gap": null,
            "max_width": null,
            "order": null,
            "_view_module_version": "1.2.0",
            "grid_template_areas": null,
            "object_position": null,
            "object_fit": null,
            "grid_auto_columns": null,
            "margin": null,
            "display": null,
            "left": null
          }
        },
        "5b606819f9614e7587e4001e03776de4": {
          "model_module": "@jupyter-widgets/controls",
          "model_name": "FloatProgressModel",
          "state": {
            "_view_name": "ProgressView",
            "style": "IPY_MODEL_dee5d930fa7f493e93a0c13cd369be2f",
            "_dom_classes": [],
            "description": "loss: 0.0, acc: 0.923: 100%",
            "_model_name": "FloatProgressModel",
            "bar_style": "success",
            "max": 200,
            "_view_module": "@jupyter-widgets/controls",
            "_model_module_version": "1.5.0",
            "value": 200,
            "_view_count": null,
            "_view_module_version": "1.5.0",
            "orientation": "horizontal",
            "min": 0,
            "description_tooltip": null,
            "_model_module": "@jupyter-widgets/controls",
            "layout": "IPY_MODEL_90a59cec945545ebaa65d9215820b964"
          }
        },
        "d0ab280a416f489c8f9887c7b7718734": {
          "model_module": "@jupyter-widgets/controls",
          "model_name": "HTMLModel",
          "state": {
            "_view_name": "HTMLView",
            "style": "IPY_MODEL_534dbc968eb14d5bb263cca0136b1c92",
            "_dom_classes": [],
            "description": "",
            "_model_name": "HTMLModel",
            "placeholder": "​",
            "_view_module": "@jupyter-widgets/controls",
            "_model_module_version": "1.5.0",
            "value": " 200/200 [23:15&lt;00:00,  6.98s/it]",
            "_view_count": null,
            "_view_module_version": "1.5.0",
            "description_tooltip": null,
            "_model_module": "@jupyter-widgets/controls",
            "layout": "IPY_MODEL_826987153fa8469f93d201f0997d61a3"
          }
        },
        "dee5d930fa7f493e93a0c13cd369be2f": {
          "model_module": "@jupyter-widgets/controls",
          "model_name": "ProgressStyleModel",
          "state": {
            "_view_name": "StyleView",
            "_model_name": "ProgressStyleModel",
            "description_width": "initial",
            "_view_module": "@jupyter-widgets/base",
            "_model_module_version": "1.5.0",
            "_view_count": null,
            "_view_module_version": "1.2.0",
            "bar_color": null,
            "_model_module": "@jupyter-widgets/controls"
          }
        },
        "90a59cec945545ebaa65d9215820b964": {
          "model_module": "@jupyter-widgets/base",
          "model_name": "LayoutModel",
          "state": {
            "_view_name": "LayoutView",
            "grid_template_rows": null,
            "right": null,
            "justify_content": null,
            "_view_module": "@jupyter-widgets/base",
            "overflow": null,
            "_model_module_version": "1.2.0",
            "_view_count": null,
            "flex_flow": null,
            "width": null,
            "min_width": null,
            "border": null,
            "align_items": null,
            "bottom": null,
            "_model_module": "@jupyter-widgets/base",
            "top": null,
            "grid_column": null,
            "overflow_y": null,
            "overflow_x": null,
            "grid_auto_flow": null,
            "grid_area": null,
            "grid_template_columns": null,
            "flex": null,
            "_model_name": "LayoutModel",
            "justify_items": null,
            "grid_row": null,
            "max_height": null,
            "align_content": null,
            "visibility": null,
            "align_self": null,
            "height": null,
            "min_height": null,
            "padding": null,
            "grid_auto_rows": null,
            "grid_gap": null,
            "max_width": null,
            "order": null,
            "_view_module_version": "1.2.0",
            "grid_template_areas": null,
            "object_position": null,
            "object_fit": null,
            "grid_auto_columns": null,
            "margin": null,
            "display": null,
            "left": null
          }
        },
        "534dbc968eb14d5bb263cca0136b1c92": {
          "model_module": "@jupyter-widgets/controls",
          "model_name": "DescriptionStyleModel",
          "state": {
            "_view_name": "StyleView",
            "_model_name": "DescriptionStyleModel",
            "description_width": "",
            "_view_module": "@jupyter-widgets/base",
            "_model_module_version": "1.5.0",
            "_view_count": null,
            "_view_module_version": "1.2.0",
            "_model_module": "@jupyter-widgets/controls"
          }
        },
        "826987153fa8469f93d201f0997d61a3": {
          "model_module": "@jupyter-widgets/base",
          "model_name": "LayoutModel",
          "state": {
            "_view_name": "LayoutView",
            "grid_template_rows": null,
            "right": null,
            "justify_content": null,
            "_view_module": "@jupyter-widgets/base",
            "overflow": null,
            "_model_module_version": "1.2.0",
            "_view_count": null,
            "flex_flow": null,
            "width": null,
            "min_width": null,
            "border": null,
            "align_items": null,
            "bottom": null,
            "_model_module": "@jupyter-widgets/base",
            "top": null,
            "grid_column": null,
            "overflow_y": null,
            "overflow_x": null,
            "grid_auto_flow": null,
            "grid_area": null,
            "grid_template_columns": null,
            "flex": null,
            "_model_name": "LayoutModel",
            "justify_items": null,
            "grid_row": null,
            "max_height": null,
            "align_content": null,
            "visibility": null,
            "align_self": null,
            "height": null,
            "min_height": null,
            "padding": null,
            "grid_auto_rows": null,
            "grid_gap": null,
            "max_width": null,
            "order": null,
            "_view_module_version": "1.2.0",
            "grid_template_areas": null,
            "object_position": null,
            "object_fit": null,
            "grid_auto_columns": null,
            "margin": null,
            "display": null,
            "left": null
          }
        },
        "7cf310ad5aca4b9e915ea0a37ac03a24": {
          "model_module": "@jupyter-widgets/controls",
          "model_name": "HBoxModel",
          "state": {
            "_view_name": "HBoxView",
            "_dom_classes": [],
            "_model_name": "HBoxModel",
            "_view_module": "@jupyter-widgets/controls",
            "_model_module_version": "1.5.0",
            "_view_count": null,
            "_view_module_version": "1.5.0",
            "box_style": "",
            "layout": "IPY_MODEL_31da98b8fca847d98b32fbedaf0ab7db",
            "_model_module": "@jupyter-widgets/controls",
            "children": [
              "IPY_MODEL_6530f7dd0db04ca4beee0a795a863f06",
              "IPY_MODEL_97016cf8baeb44a1af696d6bc1ee6480"
            ]
          }
        },
        "31da98b8fca847d98b32fbedaf0ab7db": {
          "model_module": "@jupyter-widgets/base",
          "model_name": "LayoutModel",
          "state": {
            "_view_name": "LayoutView",
            "grid_template_rows": null,
            "right": null,
            "justify_content": null,
            "_view_module": "@jupyter-widgets/base",
            "overflow": null,
            "_model_module_version": "1.2.0",
            "_view_count": null,
            "flex_flow": null,
            "width": null,
            "min_width": null,
            "border": null,
            "align_items": null,
            "bottom": null,
            "_model_module": "@jupyter-widgets/base",
            "top": null,
            "grid_column": null,
            "overflow_y": null,
            "overflow_x": null,
            "grid_auto_flow": null,
            "grid_area": null,
            "grid_template_columns": null,
            "flex": null,
            "_model_name": "LayoutModel",
            "justify_items": null,
            "grid_row": null,
            "max_height": null,
            "align_content": null,
            "visibility": null,
            "align_self": null,
            "height": null,
            "min_height": null,
            "padding": null,
            "grid_auto_rows": null,
            "grid_gap": null,
            "max_width": null,
            "order": null,
            "_view_module_version": "1.2.0",
            "grid_template_areas": null,
            "object_position": null,
            "object_fit": null,
            "grid_auto_columns": null,
            "margin": null,
            "display": null,
            "left": null
          }
        },
        "6530f7dd0db04ca4beee0a795a863f06": {
          "model_module": "@jupyter-widgets/controls",
          "model_name": "FloatProgressModel",
          "state": {
            "_view_name": "ProgressView",
            "style": "IPY_MODEL_98b8b0fb55ea4db586910c0f19d7c48a",
            "_dom_classes": [],
            "description": "loss: 0.0, acc: 0.928:   2%",
            "_model_name": "FloatProgressModel",
            "bar_style": "danger",
            "max": 500,
            "_view_module": "@jupyter-widgets/controls",
            "_model_module_version": "1.5.0",
            "value": 12,
            "_view_count": null,
            "_view_module_version": "1.5.0",
            "orientation": "horizontal",
            "min": 0,
            "description_tooltip": null,
            "_model_module": "@jupyter-widgets/controls",
            "layout": "IPY_MODEL_8b8dd04373b34461be4e5ab07e61d191"
          }
        },
        "97016cf8baeb44a1af696d6bc1ee6480": {
          "model_module": "@jupyter-widgets/controls",
          "model_name": "HTMLModel",
          "state": {
            "_view_name": "HTMLView",
            "style": "IPY_MODEL_689e95789f2f4a0fb0ddca82a7d2a501",
            "_dom_classes": [],
            "description": "",
            "_model_name": "HTMLModel",
            "placeholder": "​",
            "_view_module": "@jupyter-widgets/controls",
            "_model_module_version": "1.5.0",
            "value": " 12/500 [01:31&lt;57:00,  7.01s/it]",
            "_view_count": null,
            "_view_module_version": "1.5.0",
            "description_tooltip": null,
            "_model_module": "@jupyter-widgets/controls",
            "layout": "IPY_MODEL_d5a8b48abd454bbfbc868bb5fa23bc4a"
          }
        },
        "98b8b0fb55ea4db586910c0f19d7c48a": {
          "model_module": "@jupyter-widgets/controls",
          "model_name": "ProgressStyleModel",
          "state": {
            "_view_name": "StyleView",
            "_model_name": "ProgressStyleModel",
            "description_width": "initial",
            "_view_module": "@jupyter-widgets/base",
            "_model_module_version": "1.5.0",
            "_view_count": null,
            "_view_module_version": "1.2.0",
            "bar_color": null,
            "_model_module": "@jupyter-widgets/controls"
          }
        },
        "8b8dd04373b34461be4e5ab07e61d191": {
          "model_module": "@jupyter-widgets/base",
          "model_name": "LayoutModel",
          "state": {
            "_view_name": "LayoutView",
            "grid_template_rows": null,
            "right": null,
            "justify_content": null,
            "_view_module": "@jupyter-widgets/base",
            "overflow": null,
            "_model_module_version": "1.2.0",
            "_view_count": null,
            "flex_flow": null,
            "width": null,
            "min_width": null,
            "border": null,
            "align_items": null,
            "bottom": null,
            "_model_module": "@jupyter-widgets/base",
            "top": null,
            "grid_column": null,
            "overflow_y": null,
            "overflow_x": null,
            "grid_auto_flow": null,
            "grid_area": null,
            "grid_template_columns": null,
            "flex": null,
            "_model_name": "LayoutModel",
            "justify_items": null,
            "grid_row": null,
            "max_height": null,
            "align_content": null,
            "visibility": null,
            "align_self": null,
            "height": null,
            "min_height": null,
            "padding": null,
            "grid_auto_rows": null,
            "grid_gap": null,
            "max_width": null,
            "order": null,
            "_view_module_version": "1.2.0",
            "grid_template_areas": null,
            "object_position": null,
            "object_fit": null,
            "grid_auto_columns": null,
            "margin": null,
            "display": null,
            "left": null
          }
        },
        "689e95789f2f4a0fb0ddca82a7d2a501": {
          "model_module": "@jupyter-widgets/controls",
          "model_name": "DescriptionStyleModel",
          "state": {
            "_view_name": "StyleView",
            "_model_name": "DescriptionStyleModel",
            "description_width": "",
            "_view_module": "@jupyter-widgets/base",
            "_model_module_version": "1.5.0",
            "_view_count": null,
            "_view_module_version": "1.2.0",
            "_model_module": "@jupyter-widgets/controls"
          }
        },
        "d5a8b48abd454bbfbc868bb5fa23bc4a": {
          "model_module": "@jupyter-widgets/base",
          "model_name": "LayoutModel",
          "state": {
            "_view_name": "LayoutView",
            "grid_template_rows": null,
            "right": null,
            "justify_content": null,
            "_view_module": "@jupyter-widgets/base",
            "overflow": null,
            "_model_module_version": "1.2.0",
            "_view_count": null,
            "flex_flow": null,
            "width": null,
            "min_width": null,
            "border": null,
            "align_items": null,
            "bottom": null,
            "_model_module": "@jupyter-widgets/base",
            "top": null,
            "grid_column": null,
            "overflow_y": null,
            "overflow_x": null,
            "grid_auto_flow": null,
            "grid_area": null,
            "grid_template_columns": null,
            "flex": null,
            "_model_name": "LayoutModel",
            "justify_items": null,
            "grid_row": null,
            "max_height": null,
            "align_content": null,
            "visibility": null,
            "align_self": null,
            "height": null,
            "min_height": null,
            "padding": null,
            "grid_auto_rows": null,
            "grid_gap": null,
            "max_width": null,
            "order": null,
            "_view_module_version": "1.2.0",
            "grid_template_areas": null,
            "object_position": null,
            "object_fit": null,
            "grid_auto_columns": null,
            "margin": null,
            "display": null,
            "left": null
          }
        },
        "6e5086badf424d4cadcef9a64edb3e5c": {
          "model_module": "@jupyter-widgets/controls",
          "model_name": "HBoxModel",
          "state": {
            "_view_name": "HBoxView",
            "_dom_classes": [],
            "_model_name": "HBoxModel",
            "_view_module": "@jupyter-widgets/controls",
            "_model_module_version": "1.5.0",
            "_view_count": null,
            "_view_module_version": "1.5.0",
            "box_style": "",
            "layout": "IPY_MODEL_87ed47d9286c479ba38ec92d0e80fd23",
            "_model_module": "@jupyter-widgets/controls",
            "children": [
              "IPY_MODEL_3f7c2306fcc0403fa47765512b829d5f",
              "IPY_MODEL_4ab310be4d074156b23ad87d2d37808b"
            ]
          }
        },
        "87ed47d9286c479ba38ec92d0e80fd23": {
          "model_module": "@jupyter-widgets/base",
          "model_name": "LayoutModel",
          "state": {
            "_view_name": "LayoutView",
            "grid_template_rows": null,
            "right": null,
            "justify_content": null,
            "_view_module": "@jupyter-widgets/base",
            "overflow": null,
            "_model_module_version": "1.2.0",
            "_view_count": null,
            "flex_flow": null,
            "width": null,
            "min_width": null,
            "border": null,
            "align_items": null,
            "bottom": null,
            "_model_module": "@jupyter-widgets/base",
            "top": null,
            "grid_column": null,
            "overflow_y": null,
            "overflow_x": null,
            "grid_auto_flow": null,
            "grid_area": null,
            "grid_template_columns": null,
            "flex": null,
            "_model_name": "LayoutModel",
            "justify_items": null,
            "grid_row": null,
            "max_height": null,
            "align_content": null,
            "visibility": null,
            "align_self": null,
            "height": null,
            "min_height": null,
            "padding": null,
            "grid_auto_rows": null,
            "grid_gap": null,
            "max_width": null,
            "order": null,
            "_view_module_version": "1.2.0",
            "grid_template_areas": null,
            "object_position": null,
            "object_fit": null,
            "grid_auto_columns": null,
            "margin": null,
            "display": null,
            "left": null
          }
        },
        "3f7c2306fcc0403fa47765512b829d5f": {
          "model_module": "@jupyter-widgets/controls",
          "model_name": "FloatProgressModel",
          "state": {
            "_view_name": "ProgressView",
            "style": "IPY_MODEL_5a418a113cc741358d474a2e5aeb1656",
            "_dom_classes": [],
            "description": "",
            "_model_name": "FloatProgressModel",
            "bar_style": "success",
            "max": 1,
            "_view_module": "@jupyter-widgets/controls",
            "_model_module_version": "1.5.0",
            "value": 1,
            "_view_count": null,
            "_view_module_version": "1.5.0",
            "orientation": "horizontal",
            "min": 0,
            "description_tooltip": null,
            "_model_module": "@jupyter-widgets/controls",
            "layout": "IPY_MODEL_6f60d9cc4c7e42ad8bd5fca52f33f372"
          }
        },
        "4ab310be4d074156b23ad87d2d37808b": {
          "model_module": "@jupyter-widgets/controls",
          "model_name": "HTMLModel",
          "state": {
            "_view_name": "HTMLView",
            "style": "IPY_MODEL_143e1704fcf94ff1a7d615bdb9529f96",
            "_dom_classes": [],
            "description": "",
            "_model_name": "HTMLModel",
            "placeholder": "​",
            "_view_module": "@jupyter-widgets/controls",
            "_model_module_version": "1.5.0",
            "value": " 118/? [00:29&lt;00:00,  4.04it/s]",
            "_view_count": null,
            "_view_module_version": "1.5.0",
            "description_tooltip": null,
            "_model_module": "@jupyter-widgets/controls",
            "layout": "IPY_MODEL_b2f6dd62b0ca4d59868763220ec46b6c"
          }
        },
        "5a418a113cc741358d474a2e5aeb1656": {
          "model_module": "@jupyter-widgets/controls",
          "model_name": "ProgressStyleModel",
          "state": {
            "_view_name": "StyleView",
            "_model_name": "ProgressStyleModel",
            "description_width": "initial",
            "_view_module": "@jupyter-widgets/base",
            "_model_module_version": "1.5.0",
            "_view_count": null,
            "_view_module_version": "1.2.0",
            "bar_color": null,
            "_model_module": "@jupyter-widgets/controls"
          }
        },
        "6f60d9cc4c7e42ad8bd5fca52f33f372": {
          "model_module": "@jupyter-widgets/base",
          "model_name": "LayoutModel",
          "state": {
            "_view_name": "LayoutView",
            "grid_template_rows": null,
            "right": null,
            "justify_content": null,
            "_view_module": "@jupyter-widgets/base",
            "overflow": null,
            "_model_module_version": "1.2.0",
            "_view_count": null,
            "flex_flow": null,
            "width": null,
            "min_width": null,
            "border": null,
            "align_items": null,
            "bottom": null,
            "_model_module": "@jupyter-widgets/base",
            "top": null,
            "grid_column": null,
            "overflow_y": null,
            "overflow_x": null,
            "grid_auto_flow": null,
            "grid_area": null,
            "grid_template_columns": null,
            "flex": null,
            "_model_name": "LayoutModel",
            "justify_items": null,
            "grid_row": null,
            "max_height": null,
            "align_content": null,
            "visibility": null,
            "align_self": null,
            "height": null,
            "min_height": null,
            "padding": null,
            "grid_auto_rows": null,
            "grid_gap": null,
            "max_width": null,
            "order": null,
            "_view_module_version": "1.2.0",
            "grid_template_areas": null,
            "object_position": null,
            "object_fit": null,
            "grid_auto_columns": null,
            "margin": null,
            "display": null,
            "left": null
          }
        },
        "143e1704fcf94ff1a7d615bdb9529f96": {
          "model_module": "@jupyter-widgets/controls",
          "model_name": "DescriptionStyleModel",
          "state": {
            "_view_name": "StyleView",
            "_model_name": "DescriptionStyleModel",
            "description_width": "",
            "_view_module": "@jupyter-widgets/base",
            "_model_module_version": "1.5.0",
            "_view_count": null,
            "_view_module_version": "1.2.0",
            "_model_module": "@jupyter-widgets/controls"
          }
        },
        "b2f6dd62b0ca4d59868763220ec46b6c": {
          "model_module": "@jupyter-widgets/base",
          "model_name": "LayoutModel",
          "state": {
            "_view_name": "LayoutView",
            "grid_template_rows": null,
            "right": null,
            "justify_content": null,
            "_view_module": "@jupyter-widgets/base",
            "overflow": null,
            "_model_module_version": "1.2.0",
            "_view_count": null,
            "flex_flow": null,
            "width": null,
            "min_width": null,
            "border": null,
            "align_items": null,
            "bottom": null,
            "_model_module": "@jupyter-widgets/base",
            "top": null,
            "grid_column": null,
            "overflow_y": null,
            "overflow_x": null,
            "grid_auto_flow": null,
            "grid_area": null,
            "grid_template_columns": null,
            "flex": null,
            "_model_name": "LayoutModel",
            "justify_items": null,
            "grid_row": null,
            "max_height": null,
            "align_content": null,
            "visibility": null,
            "align_self": null,
            "height": null,
            "min_height": null,
            "padding": null,
            "grid_auto_rows": null,
            "grid_gap": null,
            "max_width": null,
            "order": null,
            "_view_module_version": "1.2.0",
            "grid_template_areas": null,
            "object_position": null,
            "object_fit": null,
            "grid_auto_columns": null,
            "margin": null,
            "display": null,
            "left": null
          }
        }
      }
    }
  },
  "cells": [
    {
      "cell_type": "markdown",
      "metadata": {
        "id": "view-in-github",
        "colab_type": "text"
      },
      "source": [
        "<a href=\"https://colab.research.google.com/github/ymohamedahmed/drbayes/blob/master/SIBDL_demo_group_13.ipynb\" target=\"_parent\"><img src=\"https://colab.research.google.com/assets/colab-badge.svg\" alt=\"Open In Colab\"/></a>"
      ]
    },
    {
      "cell_type": "markdown",
      "metadata": {
        "id": "t1HFtcUoANXK"
      },
      "source": [
        "# Machine Learning Seminars - Subspace Inference for Bayesian Deep Learning - Demo\n",
        "\n",
        "*Reviewed by Chiara Campagnola, Yousuf Mohamed-Ahmed and Hannah Teufel*\n",
        "\n",
        "**Aims of this notebook**:\n",
        "- Empirically evaluate the effectiveness of the uncertainty estimates produced (this is **not** evaluated by the paper)\n",
        "- Evaluate the performance gains achieved by applying approximate inference techniques in subspaces *vs* in the full space\n",
        "<!-- - Compare the method proposed by the paper to non-neural network based approaches -->\n",
        "\n",
        "**Research questions**:\n",
        "- In comparison to ensembles and 'full' variational inference (VI); how well does VI in PCA subspace perform in terms of uncertainty estimates (measured by [expected calibration error](https://arxiv.org/pdf/1706.04599.pdf) and out-of-distribution uncertainty estimates).\n",
        "- Using the same comparisons, how does 'performance' of the paper stack up? "
      ]
    },
    {
      "cell_type": "markdown",
      "metadata": {
        "id": "uid9lGO39gvk"
      },
      "source": [
        "## Setup"
      ]
    },
    {
      "cell_type": "code",
      "metadata": {
        "colab": {
          "base_uri": "https://localhost:8080/"
        },
        "id": "DtjBG4O5AU0y",
        "outputId": "73ce033d-6039-4f04-d682-92b770813829"
      },
      "source": [
        "!rm -rf drbayes\n",
        "!git clone https://github.com/ymohamedahmed/drbayes.git"
      ],
      "execution_count": null,
      "outputs": [
        {
          "output_type": "stream",
          "text": [
            "Cloning into 'drbayes'...\n",
            "remote: Enumerating objects: 113, done.\u001b[K\n",
            "remote: Counting objects: 100% (113/113), done.\u001b[K\n",
            "remote: Compressing objects: 100% (90/90), done.\u001b[K\n",
            "remote: Total 374 (delta 56), reused 56 (delta 21), pack-reused 261\u001b[K\n",
            "Receiving objects: 100% (374/374), 15.36 MiB | 37.01 MiB/s, done.\n",
            "Resolving deltas: 100% (126/126), done.\n"
          ],
          "name": "stdout"
        }
      ]
    },
    {
      "cell_type": "code",
      "metadata": {
        "colab": {
          "base_uri": "https://localhost:8080/"
        },
        "id": "03E9eUMjAvMz",
        "outputId": "c109870e-ea54-457b-d8e9-3f85413df417"
      },
      "source": [
        "import sys\n",
        "%pip install -e drbayes "
      ],
      "execution_count": null,
      "outputs": [
        {
          "output_type": "stream",
          "text": [
            "Obtaining file:///content/drbayes\n",
            "Requirement already satisfied: tqdm>=4.26.0 in /usr/local/lib/python3.7/dist-packages (from subspace-inference==0.0) (4.41.1)\n",
            "Requirement already satisfied: numpy>=1.14.3 in /usr/local/lib/python3.7/dist-packages (from subspace-inference==0.0) (1.19.5)\n",
            "Requirement already satisfied: torchvision>=0.2.1 in /usr/local/lib/python3.7/dist-packages (from subspace-inference==0.0) (0.9.0+cu101)\n",
            "Requirement already satisfied: gpytorch>=0.1.0rc4 in /usr/local/lib/python3.7/dist-packages (from subspace-inference==0.0) (1.4.0)\n",
            "Requirement already satisfied: tabulate>=0.8.2 in /usr/local/lib/python3.7/dist-packages (from subspace-inference==0.0) (0.8.9)\n",
            "Requirement already satisfied: scipy>=1.1.0 in /usr/local/lib/python3.7/dist-packages (from subspace-inference==0.0) (1.4.1)\n",
            "Requirement already satisfied: setuptools>=39.1.0 in /usr/local/lib/python3.7/dist-packages (from subspace-inference==0.0) (54.0.0)\n",
            "Requirement already satisfied: matplotlib>=2.2.2 in /usr/local/lib/python3.7/dist-packages (from subspace-inference==0.0) (3.2.2)\n",
            "Requirement already satisfied: torch>=1.0.0 in /usr/local/lib/python3.7/dist-packages (from subspace-inference==0.0) (1.8.0+cu101)\n",
            "Requirement already satisfied: scikit_learn>=0.20.2 in /usr/local/lib/python3.7/dist-packages (from subspace-inference==0.0) (0.22.2.post1)\n",
            "Requirement already satisfied: pyro-ppl==1.5.2 in /usr/local/lib/python3.7/dist-packages (from subspace-inference==0.0) (1.5.2)\n",
            "Requirement already satisfied: pyparsing>=2.4.5 in /usr/local/lib/python3.7/dist-packages (from subspace-inference==0.0) (2.4.7)\n",
            "Requirement already satisfied: Pillow in /usr/local/lib/python3.7/dist-packages (from subspace-inference==0.0) (7.0.0)\n",
            "Requirement already satisfied: kiwisolver>=1.0.1 in /usr/local/lib/python3.7/dist-packages (from matplotlib>=2.2.2->subspace-inference==0.0) (1.3.1)\n",
            "Requirement already satisfied: cycler>=0.10 in /usr/local/lib/python3.7/dist-packages (from matplotlib>=2.2.2->subspace-inference==0.0) (0.10.0)\n",
            "Requirement already satisfied: python-dateutil>=2.1 in /usr/local/lib/python3.7/dist-packages (from matplotlib>=2.2.2->subspace-inference==0.0) (2.8.1)\n",
            "Requirement already satisfied: typing-extensions in /usr/local/lib/python3.7/dist-packages (from torch>=1.0.0->subspace-inference==0.0) (3.7.4.3)\n",
            "Requirement already satisfied: joblib>=0.11 in /usr/local/lib/python3.7/dist-packages (from scikit_learn>=0.20.2->subspace-inference==0.0) (1.0.1)\n",
            "Requirement already satisfied: opt-einsum>=2.3.2 in /usr/local/lib/python3.7/dist-packages (from pyro-ppl==1.5.2->subspace-inference==0.0) (3.3.0)\n",
            "Requirement already satisfied: pyro-api>=0.1.1 in /usr/local/lib/python3.7/dist-packages (from pyro-ppl==1.5.2->subspace-inference==0.0) (0.1.2)\n",
            "Requirement already satisfied: six in /usr/local/lib/python3.7/dist-packages (from cycler>=0.10->matplotlib>=2.2.2->subspace-inference==0.0) (1.15.0)\n",
            "Installing collected packages: subspace-inference\n",
            "  Found existing installation: subspace-inference 0.0\n",
            "    Uninstalling subspace-inference-0.0:\n",
            "      Successfully uninstalled subspace-inference-0.0\n",
            "  Running setup.py develop for subspace-inference\n",
            "Successfully installed subspace-inference\n"
          ],
          "name": "stdout"
        }
      ]
    },
    {
      "cell_type": "code",
      "metadata": {
        "id": "qTnpHtKDANXP"
      },
      "source": [
        "import sys\n",
        "import numpy as np\n",
        "import matplotlib.pyplot as plt\n",
        "%matplotlib inline\n",
        "\n",
        "import torch\n",
        "import torch.utils.data\n",
        "from torch.nn import functional as F\n",
        "import torch.nn as nn\n",
        "from torchvision import datasets, transforms\n",
        "\n",
        "import seaborn as sns\n",
        "\n",
        "import subspace_inference\n",
        "import subspace_inference.utils as utils\n",
        "from subspace_inference.posteriors import SWAG\n",
        "from subspace_inference import models, losses, utils\n",
        "from subspace_inference.models import MLP\n",
        "from subspace_inference.visualization import plot_predictive\n",
        "from subspace_inference.posteriors.proj_model import SubspaceModel\n",
        "from tqdm.notebook import tqdm\n",
        "from subspace_inference.posteriors.vi_model import VIModel, ELBO\n",
        "import math\n",
        "\n",
        "import os\n",
        "\n",
        "torch.backends.cudnn.benchmark = True\n",
        "INITIAL_SEED = 1\n",
        "torch.manual_seed(INITIAL_SEED)\n",
        "torch.cuda.manual_seed(INITIAL_SEED)\n",
        "np.random.seed(INITIAL_SEED)\n",
        "\n",
        "%load_ext autoreload\n",
        "%autoreload 2"
      ],
      "execution_count": null,
      "outputs": []
    },
    {
      "cell_type": "code",
      "metadata": {
        "id": "1UwutCr-CoVz"
      },
      "source": [
        "device = torch.device(\"cuda:0\" if torch.cuda.is_available() else \"cpu\")"
      ],
      "execution_count": null,
      "outputs": []
    },
    {
      "cell_type": "code",
      "metadata": {
        "colab": {
          "base_uri": "https://localhost:8080/",
          "height": 373,
          "referenced_widgets": [
            "57d0970dc6984f91a7967ea7a394254f",
            "b8b871789651491a87e84639c8200250",
            "1f4b5225d3114b999af96793c23418f5",
            "2439a2990b0645a4a67f09a413be1978",
            "3a7c4a32df964a70b8f214546d22a1bd",
            "1b55d3fbe36646a4a95c6318be5368a1",
            "f0f7e2ac83ee45fb92b4f9cdd90ccd0d",
            "2e1f9d3a9dfd49b1822a559d69946c51",
            "8475aa44612245059fc48f152f5a3012",
            "79333f204f4d4d7fb5e5810b9ff88fab",
            "d9ebbcd3ea0945bcb5e87a23edaef265",
            "dd37fe904e4140a4a710accedd829f98",
            "e0253b93854a4e29a523cbf13970fedf",
            "1ea8b94523174f26827adf8eb638264e",
            "7116e887db824dd79821ab810a480f63",
            "49afe57bdbf34d41a2d1bb19efa26aaa",
            "c5d47f5a593147168d78023f6e0dc1a7",
            "4cd76cda34d249a2a43f1f5320a55ac2",
            "2164f5853b04460b92617d15616d2de3",
            "fa30edcca3da41429009500d17878cd3",
            "ae28877592264e2d90802a7c53846500",
            "71f9dbfb699246bd876e1f03a8e59e2a",
            "f9b20f4145d64f92bc4406f7a961348a",
            "20efc093a8754f1d963373dd65727bef",
            "f787f1dea29e46ecb8520e5905727dfa",
            "ecfe81082f6143a58cc0e1622939d664",
            "cd62a6a18d5844cb9fb20f7890c9a3dc",
            "2f8f179c43904c8ca56388c0ba465888",
            "0b0c12dc35ad46dc939d789b9f3d863a",
            "b74f7212e9184e43bfc2ce5d6fe8455a",
            "54bd2d40efcc4ae6a48afac011c37972",
            "e1b61178e8314538931733d86a79c89d"
          ]
        },
        "id": "wqOHeNvdANXS",
        "outputId": "ab4a39f6-6bc7-4dd0-ca73-f6bc034805de"
      },
      "source": [
        "transform=transforms.Compose([\n",
        "        transforms.ToTensor(),\n",
        "        transforms.Normalize((0.1307,), (0.3081,))\n",
        "        ])\n",
        "train_all = datasets.QMNIST(root=\"../data\",train=True, download=True,\n",
        "                   transform=transform)\n",
        "train_val_split = int(0.8*len(train_all))\n",
        "train_idx, val_idx = range(0, train_val_split), range(train_val_split, len(train_all))\n",
        "\n",
        "train = torch.utils.data.Subset(train_all, train_idx)\n",
        "val = torch.utils.data.Subset(train_all, val_idx)\n",
        "test = datasets.QMNIST('../data', train=False,download=True,\n",
        "                   transform=transform)\n",
        "train_loader = torch.utils.data.DataLoader(train,batch_size=512)\n",
        "val_loader = torch.utils.data.DataLoader(val,batch_size=len(val))\n"
      ],
      "execution_count": null,
      "outputs": [
        {
          "output_type": "stream",
          "text": [
            "Downloading https://raw.githubusercontent.com/facebookresearch/qmnist/master/qmnist-train-images-idx3-ubyte.gz to ../data/QMNIST/raw/qmnist-train-images-idx3-ubyte.gz\n"
          ],
          "name": "stdout"
        },
        {
          "output_type": "display_data",
          "data": {
            "application/vnd.jupyter.widget-view+json": {
              "model_id": "57d0970dc6984f91a7967ea7a394254f",
              "version_minor": 0,
              "version_major": 2
            },
            "text/plain": [
              "HBox(children=(FloatProgress(value=0.0, max=9704059.0), HTML(value='')))"
            ]
          },
          "metadata": {
            "tags": []
          }
        },
        {
          "output_type": "stream",
          "text": [
            "\n",
            "Downloading https://raw.githubusercontent.com/facebookresearch/qmnist/master/qmnist-train-labels-idx2-int.gz to ../data/QMNIST/raw/qmnist-train-labels-idx2-int.gz\n"
          ],
          "name": "stdout"
        },
        {
          "output_type": "display_data",
          "data": {
            "application/vnd.jupyter.widget-view+json": {
              "model_id": "8475aa44612245059fc48f152f5a3012",
              "version_minor": 0,
              "version_major": 2
            },
            "text/plain": [
              "HBox(children=(FloatProgress(value=0.0, max=463024.0), HTML(value='')))"
            ]
          },
          "metadata": {
            "tags": []
          }
        },
        {
          "output_type": "stream",
          "text": [
            "\n",
            "Processing...\n"
          ],
          "name": "stdout"
        },
        {
          "output_type": "stream",
          "text": [
            "/usr/local/lib/python3.7/dist-packages/torchvision/datasets/mnist.py:479: UserWarning: The given NumPy array is not writeable, and PyTorch does not support non-writeable tensors. This means you can write to the underlying (supposedly non-writeable) NumPy array using the tensor. You may want to copy the array to protect its data or make it writeable before converting it to a tensor. This type of warning will be suppressed for the rest of this program. (Triggered internally at  /pytorch/torch/csrc/utils/tensor_numpy.cpp:143.)\n",
            "  return torch.from_numpy(parsed.astype(m[2], copy=False)).view(*s)\n"
          ],
          "name": "stderr"
        },
        {
          "output_type": "stream",
          "text": [
            "Downloading https://raw.githubusercontent.com/facebookresearch/qmnist/master/qmnist-test-images-idx3-ubyte.gz to ../data/QMNIST/raw/qmnist-test-images-idx3-ubyte.gz\n"
          ],
          "name": "stdout"
        },
        {
          "output_type": "display_data",
          "data": {
            "application/vnd.jupyter.widget-view+json": {
              "model_id": "c5d47f5a593147168d78023f6e0dc1a7",
              "version_minor": 0,
              "version_major": 2
            },
            "text/plain": [
              "HBox(children=(FloatProgress(value=0.0, max=9742279.0), HTML(value='')))"
            ]
          },
          "metadata": {
            "tags": []
          }
        },
        {
          "output_type": "stream",
          "text": [
            "\n",
            "Downloading https://raw.githubusercontent.com/facebookresearch/qmnist/master/qmnist-test-labels-idx2-int.gz to ../data/QMNIST/raw/qmnist-test-labels-idx2-int.gz\n"
          ],
          "name": "stdout"
        },
        {
          "output_type": "display_data",
          "data": {
            "application/vnd.jupyter.widget-view+json": {
              "model_id": "f787f1dea29e46ecb8520e5905727dfa",
              "version_minor": 0,
              "version_major": 2
            },
            "text/plain": [
              "HBox(children=(FloatProgress(value=0.0, max=526800.0), HTML(value='')))"
            ]
          },
          "metadata": {
            "tags": []
          }
        },
        {
          "output_type": "stream",
          "text": [
            "\n",
            "Processing...\n"
          ],
          "name": "stdout"
        }
      ]
    },
    {
      "cell_type": "markdown",
      "metadata": {
        "id": "z2RNLcwgrHeO"
      },
      "source": [
        "### Helper code"
      ]
    },
    {
      "cell_type": "code",
      "metadata": {
        "id": "MhcN0Zwa9Khx"
      },
      "source": [
        "class VanillaMLP(nn.Module):\n",
        "  def __init__(self, dims):\n",
        "    super(VanillaMLP,self).__init__()\n",
        "    self.dims = dims\n",
        "    layers = [nn.Flatten()] + [lay for (x,y) in zip(dims[:-1],dims[1:]) for lay in [nn.Linear(x,y), nn.ReLU()] ]\n",
        "    layers.pop()\n",
        "    self.model = nn.Sequential(*layers)\n",
        "\n",
        "  def forward(self,x):\n",
        "    return self.model(x)"
      ],
      "execution_count": null,
      "outputs": []
    },
    {
      "cell_type": "code",
      "metadata": {
        "id": "THx5CUJMDa5u"
      },
      "source": [
        "def celoss_acc(model, loss_function, loader):\n",
        "  N = 0\n",
        "  total_loss = 0\n",
        "  acc = 0\n",
        "  for (x,y) in loader:\n",
        "    x = x.to(device)\n",
        "    y = y.to(device)\n",
        "    out = model(x)\n",
        "    loss = loss_function(model,x,y)[0]\n",
        "    total_loss += loss.item()\n",
        "    acc += (out.argmax(dim=1)==y).sum().item()\n",
        "    N += x.size(0)\n",
        "  return total_loss/N, acc/N\n",
        "\n",
        "def convergence(val_losses):\n",
        "  return len(val_losses) > 10 and sum([val_losses[i] >= val_losses[i-1] for i in range(-1,-10,-1)])>5\n",
        "\n",
        "def train(model, loss_function, max_epochs, train_loader, val_loader, lr, collect_model=False):\n",
        "  optimizer = torch.optim.Adam(model.parameters(), lr=lr)\n",
        "  vlosses = []\n",
        "  if collect_model:\n",
        "    swag_model = SWAG(VanillaMLP, subspace_type=\"pca\",\n",
        "                    subspace_kwargs={\"max_rank\": 10, \"pca_rank\": 10},dims=model.dims)\n",
        "  pbar = tqdm(range(max_epochs))\n",
        "  for epoch in pbar:\n",
        "    for x,y in train_loader:\n",
        "      x = x.to(device)\n",
        "      y = y.to(device)\n",
        "      optimizer.zero_grad()\n",
        "      if collect_model: \n",
        "        swag_model.collect_model(model)\n",
        "      loss = loss_function(model,x,y)[0]\n",
        "      loss.backward()\n",
        "      optimizer.step()\n",
        "    vloss, vacc = celoss_acc(model, loss_function, val_loader)\n",
        "    vlosses.append(vloss)\n",
        "\n",
        "    # don't check convergence if simply collecting weights\n",
        "    if convergence(vlosses) and not(collect_model):\n",
        "      print(\"converged\")\n",
        "      break\n",
        "    pbar.set_description(f'loss: {round(vloss,3)}, acc: {round(vacc,3)}')\n",
        "    if epoch % 2 == 0:\n",
        "        print(f\"Epoch: {epoch}, loss: {vloss}, acc: {vacc}\")\n",
        "\n",
        "  if collect_model:\n",
        "    return swag_model.get_space()"
      ],
      "execution_count": null,
      "outputs": []
    },
    {
      "cell_type": "code",
      "metadata": {
        "id": "HSZuJW5lJil4"
      },
      "source": [
        "def vi_pred(model, number_samples, test_loader, num_classes=10):\n",
        "  preds = torch.zeros((len(test_loader.dataset), num_classes))\n",
        "  for n, (x,_) in tqdm(enumerate(test_loader)):\n",
        "    x = x.to(device)\n",
        "    for i in range(number_samples):\n",
        "      preds[n*test_batch_size:(n+1)*test_batch_size] += F.softmax(model(x).cpu(),dim=1)\n",
        "    del x \n",
        "    torch.cuda.empty_cache()\n",
        "  preds = 1/number_samples *preds\n",
        "  acc = (1.*torch.argmax(preds, dim=1).eq(test_loader.dataset.targets[:,0])).mean()\n",
        "  return preds, acc"
      ],
      "execution_count": null,
      "outputs": []
    },
    {
      "cell_type": "code",
      "metadata": {
        "id": "LU6sRS76_Bnz"
      },
      "source": [
        "def number_of_params(dims):\n",
        "  d = np.array(dims)\n",
        "  return ((d[:-1]*d[1:])+d[1:]).sum()\n",
        "\n",
        "def create_full_vi_model():\n",
        "  init_sigma = 1.\n",
        "  prior_sigma = 1.\n",
        "  dims = [28*28,10]\n",
        "  number_params = number_of_params(dims)\n",
        "  identity_space = SubspaceModel(torch.zeros(number_params), torch.eye(number_params))\n",
        "  mod = VIModel(\n",
        "      subspace=identity_space,\n",
        "      init_inv_softplus_sigma=math.log(math.exp(init_sigma) - 1.0),\n",
        "      prior_log_sigma=math.log(prior_sigma),\n",
        "      base=VanillaMLP,\n",
        "      dims=dims\n",
        "  )\n",
        "  mod.to(device)\n",
        "  return mod"
      ],
      "execution_count": null,
      "outputs": []
    },
    {
      "cell_type": "code",
      "metadata": {
        "id": "0uwy48c1faL2"
      },
      "source": [
        "class Ensemble(nn.Module):\n",
        "    \n",
        "  def __init__(self, number_of_networks, dims):\n",
        "    self.N = number_of_networks\n",
        "    self.dims = dims\n",
        "    self.ensemble = []\n",
        "    for _ in range(number_of_networks):\n",
        "       # change the seed otherwise all models will start with same init.\n",
        "       self._new_seeds()\n",
        "       self.ensemble.append(VanillaMLP(dims))\n",
        "    self._reset_seeds()\n",
        "\n",
        "  def _reset_seeds(self):\n",
        "    torch.manual_seed(INITIAL_SEED)\n",
        "    torch.cuda.manual_seed(INITIAL_SEED)\n",
        "    np.random.seed(INITIAL_SEED)\n",
        "  \n",
        "  def _new_seeds(self):\n",
        "    torch.manual_seed(torch.randint(high=256,size=(1,)).item())\n",
        "    torch.cuda.manual_seed(torch.randint(high=256,size=(1,)).item())\n",
        "    np.random.seed(torch.randint(high=256,size=(1,)).item())\n",
        "\n",
        "  def train(self, loss_function, max_epochs, train_loader, val_loader, lr):\n",
        "    for m in self.ensemble:\n",
        "      m.to(device)\n",
        "      self._new_seeds()\n",
        "      train(m, loss_function, max_epochs, train_loader, val_loader, lr=lr)\n",
        "    self._reset_seeds()\n",
        "  \n",
        "  def _single_predict(self, x):\n",
        "    output = torch.zeros(self.dims[-1])\n",
        "    for m in self.ensemble:\n",
        "      output += m(x)\n",
        "    return output/self.N\n",
        "  \n",
        "  def predict(self, loader):\n",
        "    preds = torch.zeros(len(loader), self.dims[-1])\n",
        "    for i, (x,y) in enumerate(loader):\n",
        "      preds[i] = self._single_predict(x)\n",
        "    return preds\n",
        "\n",
        "  def save(self):\n",
        "    for i in range(self.N):\n",
        "      torch.save(self.ensemble[i].state_dict(), f'/content/drive/My Drive/sibdl/ensemble-{i}.pt')\n",
        "    \n",
        "  def load(self):\n",
        "    for i in range(self.N):\n",
        "      self.ensemble[i].load_state_dict(torch.load(f'/content/drive/My Drive/sibdl/ensemble-{i}.pt'))"
      ],
      "execution_count": null,
      "outputs": []
    },
    {
      "cell_type": "code",
      "metadata": {
        "id": "xzsi05s1EJjA"
      },
      "source": [
        "# run VI on the PCA-derived subspace\n",
        "def create_vi_model(subspace):\n",
        "  init_sigma = 1.\n",
        "  prior_sigma = 5.\n",
        "  criterion = losses.cross_entropy\n",
        "  \n",
        "  vi_model = VIModel(\n",
        "      subspace=subspace,\n",
        "      init_inv_softplus_sigma=math.log(math.exp(init_sigma) - 1.0),\n",
        "      prior_log_sigma=math.log(prior_sigma),\n",
        "      base=VanillaMLP,\n",
        "      dims=[28*28,10]\n",
        "  )\n",
        "  \n",
        "  vi_model.to(device)\n",
        "  return vi_model\n"
      ],
      "execution_count": null,
      "outputs": []
    },
    {
      "cell_type": "markdown",
      "metadata": {
        "id": "gchOCSV-ANXT"
      },
      "source": [
        "## Training the models (you can skip this!)\n",
        "- Full VI \n",
        "- VI in PCA subspace \n",
        "- ensemble of NNs"
      ]
    },
    {
      "cell_type": "markdown",
      "metadata": {
        "id": "raWEYW_IANXT"
      },
      "source": [
        "### Mean Field Variational Inference"
      ]
    },
    {
      "cell_type": "code",
      "metadata": {
        "colab": {
          "base_uri": "https://localhost:8080/",
          "height": 310,
          "referenced_widgets": [
            "4dfd72be003f4211b8a5c75fb6398343",
            "b54c53bc60c74850803f1129b2dca9a7",
            "e42c8418085a48b09688f492c600d19f",
            "7826048887bc4ca7bb83f00389a78711",
            "0c5b6370baad4591bdb493210910197e",
            "808fd4d809334f1c8f017c7c3da0f5ef",
            "bf29e4f4dbdc43a6aa471ff3e2f912bb",
            "a383b1c358d94837886d49e67754473e"
          ]
        },
        "id": "BPwC_BsS_Qrb",
        "outputId": "aab71017-575d-45fe-a164-69445efcceb0"
      },
      "source": [
        "full_vi_model = create_full_vi_model()\n",
        "temperature = 1.\n",
        "elbo = ELBO(losses.cross_entropy, len(train_loader.dataset), temperature=temperature)\n",
        "train(full_vi_model, elbo, 500, train_loader, val_loader, lr=0.1)\n",
        "torch.save(full_vi_model.state_dict(), \"/content/drive/My Drive/sibdl/full-vi-pca-model.pt\")"
      ],
      "execution_count": null,
      "outputs": [
        {
          "output_type": "display_data",
          "data": {
            "application/vnd.jupyter.widget-view+json": {
              "model_id": "4dfd72be003f4211b8a5c75fb6398343",
              "version_minor": 0,
              "version_major": 2
            },
            "text/plain": [
              "HBox(children=(FloatProgress(value=0.0, max=500.0), HTML(value='')))"
            ]
          },
          "metadata": {
            "tags": []
          }
        },
        {
          "output_type": "stream",
          "text": [
            "Epoch: 0, loss: 0.0004849621057510376, acc: 0.85825\n",
            "Epoch: 2, loss: 0.00036828927199045815, acc: 0.8725833333333334\n",
            "Epoch: 4, loss: 0.0003597204685211182, acc: 0.8875\n",
            "Epoch: 6, loss: 0.0002725778023401896, acc: 0.881\n",
            "Epoch: 8, loss: 0.00030416907866795856, acc: 0.8719166666666667\n",
            "Epoch: 10, loss: 0.0002442347208658854, acc: 0.8970833333333333\n",
            "Epoch: 12, loss: 0.0002535726030667623, acc: 0.89\n",
            "Epoch: 14, loss: 0.0002333676020304362, acc: 0.8948333333333334\n",
            "Epoch: 16, loss: 0.00026942274967829385, acc: 0.8713333333333333\n",
            "Epoch: 18, loss: 0.00023447467883427938, acc: 0.8923333333333333\n",
            "Epoch: 20, loss: 0.00028329739967981974, acc: 0.8808333333333334\n",
            "Epoch: 22, loss: 0.00023154083887736001, acc: 0.8915833333333333\n",
            "Epoch: 24, loss: 0.0002003459930419922, acc: 0.9029166666666667\n",
            "Epoch: 26, loss: 0.00022897901137669882, acc: 0.8994166666666666\n",
            "converged\n"
          ],
          "name": "stdout"
        }
      ]
    },
    {
      "cell_type": "markdown",
      "metadata": {
        "id": "IyFkYb7MANXU"
      },
      "source": [
        "### Ensembles"
      ]
    },
    {
      "cell_type": "code",
      "metadata": {
        "id": "5BVBotV3gkX3",
        "colab": {
          "base_uri": "https://localhost:8080/",
          "height": 1000,
          "referenced_widgets": [
            "866a165558df4ad9b3803aa5c3dd2943",
            "dff8cb162abb4827acf07a28bb80d791",
            "753bb32d4a8b4af2970f79853ea9b263",
            "084372da086b4ce09343c631a033a218",
            "4e3416f57ee94a869f636b632177b4c2",
            "069dbe8876714ffa915ece244c8f551a",
            "31e30383f82a4a7dba46787465539dfc",
            "56019ce08202457c8658b78bcf32e1ce",
            "b8587f4bbadf47d8806cf2fa89b02963",
            "6a6f5c04408a4b558ee70c23d865f528",
            "34b22b17c7ac4e9fa2fef144765cd37d",
            "f471e958fe4e46d283568ebcb764344c",
            "16b4caf7c2b344fe8c7b19bc1b7cc52b",
            "823b4b74b0534b8f859adf16848c3f15",
            "2bcda07086ba44888f66377c2425dd76",
            "37029dc94f8d4ebbb77a93b73b7aa304",
            "194d4b6a83ff4f3fa9b7b468b67c7f15",
            "913eb769ba4b444babb6da5d47df72bd",
            "8d22edf9cdf24bc08ad69490358f702f",
            "c7bde53a3dd24940a515c7fde7a9ed6a",
            "e6d2ea6f871d4ccc9133917380aed27f",
            "0f228f37edf34682aa8dc819292f1240",
            "4ccf4939c05d4346abea12994604f991",
            "b63c88c6b9e240cc8886dc5047533ac8",
            "9f960f863f214bb9ba8e25e9acf61b56",
            "77af69e73c9e4ab2a556ab2ed171333e",
            "f4c68bc110294ccc86036e09c890c7b9",
            "4cd23b6eeeca49e189e39b28cee33d0d",
            "a90221149f09414ead4c52d37f55b5da",
            "1e6958632ba94b10a59cca649cdb1fa9",
            "3fa16d6b0d53429d9df2b94596d61fee",
            "9ce5f4c5049749f78aab92c91fa835a1",
            "69b8db410edc46d5b4ed2e179132a427",
            "c6d22124bd4b4d50a520430f5fc33e69",
            "e5082cf5c4a5490dbc900675ab5ba0bd",
            "1ccf083603d14363aa351ec98560c641",
            "20cdb10e17934d3db3a2e48fa9e82ede",
            "f8833de3f8694f1a868b22ebb013fabe",
            "366f23dffe924502bf7d43580693dcef",
            "7b2a24182aa0439181614c42acfe9b94",
            "eec87fa22b904e618f43bc6aa56f7f38",
            "8e5e4e88bf0a40d09ea800e122611981",
            "5836cf476d424767850b61aa207a8559",
            "0d2a3b3147204b5189779959f5c745b8",
            "768d99c8bcef4b84a50bcf5dc40768d2",
            "bccd72078f9e492c840ed9f68351f613",
            "274bc4f5b18046ccb5738fc16682ca87",
            "cf36b6ae644846bfb6f8c4526baa4282",
            "1ff33987efb5425a9ef7172d791bd8be",
            "6460858e8ff04c2e9f0b4c2e07a0888a",
            "4f101033601340759857117473380f95",
            "ffa3055f4fc94b61992e5e27c8c3239e",
            "2b60f95f23d6429ab6c08aba7f0c209a",
            "e46b7e46da5b43518d668d5edb4898fe",
            "bd21b24deb834dde8210b29b24c225b0",
            "0c44851a62534e599026fffd72d5ecc6",
            "a32620db69204ec299c2ad4fd67fc191",
            "07374833836b4fd88f59fa0ebb1fb7fd",
            "8de76201b9384241ab45588342c5f3ca",
            "5d532c9b2aa043feb0aa8d317aeb8095",
            "99ea71e064f54fe9b4eb80d3586b91b1",
            "26ad3b22f1bf4d1d9d650b8649c343bf",
            "0bba103cae7c4c848667cc63db66a8f2",
            "88499153348f4d26aa51489704b74cca",
            "5df67c270a9a4b87bca0782ed397c3ca",
            "857b0821d8e9450d97d454d89aad7229",
            "1f2236b398844a7fbd6156ac95504dbf",
            "f124964b37424196a55214212c557146",
            "d58b3d36477e418dadfca2bfad50ac60",
            "562b73f011dd46b49994bd58f9bb883b",
            "4e9a44fed6824425bba62c5dc8b49ea6",
            "ef643e67489641eeb1df83c65caa04c5",
            "9d8f30a2aa344c85bb36e4d1515b431a",
            "f2848f8738be4ec6881f0f52af74f044",
            "8e6bea07fce6474a81edfb4f0c93a081",
            "cdaa3f107b174b7ab4cc17566dc3c65a",
            "8093a27fb8f9411186f11337a7d214b5",
            "9db9b70f26ae4895a5917ea8b55dfef1",
            "a807377073fe4c0a90c47e44a4e061b9",
            "cafa104afc774455a6a36a5f05cceba9"
          ]
        },
        "outputId": "520cb2e3-485c-418c-f67f-0a427d9c7695"
      },
      "source": [
        "ensemble = Ensemble(number_of_networks = 10, dims = [28*28,10])\n",
        "ensemble.train(losses.cross_entropy, 500, train_loader, val_loader, lr=0.01)\n",
        "ensemble.save()"
      ],
      "execution_count": null,
      "outputs": [
        {
          "output_type": "display_data",
          "data": {
            "application/vnd.jupyter.widget-view+json": {
              "model_id": "866a165558df4ad9b3803aa5c3dd2943",
              "version_minor": 0,
              "version_major": 2
            },
            "text/plain": [
              "HBox(children=(FloatProgress(value=0.0, max=500.0), HTML(value='')))"
            ]
          },
          "metadata": {
            "tags": []
          }
        },
        {
          "output_type": "stream",
          "text": [
            "Epoch: 0, loss: 2.5275332232316336e-05, acc: 0.9143333333333333\n",
            "Epoch: 2, loss: 2.4666423598925272e-05, acc: 0.9191666666666667\n",
            "Epoch: 4, loss: 2.5266659756501515e-05, acc: 0.9185\n",
            "Epoch: 6, loss: 2.5910275677839915e-05, acc: 0.9173333333333333\n",
            "Epoch: 8, loss: 2.6476919651031494e-05, acc: 0.91625\n",
            "converged\n"
          ],
          "name": "stdout"
        },
        {
          "output_type": "display_data",
          "data": {
            "application/vnd.jupyter.widget-view+json": {
              "model_id": "b8587f4bbadf47d8806cf2fa89b02963",
              "version_minor": 0,
              "version_major": 2
            },
            "text/plain": [
              "HBox(children=(FloatProgress(value=0.0, max=500.0), HTML(value='')))"
            ]
          },
          "metadata": {
            "tags": []
          }
        },
        {
          "output_type": "stream",
          "text": [
            "Epoch: 0, loss: 2.533416450023651e-05, acc: 0.915\n",
            "Epoch: 2, loss: 2.4844430387020112e-05, acc: 0.9188333333333333\n",
            "Epoch: 4, loss: 2.54142756263415e-05, acc: 0.91775\n",
            "Epoch: 6, loss: 2.602772911389669e-05, acc: 0.9170833333333334\n",
            "Epoch: 8, loss: 2.6564190785090127e-05, acc: 0.91675\n",
            "converged\n"
          ],
          "name": "stdout"
        },
        {
          "output_type": "display_data",
          "data": {
            "application/vnd.jupyter.widget-view+json": {
              "model_id": "194d4b6a83ff4f3fa9b7b468b67c7f15",
              "version_minor": 0,
              "version_major": 2
            },
            "text/plain": [
              "HBox(children=(FloatProgress(value=0.0, max=500.0), HTML(value='')))"
            ]
          },
          "metadata": {
            "tags": []
          }
        },
        {
          "output_type": "stream",
          "text": [
            "Epoch: 0, loss: 2.5827467441558837e-05, acc: 0.913\n",
            "Epoch: 2, loss: 2.4679186443487804e-05, acc: 0.9194166666666667\n",
            "Epoch: 4, loss: 2.5405300160249075e-05, acc: 0.9186666666666666\n",
            "Epoch: 6, loss: 2.6050736506779988e-05, acc: 0.9173333333333333\n",
            "Epoch: 8, loss: 2.6593044400215148e-05, acc: 0.9156666666666666\n",
            "converged\n"
          ],
          "name": "stdout"
        },
        {
          "output_type": "display_data",
          "data": {
            "application/vnd.jupyter.widget-view+json": {
              "model_id": "9f960f863f214bb9ba8e25e9acf61b56",
              "version_minor": 0,
              "version_major": 2
            },
            "text/plain": [
              "HBox(children=(FloatProgress(value=0.0, max=500.0), HTML(value='')))"
            ]
          },
          "metadata": {
            "tags": []
          }
        },
        {
          "output_type": "stream",
          "text": [
            "Epoch: 0, loss: 2.5270608564217886e-05, acc: 0.91475\n",
            "Epoch: 2, loss: 2.489598592122396e-05, acc: 0.919\n",
            "Epoch: 4, loss: 2.5448985397815704e-05, acc: 0.9176666666666666\n",
            "Epoch: 6, loss: 2.602744847536087e-05, acc: 0.9174166666666667\n",
            "Epoch: 8, loss: 2.6543234785397846e-05, acc: 0.91675\n",
            "converged\n"
          ],
          "name": "stdout"
        },
        {
          "output_type": "display_data",
          "data": {
            "application/vnd.jupyter.widget-view+json": {
              "model_id": "69b8db410edc46d5b4ed2e179132a427",
              "version_minor": 0,
              "version_major": 2
            },
            "text/plain": [
              "HBox(children=(FloatProgress(value=0.0, max=500.0), HTML(value='')))"
            ]
          },
          "metadata": {
            "tags": []
          }
        },
        {
          "output_type": "stream",
          "text": [
            "Epoch: 0, loss: 2.5803687671820322e-05, acc: 0.9120833333333334\n",
            "Epoch: 2, loss: 2.4680996934572856e-05, acc: 0.9188333333333333\n",
            "Epoch: 4, loss: 2.533531685670217e-05, acc: 0.9180833333333334\n",
            "Epoch: 6, loss: 2.595772345860799e-05, acc: 0.9169166666666667\n",
            "Epoch: 8, loss: 2.649826556444168e-05, acc: 0.91625\n",
            "converged\n"
          ],
          "name": "stdout"
        },
        {
          "output_type": "display_data",
          "data": {
            "application/vnd.jupyter.widget-view+json": {
              "model_id": "eec87fa22b904e618f43bc6aa56f7f38",
              "version_minor": 0,
              "version_major": 2
            },
            "text/plain": [
              "HBox(children=(FloatProgress(value=0.0, max=500.0), HTML(value='')))"
            ]
          },
          "metadata": {
            "tags": []
          }
        },
        {
          "output_type": "stream",
          "text": [
            "Epoch: 0, loss: 2.564952274163564e-05, acc: 0.9123333333333333\n",
            "Epoch: 2, loss: 2.479808032512665e-05, acc: 0.9184166666666667\n",
            "Epoch: 4, loss: 2.5414012372493744e-05, acc: 0.9186666666666666\n",
            "Epoch: 6, loss: 2.602367103099823e-05, acc: 0.91725\n",
            "Epoch: 8, loss: 2.655041217803955e-05, acc: 0.9165833333333333\n",
            "converged\n"
          ],
          "name": "stdout"
        },
        {
          "output_type": "display_data",
          "data": {
            "application/vnd.jupyter.widget-view+json": {
              "model_id": "1ff33987efb5425a9ef7172d791bd8be",
              "version_minor": 0,
              "version_major": 2
            },
            "text/plain": [
              "HBox(children=(FloatProgress(value=0.0, max=500.0), HTML(value='')))"
            ]
          },
          "metadata": {
            "tags": []
          }
        },
        {
          "output_type": "stream",
          "text": [
            "Epoch: 0, loss: 2.558326969544093e-05, acc: 0.9140833333333334\n",
            "Epoch: 2, loss: 2.4909918506940206e-05, acc: 0.9189166666666667\n",
            "Epoch: 4, loss: 2.550628036260605e-05, acc: 0.9179166666666667\n",
            "Epoch: 6, loss: 2.6078037917613985e-05, acc: 0.9174166666666667\n",
            "Epoch: 8, loss: 2.6578163107236226e-05, acc: 0.9165\n",
            "converged\n"
          ],
          "name": "stdout"
        },
        {
          "output_type": "display_data",
          "data": {
            "application/vnd.jupyter.widget-view+json": {
              "model_id": "a32620db69204ec299c2ad4fd67fc191",
              "version_minor": 0,
              "version_major": 2
            },
            "text/plain": [
              "HBox(children=(FloatProgress(value=0.0, max=500.0), HTML(value='')))"
            ]
          },
          "metadata": {
            "tags": []
          }
        },
        {
          "output_type": "stream",
          "text": [
            "Epoch: 0, loss: 2.5464676320552827e-05, acc: 0.9144166666666667\n",
            "Epoch: 2, loss: 2.5139883160591124e-05, acc: 0.91925\n",
            "Epoch: 4, loss: 2.575375388065974e-05, acc: 0.9181666666666667\n",
            "Epoch: 6, loss: 2.6269038518269858e-05, acc: 0.9166666666666666\n",
            "Epoch: 8, loss: 2.6707728703816733e-05, acc: 0.9164166666666667\n",
            "converged\n"
          ],
          "name": "stdout"
        },
        {
          "output_type": "display_data",
          "data": {
            "application/vnd.jupyter.widget-view+json": {
              "model_id": "5df67c270a9a4b87bca0782ed397c3ca",
              "version_minor": 0,
              "version_major": 2
            },
            "text/plain": [
              "HBox(children=(FloatProgress(value=0.0, max=500.0), HTML(value='')))"
            ]
          },
          "metadata": {
            "tags": []
          }
        },
        {
          "output_type": "stream",
          "text": [
            "Epoch: 0, loss: 2.5922134518623352e-05, acc: 0.9125\n",
            "Epoch: 2, loss: 2.481287717819214e-05, acc: 0.9178333333333333\n",
            "Epoch: 4, loss: 2.546661098798116e-05, acc: 0.917\n",
            "Epoch: 6, loss: 2.6083310445149738e-05, acc: 0.9169166666666667\n",
            "Epoch: 8, loss: 2.660437673330307e-05, acc: 0.9165833333333333\n",
            "converged\n"
          ],
          "name": "stdout"
        },
        {
          "output_type": "display_data",
          "data": {
            "application/vnd.jupyter.widget-view+json": {
              "model_id": "9d8f30a2aa344c85bb36e4d1515b431a",
              "version_minor": 0,
              "version_major": 2
            },
            "text/plain": [
              "HBox(children=(FloatProgress(value=0.0, max=500.0), HTML(value='')))"
            ]
          },
          "metadata": {
            "tags": []
          }
        },
        {
          "output_type": "stream",
          "text": [
            "Epoch: 0, loss: 2.567920337120692e-05, acc: 0.9128333333333334\n",
            "Epoch: 2, loss: 2.480037013689677e-05, acc: 0.9190833333333334\n",
            "Epoch: 4, loss: 2.548521508773168e-05, acc: 0.9175833333333333\n",
            "Epoch: 6, loss: 2.610793709754944e-05, acc: 0.9173333333333333\n",
            "Epoch: 8, loss: 2.6629172265529632e-05, acc: 0.9161666666666667\n",
            "converged\n"
          ],
          "name": "stdout"
        }
      ]
    },
    {
      "cell_type": "markdown",
      "metadata": {
        "id": "yw3J4TWtANXV"
      },
      "source": [
        "### PCA subspace"
      ]
    },
    {
      "cell_type": "code",
      "metadata": {
        "colab": {
          "base_uri": "https://localhost:8080/"
        },
        "id": "wQ7DJHwhANXY",
        "outputId": "a2b9b49f-87d7-4946-eb0c-203f9726e851"
      },
      "source": [
        "model = VanillaMLP([28*28,10])\n",
        "model.to(device)"
      ],
      "execution_count": null,
      "outputs": [
        {
          "output_type": "execute_result",
          "data": {
            "text/plain": [
              "VanillaMLP(\n",
              "  (model): Sequential(\n",
              "    (0): Flatten(start_dim=1, end_dim=-1)\n",
              "    (1): Linear(in_features=784, out_features=10, bias=True)\n",
              "  )\n",
              ")"
            ]
          },
          "metadata": {
            "tags": []
          },
          "execution_count": 62
        }
      ]
    },
    {
      "cell_type": "code",
      "metadata": {
        "colab": {
          "base_uri": "https://localhost:8080/",
          "height": 1000,
          "referenced_widgets": [
            "304cbd9fc727498f8609a7a21a741b9f",
            "4afbd9ff3fc34e63abbe72f62f651917",
            "3a1714bdd4b848b3abb2c3e4dbc2f26f",
            "d15357e1d6ad45a0b07e5e047cffd06b",
            "e4fbd7d782b44d299d34be28f78d05ca",
            "4fd871886c52490d80550b9864a3ca13",
            "459f5a175b914a609a7c919570041af8",
            "7eed88e89f894d72966a7fdd313db90e",
            "4114fff0ba4440a0a451736d0b2e5128",
            "5ead7e4266e942e98ffb9a82c8108b44",
            "5b606819f9614e7587e4001e03776de4",
            "d0ab280a416f489c8f9887c7b7718734",
            "dee5d930fa7f493e93a0c13cd369be2f",
            "90a59cec945545ebaa65d9215820b964",
            "534dbc968eb14d5bb263cca0136b1c92",
            "826987153fa8469f93d201f0997d61a3"
          ]
        },
        "id": "hPO8E0UmHcfj",
        "outputId": "e50d269a-a927-4abf-d6d5-4eb11aad4ac9"
      },
      "source": [
        "# train model to convergence\n",
        "\n",
        "train(model, losses.cross_entropy, 500, train_loader, val_loader, lr=0.001)\n",
        "\n",
        "# train for a further number of epochs to collect PCA subspace\n",
        "space = train(model, losses.cross_entropy, 200, train_loader, val_loader, lr=0.001, collect_model=True)\n",
        "torch.save(model.state_dict(), \"/content/drive/My Drive/sibdl/MLP-qmnist.pt\")\n",
        "mean, _, cov_factor = space\n",
        "subspace = SubspaceModel(mean, cov_factor)\n",
        "torch.save(subspace.state_dict(), \"/content/drive/My Drive/sibdl/pca-subspace-qmnist.pt\")"
      ],
      "execution_count": null,
      "outputs": [
        {
          "output_type": "display_data",
          "data": {
            "application/vnd.jupyter.widget-view+json": {
              "model_id": "304cbd9fc727498f8609a7a21a741b9f",
              "version_minor": 0,
              "version_major": 2
            },
            "text/plain": [
              "HBox(children=(FloatProgress(value=0.0, max=500.0), HTML(value='')))"
            ]
          },
          "metadata": {
            "tags": []
          }
        },
        {
          "output_type": "stream",
          "text": [
            "Epoch: 0, loss: 3.324992209672928e-05, acc: 0.8956666666666667\n",
            "Epoch: 2, loss: 2.5866739451885224e-05, acc: 0.9148333333333334\n",
            "Epoch: 4, loss: 2.4122968316078186e-05, acc: 0.9205\n",
            "Epoch: 6, loss: 2.3373591403166454e-05, acc: 0.9225\n",
            "Epoch: 8, loss: 2.297955999771754e-05, acc: 0.92375\n",
            "Epoch: 10, loss: 2.2752498586972556e-05, acc: 0.92475\n",
            "Epoch: 12, loss: 2.261671672264735e-05, acc: 0.9251666666666667\n",
            "Epoch: 14, loss: 2.253587543964386e-05, acc: 0.9260833333333334\n",
            "Epoch: 16, loss: 2.2490233182907106e-05, acc: 0.92675\n",
            "Epoch: 18, loss: 2.24681223432223e-05, acc: 0.9275833333333333\n",
            "Epoch: 20, loss: 2.246218423048655e-05, acc: 0.928\n",
            "Epoch: 22, loss: 2.2467566033204398e-05, acc: 0.9278333333333333\n",
            "Epoch: 24, loss: 2.2480939825375874e-05, acc: 0.92775\n",
            "converged\n"
          ],
          "name": "stdout"
        },
        {
          "output_type": "display_data",
          "data": {
            "application/vnd.jupyter.widget-view+json": {
              "model_id": "4114fff0ba4440a0a451736d0b2e5128",
              "version_minor": 0,
              "version_major": 2
            },
            "text/plain": [
              "HBox(children=(FloatProgress(value=0.0, max=200.0), HTML(value='')))"
            ]
          },
          "metadata": {
            "tags": []
          }
        },
        {
          "output_type": "stream",
          "text": [
            "Epoch: 0, loss: 2.2499787310759226e-05, acc: 0.9270833333333334\n",
            "Epoch: 2, loss: 2.2538368900616963e-05, acc: 0.9275833333333333\n",
            "Epoch: 4, loss: 2.2570071121056875e-05, acc: 0.9275\n",
            "Epoch: 6, loss: 2.2601827979087828e-05, acc: 0.92775\n",
            "Epoch: 8, loss: 2.263371149698893e-05, acc: 0.92775\n",
            "Epoch: 10, loss: 2.266569435596466e-05, acc: 0.92775\n",
            "Epoch: 12, loss: 2.2697662313779195e-05, acc: 0.9275\n",
            "Epoch: 14, loss: 2.272953341404597e-05, acc: 0.92725\n",
            "Epoch: 16, loss: 2.276123563448588e-05, acc: 0.9273333333333333\n",
            "Epoch: 18, loss: 2.2792714337507885e-05, acc: 0.9275833333333333\n",
            "Epoch: 20, loss: 2.2823902467886606e-05, acc: 0.9273333333333333\n",
            "Epoch: 22, loss: 2.2854775190353394e-05, acc: 0.9270833333333334\n",
            "Epoch: 24, loss: 2.2885310153166454e-05, acc: 0.9269166666666667\n",
            "Epoch: 26, loss: 2.2915480037530264e-05, acc: 0.9269166666666667\n",
            "Epoch: 28, loss: 2.294526994228363e-05, acc: 0.927\n",
            "Epoch: 30, loss: 2.297468235095342e-05, acc: 0.9268333333333333\n",
            "Epoch: 32, loss: 2.3003699878851572e-05, acc: 0.92675\n",
            "Epoch: 34, loss: 2.303232252597809e-05, acc: 0.9266666666666666\n",
            "Epoch: 36, loss: 2.3060547808806102e-05, acc: 0.92675\n",
            "Epoch: 38, loss: 2.3088373243808747e-05, acc: 0.92675\n",
            "Epoch: 40, loss: 2.311580628156662e-05, acc: 0.9265833333333333\n",
            "Epoch: 42, loss: 2.314284692207972e-05, acc: 0.9266666666666666\n",
            "Epoch: 44, loss: 2.316950261592865e-05, acc: 0.9264166666666667\n",
            "Epoch: 46, loss: 2.3195770879586538e-05, acc: 0.92625\n",
            "Epoch: 48, loss: 2.322168399890264e-05, acc: 0.926\n",
            "Epoch: 50, loss: 2.32472022374471e-05, acc: 0.926\n",
            "Epoch: 52, loss: 2.327237029870351e-05, acc: 0.926\n",
            "Epoch: 54, loss: 2.3297190666198732e-05, acc: 0.9255833333333333\n",
            "Epoch: 56, loss: 2.3321648438771566e-05, acc: 0.92575\n",
            "Epoch: 58, loss: 2.3345768451690675e-05, acc: 0.9255\n",
            "Epoch: 60, loss: 2.3369560639063517e-05, acc: 0.9254166666666667\n",
            "Epoch: 62, loss: 2.3393027484416962e-05, acc: 0.92575\n",
            "Epoch: 64, loss: 2.3416176438331604e-05, acc: 0.92575\n",
            "Epoch: 66, loss: 2.343900998433431e-05, acc: 0.9256666666666666\n",
            "Epoch: 68, loss: 2.346155047416687e-05, acc: 0.9255\n",
            "Epoch: 70, loss: 2.3483790457248686e-05, acc: 0.9255\n",
            "Epoch: 72, loss: 2.350573738416036e-05, acc: 0.9255\n",
            "Epoch: 74, loss: 2.3527408639589947e-05, acc: 0.9255833333333333\n",
            "Epoch: 76, loss: 2.3548811674118043e-05, acc: 0.9256666666666666\n",
            "Epoch: 78, loss: 2.356992910305659e-05, acc: 0.9255833333333333\n",
            "Epoch: 80, loss: 2.3590803146362305e-05, acc: 0.925\n",
            "Epoch: 82, loss: 2.361141393582026e-05, acc: 0.9250833333333334\n",
            "Epoch: 84, loss: 2.3631781339645386e-05, acc: 0.925\n",
            "Epoch: 86, loss: 2.3651905357837678e-05, acc: 0.9250833333333334\n",
            "Epoch: 88, loss: 2.3671785990397134e-05, acc: 0.9251666666666667\n",
            "Epoch: 90, loss: 2.3691443105538685e-05, acc: 0.92525\n",
            "Epoch: 92, loss: 2.3710866769154865e-05, acc: 0.9251666666666667\n",
            "Epoch: 94, loss: 2.3730079332987467e-05, acc: 0.925\n",
            "Epoch: 96, loss: 2.3749075829982758e-05, acc: 0.9248333333333333\n",
            "Epoch: 98, loss: 2.3767868677775065e-05, acc: 0.92475\n",
            "Epoch: 100, loss: 2.378644049167633e-05, acc: 0.9249166666666667\n",
            "Epoch: 102, loss: 2.3804823557535808e-05, acc: 0.9249166666666667\n",
            "Epoch: 104, loss: 2.3823002974192302e-05, acc: 0.9249166666666667\n",
            "Epoch: 106, loss: 2.3840996126333873e-05, acc: 0.9248333333333333\n",
            "Epoch: 108, loss: 2.3858812948067985e-05, acc: 0.9246666666666666\n",
            "Epoch: 110, loss: 2.387642612059911e-05, acc: 0.9246666666666666\n",
            "Epoch: 112, loss: 2.3893875380357106e-05, acc: 0.9246666666666666\n",
            "Epoch: 114, loss: 2.3911148309707643e-05, acc: 0.9245833333333333\n",
            "Epoch: 116, loss: 2.392825484275818e-05, acc: 0.9246666666666666\n",
            "Epoch: 118, loss: 2.3945185045401255e-05, acc: 0.9245\n",
            "Epoch: 120, loss: 2.3961953818798066e-05, acc: 0.9245833333333333\n",
            "Epoch: 122, loss: 2.3978558679421742e-05, acc: 0.9244166666666667\n",
            "Epoch: 124, loss: 2.3995012044906617e-05, acc: 0.9244166666666667\n",
            "Epoch: 126, loss: 2.4011303981145222e-05, acc: 0.9244166666666667\n",
            "Epoch: 128, loss: 2.4027449389298755e-05, acc: 0.9243333333333333\n",
            "Epoch: 130, loss: 2.4043448269367216e-05, acc: 0.9244166666666667\n",
            "Epoch: 132, loss: 2.405929813782374e-05, acc: 0.9244166666666667\n",
            "Epoch: 134, loss: 2.4075016379356383e-05, acc: 0.9244166666666667\n",
            "Epoch: 136, loss: 2.4090578158696494e-05, acc: 0.9245\n",
            "Epoch: 138, loss: 2.410601079463959e-05, acc: 0.9245833333333333\n",
            "Epoch: 140, loss: 2.4121306836605072e-05, acc: 0.9244166666666667\n",
            "Epoch: 142, loss: 2.4136471251646678e-05, acc: 0.92425\n",
            "Epoch: 144, loss: 2.415151397387187e-05, acc: 0.92425\n",
            "Epoch: 146, loss: 2.4166420102119445e-05, acc: 0.92425\n",
            "Epoch: 148, loss: 2.418119211991628e-05, acc: 0.9241666666666667\n",
            "Epoch: 150, loss: 2.419585734605789e-05, acc: 0.9240833333333334\n",
            "Epoch: 152, loss: 2.421039342880249e-05, acc: 0.924\n",
            "Epoch: 154, loss: 2.4224810302257537e-05, acc: 0.9240833333333334\n",
            "Epoch: 156, loss: 2.423910548289617e-05, acc: 0.9240833333333334\n",
            "Epoch: 158, loss: 2.4253288904825847e-05, acc: 0.9238333333333333\n",
            "Epoch: 160, loss: 2.4267350633939106e-05, acc: 0.9239166666666667\n",
            "Epoch: 162, loss: 2.428130308787028e-05, acc: 0.9239166666666667\n",
            "Epoch: 164, loss: 2.42951437830925e-05, acc: 0.924\n",
            "Epoch: 166, loss: 2.4308877686659494e-05, acc: 0.9238333333333333\n",
            "Epoch: 168, loss: 2.432249734799067e-05, acc: 0.92375\n",
            "Epoch: 170, loss: 2.4336020151774088e-05, acc: 0.9235833333333333\n",
            "Epoch: 172, loss: 2.4349428713321686e-05, acc: 0.9236666666666666\n",
            "Epoch: 174, loss: 2.436273793379466e-05, acc: 0.9235833333333333\n",
            "Epoch: 176, loss: 2.4375947813193002e-05, acc: 0.9233333333333333\n",
            "Epoch: 178, loss: 2.4389045933882396e-05, acc: 0.92325\n",
            "Epoch: 180, loss: 2.4402054647604626e-05, acc: 0.9233333333333333\n",
            "Epoch: 182, loss: 2.4414961536725364e-05, acc: 0.9233333333333333\n",
            "Epoch: 184, loss: 2.442777156829834e-05, acc: 0.92325\n",
            "Epoch: 186, loss: 2.4440484742323558e-05, acc: 0.92325\n",
            "Epoch: 188, loss: 2.445310354232788e-05, acc: 0.9233333333333333\n",
            "Epoch: 190, loss: 2.446563790241877e-05, acc: 0.9233333333333333\n",
            "Epoch: 192, loss: 2.447807292143504e-05, acc: 0.92325\n",
            "Epoch: 194, loss: 2.449041853348414e-05, acc: 0.92325\n",
            "Epoch: 196, loss: 2.4502672255039217e-05, acc: 0.9230833333333334\n",
            "Epoch: 198, loss: 2.4514839053153992e-05, acc: 0.923\n",
            "\n"
          ],
          "name": "stdout"
        }
      ]
    },
    {
      "cell_type": "code",
      "metadata": {
        "colab": {
          "base_uri": "https://localhost:8080/",
          "height": 171,
          "referenced_widgets": [
            "7cf310ad5aca4b9e915ea0a37ac03a24",
            "31da98b8fca847d98b32fbedaf0ab7db",
            "6530f7dd0db04ca4beee0a795a863f06",
            "97016cf8baeb44a1af696d6bc1ee6480",
            "98b8b0fb55ea4db586910c0f19d7c48a",
            "8b8dd04373b34461be4e5ab07e61d191",
            "689e95789f2f4a0fb0ddca82a7d2a501",
            "d5a8b48abd454bbfbc868bb5fa23bc4a"
          ]
        },
        "id": "rZCPBVTTANXY",
        "outputId": "404c8c7f-6995-4d85-800f-383dc21efade"
      },
      "source": [
        "vi_model = create_vi_model(subspace)\n",
        "temperature = 1.\n",
        "elbo = ELBO(losses.cross_entropy, len(train_loader.dataset), temperature=temperature)\n",
        "train(vi_model, elbo, 500, train_loader, val_loader, lr=0.001)\n",
        "torch.save(vi_model.state_dict(), \"/content/drive/My Drive/sibdl/vi-pca-model.pt\")"
      ],
      "execution_count": null,
      "outputs": [
        {
          "output_type": "display_data",
          "data": {
            "application/vnd.jupyter.widget-view+json": {
              "model_id": "7cf310ad5aca4b9e915ea0a37ac03a24",
              "version_minor": 0,
              "version_major": 2
            },
            "text/plain": [
              "HBox(children=(FloatProgress(value=0.0, max=500.0), HTML(value='')))"
            ]
          },
          "metadata": {
            "tags": []
          }
        },
        {
          "output_type": "stream",
          "text": [
            "Epoch: 0, loss: 2.5003763536612192e-05, acc: 0.9235833333333333\n",
            "Epoch: 2, loss: 2.3306620617707572e-05, acc: 0.9273333333333333\n",
            "Epoch: 4, loss: 2.2917407254378e-05, acc: 0.9281666666666667\n",
            "Epoch: 6, loss: 2.3281546930472055e-05, acc: 0.9273333333333333\n",
            "Epoch: 8, loss: 2.310450126727422e-05, acc: 0.9253333333333333\n",
            "Epoch: 10, loss: 2.3160678644975026e-05, acc: 0.92825\n",
            "converged\n"
          ],
          "name": "stdout"
        }
      ]
    },
    {
      "cell_type": "markdown",
      "metadata": {
        "id": "ow6mn2tliuG6"
      },
      "source": [
        "## Running Ensembles, PCA subspace and full VI"
      ]
    },
    {
      "cell_type": "markdown",
      "metadata": {
        "id": "_59cVPonp2Vk"
      },
      "source": [
        "Let's load the old models"
      ]
    },
    {
      "cell_type": "code",
      "metadata": {
        "id": "eqC2_qdXp1Ut"
      },
      "source": [
        "full_vi_model = create_full_vi_model()\n",
        "full_vi_model.load_state_dict(torch.load('/content/drive/My Drive/sibdl/full-vi-pca-model.pt'))\n",
        "\n",
        "ensemble = Ensemble(10, [28*28,10])\n",
        "ensemble.load()\n",
        "\n",
        "mean,cov_factor = torch.zeros(7850), torch.zeros(10,7850)\n",
        "subspace = SubspaceModel(mean, cov_factor)\n",
        "subspace.load_state_dict(torch.load(\"/content/drive/My Drive/sibdl/pca-subspace-qmnist.pt\"))\n",
        "vi_model = create_vi_model(subspace)"
      ],
      "execution_count": null,
      "outputs": []
    },
    {
      "cell_type": "markdown",
      "metadata": {
        "id": "nkOMSvY8i7zE"
      },
      "source": [
        "#### Full VI"
      ]
    },
    {
      "cell_type": "code",
      "metadata": {
        "colab": {
          "base_uri": "https://localhost:8080/",
          "height": 295,
          "referenced_widgets": [
            "6e5086badf424d4cadcef9a64edb3e5c",
            "87ed47d9286c479ba38ec92d0e80fd23",
            "3f7c2306fcc0403fa47765512b829d5f",
            "4ab310be4d074156b23ad87d2d37808b",
            "5a418a113cc741358d474a2e5aeb1656",
            "6f60d9cc4c7e42ad8bd5fca52f33f372",
            "143e1704fcf94ff1a7d615bdb9529f96",
            "b2f6dd62b0ca4d59868763220ec46b6c"
          ]
        },
        "id": "nQoHDqXmte7f",
        "outputId": "a520644a-edf3-4791-95c3-013ceda7bf82"
      },
      "source": [
        "test_batch_size = 512\n",
        "test_loader = torch.utils.data.DataLoader(test,batch_size=test_batch_size)\n",
        "full_vi_preds,acc = vi_pred(full_vi_model, 100, test_loader)\n",
        "inds = torch.max(full_vi_preds,dim=1)[0].argsort()[:20]\n",
        "print(torch.max(full_vi_preds,dim=1)[0][inds])\n",
        "fig,axs = plt.subplots(figsize=(10,3),nrows=4, ncols=5)\n",
        "axs = axs.flatten()\n",
        "for i,im in enumerate(test_loader.dataset.data[inds]):\n",
        "  ax = axs[i]\n",
        "  ax.imshow(im,cmap='gray')\n",
        "  ax.set_axis_off()\n",
        "  # ax.title.set_text(f'predicted: {full_vi_preds[i].argmax()}')\n",
        "# plt.title(\"Full Variational Inference\")\n",
        "plt.savefig('full-vi.png')\n",
        "plt.show()"
      ],
      "execution_count": null,
      "outputs": [
        {
          "output_type": "display_data",
          "data": {
            "application/vnd.jupyter.widget-view+json": {
              "model_id": "6e5086badf424d4cadcef9a64edb3e5c",
              "version_minor": 0,
              "version_major": 2
            },
            "text/plain": [
              "HBox(children=(FloatProgress(value=1.0, bar_style='info', max=1.0), HTML(value='')))"
            ]
          },
          "metadata": {
            "tags": []
          }
        },
        {
          "output_type": "stream",
          "text": [
            "\n",
            "tensor([0.3141, 0.3308, 0.3322, 0.3353, 0.3464, 0.3468, 0.3469, 0.3470, 0.3500,\n",
            "        0.3504, 0.3530, 0.3540, 0.3545, 0.3569, 0.3582, 0.3587, 0.3649, 0.3649,\n",
            "        0.3663, 0.3708], grad_fn=<IndexBackward>)\n"
          ],
          "name": "stdout"
        },
        {
          "output_type": "display_data",
          "data": {
            "image/png": "[encoded data removed]",
            "text/plain": [
              "<Figure size 720x216 with 20 Axes>"
            ]
          },
          "metadata": {
            "tags": [],
            "needs_background": "light"
          }
        }
      ]
    },
    {
      "cell_type": "markdown",
      "metadata": {
        "id": "uaHXDZ2PjB12"
      },
      "source": [
        "### PCA subspace"
      ]
    },
    {
      "cell_type": "code",
      "metadata": {
        "colab": {
          "base_uri": "https://localhost:8080/",
          "height": 180
        },
        "id": "uJqi8iYgn04_",
        "outputId": "a82c0dcf-5bab-4214-e4ff-e1cf38f321f3"
      },
      "source": [
        "test_batch_size = 512\n",
        "test_loader = torch.utils.data.DataLoader(test,batch_size=test_batch_size)\n",
        "# vi_preds,acc = vi_pred(vi_model, 100, test_loader)\n",
        "inds = torch.max(vi_preds,dim=1)[0].argsort()[:20]\n",
        "print(torch.max(vi_preds,dim=1)[0][inds])\n",
        "fig,axs = plt.subplots(figsize=(8,2),nrows=2, ncols=10)\n",
        "axs = axs.flatten()\n",
        "for i,im in enumerate(test_loader.dataset.data[inds]):\n",
        "  ax = axs[i]\n",
        "  ax.imshow(im,cmap='gray')\n",
        "  ax.set_axis_off()\n",
        "  # ax.title.set_text(f'predicted: {vi_preds[i].argmax()}')\n",
        "# plt.title(\"Variational Inference in PCA subspace with 10 dimensions\")\n",
        "plt.savefig(\"vi.pdf\")\n",
        "plt.show()"
      ],
      "execution_count": null,
      "outputs": [
        {
          "output_type": "stream",
          "text": [
            "tensor([0.2090, 0.2255, 0.2269, 0.2374, 0.2504, 0.2544, 0.2577, 0.2617, 0.2620,\n",
            "        0.2652, 0.2700, 0.2702, 0.2709, 0.2723, 0.2751, 0.2751, 0.2762, 0.2776,\n",
            "        0.2778, 0.2793], grad_fn=<IndexBackward>)\n"
          ],
          "name": "stdout"
        },
        {
          "output_type": "display_data",
          "data": {
            "image/png": "[encoded data removed]",
            "text/plain": [
              "<Figure size 576x144 with 20 Axes>"
            ]
          },
          "metadata": {
            "tags": [],
            "needs_background": "light"
          }
        }
      ]
    },
    {
      "cell_type": "markdown",
      "metadata": {
        "id": "ox1MvvcRjFVL"
      },
      "source": [
        "### Ensemble"
      ]
    },
    {
      "cell_type": "code",
      "metadata": {
        "id": "eCPFhBLmjJZd",
        "colab": {
          "base_uri": "https://localhost:8080/",
          "height": 234
        },
        "outputId": "6e3f6001-62c0-42cb-ad9a-2c3ac4b3fb29"
      },
      "source": [
        "# test_loader = torch.utils.data.DataLoader(test,batch_size=1)\n",
        "# ensemble_preds = torch.zeros(len(test_loader), 10)\n",
        "\n",
        "# for i, (x,y) in enumerate(test_loader):\n",
        "#   x = x.to(device)\n",
        "#   output = torch.zeros(1,10).to(device)\n",
        "#   for m in ensemble.ensemble:\n",
        "#     m.to(device)\n",
        "#     output += F.softmax(m(x), dim=1)\n",
        "#   ensemble_preds[i] = output/ensemble.N\n",
        "\n",
        "inds = torch.max(ensemble_preds,dim=1)[0].argsort()[:20]\n",
        "print(torch.max(ensemble_preds,dim=1)[0][inds])\n",
        "fig,axs = plt.subplots(figsize=(5,2),nrows=4, ncols=5)\n",
        "axs = axs.flatten()\n",
        "for i,im in enumerate(test_loader.dataset.data[inds]):\n",
        "  ax = axs[i]\n",
        "  ax.imshow(im,cmap='gray')\n",
        "  ax.set_axis_off()\n",
        "  # ax.title.set_text(f'predicted: {ensemble_preds[i].argmax()}')\n",
        "plt.savefig(\"ensemble.png\")\n",
        "plt.show()"
      ],
      "execution_count": null,
      "outputs": [
        {
          "output_type": "error",
          "ename": "NameError",
          "evalue": "ignored",
          "traceback": [
            "\u001b[0;31m---------------------------------------------------------------------------\u001b[0m",
            "\u001b[0;31mNameError\u001b[0m                                 Traceback (most recent call last)",
            "\u001b[0;32m<ipython-input-18-23124b0192ed>\u001b[0m in \u001b[0;36m<module>\u001b[0;34m()\u001b[0m\n\u001b[1;32m     10\u001b[0m \u001b[0;31m#   ensemble_preds[i] = output/ensemble.N\u001b[0m\u001b[0;34m\u001b[0m\u001b[0;34m\u001b[0m\u001b[0;34m\u001b[0m\u001b[0m\n\u001b[1;32m     11\u001b[0m \u001b[0;34m\u001b[0m\u001b[0m\n\u001b[0;32m---> 12\u001b[0;31m \u001b[0minds\u001b[0m \u001b[0;34m=\u001b[0m \u001b[0mtorch\u001b[0m\u001b[0;34m.\u001b[0m\u001b[0mmax\u001b[0m\u001b[0;34m(\u001b[0m\u001b[0mensemble_preds\u001b[0m\u001b[0;34m,\u001b[0m\u001b[0mdim\u001b[0m\u001b[0;34m=\u001b[0m\u001b[0;36m1\u001b[0m\u001b[0;34m)\u001b[0m\u001b[0;34m[\u001b[0m\u001b[0;36m0\u001b[0m\u001b[0;34m]\u001b[0m\u001b[0;34m.\u001b[0m\u001b[0margsort\u001b[0m\u001b[0;34m(\u001b[0m\u001b[0;34m)\u001b[0m\u001b[0;34m[\u001b[0m\u001b[0;34m:\u001b[0m\u001b[0;36m20\u001b[0m\u001b[0;34m]\u001b[0m\u001b[0;34m\u001b[0m\u001b[0;34m\u001b[0m\u001b[0m\n\u001b[0m\u001b[1;32m     13\u001b[0m \u001b[0mprint\u001b[0m\u001b[0;34m(\u001b[0m\u001b[0mtorch\u001b[0m\u001b[0;34m.\u001b[0m\u001b[0mmax\u001b[0m\u001b[0;34m(\u001b[0m\u001b[0mensemble_preds\u001b[0m\u001b[0;34m,\u001b[0m\u001b[0mdim\u001b[0m\u001b[0;34m=\u001b[0m\u001b[0;36m1\u001b[0m\u001b[0;34m)\u001b[0m\u001b[0;34m[\u001b[0m\u001b[0;36m0\u001b[0m\u001b[0;34m]\u001b[0m\u001b[0;34m[\u001b[0m\u001b[0minds\u001b[0m\u001b[0;34m]\u001b[0m\u001b[0;34m)\u001b[0m\u001b[0;34m\u001b[0m\u001b[0;34m\u001b[0m\u001b[0m\n\u001b[1;32m     14\u001b[0m \u001b[0mfig\u001b[0m\u001b[0;34m,\u001b[0m\u001b[0maxs\u001b[0m \u001b[0;34m=\u001b[0m \u001b[0mplt\u001b[0m\u001b[0;34m.\u001b[0m\u001b[0msubplots\u001b[0m\u001b[0;34m(\u001b[0m\u001b[0mfigsize\u001b[0m\u001b[0;34m=\u001b[0m\u001b[0;34m(\u001b[0m\u001b[0;36m5\u001b[0m\u001b[0;34m,\u001b[0m\u001b[0;36m2\u001b[0m\u001b[0;34m)\u001b[0m\u001b[0;34m,\u001b[0m\u001b[0mnrows\u001b[0m\u001b[0;34m=\u001b[0m\u001b[0;36m4\u001b[0m\u001b[0;34m,\u001b[0m \u001b[0mncols\u001b[0m\u001b[0;34m=\u001b[0m\u001b[0;36m5\u001b[0m\u001b[0;34m)\u001b[0m\u001b[0;34m\u001b[0m\u001b[0;34m\u001b[0m\u001b[0m\n",
            "\u001b[0;31mNameError\u001b[0m: name 'ensemble_preds' is not defined"
          ]
        }
      ]
    },
    {
      "cell_type": "markdown",
      "metadata": {
        "id": "Z-6Drr4Mjy6w"
      },
      "source": [
        "### Which gives the 'best' uncertainty?"
      ]
    },
    {
      "cell_type": "code",
      "metadata": {
        "id": "uis0zKmmkcez"
      },
      "source": [
        "def ece(predictions, y, bins=10):\n",
        "  preds = predictions.argmax(dim=1)\n",
        "  confidences = predictions.max(dim=1)[0]\n",
        "  l = np.linspace(0,1,bins+1)\n",
        "  ece = torch.zeros(bins)\n",
        "  accs = torch.zeros(bins)\n",
        "  confs = torch.zeros(bins)\n",
        "  N = y.size(0)\n",
        "  for ind, (lower,upper) in enumerate(zip(l[:-1], l[1:])):\n",
        "    indxs = torch.logical_and((confidences<upper),(confidences>=lower))\n",
        "    acc = (1.*(preds[indxs] == y[indxs])).mean().item()\n",
        "    conf = confidences[indxs].mean().item()\n",
        "    ece[ind] = ((1.*indxs).sum().item()/N) * np.abs(acc-conf)\n",
        "    accs[ind], confs[ind] = acc, conf\n",
        "  return ece.nansum(), accs, confs\n"
      ],
      "execution_count": null,
      "outputs": []
    },
    {
      "cell_type": "code",
      "metadata": {
        "id": "CzT7gg1doIPt"
      },
      "source": [
        "def plot_ece(confs, label):\n",
        "  width=0.1\n",
        "  fig, ax = plt.subplots(figsize=(5,5))\n",
        "  ax.bar(np.linspace(0,.9,10)+.05, confs, width=width, label=label)\n",
        "  ax.plot(np.linspace(0,1,11),np.linspace(0,1,11),linestyle='--',label='Perfect uncert.', color='red')\n",
        "  ax.set_ylabel(\"Accuracy\")\n",
        "  ax.set_xlabel(\"Confidence\")\n",
        "  plt.legend()\n",
        "  plt.savefig(label.replace(\" \",\"-\") + \".pdf\")\n",
        "  plt.show()"
      ],
      "execution_count": null,
      "outputs": []
    },
    {
      "cell_type": "code",
      "metadata": {
        "colab": {
          "base_uri": "https://localhost:8080/",
          "height": 518
        },
        "id": "7Y76zrQ_XnPl",
        "outputId": "bd416e69-ea0c-4b99-ce65-4cb2042b491e"
      },
      "source": [
        "plt.style.use('classic')\n",
        "ece_score, accs, conf = ece(vi_preds, test.targets[:,0])\n",
        "plot_ece(conf, label=f'PCA subspace')\n",
        "print(ece_score)\n",
        "print(accs)\n",
        "print(conf)\n",
        "'''\n",
        "ece_score,accs, conf = ece(full_vi_preds, test.targets[:,0])\n",
        "print(ece_score)\n",
        "plot_ece(conf, label=f'Full VI subspace')\n",
        "ece_score, accs, conf = ece(ensemble_preds, test.targets[:,0])\n",
        "print(ece_score)\n",
        "plot_ece(conf, label=f'Ensemble')\n",
        "'''"
      ],
      "execution_count": null,
      "outputs": [
        {
          "output_type": "display_data",
          "data": {
            "image/png": "[encoded data removed]",
            "text/plain": [
              "<Figure size 400x400 with 1 Axes>"
            ]
          },
          "metadata": {
            "tags": []
          }
        },
        {
          "output_type": "stream",
          "text": [
            "tensor(0.0037)\n",
            "tensor([   nan,    nan, 0.3000, 0.3437, 0.4303, 0.5379, 0.6693, 0.7652, 0.8675,\n",
            "        0.9829])\n",
            "tensor([   nan,    nan, 0.2762, 0.3615, 0.4576, 0.5505, 0.6514, 0.7525, 0.8558,\n",
            "        0.9825])\n"
          ],
          "name": "stdout"
        },
        {
          "output_type": "execute_result",
          "data": {
            "application/vnd.google.colaboratory.intrinsic+json": {
              "type": "string"
            },
            "text/plain": [
              "\"\\nece_score,accs, conf = ece(full_vi_preds, test.targets[:,0])\\nprint(ece_score)\\nplot_ece(conf, label=f'Full VI subspace')\\nece_score, accs, conf = ece(ensemble_preds, test.targets[:,0])\\nprint(ece_score)\\nplot_ece(conf, label=f'Ensemble')\\n\""
            ]
          },
          "metadata": {
            "tags": []
          },
          "execution_count": 30
        }
      ]
    },
    {
      "cell_type": "markdown",
      "metadata": {
        "id": "b4TxmtQbANXY"
      },
      "source": [
        "## _References_"
      ]
    },
    {
      "cell_type": "markdown",
      "metadata": {
        "id": "ZZ8oHrcOANXY"
      },
      "source": [
        "- A very useful repository for a lot of Bayesian NN implementations: https://github.com/JavierAntoran/Bayesian-Neural-Networks\n",
        "- The code for the paper is found at https://github.com/wjmaddox/drbayes and specifically the following notebook was adapted for this demonstration (https://github.com/wjmaddox/drbayes/blob/master/experiments/synthetic_regression/visualizing_uncertainty.ipynb)\n"
      ]
    },
    {
      "cell_type": "code",
      "metadata": {
        "colab": {
          "base_uri": "https://localhost:8080/"
        },
        "id": "TxYdtvcTANXZ",
        "outputId": "e0947ae9-716b-4880-8f1c-690df08459be"
      },
      "source": [
        "!git config --global user.email \"youmed.tech@gmail.com\"\n",
        "!git config --global user.name \"ymohamedahmed\"\n",
        "!git --git-dir=drbayes/.git add -f drbayes/*.pt\n",
        "!git --git-dir=drbayes/.git commit -m \"updated checkpoints\"\n",
        "!git --git-dir=drbayes/.git push\n",
        "# !cd ../"
      ],
      "execution_count": null,
      "outputs": [
        {
          "output_type": "stream",
          "text": [
            "On branch master\n",
            "Your branch is ahead of 'origin/master' by 1 commit.\n",
            "  (use \"git push\" to publish your local commits)\n",
            "\n",
            "Changes not staged for commit:\n",
            "\t\u001b[31mdeleted:    .gitignore\u001b[m\n",
            "\t\u001b[31mdeleted:    435_supplement.pdf\u001b[m\n",
            "\t\u001b[31mdeleted:    LICENSE\u001b[m\n",
            "\t\u001b[31mdeleted:    MLP-qmnist.pt\u001b[m\n",
            "\t\u001b[31mdeleted:    README.md\u001b[m\n",
            "\t\u001b[31mdeleted:    SIBDL_demo_group_13.ipynb\u001b[m\n",
            "\t\u001b[31mdeleted:    experiments/cifar_exps/README.md\u001b[m\n",
            "\t\u001b[31mdeleted:    experiments/cifar_exps/subspace_ess.py\u001b[m\n",
            "\t\u001b[31mdeleted:    experiments/cifar_exps/subspace_vi.py\u001b[m\n",
            "\t\u001b[31mdeleted:    experiments/cifar_exps/swag.py\u001b[m\n",
            "\t\u001b[31mdeleted:    experiments/data/MNIST/raw/train-images-idx3-ubyte\u001b[m\n",
            "\t\u001b[31mdeleted:    experiments/synthetic_regression/SIBDL-demo-group-13.ipynb\u001b[m\n",
            "\t\u001b[31mdeleted:    experiments/synthetic_regression/ckpts/curve.pt\u001b[m\n",
            "\t\u001b[31mdeleted:    experiments/synthetic_regression/ckpts/curve_parameters.npy\u001b[m\n",
            "\t\u001b[31mdeleted:    experiments/synthetic_regression/ckpts/data.npy\u001b[m\n",
            "\t\u001b[31mdeleted:    experiments/synthetic_regression/ckpts/sgd_checkpoint1.pt\u001b[m\n",
            "\t\u001b[31mdeleted:    experiments/synthetic_regression/ckpts/sgd_checkpoint2.pt\u001b[m\n",
            "\t\u001b[31mdeleted:    experiments/synthetic_regression/ckpts/sgd_checkpoint3.pt\u001b[m\n",
            "\t\u001b[31mdeleted:    experiments/synthetic_regression/ckpts/sgd_checkpoint4.pt\u001b[m\n",
            "\t\u001b[31mdeleted:    experiments/synthetic_regression/ckpts/sgd_checkpoint5.pt\u001b[m\n",
            "\t\u001b[31mdeleted:    experiments/synthetic_regression/ckpts/swag_checkpoint0-3000.pt\u001b[m\n",
            "\t\u001b[31mdeleted:    experiments/synthetic_regression/ckpts/swag_checkpoint1-3000.pt\u001b[m\n",
            "\t\u001b[31mdeleted:    experiments/synthetic_regression/data/MNIST/raw/train-images-idx3-ubyte\u001b[m\n",
            "\t\u001b[31mdeleted:    experiments/synthetic_regression/visualization.py\u001b[m\n",
            "\t\u001b[31mdeleted:    experiments/synthetic_regression/visualizing_uncertainty.ipynb\u001b[m\n",
            "\t\u001b[31mdeleted:    experiments/uci_exps/.coveragerc\u001b[m\n",
            "\t\u001b[31mdeleted:    experiments/uci_exps/.gitignore\u001b[m\n",
            "\t\u001b[31mdeleted:    experiments/uci_exps/.travis.yml\u001b[m\n",
            "\t\u001b[31mdeleted:    experiments/uci_exps/LICENSE\u001b[m\n",
            "\t\u001b[31mdeleted:    experiments/uci_exps/README.md\u001b[m\n",
            "\t\u001b[31mdeleted:    experiments/uci_exps/bayesian_benchmarks/__init__.py\u001b[m\n",
            "\t\u001b[31mdeleted:    experiments/uci_exps/bayesian_benchmarks/bayesian_benchmarksrc\u001b[m\n",
            "\t\u001b[31mdeleted:    experiments/uci_exps/bayesian_benchmarks/data.py\u001b[m\n",
            "\t\u001b[31mdeleted:    experiments/uci_exps/bayesian_benchmarks/database_utils.py\u001b[m\n",
            "\t\u001b[31mdeleted:    experiments/uci_exps/bayesian_benchmarks/models/README.md\u001b[m\n",
            "\t\u001b[31mdeleted:    experiments/uci_exps/bayesian_benchmarks/models/deep_gp_doubly_stochastic/README.md\u001b[m\n",
            "\t\u001b[31mdeleted:    experiments/uci_exps/bayesian_benchmarks/models/deep_gp_doubly_stochastic/models.py\u001b[m\n",
            "\t\u001b[31mdeleted:    experiments/uci_exps/bayesian_benchmarks/models/get_model.py\u001b[m\n",
            "\t\u001b[31mdeleted:    experiments/uci_exps/bayesian_benchmarks/models/nnet/models.py\u001b[m\n",
            "\t\u001b[31mdeleted:    experiments/uci_exps/bayesian_benchmarks/models/nnet/neural_linear.py\u001b[m\n",
            "\t\u001b[31mdeleted:    experiments/uci_exps/bayesian_benchmarks/models/non_bayesian_models.py\u001b[m\n",
            "\t\u001b[31mdeleted:    experiments/uci_exps/bayesian_benchmarks/models/template.py\u001b[m\n",
            "\t\u001b[31mdeleted:    experiments/uci_exps/bayesian_benchmarks/models/variationally_sparse_gp/README.md\u001b[m\n",
            "\t\u001b[31mdeleted:    experiments/uci_exps/bayesian_benchmarks/models/variationally_sparse_gp/models.py\u001b[m\n",
            "\t\u001b[31mdeleted:    experiments/uci_exps/bayesian_benchmarks/models/variationally_sparse_gp_minibatch/models.py\u001b[m\n",
            "\t\u001b[31mdeleted:    experiments/uci_exps/bayesian_benchmarks/paths.py\u001b[m\n",
            "\t\u001b[31mdeleted:    experiments/uci_exps/bayesian_benchmarks/results/calibration.ipynb\u001b[m\n",
            "\t\u001b[31mdeleted:    experiments/uci_exps/bayesian_benchmarks/results/sgd_nl_results.ipynb\u001b[m\n",
            "\t\u001b[31mdeleted:    experiments/uci_exps/bayesian_benchmarks/results/view_results.ipynb\u001b[m\n",
            "\t\u001b[31mdeleted:    experiments/uci_exps/bayesian_benchmarks/scripts/make_experiments.py\u001b[m\n",
            "\t\u001b[31mdeleted:    experiments/uci_exps/bayesian_benchmarks/scripts/run_all_pytest.py\u001b[m\n",
            "\t\u001b[31mdeleted:    experiments/uci_exps/bayesian_benchmarks/tasks/active_learning_continuous.py\u001b[m\n",
            "\t\u001b[31mdeleted:    experiments/uci_exps/bayesian_benchmarks/tasks/active_learning_discrete.py\u001b[m\n",
            "\t\u001b[31mdeleted:    experiments/uci_exps/bayesian_benchmarks/tasks/adversarial.py\u001b[m\n",
            "\t\u001b[31mdeleted:    experiments/uci_exps/bayesian_benchmarks/tasks/classification.py\u001b[m\n",
            "\t\u001b[31mdeleted:    experiments/uci_exps/bayesian_benchmarks/tasks/conditional_density_estimation.py\u001b[m\n",
            "\t\u001b[31mdeleted:    experiments/uci_exps/bayesian_benchmarks/tasks/learned_synthetic.py\u001b[m\n",
            "\t\u001b[31mdeleted:    experiments/uci_exps/bayesian_benchmarks/tasks/mmd.py\u001b[m\n",
            "\t\u001b[31mdeleted:    experiments/uci_exps/bayesian_benchmarks/tasks/nl_regression.py\u001b[m\n",
            "\t\u001b[31mdeleted:    experiments/uci_exps/bayesian_benchmarks/tasks/regression.py\u001b[m\n",
            "\t\u001b[31mdeleted:    experiments/uci_exps/bayesian_benchmarks/tasks/regression_runner.py\u001b[m\n",
            "\t\u001b[31mdeleted:    experiments/uci_exps/bayesian_benchmarks/tasks/run_ucilarge.sh\u001b[m\n",
            "\t\u001b[31mdeleted:    experiments/uci_exps/bayesian_benchmarks/tasks/run_ucismall.sh\u001b[m\n",
            "\t\u001b[31mdeleted:    experiments/uci_exps/bayesian_benchmarks/tasks/swag_regression.py\u001b[m\n",
            "\t\u001b[31mdeleted:    experiments/uci_exps/bayesian_benchmarks/tasks/view_results.py\u001b[m\n",
            "\t\u001b[31mdeleted:    experiments/uci_exps/setup.py\u001b[m\n",
            "\t\u001b[31mdeleted:    experiments/uci_exps/tests/test_data.py\u001b[m\n",
            "\t\u001b[31mdeleted:    experiments/uci_exps/tests/test_database.py\u001b[m\n",
            "\t\u001b[31mdeleted:    experiments/uci_exps/tests/test_models.py\u001b[m\n",
            "\t\u001b[31mdeleted:    experiments/uci_exps/tests/test_tasks.py\u001b[m\n",
            "\t\u001b[31mdeleted:    requirements.txt\u001b[m\n",
            "\t\u001b[31mdeleted:    setup.py\u001b[m\n",
            "\t\u001b[31mdeleted:    subspace_inference/__init__.py\u001b[m\n",
            "\t\u001b[31mdeleted:    subspace_inference/curves.py\u001b[m\n",
            "\t\u001b[31mdeleted:    subspace_inference/data.py\u001b[m\n",
            "\t\u001b[31mdeleted:    subspace_inference/losses.py\u001b[m\n",
            "\t\u001b[31mdeleted:    subspace_inference/models/__init__.py\u001b[m\n",
            "\t\u001b[31mdeleted:    subspace_inference/models/layers.py\u001b[m\n",
            "\t\u001b[31mdeleted:    subspace_inference/models/mlp.py\u001b[m\n",
            "\t\u001b[31mdeleted:    subspace_inference/models/preresnet.py\u001b[m\n",
            "\t\u001b[31mdeleted:    subspace_inference/models/preresnet_dropout.py\u001b[m\n",
            "\t\u001b[31mdeleted:    subspace_inference/models/regression_net.py\u001b[m\n",
            "\t\u001b[31mdeleted:    subspace_inference/models/vgg.py\u001b[m\n",
            "\t\u001b[31mdeleted:    subspace_inference/models/vgg_dropout.py\u001b[m\n",
            "\t\u001b[31mdeleted:    subspace_inference/models/wide_resnet.py\u001b[m\n",
            "\t\u001b[31mdeleted:    subspace_inference/models/wide_resnet_dropout.py\u001b[m\n",
            "\t\u001b[31mdeleted:    subspace_inference/posteriors/__init__.py\u001b[m\n",
            "\t\u001b[31mdeleted:    subspace_inference/posteriors/elliptical_slice.py\u001b[m\n",
            "\t\u001b[31mdeleted:    subspace_inference/posteriors/ess.py\u001b[m\n",
            "\t\u001b[31mdeleted:    subspace_inference/posteriors/inferences.py\u001b[m\n",
            "\t\u001b[31mdeleted:    subspace_inference/posteriors/proj_model.py\u001b[m\n",
            "\t\u001b[31mdeleted:    subspace_inference/posteriors/pyro.py\u001b[m\n",
            "\t\u001b[31mdeleted:    subspace_inference/posteriors/realnvp.py\u001b[m\n",
            "\t\u001b[31mdeleted:    subspace_inference/posteriors/subspaces.py\u001b[m\n",
            "\t\u001b[31mdeleted:    subspace_inference/posteriors/swag.py\u001b[m\n",
            "\t\u001b[31mdeleted:    subspace_inference/posteriors/vi_model.py\u001b[m\n",
            "\t\u001b[31mdeleted:    subspace_inference/posteriors/vinf_model.py\u001b[m\n",
            "\t\u001b[31mdeleted:    subspace_inference/utils.py\u001b[m\n",
            "\t\u001b[31mdeleted:    subspace_inference/visualization.py\u001b[m\n",
            "\t\u001b[31mdeleted:    vi-pca-model.pt\u001b[m\n",
            "\n",
            "Untracked files:\n",
            "\t\u001b[31m.config/\u001b[m\n",
            "\t\u001b[31mdrbayes/.gitignore\u001b[m\n",
            "\t\u001b[31mdrbayes/LICENSE\u001b[m\n",
            "\t\u001b[31mdrbayes/README.md\u001b[m\n",
            "\t\u001b[31mdrbayes/SIBDL_demo_group_13.ipynb\u001b[m\n",
            "\t\u001b[31mdrbayes/experiments/\u001b[m\n",
            "\t\u001b[31mdrbayes/setup.py\u001b[m\n",
            "\t\u001b[31mdrbayes/subspace_inference/\u001b[m\n",
            "\t\u001b[31msample_data/\u001b[m\n",
            "\n",
            "no changes added to commit\n",
            "fatal: could not read Username for 'https://github.com': No such device or address\n"
          ],
          "name": "stdout"
        }
      ]
    },
    {
      "cell_type": "code",
      "metadata": {
        "colab": {
          "base_uri": "https://localhost:8080/"
        },
        "id": "mp6BXqghM4jD",
        "outputId": "0da44fe3-8359-47ec-a32b-f2d204e0af54"
      },
      "source": [
        "!git --git-dir=drbayes/.git push"
      ],
      "execution_count": null,
      "outputs": [
        {
          "output_type": "stream",
          "text": [
            "fatal: could not read Username for 'https://github.com': No such device or address\n"
          ],
          "name": "stdout"
        }
      ]
    },
    {
      "cell_type": "code",
      "metadata": {
        "id": "ibmJ03GZOd9r"
      },
      "source": [
        "del preds\n",
        "torch.cuda.empty_cache()"
      ],
      "execution_count": null,
      "outputs": []
    },
    {
      "cell_type": "code",
      "metadata": {
        "id": "-uk9L9yJ9uzw",
        "colab": {
          "base_uri": "https://localhost:8080/"
        },
        "outputId": "3046a857-f6c7-4dac-8da5-8337b261bf4f"
      },
      "source": [
        "from google.colab import drive\n",
        "drive.mount('/content/drive')"
      ],
      "execution_count": null,
      "outputs": [
        {
          "output_type": "stream",
          "text": [
            "Drive already mounted at /content/drive; to attempt to forcibly remount, call drive.mount(\"/content/drive\", force_remount=True).\n"
          ],
          "name": "stdout"
        }
      ]
    },
    {
      "cell_type": "code",
      "metadata": {
        "id": "4kUkMa81Nh6b"
      },
      "source": [
        ""
      ],
      "execution_count": null,
      "outputs": []
    }
  ]
}