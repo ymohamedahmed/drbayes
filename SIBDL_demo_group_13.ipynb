{
  "nbformat": 4,
  "nbformat_minor": 0,
  "metadata": {
    "kernelspec": {
      "display_name": "Python 3",
      "language": "python",
      "name": "python3"
    },
    "language_info": {
      "codemirror_mode": {
        "name": "ipython",
        "version": 3
      },
      "file_extension": ".py",
      "mimetype": "text/x-python",
      "name": "python",
      "nbconvert_exporter": "python",
      "pygments_lexer": "ipython3",
      "version": "3.9.2"
    },
    "colab": {
      "name": "SIBDL-demo-group-13.ipynb",
      "provenance": [],
      "collapsed_sections": [],
      "include_colab_link": true
    },
    "widgets": {
      "application/vnd.jupyter.widget-state+json": {
        "ff122d9b1a04434ca02cf27fddfb78a6": {
          "model_module": "@jupyter-widgets/controls",
          "model_name": "HBoxModel",
          "state": {
            "_view_name": "HBoxView",
            "_dom_classes": [],
            "_model_name": "HBoxModel",
            "_view_module": "@jupyter-widgets/controls",
            "_model_module_version": "1.5.0",
            "_view_count": null,
            "_view_module_version": "1.5.0",
            "box_style": "",
            "layout": "IPY_MODEL_527f71b9583a4ac8b13e90e3bc3c5523",
            "_model_module": "@jupyter-widgets/controls",
            "children": [
              "IPY_MODEL_80075441a2484862b288e572672782c2",
              "IPY_MODEL_bd6812957501421c9bd8862ca6435ce9"
            ]
          }
        },
        "527f71b9583a4ac8b13e90e3bc3c5523": {
          "model_module": "@jupyter-widgets/base",
          "model_name": "LayoutModel",
          "state": {
            "_view_name": "LayoutView",
            "grid_template_rows": null,
            "right": null,
            "justify_content": null,
            "_view_module": "@jupyter-widgets/base",
            "overflow": null,
            "_model_module_version": "1.2.0",
            "_view_count": null,
            "flex_flow": null,
            "width": null,
            "min_width": null,
            "border": null,
            "align_items": null,
            "bottom": null,
            "_model_module": "@jupyter-widgets/base",
            "top": null,
            "grid_column": null,
            "overflow_y": null,
            "overflow_x": null,
            "grid_auto_flow": null,
            "grid_area": null,
            "grid_template_columns": null,
            "flex": null,
            "_model_name": "LayoutModel",
            "justify_items": null,
            "grid_row": null,
            "max_height": null,
            "align_content": null,
            "visibility": null,
            "align_self": null,
            "height": null,
            "min_height": null,
            "padding": null,
            "grid_auto_rows": null,
            "grid_gap": null,
            "max_width": null,
            "order": null,
            "_view_module_version": "1.2.0",
            "grid_template_areas": null,
            "object_position": null,
            "object_fit": null,
            "grid_auto_columns": null,
            "margin": null,
            "display": null,
            "left": null
          }
        },
        "80075441a2484862b288e572672782c2": {
          "model_module": "@jupyter-widgets/controls",
          "model_name": "FloatProgressModel",
          "state": {
            "_view_name": "ProgressView",
            "style": "IPY_MODEL_c77dbd18942c428c8cbb17836d7913d4",
            "_dom_classes": [],
            "description": "loss: 0.0, acc: 0.857:   8%",
            "_model_name": "FloatProgressModel",
            "bar_style": "danger",
            "max": 500,
            "_view_module": "@jupyter-widgets/controls",
            "_model_module_version": "1.5.0",
            "value": 38,
            "_view_count": null,
            "_view_module_version": "1.5.0",
            "orientation": "horizontal",
            "min": 0,
            "description_tooltip": null,
            "_model_module": "@jupyter-widgets/controls",
            "layout": "IPY_MODEL_3f3ffd40116f47b8ad3c2c41763cc237"
          }
        },
        "bd6812957501421c9bd8862ca6435ce9": {
          "model_module": "@jupyter-widgets/controls",
          "model_name": "HTMLModel",
          "state": {
            "_view_name": "HTMLView",
            "style": "IPY_MODEL_182f6c5f22434e34b5f1845c144f3a09",
            "_dom_classes": [],
            "description": "",
            "_model_name": "HTMLModel",
            "placeholder": "​",
            "_view_module": "@jupyter-widgets/controls",
            "_model_module_version": "1.5.0",
            "value": " 38/500 [04:27&lt;53:31,  6.95s/it]",
            "_view_count": null,
            "_view_module_version": "1.5.0",
            "description_tooltip": null,
            "_model_module": "@jupyter-widgets/controls",
            "layout": "IPY_MODEL_23ae270837a44efd9e18f4093f77601f"
          }
        },
        "c77dbd18942c428c8cbb17836d7913d4": {
          "model_module": "@jupyter-widgets/controls",
          "model_name": "ProgressStyleModel",
          "state": {
            "_view_name": "StyleView",
            "_model_name": "ProgressStyleModel",
            "description_width": "initial",
            "_view_module": "@jupyter-widgets/base",
            "_model_module_version": "1.5.0",
            "_view_count": null,
            "_view_module_version": "1.2.0",
            "bar_color": null,
            "_model_module": "@jupyter-widgets/controls"
          }
        },
        "3f3ffd40116f47b8ad3c2c41763cc237": {
          "model_module": "@jupyter-widgets/base",
          "model_name": "LayoutModel",
          "state": {
            "_view_name": "LayoutView",
            "grid_template_rows": null,
            "right": null,
            "justify_content": null,
            "_view_module": "@jupyter-widgets/base",
            "overflow": null,
            "_model_module_version": "1.2.0",
            "_view_count": null,
            "flex_flow": null,
            "width": null,
            "min_width": null,
            "border": null,
            "align_items": null,
            "bottom": null,
            "_model_module": "@jupyter-widgets/base",
            "top": null,
            "grid_column": null,
            "overflow_y": null,
            "overflow_x": null,
            "grid_auto_flow": null,
            "grid_area": null,
            "grid_template_columns": null,
            "flex": null,
            "_model_name": "LayoutModel",
            "justify_items": null,
            "grid_row": null,
            "max_height": null,
            "align_content": null,
            "visibility": null,
            "align_self": null,
            "height": null,
            "min_height": null,
            "padding": null,
            "grid_auto_rows": null,
            "grid_gap": null,
            "max_width": null,
            "order": null,
            "_view_module_version": "1.2.0",
            "grid_template_areas": null,
            "object_position": null,
            "object_fit": null,
            "grid_auto_columns": null,
            "margin": null,
            "display": null,
            "left": null
          }
        },
        "182f6c5f22434e34b5f1845c144f3a09": {
          "model_module": "@jupyter-widgets/controls",
          "model_name": "DescriptionStyleModel",
          "state": {
            "_view_name": "StyleView",
            "_model_name": "DescriptionStyleModel",
            "description_width": "",
            "_view_module": "@jupyter-widgets/base",
            "_model_module_version": "1.5.0",
            "_view_count": null,
            "_view_module_version": "1.2.0",
            "_model_module": "@jupyter-widgets/controls"
          }
        },
        "23ae270837a44efd9e18f4093f77601f": {
          "model_module": "@jupyter-widgets/base",
          "model_name": "LayoutModel",
          "state": {
            "_view_name": "LayoutView",
            "grid_template_rows": null,
            "right": null,
            "justify_content": null,
            "_view_module": "@jupyter-widgets/base",
            "overflow": null,
            "_model_module_version": "1.2.0",
            "_view_count": null,
            "flex_flow": null,
            "width": null,
            "min_width": null,
            "border": null,
            "align_items": null,
            "bottom": null,
            "_model_module": "@jupyter-widgets/base",
            "top": null,
            "grid_column": null,
            "overflow_y": null,
            "overflow_x": null,
            "grid_auto_flow": null,
            "grid_area": null,
            "grid_template_columns": null,
            "flex": null,
            "_model_name": "LayoutModel",
            "justify_items": null,
            "grid_row": null,
            "max_height": null,
            "align_content": null,
            "visibility": null,
            "align_self": null,
            "height": null,
            "min_height": null,
            "padding": null,
            "grid_auto_rows": null,
            "grid_gap": null,
            "max_width": null,
            "order": null,
            "_view_module_version": "1.2.0",
            "grid_template_areas": null,
            "object_position": null,
            "object_fit": null,
            "grid_auto_columns": null,
            "margin": null,
            "display": null,
            "left": null
          }
        },
        "dc18d4db83744eb984c1cba98a281938": {
          "model_module": "@jupyter-widgets/controls",
          "model_name": "HBoxModel",
          "state": {
            "_view_name": "HBoxView",
            "_dom_classes": [],
            "_model_name": "HBoxModel",
            "_view_module": "@jupyter-widgets/controls",
            "_model_module_version": "1.5.0",
            "_view_count": null,
            "_view_module_version": "1.5.0",
            "box_style": "",
            "layout": "IPY_MODEL_7a58841abfae41c9b8f6cbc0ccc58f56",
            "_model_module": "@jupyter-widgets/controls",
            "children": [
              "IPY_MODEL_acd65f34fd8148e9b44d77992a2aec28",
              "IPY_MODEL_a228d28337a3441ab0eb32c53b66df30"
            ]
          }
        },
        "7a58841abfae41c9b8f6cbc0ccc58f56": {
          "model_module": "@jupyter-widgets/base",
          "model_name": "LayoutModel",
          "state": {
            "_view_name": "LayoutView",
            "grid_template_rows": null,
            "right": null,
            "justify_content": null,
            "_view_module": "@jupyter-widgets/base",
            "overflow": null,
            "_model_module_version": "1.2.0",
            "_view_count": null,
            "flex_flow": null,
            "width": null,
            "min_width": null,
            "border": null,
            "align_items": null,
            "bottom": null,
            "_model_module": "@jupyter-widgets/base",
            "top": null,
            "grid_column": null,
            "overflow_y": null,
            "overflow_x": null,
            "grid_auto_flow": null,
            "grid_area": null,
            "grid_template_columns": null,
            "flex": null,
            "_model_name": "LayoutModel",
            "justify_items": null,
            "grid_row": null,
            "max_height": null,
            "align_content": null,
            "visibility": null,
            "align_self": null,
            "height": null,
            "min_height": null,
            "padding": null,
            "grid_auto_rows": null,
            "grid_gap": null,
            "max_width": null,
            "order": null,
            "_view_module_version": "1.2.0",
            "grid_template_areas": null,
            "object_position": null,
            "object_fit": null,
            "grid_auto_columns": null,
            "margin": null,
            "display": null,
            "left": null
          }
        },
        "acd65f34fd8148e9b44d77992a2aec28": {
          "model_module": "@jupyter-widgets/controls",
          "model_name": "FloatProgressModel",
          "state": {
            "_view_name": "ProgressView",
            "style": "IPY_MODEL_8301a9b692bb467bb3788c3d2d8cc43b",
            "_dom_classes": [],
            "description": "",
            "_model_name": "FloatProgressModel",
            "bar_style": "success",
            "max": 1,
            "_view_module": "@jupyter-widgets/controls",
            "_model_module_version": "1.5.0",
            "value": 1,
            "_view_count": null,
            "_view_module_version": "1.5.0",
            "orientation": "horizontal",
            "min": 0,
            "description_tooltip": null,
            "_model_module": "@jupyter-widgets/controls",
            "layout": "IPY_MODEL_d8e3fe294a4743da824ea1a504b818c5"
          }
        },
        "a228d28337a3441ab0eb32c53b66df30": {
          "model_module": "@jupyter-widgets/controls",
          "model_name": "HTMLModel",
          "state": {
            "_view_name": "HTMLView",
            "style": "IPY_MODEL_f4ab8266d7544b27be6ab848aa7671f4",
            "_dom_classes": [],
            "description": "",
            "_model_name": "HTMLModel",
            "placeholder": "​",
            "_view_module": "@jupyter-widgets/controls",
            "_model_module_version": "1.5.0",
            "value": " 118/? [00:28&lt;00:00,  4.10it/s]",
            "_view_count": null,
            "_view_module_version": "1.5.0",
            "description_tooltip": null,
            "_model_module": "@jupyter-widgets/controls",
            "layout": "IPY_MODEL_7cc481d617504f37b02b9898b2f772b6"
          }
        },
        "8301a9b692bb467bb3788c3d2d8cc43b": {
          "model_module": "@jupyter-widgets/controls",
          "model_name": "ProgressStyleModel",
          "state": {
            "_view_name": "StyleView",
            "_model_name": "ProgressStyleModel",
            "description_width": "initial",
            "_view_module": "@jupyter-widgets/base",
            "_model_module_version": "1.5.0",
            "_view_count": null,
            "_view_module_version": "1.2.0",
            "bar_color": null,
            "_model_module": "@jupyter-widgets/controls"
          }
        },
        "d8e3fe294a4743da824ea1a504b818c5": {
          "model_module": "@jupyter-widgets/base",
          "model_name": "LayoutModel",
          "state": {
            "_view_name": "LayoutView",
            "grid_template_rows": null,
            "right": null,
            "justify_content": null,
            "_view_module": "@jupyter-widgets/base",
            "overflow": null,
            "_model_module_version": "1.2.0",
            "_view_count": null,
            "flex_flow": null,
            "width": null,
            "min_width": null,
            "border": null,
            "align_items": null,
            "bottom": null,
            "_model_module": "@jupyter-widgets/base",
            "top": null,
            "grid_column": null,
            "overflow_y": null,
            "overflow_x": null,
            "grid_auto_flow": null,
            "grid_area": null,
            "grid_template_columns": null,
            "flex": null,
            "_model_name": "LayoutModel",
            "justify_items": null,
            "grid_row": null,
            "max_height": null,
            "align_content": null,
            "visibility": null,
            "align_self": null,
            "height": null,
            "min_height": null,
            "padding": null,
            "grid_auto_rows": null,
            "grid_gap": null,
            "max_width": null,
            "order": null,
            "_view_module_version": "1.2.0",
            "grid_template_areas": null,
            "object_position": null,
            "object_fit": null,
            "grid_auto_columns": null,
            "margin": null,
            "display": null,
            "left": null
          }
        },
        "f4ab8266d7544b27be6ab848aa7671f4": {
          "model_module": "@jupyter-widgets/controls",
          "model_name": "DescriptionStyleModel",
          "state": {
            "_view_name": "StyleView",
            "_model_name": "DescriptionStyleModel",
            "description_width": "",
            "_view_module": "@jupyter-widgets/base",
            "_model_module_version": "1.5.0",
            "_view_count": null,
            "_view_module_version": "1.2.0",
            "_model_module": "@jupyter-widgets/controls"
          }
        },
        "7cc481d617504f37b02b9898b2f772b6": {
          "model_module": "@jupyter-widgets/base",
          "model_name": "LayoutModel",
          "state": {
            "_view_name": "LayoutView",
            "grid_template_rows": null,
            "right": null,
            "justify_content": null,
            "_view_module": "@jupyter-widgets/base",
            "overflow": null,
            "_model_module_version": "1.2.0",
            "_view_count": null,
            "flex_flow": null,
            "width": null,
            "min_width": null,
            "border": null,
            "align_items": null,
            "bottom": null,
            "_model_module": "@jupyter-widgets/base",
            "top": null,
            "grid_column": null,
            "overflow_y": null,
            "overflow_x": null,
            "grid_auto_flow": null,
            "grid_area": null,
            "grid_template_columns": null,
            "flex": null,
            "_model_name": "LayoutModel",
            "justify_items": null,
            "grid_row": null,
            "max_height": null,
            "align_content": null,
            "visibility": null,
            "align_self": null,
            "height": null,
            "min_height": null,
            "padding": null,
            "grid_auto_rows": null,
            "grid_gap": null,
            "max_width": null,
            "order": null,
            "_view_module_version": "1.2.0",
            "grid_template_areas": null,
            "object_position": null,
            "object_fit": null,
            "grid_auto_columns": null,
            "margin": null,
            "display": null,
            "left": null
          }
        }
      }
    }
  },
  "cells": [
    {
      "cell_type": "markdown",
      "metadata": {
        "id": "view-in-github",
        "colab_type": "text"
      },
      "source": [
        "<a href=\"https://colab.research.google.com/github/ymohamedahmed/drbayes/blob/master/SIBDL_demo_group_13.ipynb\" target=\"_parent\"><img src=\"https://colab.research.google.com/assets/colab-badge.svg\" alt=\"Open In Colab\"/></a>"
      ]
    },
    {
      "cell_type": "markdown",
      "metadata": {
        "id": "t1HFtcUoANXK"
      },
      "source": [
        "# Machine Learning Seminars - Subspace Inference for Bayesian Deep Learning - Demo\n",
        "\n",
        "*Reviewed by Chiara Campagnola, Yousuf Mohamed-Ahmed and Hannah Teufel*\n",
        "\n",
        "**Aims of this notebook**:\n",
        "- Empirically evaluate the effectiveness of the uncertainty estimates produced (this is **not** evaluated by the paper)\n",
        "- Evaluate the performance gains achieved by applying approximate inference techniques in subspaces *vs* in the full space\n",
        "<!-- - Compare the method proposed by the paper to non-neural network based approaches -->\n",
        "\n",
        "**Research questions**:\n",
        "- In comparison to ensembles and 'full' variational inference (VI); how well does VI in PCA subspace perform in terms of uncertainty estimates (measured by [expected calibration error](https://arxiv.org/pdf/1706.04599.pdf) and out-of-distribution uncertainty estimates).\n",
        "- Using the same comparisons, how does 'performance' of the paper stack up? "
      ]
    },
    {
      "cell_type": "markdown",
      "metadata": {
        "id": "uid9lGO39gvk"
      },
      "source": [
        "## Setup"
      ]
    },
    {
      "cell_type": "code",
      "metadata": {
        "id": "DtjBG4O5AU0y",
        "colab": {
          "base_uri": "https://localhost:8080/"
        },
        "outputId": "60f35335-6fde-497f-e51c-ecbc42755a33"
      },
      "source": [
        "!rm -rf drbayes\n",
        "!git clone https://github.com/ymohamedahmed/drbayes.git"
      ],
      "execution_count": 17,
      "outputs": [
        {
          "output_type": "stream",
          "text": [
            "Cloning into 'drbayes'...\n",
            "remote: Enumerating objects: 104, done.\u001b[K\n",
            "remote: Counting objects: 100% (104/104), done.\u001b[K\n",
            "remote: Compressing objects: 100% (81/81), done.\u001b[K\n",
            "remote: Total 365 (delta 51), reused 56 (delta 21), pack-reused 261\u001b[K\n",
            "Receiving objects: 100% (365/365), 15.17 MiB | 37.51 MiB/s, done.\n",
            "Resolving deltas: 100% (121/121), done.\n"
          ],
          "name": "stdout"
        }
      ]
    },
    {
      "cell_type": "code",
      "metadata": {
        "id": "03E9eUMjAvMz",
        "colab": {
          "base_uri": "https://localhost:8080/"
        },
        "outputId": "e66a2e43-98f4-4903-fefa-52327294428a"
      },
      "source": [
        "!pip install -e drbayes"
      ],
      "execution_count": 18,
      "outputs": [
        {
          "output_type": "stream",
          "text": [
            "Obtaining file:///content/drbayes\n",
            "Requirement already satisfied: tqdm>=4.26.0 in /usr/local/lib/python3.7/dist-packages (from subspace-inference==0.0) (4.41.1)\n",
            "Requirement already satisfied: numpy>=1.14.3 in /usr/local/lib/python3.7/dist-packages (from subspace-inference==0.0) (1.19.5)\n",
            "Requirement already satisfied: torchvision>=0.2.1 in /usr/local/lib/python3.7/dist-packages (from subspace-inference==0.0) (0.9.0+cu101)\n",
            "Requirement already satisfied: gpytorch>=0.1.0rc4 in /usr/local/lib/python3.7/dist-packages (from subspace-inference==0.0) (1.4.0)\n",
            "Requirement already satisfied: tabulate>=0.8.2 in /usr/local/lib/python3.7/dist-packages (from subspace-inference==0.0) (0.8.9)\n",
            "Requirement already satisfied: scipy>=1.1.0 in /usr/local/lib/python3.7/dist-packages (from subspace-inference==0.0) (1.4.1)\n",
            "Requirement already satisfied: setuptools>=39.1.0 in /usr/local/lib/python3.7/dist-packages (from subspace-inference==0.0) (54.0.0)\n",
            "Requirement already satisfied: matplotlib>=2.2.2 in /usr/local/lib/python3.7/dist-packages (from subspace-inference==0.0) (3.2.2)\n",
            "Requirement already satisfied: torch>=1.0.0 in /usr/local/lib/python3.7/dist-packages (from subspace-inference==0.0) (1.8.0+cu101)\n",
            "Requirement already satisfied: scikit_learn>=0.20.2 in /usr/local/lib/python3.7/dist-packages (from subspace-inference==0.0) (0.22.2.post1)\n",
            "Requirement already satisfied: pyro-ppl==1.5.2 in /usr/local/lib/python3.7/dist-packages (from subspace-inference==0.0) (1.5.2)\n",
            "Requirement already satisfied: pyparsing>=2.4.5 in /usr/local/lib/python3.7/dist-packages (from subspace-inference==0.0) (2.4.7)\n",
            "Requirement already satisfied: Pillow in /usr/local/lib/python3.7/dist-packages (from subspace-inference==0.0) (7.0.0)\n",
            "Requirement already satisfied: kiwisolver>=1.0.1 in /usr/local/lib/python3.7/dist-packages (from matplotlib>=2.2.2->subspace-inference==0.0) (1.3.1)\n",
            "Requirement already satisfied: cycler>=0.10 in /usr/local/lib/python3.7/dist-packages (from matplotlib>=2.2.2->subspace-inference==0.0) (0.10.0)\n",
            "Requirement already satisfied: python-dateutil>=2.1 in /usr/local/lib/python3.7/dist-packages (from matplotlib>=2.2.2->subspace-inference==0.0) (2.8.1)\n",
            "Requirement already satisfied: typing-extensions in /usr/local/lib/python3.7/dist-packages (from torch>=1.0.0->subspace-inference==0.0) (3.7.4.3)\n",
            "Requirement already satisfied: joblib>=0.11 in /usr/local/lib/python3.7/dist-packages (from scikit_learn>=0.20.2->subspace-inference==0.0) (1.0.1)\n",
            "Requirement already satisfied: pyro-api>=0.1.1 in /usr/local/lib/python3.7/dist-packages (from pyro-ppl==1.5.2->subspace-inference==0.0) (0.1.2)\n",
            "Requirement already satisfied: opt-einsum>=2.3.2 in /usr/local/lib/python3.7/dist-packages (from pyro-ppl==1.5.2->subspace-inference==0.0) (3.3.0)\n",
            "Requirement already satisfied: six in /usr/local/lib/python3.7/dist-packages (from cycler>=0.10->matplotlib>=2.2.2->subspace-inference==0.0) (1.15.0)\n",
            "Installing collected packages: subspace-inference\n",
            "  Found existing installation: subspace-inference 0.0\n",
            "    Can't uninstall 'subspace-inference'. No files were found to uninstall.\n",
            "  Running setup.py develop for subspace-inference\n",
            "Successfully installed subspace-inference\n"
          ],
          "name": "stdout"
        }
      ]
    },
    {
      "cell_type": "code",
      "metadata": {
        "id": "qTnpHtKDANXP",
        "colab": {
          "base_uri": "https://localhost:8080/"
        },
        "outputId": "f5f8ef1a-9f28-418d-8568-6906dff6fd7d"
      },
      "source": [
        "import sys\n",
        "import numpy as np\n",
        "import matplotlib.pyplot as plt\n",
        "%matplotlib inline\n",
        "\n",
        "import torch\n",
        "import torch.utils.data\n",
        "from torch.nn import functional as F\n",
        "import torch.nn as nn\n",
        "from torchvision import datasets, transforms\n",
        "\n",
        "import seaborn as sns\n",
        "\n",
        "import subspace_inference\n",
        "import subspace_inference.utils as utils\n",
        "from subspace_inference.posteriors import SWAG\n",
        "from subspace_inference import models, losses, utils\n",
        "from subspace_inference.models import MLP\n",
        "from subspace_inference.visualization import plot_predictive\n",
        "from subspace_inference.posteriors.proj_model import SubspaceModel\n",
        "from tqdm.notebook import tqdm\n",
        "from subspace_inference.posteriors.vi_model import VIModel, ELBO\n",
        "import math\n",
        "\n",
        "import os\n",
        "\n",
        "torch.backends.cudnn.benchmark = True\n",
        "torch.manual_seed(1)\n",
        "torch.cuda.manual_seed(1)\n",
        "np.random.seed(1)\n",
        "\n",
        "%load_ext autoreload\n",
        "%autoreload 2"
      ],
      "execution_count": 19,
      "outputs": [
        {
          "output_type": "stream",
          "text": [
            "The autoreload extension is already loaded. To reload it, use:\n",
            "  %reload_ext autoreload\n"
          ],
          "name": "stdout"
        }
      ]
    },
    {
      "cell_type": "code",
      "metadata": {
        "id": "1UwutCr-CoVz"
      },
      "source": [
        "device = torch.device(\"cuda:0\" if torch.cuda.is_available() else \"cpu\")"
      ],
      "execution_count": 20,
      "outputs": []
    },
    {
      "cell_type": "code",
      "metadata": {
        "id": "wqOHeNvdANXS"
      },
      "source": [
        "transform=transforms.Compose([\n",
        "        transforms.ToTensor(),\n",
        "        transforms.Normalize((0.1307,), (0.3081,))\n",
        "        ])\n",
        "train_all = datasets.QMNIST(root=\"../data\",train=True, download=True,\n",
        "                   transform=transform)\n",
        "train_val_split = int(0.8*len(train_all))\n",
        "train_idx, val_idx = range(0, train_val_split), range(train_val_split, len(train_all))\n",
        "\n",
        "train = torch.utils.data.Subset(train_all, train_idx)\n",
        "val = torch.utils.data.Subset(train_all, val_idx)\n",
        "test = datasets.QMNIST('../data', train=False,download=True,\n",
        "                   transform=transform)\n",
        "train_loader = torch.utils.data.DataLoader(train,batch_size=512)\n",
        "val_loader = torch.utils.data.DataLoader(val,batch_size=len(val))\n",
        "test_batch_size = 512\n",
        "test_loader = torch.utils.data.DataLoader(test,batch_size=test_batch_size)"
      ],
      "execution_count": 74,
      "outputs": []
    },
    {
      "cell_type": "code",
      "metadata": {
        "id": "MhcN0Zwa9Khx"
      },
      "source": [
        "class VanillaMLP(nn.Module):\n",
        "  def __init__(self, dims):\n",
        "    super(VanillaMLP,self).__init__()\n",
        "    self.dims = dims\n",
        "    layers = [nn.Flatten()] + [lay for (x,y) in zip(dims[:-1],dims[1:]) for lay in [nn.Linear(x,y), nn.ReLU()] ]\n",
        "    layers.pop()\n",
        "    self.model = nn.Sequential(*layers)\n",
        "\n",
        "  def forward(self,x):\n",
        "    return self.model(x)"
      ],
      "execution_count": 22,
      "outputs": []
    },
    {
      "cell_type": "markdown",
      "metadata": {
        "id": "gchOCSV-ANXT"
      },
      "source": [
        "## Training the models (Full VI, VI in PCA subspace, ensemble of NNs)"
      ]
    },
    {
      "cell_type": "markdown",
      "metadata": {
        "id": "z2RNLcwgrHeO"
      },
      "source": [
        "### Helper functions"
      ]
    },
    {
      "cell_type": "code",
      "metadata": {
        "id": "THx5CUJMDa5u"
      },
      "source": [
        "def celoss_acc(model, loss_function, loader):\n",
        "  N = 0\n",
        "  total_loss = 0\n",
        "  acc = 0\n",
        "  for (x,y) in loader:\n",
        "    x = x.to(device)\n",
        "    y = y.to(device)\n",
        "    out = model(x)\n",
        "    loss = loss_function(model,x,y)[0]\n",
        "    total_loss += loss.item()\n",
        "    acc += (out.argmax(dim=1)==y).sum().item()\n",
        "    N += x.size(0)\n",
        "  return total_loss/N, acc/N\n",
        "\n",
        "def convergence(val_losses):\n",
        "  return len(val_losses) > 10 and val_losses[-1] >= val_losses[-10]\n",
        "\n",
        "def train(model, loss_function, max_epochs, train_loader, val_loader, lr, collect_model=False):\n",
        "  optimizer = torch.optim.Adam(model.parameters(), lr=lr)\n",
        "  vlosses = []\n",
        "  if collect_model:\n",
        "    swag_model = SWAG(VanillaMLP, subspace_type=\"pca\",\n",
        "                    subspace_kwargs={\"max_rank\": 10, \"pca_rank\": 10},dims=model.dims)\n",
        "  pbar = tqdm(range(max_epochs))\n",
        "  for epoch in pbar:\n",
        "    for x,y in train_loader:\n",
        "      x = x.to(device)\n",
        "      y = y.to(device)\n",
        "      optimizer.zero_grad()\n",
        "      if collect_model: \n",
        "        swag_model.collect_model(model)\n",
        "      loss = loss_function(model,x,y)[0]\n",
        "      loss.backward()\n",
        "      optimizer.step()\n",
        "    vloss, vacc = celoss_acc(model, loss_function, val_loader)\n",
        "    vlosses.append(vloss)\n",
        "\n",
        "    # don't check convergence if simply collecting weights\n",
        "    if convergence(vlosses) and not(collect_model):\n",
        "      print(\"converged\")\n",
        "      break\n",
        "    pbar.set_description(f'loss: {round(vloss,3)}, acc: {round(vacc,3)}')\n",
        "    if epoch % 2 == 0:\n",
        "        print(f\"Epoch: {epoch}, loss: {vloss}, acc: {vacc}\")\n",
        "\n",
        "  if collect_model:\n",
        "    return swag_model.get_space()"
      ],
      "execution_count": 2,
      "outputs": []
    },
    {
      "cell_type": "code",
      "metadata": {
        "id": "HSZuJW5lJil4"
      },
      "source": [
        "def vi_pred(model, number_samples, test_loader, num_classes=10):\n",
        "  preds = torch.zeros((len(test_loader.dataset), num_classes))\n",
        "  for n, (x,_) in tqdm(enumerate(test_loader)):\n",
        "    x = x.to(device)\n",
        "    for i in range(number_samples):\n",
        "      preds[n*test_batch_size:(n+1)*test_batch_size] += F.softmax(full_vi_model(x).cpu(),dim=1)\n",
        "    del x \n",
        "    torch.cuda.empty_cache()\n",
        "  preds = 1/number_samples *preds\n",
        "  acc = (1.*torch.argmax(preds, dim=1).eq(test_loader.dataset.targets[:,0])).mean()\n",
        "  return preds, acc"
      ],
      "execution_count": 108,
      "outputs": []
    },
    {
      "cell_type": "markdown",
      "metadata": {
        "id": "raWEYW_IANXT"
      },
      "source": [
        "### Mean Field Variational Inference"
      ]
    },
    {
      "cell_type": "code",
      "metadata": {
        "colab": {
          "base_uri": "https://localhost:8080/"
        },
        "id": "LU6sRS76_Bnz",
        "outputId": "341f44c4-25ed-4dd1-8684-1ce60846a277"
      },
      "source": [
        "def number_of_params(dims):\n",
        "  d = np.array(dims)\n",
        "  return ((d[:-1]*d[1:])+d[1:]).sum()\n",
        "\n",
        "def full_vi_model():\n",
        "  init_sigma = 1.\n",
        "  prior_sigma = 1.\n",
        "  dims = [28*28,10]\n",
        "  criterion = losses.cross_entropy\n",
        "  temperature = 0.01\n",
        "  number_params = number_of_params(dims)\n",
        "  identity_space = SubspaceModel(torch.zeros(number_params), torch.eye(number_params))\n",
        "  mod = VIModel(\n",
        "      subspace=identity_space,\n",
        "      init_inv_softplus_sigma=math.log(math.exp(init_sigma) - 1.0),\n",
        "      prior_log_sigma=math.log(prior_sigma),\n",
        "      base=VanillaMLP,\n",
        "      dims=dims\n",
        "  )\n",
        "  mod.to(device)\n",
        "  return mod"
      ],
      "execution_count": 104,
      "outputs": [
        {
          "output_type": "stream",
          "text": [
            "7850\n"
          ],
          "name": "stdout"
        }
      ]
    },
    {
      "cell_type": "code",
      "metadata": {
        "colab": {
          "base_uri": "https://localhost:8080/",
          "height": 396,
          "referenced_widgets": [
            "ff122d9b1a04434ca02cf27fddfb78a6",
            "527f71b9583a4ac8b13e90e3bc3c5523",
            "80075441a2484862b288e572672782c2",
            "bd6812957501421c9bd8862ca6435ce9",
            "c77dbd18942c428c8cbb17836d7913d4",
            "3f3ffd40116f47b8ad3c2c41763cc237",
            "182f6c5f22434e34b5f1845c144f3a09",
            "23ae270837a44efd9e18f4093f77601f"
          ]
        },
        "id": "BPwC_BsS_Qrb",
        "outputId": "1e5d0856-2217-412a-bb09-2b84f2044c11"
      },
      "source": [
        "full_vi_model = full_vi_model()\n",
        "elbo = ELBO(criterion, len(train_loader.dataset), temperature=temperature)\n",
        "train(full_vi_model, elbo, 500, train_loader, val_loader, lr=0.003)\n",
        "torch.save(full_vi_model.state_dict(), \"drbayes/full-vi-pca-model.pt\")"
      ],
      "execution_count": 105,
      "outputs": [
        {
          "output_type": "display_data",
          "data": {
            "application/vnd.jupyter.widget-view+json": {
              "model_id": "ff122d9b1a04434ca02cf27fddfb78a6",
              "version_minor": 0,
              "version_major": 2
            },
            "text/plain": [
              "HBox(children=(FloatProgress(value=0.0, max=500.0), HTML(value='')))"
            ]
          },
          "metadata": {
            "tags": []
          }
        },
        {
          "output_type": "stream",
          "text": [
            "Epoch: 0, loss: 0.0018438660303751627, acc: 0.35408333333333336\n",
            "Epoch: 2, loss: 0.0011228489875793456, acc: 0.5930833333333333\n",
            "Epoch: 4, loss: 0.000714830239613851, acc: 0.6418333333333334\n",
            "Epoch: 6, loss: 0.000636380950609843, acc: 0.7325\n",
            "Epoch: 8, loss: 0.0005680096944173177, acc: 0.7383333333333333\n",
            "Epoch: 10, loss: 0.0005729447603225708, acc: 0.76125\n",
            "Epoch: 12, loss: 0.00042731988430023195, acc: 0.7435\n",
            "Epoch: 14, loss: 0.00047204049428304035, acc: 0.8385833333333333\n",
            "Epoch: 16, loss: 0.00043212838967641195, acc: 0.7964166666666667\n",
            "Epoch: 18, loss: 0.00038815240065256755, acc: 0.8114166666666667\n",
            "Epoch: 20, loss: 0.0003650436004002889, acc: 0.8164166666666667\n",
            "Epoch: 22, loss: 0.0004380975564320882, acc: 0.8489166666666667\n",
            "Epoch: 24, loss: 0.00036818226178487144, acc: 0.855\n",
            "Epoch: 26, loss: 0.00045687405268351235, acc: 0.8184166666666667\n",
            "Epoch: 28, loss: 0.00033089524507522584, acc: 0.8469166666666667\n",
            "Epoch: 30, loss: 0.0003076588710149129, acc: 0.8475\n",
            "Epoch: 32, loss: 0.00028236273924509686, acc: 0.85575\n",
            "Epoch: 34, loss: 0.0002950448989868164, acc: 0.8441666666666666\n",
            "Epoch: 36, loss: 0.00032107396920522054, acc: 0.8615\n",
            "converged\n"
          ],
          "name": "stdout"
        }
      ]
    },
    {
      "cell_type": "markdown",
      "metadata": {
        "id": "IyFkYb7MANXU"
      },
      "source": [
        "### Ensembles"
      ]
    },
    {
      "cell_type": "code",
      "metadata": {
        "colab": {
          "base_uri": "https://localhost:8080/",
          "height": 234
        },
        "id": "0uwy48c1faL2",
        "outputId": "de4c543a-92ca-4d21-8293-f373dd7fd42c"
      },
      "source": [
        "class Ensemble(nn.Module):\n",
        "\n",
        "  def __init__(self, number_of_networks, dims):\n",
        "    self.N = number_of_networks\n",
        "    self.dims = dims\n",
        "    self.ensemble = [VanillaMLP(dims) for _ in range(number_of_networks)]\n",
        "\n",
        "  def train(self, loss_function, max_epochs, train_loader, val_loader, lr):\n",
        "    for m in self.ensemble:\n",
        "      m.to(device)\n",
        "      train(m, loss_function, max_epochs, train_loader, val_loader, lr=lr)\n",
        "  \n",
        "  def forward(self, x):\n",
        "    output = torch.zeros(self.dims[-1])\n",
        "    for m in self.ensemble:\n",
        "      output += m(x)\n",
        "    return output/self.N\n",
        "  \n",
        "  def predict(self, loader):\n",
        "    preds = torch.zeros(len(loader), self.dims[-1])\n",
        "    for i, (x,y) in enumerate(loader):\n",
        "      preds[i] = forward(x)\n",
        "\n",
        "  def save(self):\n",
        "    for i in range(self.N):\n",
        "      torch.save(self.ensemble[i].state_dict(), f'drbayes/ensemble-{i}.pt')\n",
        "    \n",
        "  def load(self):\n",
        "    for i in range(self.N):\n",
        "      self.ensemble[i].load_state_dict(torch.load(f'drbayes/ensemble-{i}.pt'))"
      ],
      "execution_count": 3,
      "outputs": [
        {
          "output_type": "error",
          "ename": "NameError",
          "evalue": "ignored",
          "traceback": [
            "\u001b[0;31m---------------------------------------------------------------------------\u001b[0m",
            "\u001b[0;31mNameError\u001b[0m                                 Traceback (most recent call last)",
            "\u001b[0;32m<ipython-input-3-da294cc1e8fd>\u001b[0m in \u001b[0;36m<module>\u001b[0;34m()\u001b[0m\n\u001b[0;32m----> 1\u001b[0;31m \u001b[0;32mclass\u001b[0m \u001b[0mEnsemble\u001b[0m\u001b[0;34m(\u001b[0m\u001b[0mnn\u001b[0m\u001b[0;34m.\u001b[0m\u001b[0mModule\u001b[0m\u001b[0;34m)\u001b[0m\u001b[0;34m:\u001b[0m\u001b[0;34m\u001b[0m\u001b[0;34m\u001b[0m\u001b[0m\n\u001b[0m\u001b[1;32m      2\u001b[0m \u001b[0;34m\u001b[0m\u001b[0m\n\u001b[1;32m      3\u001b[0m   \u001b[0;32mdef\u001b[0m \u001b[0m__init__\u001b[0m\u001b[0;34m(\u001b[0m\u001b[0mself\u001b[0m\u001b[0;34m,\u001b[0m \u001b[0mnumber_of_networks\u001b[0m\u001b[0;34m,\u001b[0m \u001b[0mdims\u001b[0m\u001b[0;34m)\u001b[0m\u001b[0;34m:\u001b[0m\u001b[0;34m\u001b[0m\u001b[0;34m\u001b[0m\u001b[0m\n\u001b[1;32m      4\u001b[0m     \u001b[0mself\u001b[0m\u001b[0;34m.\u001b[0m\u001b[0mN\u001b[0m \u001b[0;34m=\u001b[0m \u001b[0mnumber_of_networks\u001b[0m\u001b[0;34m\u001b[0m\u001b[0;34m\u001b[0m\u001b[0m\n\u001b[1;32m      5\u001b[0m     \u001b[0mself\u001b[0m\u001b[0;34m.\u001b[0m\u001b[0mdims\u001b[0m \u001b[0;34m=\u001b[0m \u001b[0mdims\u001b[0m\u001b[0;34m\u001b[0m\u001b[0;34m\u001b[0m\u001b[0m\n",
            "\u001b[0;31mNameError\u001b[0m: name 'nn' is not defined"
          ]
        }
      ]
    },
    {
      "cell_type": "code",
      "metadata": {
        "id": "5BVBotV3gkX3"
      },
      "source": [
        "ensemble = Ensemble(number_of_networks = 10, dims = [28*28,10])\n",
        "ensemble.train(losses.cross_entropy, 500, train_loader, val_loader, lr=0.001)\n",
        "ensemble.save()"
      ],
      "execution_count": null,
      "outputs": []
    },
    {
      "cell_type": "markdown",
      "metadata": {
        "id": "yw3J4TWtANXV"
      },
      "source": [
        "### PCA subspace"
      ]
    },
    {
      "cell_type": "code",
      "metadata": {
        "id": "wQ7DJHwhANXY",
        "colab": {
          "base_uri": "https://localhost:8080/"
        },
        "outputId": "ed3af29f-0798-422d-e754-2623b6d42249"
      },
      "source": [
        "model = VanillaMLP([28*28,10])\n",
        "model.to(device)"
      ],
      "execution_count": 9,
      "outputs": [
        {
          "output_type": "execute_result",
          "data": {
            "text/plain": [
              "VanillaMLP(\n",
              "  (model): Sequential(\n",
              "    (0): Flatten(start_dim=1, end_dim=-1)\n",
              "    (1): Linear(in_features=784, out_features=50, bias=True)\n",
              "    (2): ReLU()\n",
              "    (3): Linear(in_features=50, out_features=20, bias=True)\n",
              "    (4): ReLU()\n",
              "    (5): Linear(in_features=20, out_features=10, bias=True)\n",
              "  )\n",
              ")"
            ]
          },
          "metadata": {
            "tags": []
          },
          "execution_count": 9
        }
      ]
    },
    {
      "cell_type": "code",
      "metadata": {
        "colab": {
          "base_uri": "https://localhost:8080/"
        },
        "id": "hPO8E0UmHcfj",
        "outputId": "d38ded00-b9ce-4d72-df4b-cf57c5cf70ae"
      },
      "source": [
        "# train model to convergence\n",
        "train(model, losses.cross_entropy, 500, train_loader, val_loader, lr=0.001)\n",
        "\n",
        "# train for a further number of epochs to collect PCA subspace\n",
        "space = train(model, F.cross_entropy, 100, train_loader, val_loader, lr=1, collect_model=True)\n",
        "torch.save(model.state_dict(), \"drbayes/MLP-qmnist.pt\")\n",
        "mean, _, cov_factor = space\n",
        "subspace = SubspaceModel(mean, cov_factor)\n",
        "torch.save(subspace.state_dict(), \"drbayes/pca-subspace-qmnist.pt\")"
      ],
      "execution_count": 10,
      "outputs": [
        {
          "output_type": "stream",
          "text": [
            "Epoch: 0, loss: 0.00497192470356822\n",
            "Epoch: 10, loss: 0.0024160456378012896\n",
            "Epoch: 20, loss: 0.0017338517354801297\n",
            "Epoch: 30, loss: 0.0021731380838900805\n",
            "Epoch: 40, loss: 0.0001031545689329505\n",
            "Epoch: 50, loss: 8.925090514821932e-05\n",
            "Epoch: 60, loss: 0.0005254982970654964\n",
            "Epoch: 70, loss: 0.0007059096824377775\n",
            "Epoch: 80, loss: 0.00010775399277918041\n",
            "Epoch: 90, loss: 8.92047246452421e-05\n"
          ],
          "name": "stdout"
        }
      ]
    },
    {
      "cell_type": "code",
      "metadata": {
        "id": "rZCPBVTTANXY",
        "colab": {
          "base_uri": "https://localhost:8080/",
          "height": 362
        },
        "outputId": "2f29215b-6fca-4189-9d8e-5b844bbd763f"
      },
      "source": [
        "# run VI on the PCA-derived subspace\n",
        "def vi_model(subspace):\n",
        "  init_sigma = 1.\n",
        "  prior_sigma = 5.\n",
        "  criterion = losses.cross_entropy\n",
        "  temperature = 1.\n",
        "  \n",
        "  vi_model = VIModel(\n",
        "      subspace=subspace,\n",
        "      init_inv_softplus_sigma=math.log(math.exp(init_sigma) - 1.0),\n",
        "      prior_log_sigma=math.log(prior_sigma),\n",
        "      base=VanillaMLP,\n",
        "      dims=[28*28,10]\n",
        "  )\n",
        "  \n",
        "  vi_model.to(device)\n",
        "  return vi_model\n",
        "\n",
        "vi_model = vi_model(subspace)\n",
        "elbo = ELBO(criterion, len(train_loader.dataset), temperature=temperature)\n",
        "train(vi_model, elbo, 500, train_loader, val_loader, lr=0.001)\n",
        "torch.save(vi_model.state_dict(), \"drbayes/vi-pca-model.pt\")"
      ],
      "execution_count": 11,
      "outputs": [
        {
          "output_type": "error",
          "ename": "RuntimeError",
          "evalue": "ignored",
          "traceback": [
            "\u001b[0;31m---------------------------------------------------------------------------\u001b[0m",
            "\u001b[0;31mRuntimeError\u001b[0m                              Traceback (most recent call last)",
            "\u001b[0;32m<ipython-input-11-d87c8aa8ff34>\u001b[0m in \u001b[0;36m<module>\u001b[0;34m()\u001b[0m\n\u001b[1;32m     15\u001b[0m \u001b[0;34m\u001b[0m\u001b[0m\n\u001b[1;32m     16\u001b[0m \u001b[0mvi_model\u001b[0m\u001b[0;34m.\u001b[0m\u001b[0mto\u001b[0m\u001b[0;34m(\u001b[0m\u001b[0mdevice\u001b[0m\u001b[0;34m)\u001b[0m\u001b[0;34m\u001b[0m\u001b[0;34m\u001b[0m\u001b[0m\n\u001b[0;32m---> 17\u001b[0;31m \u001b[0mvi_model\u001b[0m\u001b[0;34m.\u001b[0m\u001b[0mload_state_dict\u001b[0m\u001b[0;34m(\u001b[0m\u001b[0mtorch\u001b[0m\u001b[0;34m.\u001b[0m\u001b[0mload\u001b[0m\u001b[0;34m(\u001b[0m\u001b[0;34m'drbayes/vi-pca-model.pt'\u001b[0m\u001b[0;34m)\u001b[0m\u001b[0;34m)\u001b[0m\u001b[0;34m\u001b[0m\u001b[0;34m\u001b[0m\u001b[0m\n\u001b[0m",
            "\u001b[0;32m/usr/local/lib/python3.7/dist-packages/torch/serialization.py\u001b[0m in \u001b[0;36mload\u001b[0;34m(f, map_location, pickle_module, **pickle_load_args)\u001b[0m\n\u001b[1;32m    592\u001b[0m                     \u001b[0mopened_file\u001b[0m\u001b[0;34m.\u001b[0m\u001b[0mseek\u001b[0m\u001b[0;34m(\u001b[0m\u001b[0morig_position\u001b[0m\u001b[0;34m)\u001b[0m\u001b[0;34m\u001b[0m\u001b[0;34m\u001b[0m\u001b[0m\n\u001b[1;32m    593\u001b[0m                     \u001b[0;32mreturn\u001b[0m \u001b[0mtorch\u001b[0m\u001b[0;34m.\u001b[0m\u001b[0mjit\u001b[0m\u001b[0;34m.\u001b[0m\u001b[0mload\u001b[0m\u001b[0;34m(\u001b[0m\u001b[0mopened_file\u001b[0m\u001b[0;34m)\u001b[0m\u001b[0;34m\u001b[0m\u001b[0;34m\u001b[0m\u001b[0m\n\u001b[0;32m--> 594\u001b[0;31m                 \u001b[0;32mreturn\u001b[0m \u001b[0m_load\u001b[0m\u001b[0;34m(\u001b[0m\u001b[0mopened_zipfile\u001b[0m\u001b[0;34m,\u001b[0m \u001b[0mmap_location\u001b[0m\u001b[0;34m,\u001b[0m \u001b[0mpickle_module\u001b[0m\u001b[0;34m,\u001b[0m \u001b[0;34m**\u001b[0m\u001b[0mpickle_load_args\u001b[0m\u001b[0;34m)\u001b[0m\u001b[0;34m\u001b[0m\u001b[0;34m\u001b[0m\u001b[0m\n\u001b[0m\u001b[1;32m    595\u001b[0m         \u001b[0;32mreturn\u001b[0m \u001b[0m_legacy_load\u001b[0m\u001b[0;34m(\u001b[0m\u001b[0mopened_file\u001b[0m\u001b[0;34m,\u001b[0m \u001b[0mmap_location\u001b[0m\u001b[0;34m,\u001b[0m \u001b[0mpickle_module\u001b[0m\u001b[0;34m,\u001b[0m \u001b[0;34m**\u001b[0m\u001b[0mpickle_load_args\u001b[0m\u001b[0;34m)\u001b[0m\u001b[0;34m\u001b[0m\u001b[0;34m\u001b[0m\u001b[0m\n\u001b[1;32m    596\u001b[0m \u001b[0;34m\u001b[0m\u001b[0m\n",
            "\u001b[0;32m/usr/local/lib/python3.7/dist-packages/torch/serialization.py\u001b[0m in \u001b[0;36m_load\u001b[0;34m(zip_file, map_location, pickle_module, pickle_file, **pickle_load_args)\u001b[0m\n\u001b[1;32m    851\u001b[0m     \u001b[0munpickler\u001b[0m \u001b[0;34m=\u001b[0m \u001b[0mpickle_module\u001b[0m\u001b[0;34m.\u001b[0m\u001b[0mUnpickler\u001b[0m\u001b[0;34m(\u001b[0m\u001b[0mdata_file\u001b[0m\u001b[0;34m,\u001b[0m \u001b[0;34m**\u001b[0m\u001b[0mpickle_load_args\u001b[0m\u001b[0;34m)\u001b[0m\u001b[0;34m\u001b[0m\u001b[0;34m\u001b[0m\u001b[0m\n\u001b[1;32m    852\u001b[0m     \u001b[0munpickler\u001b[0m\u001b[0;34m.\u001b[0m\u001b[0mpersistent_load\u001b[0m \u001b[0;34m=\u001b[0m \u001b[0mpersistent_load\u001b[0m\u001b[0;34m\u001b[0m\u001b[0;34m\u001b[0m\u001b[0m\n\u001b[0;32m--> 853\u001b[0;31m     \u001b[0mresult\u001b[0m \u001b[0;34m=\u001b[0m \u001b[0munpickler\u001b[0m\u001b[0;34m.\u001b[0m\u001b[0mload\u001b[0m\u001b[0;34m(\u001b[0m\u001b[0;34m)\u001b[0m\u001b[0;34m\u001b[0m\u001b[0;34m\u001b[0m\u001b[0m\n\u001b[0m\u001b[1;32m    854\u001b[0m \u001b[0;34m\u001b[0m\u001b[0m\n\u001b[1;32m    855\u001b[0m     \u001b[0mtorch\u001b[0m\u001b[0;34m.\u001b[0m\u001b[0m_utils\u001b[0m\u001b[0;34m.\u001b[0m\u001b[0m_validate_loaded_sparse_tensors\u001b[0m\u001b[0;34m(\u001b[0m\u001b[0;34m)\u001b[0m\u001b[0;34m\u001b[0m\u001b[0;34m\u001b[0m\u001b[0m\n",
            "\u001b[0;32m/usr/local/lib/python3.7/dist-packages/torch/serialization.py\u001b[0m in \u001b[0;36mpersistent_load\u001b[0;34m(saved_id)\u001b[0m\n\u001b[1;32m    843\u001b[0m         \u001b[0mdata_type\u001b[0m\u001b[0;34m,\u001b[0m \u001b[0mkey\u001b[0m\u001b[0;34m,\u001b[0m \u001b[0mlocation\u001b[0m\u001b[0;34m,\u001b[0m \u001b[0msize\u001b[0m \u001b[0;34m=\u001b[0m \u001b[0mdata\u001b[0m\u001b[0;34m\u001b[0m\u001b[0;34m\u001b[0m\u001b[0m\n\u001b[1;32m    844\u001b[0m         \u001b[0;32mif\u001b[0m \u001b[0mkey\u001b[0m \u001b[0;32mnot\u001b[0m \u001b[0;32min\u001b[0m \u001b[0mloaded_storages\u001b[0m\u001b[0;34m:\u001b[0m\u001b[0;34m\u001b[0m\u001b[0;34m\u001b[0m\u001b[0m\n\u001b[0;32m--> 845\u001b[0;31m             \u001b[0mload_tensor\u001b[0m\u001b[0;34m(\u001b[0m\u001b[0mdata_type\u001b[0m\u001b[0;34m,\u001b[0m \u001b[0msize\u001b[0m\u001b[0;34m,\u001b[0m \u001b[0mkey\u001b[0m\u001b[0;34m,\u001b[0m \u001b[0m_maybe_decode_ascii\u001b[0m\u001b[0;34m(\u001b[0m\u001b[0mlocation\u001b[0m\u001b[0;34m)\u001b[0m\u001b[0;34m)\u001b[0m\u001b[0;34m\u001b[0m\u001b[0;34m\u001b[0m\u001b[0m\n\u001b[0m\u001b[1;32m    846\u001b[0m         \u001b[0mstorage\u001b[0m \u001b[0;34m=\u001b[0m \u001b[0mloaded_storages\u001b[0m\u001b[0;34m[\u001b[0m\u001b[0mkey\u001b[0m\u001b[0;34m]\u001b[0m\u001b[0;34m\u001b[0m\u001b[0;34m\u001b[0m\u001b[0m\n\u001b[1;32m    847\u001b[0m         \u001b[0;32mreturn\u001b[0m \u001b[0mstorage\u001b[0m\u001b[0;34m\u001b[0m\u001b[0;34m\u001b[0m\u001b[0m\n",
            "\u001b[0;32m/usr/local/lib/python3.7/dist-packages/torch/serialization.py\u001b[0m in \u001b[0;36mload_tensor\u001b[0;34m(data_type, size, key, location)\u001b[0m\n\u001b[1;32m    832\u001b[0m \u001b[0;34m\u001b[0m\u001b[0m\n\u001b[1;32m    833\u001b[0m         \u001b[0mstorage\u001b[0m \u001b[0;34m=\u001b[0m \u001b[0mzip_file\u001b[0m\u001b[0;34m.\u001b[0m\u001b[0mget_storage_from_record\u001b[0m\u001b[0;34m(\u001b[0m\u001b[0mname\u001b[0m\u001b[0;34m,\u001b[0m \u001b[0msize\u001b[0m\u001b[0;34m,\u001b[0m \u001b[0mdtype\u001b[0m\u001b[0;34m)\u001b[0m\u001b[0;34m.\u001b[0m\u001b[0mstorage\u001b[0m\u001b[0;34m(\u001b[0m\u001b[0;34m)\u001b[0m\u001b[0;34m\u001b[0m\u001b[0;34m\u001b[0m\u001b[0m\n\u001b[0;32m--> 834\u001b[0;31m         \u001b[0mloaded_storages\u001b[0m\u001b[0;34m[\u001b[0m\u001b[0mkey\u001b[0m\u001b[0;34m]\u001b[0m \u001b[0;34m=\u001b[0m \u001b[0mrestore_location\u001b[0m\u001b[0;34m(\u001b[0m\u001b[0mstorage\u001b[0m\u001b[0;34m,\u001b[0m \u001b[0mlocation\u001b[0m\u001b[0;34m)\u001b[0m\u001b[0;34m\u001b[0m\u001b[0;34m\u001b[0m\u001b[0m\n\u001b[0m\u001b[1;32m    835\u001b[0m \u001b[0;34m\u001b[0m\u001b[0m\n\u001b[1;32m    836\u001b[0m     \u001b[0;32mdef\u001b[0m \u001b[0mpersistent_load\u001b[0m\u001b[0;34m(\u001b[0m\u001b[0msaved_id\u001b[0m\u001b[0;34m)\u001b[0m\u001b[0;34m:\u001b[0m\u001b[0;34m\u001b[0m\u001b[0;34m\u001b[0m\u001b[0m\n",
            "\u001b[0;32m/usr/local/lib/python3.7/dist-packages/torch/serialization.py\u001b[0m in \u001b[0;36mdefault_restore_location\u001b[0;34m(storage, location)\u001b[0m\n\u001b[1;32m    173\u001b[0m \u001b[0;32mdef\u001b[0m \u001b[0mdefault_restore_location\u001b[0m\u001b[0;34m(\u001b[0m\u001b[0mstorage\u001b[0m\u001b[0;34m,\u001b[0m \u001b[0mlocation\u001b[0m\u001b[0;34m)\u001b[0m\u001b[0;34m:\u001b[0m\u001b[0;34m\u001b[0m\u001b[0;34m\u001b[0m\u001b[0m\n\u001b[1;32m    174\u001b[0m     \u001b[0;32mfor\u001b[0m \u001b[0m_\u001b[0m\u001b[0;34m,\u001b[0m \u001b[0m_\u001b[0m\u001b[0;34m,\u001b[0m \u001b[0mfn\u001b[0m \u001b[0;32min\u001b[0m \u001b[0m_package_registry\u001b[0m\u001b[0;34m:\u001b[0m\u001b[0;34m\u001b[0m\u001b[0;34m\u001b[0m\u001b[0m\n\u001b[0;32m--> 175\u001b[0;31m         \u001b[0mresult\u001b[0m \u001b[0;34m=\u001b[0m \u001b[0mfn\u001b[0m\u001b[0;34m(\u001b[0m\u001b[0mstorage\u001b[0m\u001b[0;34m,\u001b[0m \u001b[0mlocation\u001b[0m\u001b[0;34m)\u001b[0m\u001b[0;34m\u001b[0m\u001b[0;34m\u001b[0m\u001b[0m\n\u001b[0m\u001b[1;32m    176\u001b[0m         \u001b[0;32mif\u001b[0m \u001b[0mresult\u001b[0m \u001b[0;32mis\u001b[0m \u001b[0;32mnot\u001b[0m \u001b[0;32mNone\u001b[0m\u001b[0;34m:\u001b[0m\u001b[0;34m\u001b[0m\u001b[0;34m\u001b[0m\u001b[0m\n\u001b[1;32m    177\u001b[0m             \u001b[0;32mreturn\u001b[0m \u001b[0mresult\u001b[0m\u001b[0;34m\u001b[0m\u001b[0;34m\u001b[0m\u001b[0m\n",
            "\u001b[0;32m/usr/local/lib/python3.7/dist-packages/torch/serialization.py\u001b[0m in \u001b[0;36m_cuda_deserialize\u001b[0;34m(obj, location)\u001b[0m\n\u001b[1;32m    149\u001b[0m \u001b[0;32mdef\u001b[0m \u001b[0m_cuda_deserialize\u001b[0m\u001b[0;34m(\u001b[0m\u001b[0mobj\u001b[0m\u001b[0;34m,\u001b[0m \u001b[0mlocation\u001b[0m\u001b[0;34m)\u001b[0m\u001b[0;34m:\u001b[0m\u001b[0;34m\u001b[0m\u001b[0;34m\u001b[0m\u001b[0m\n\u001b[1;32m    150\u001b[0m     \u001b[0;32mif\u001b[0m \u001b[0mlocation\u001b[0m\u001b[0;34m.\u001b[0m\u001b[0mstartswith\u001b[0m\u001b[0;34m(\u001b[0m\u001b[0;34m'cuda'\u001b[0m\u001b[0;34m)\u001b[0m\u001b[0;34m:\u001b[0m\u001b[0;34m\u001b[0m\u001b[0;34m\u001b[0m\u001b[0m\n\u001b[0;32m--> 151\u001b[0;31m         \u001b[0mdevice\u001b[0m \u001b[0;34m=\u001b[0m \u001b[0mvalidate_cuda_device\u001b[0m\u001b[0;34m(\u001b[0m\u001b[0mlocation\u001b[0m\u001b[0;34m)\u001b[0m\u001b[0;34m\u001b[0m\u001b[0;34m\u001b[0m\u001b[0m\n\u001b[0m\u001b[1;32m    152\u001b[0m         \u001b[0;32mif\u001b[0m \u001b[0mgetattr\u001b[0m\u001b[0;34m(\u001b[0m\u001b[0mobj\u001b[0m\u001b[0;34m,\u001b[0m \u001b[0;34m\"_torch_load_uninitialized\"\u001b[0m\u001b[0;34m,\u001b[0m \u001b[0;32mFalse\u001b[0m\u001b[0;34m)\u001b[0m\u001b[0;34m:\u001b[0m\u001b[0;34m\u001b[0m\u001b[0;34m\u001b[0m\u001b[0m\n\u001b[1;32m    153\u001b[0m             \u001b[0mstorage_type\u001b[0m \u001b[0;34m=\u001b[0m \u001b[0mgetattr\u001b[0m\u001b[0;34m(\u001b[0m\u001b[0mtorch\u001b[0m\u001b[0;34m.\u001b[0m\u001b[0mcuda\u001b[0m\u001b[0;34m,\u001b[0m \u001b[0mtype\u001b[0m\u001b[0;34m(\u001b[0m\u001b[0mobj\u001b[0m\u001b[0;34m)\u001b[0m\u001b[0;34m.\u001b[0m\u001b[0m__name__\u001b[0m\u001b[0;34m)\u001b[0m\u001b[0;34m\u001b[0m\u001b[0;34m\u001b[0m\u001b[0m\n",
            "\u001b[0;32m/usr/local/lib/python3.7/dist-packages/torch/serialization.py\u001b[0m in \u001b[0;36mvalidate_cuda_device\u001b[0;34m(location)\u001b[0m\n\u001b[1;32m    133\u001b[0m \u001b[0;34m\u001b[0m\u001b[0m\n\u001b[1;32m    134\u001b[0m     \u001b[0;32mif\u001b[0m \u001b[0;32mnot\u001b[0m \u001b[0mtorch\u001b[0m\u001b[0;34m.\u001b[0m\u001b[0mcuda\u001b[0m\u001b[0;34m.\u001b[0m\u001b[0mis_available\u001b[0m\u001b[0;34m(\u001b[0m\u001b[0;34m)\u001b[0m\u001b[0;34m:\u001b[0m\u001b[0;34m\u001b[0m\u001b[0;34m\u001b[0m\u001b[0m\n\u001b[0;32m--> 135\u001b[0;31m         raise RuntimeError('Attempting to deserialize object on a CUDA '\n\u001b[0m\u001b[1;32m    136\u001b[0m                            \u001b[0;34m'device but torch.cuda.is_available() is False. '\u001b[0m\u001b[0;34m\u001b[0m\u001b[0;34m\u001b[0m\u001b[0m\n\u001b[1;32m    137\u001b[0m                            \u001b[0;34m'If you are running on a CPU-only machine, '\u001b[0m\u001b[0;34m\u001b[0m\u001b[0;34m\u001b[0m\u001b[0m\n",
            "\u001b[0;31mRuntimeError\u001b[0m: Attempting to deserialize object on a CUDA device but torch.cuda.is_available() is False. If you are running on a CPU-only machine, please use torch.load with map_location=torch.device('cpu') to map your storages to the CPU."
          ]
        }
      ]
    },
    {
      "cell_type": "markdown",
      "metadata": {
        "id": "ow6mn2tliuG6"
      },
      "source": [
        "## Running Ensembles, PCA subspace and full VI"
      ]
    },
    {
      "cell_type": "markdown",
      "metadata": {
        "id": "_59cVPonp2Vk"
      },
      "source": [
        "Let's load the old models"
      ]
    },
    {
      "cell_type": "code",
      "metadata": {
        "id": "eqC2_qdXp1Ut"
      },
      "source": [
        "full_vi_model = full_vi_model()\n",
        "full_vi_model.load_state_dict(torch.load('drbayes/full-vi-pca-model.pt'))\n",
        "\n",
        "ensemble = Ensemble(10, [28*28,10])\n",
        "ensemble.load()\n",
        "\n",
        "subspace = SubspaceModel(mean, cov_factor)\n",
        "subspace.load_state_dict(torch.load(\"drbayes/pca-subspace-qmnist.pt\"))\n",
        "vi_model = vi_model(subspace)"
      ],
      "execution_count": null,
      "outputs": []
    },
    {
      "cell_type": "markdown",
      "metadata": {
        "id": "nkOMSvY8i7zE"
      },
      "source": [
        "#### Full VI"
      ]
    },
    {
      "cell_type": "code",
      "metadata": {
        "colab": {
          "base_uri": "https://localhost:8080/",
          "height": 1000,
          "referenced_widgets": [
            "dc18d4db83744eb984c1cba98a281938",
            "7a58841abfae41c9b8f6cbc0ccc58f56",
            "acd65f34fd8148e9b44d77992a2aec28",
            "a228d28337a3441ab0eb32c53b66df30",
            "8301a9b692bb467bb3788c3d2d8cc43b",
            "d8e3fe294a4743da824ea1a504b818c5",
            "f4ab8266d7544b27be6ab848aa7671f4",
            "7cc481d617504f37b02b9898b2f772b6"
          ]
        },
        "id": "nQoHDqXmte7f",
        "outputId": "985bddde-5ee9-4fd2-d388-c4904172d66c"
      },
      "source": [
        "preds,acc = vi_pred(full_vi_model, 100, test_loader)\n",
        "inds = torch.max(preds,dim=1)[0].argsort()[:10]\n",
        "print(torch.max(preds,dim=1)[0][inds])\n",
        "for i,im in enumerate(test_loader.dataset.data[inds]):\n",
        "  plt.imshow(im,cmap='gray')\n",
        "  plt.title(f'predicted: {preds[i].argmax()}')\n",
        "  plt.show()"
      ],
      "execution_count": 109,
      "outputs": [
        {
          "output_type": "display_data",
          "data": {
            "application/vnd.jupyter.widget-view+json": {
              "model_id": "dc18d4db83744eb984c1cba98a281938",
              "version_minor": 0,
              "version_major": 2
            },
            "text/plain": [
              "HBox(children=(FloatProgress(value=1.0, bar_style='info', max=1.0), HTML(value='')))"
            ]
          },
          "metadata": {
            "tags": []
          }
        },
        {
          "output_type": "stream",
          "text": [
            "\n",
            "tensor([0.2064, 0.2219, 0.2255, 0.2272, 0.2369, 0.2444, 0.2448, 0.2458, 0.2460,\n",
            "        0.2484], grad_fn=<IndexBackward>)\n"
          ],
          "name": "stdout"
        },
        {
          "output_type": "display_data",
          "data": {
            "image/png": "[encoded data removed]",
            "text/plain": [
              "<Figure size 432x288 with 1 Axes>"
            ]
          },
          "metadata": {
            "tags": [],
            "needs_background": "light"
          }
        },
        {
          "output_type": "display_data",
          "data": {
            "image/png": "[encoded data removed]",
            "text/plain": [
              "<Figure size 432x288 with 1 Axes>"
            ]
          },
          "metadata": {
            "tags": [],
            "needs_background": "light"
          }
        },
        {
          "output_type": "display_data",
          "data": {
            "image/png": "[encoded data removed]",
            "text/plain": [
              "<Figure size 432x288 with 1 Axes>"
            ]
          },
          "metadata": {
            "tags": [],
            "needs_background": "light"
          }
        },
        {
          "output_type": "display_data",
          "data": {
            "image/png": "[encoded data removed]",
            "text/plain": [
              "<Figure size 432x288 with 1 Axes>"
            ]
          },
          "metadata": {
            "tags": [],
            "needs_background": "light"
          }
        },
        {
          "output_type": "display_data",
          "data": {
            "image/png": "[encoded data removed]",
            "text/plain": [
              "<Figure size 432x288 with 1 Axes>"
            ]
          },
          "metadata": {
            "tags": [],
            "needs_background": "light"
          }
        },
        {
          "output_type": "display_data",
          "data": {
            "image/png": "[encoded data removed]",
            "text/plain": [
              "<Figure size 432x288 with 1 Axes>"
            ]
          },
          "metadata": {
            "tags": [],
            "needs_background": "light"
          }
        },
        {
          "output_type": "display_data",
          "data": {
            "image/png": "[encoded data removed]",
            "text/plain": [
              "<Figure size 432x288 with 1 Axes>"
            ]
          },
          "metadata": {
            "tags": [],
            "needs_background": "light"
          }
        },
        {
          "output_type": "display_data",
          "data": {
            "image/png": "[encoded data removed]",
            "text/plain": [
              "<Figure size 432x288 with 1 Axes>"
            ]
          },
          "metadata": {
            "tags": [],
            "needs_background": "light"
          }
        },
        {
          "output_type": "display_data",
          "data": {
            "image/png": "[encoded data removed]",
            "text/plain": [
              "<Figure size 432x288 with 1 Axes>"
            ]
          },
          "metadata": {
            "tags": [],
            "needs_background": "light"
          }
        },
        {
          "output_type": "display_data",
          "data": {
            "image/png": "[encoded data removed]",
            "text/plain": [
              "<Figure size 432x288 with 1 Axes>"
            ]
          },
          "metadata": {
            "tags": [],
            "needs_background": "light"
          }
        }
      ]
    },
    {
      "cell_type": "markdown",
      "metadata": {
        "id": "uaHXDZ2PjB12"
      },
      "source": [
        "### PCA subspace"
      ]
    },
    {
      "cell_type": "code",
      "metadata": {
        "colab": {
          "base_uri": "https://localhost:8080/",
          "height": 1000
        },
        "id": "uJqi8iYgn04_",
        "outputId": "c9b7d028-b3d4-4b33-b491-6a7c5b45e678"
      },
      "source": [
        "preds,acc = vi_pred(vi_model, 100, test_loader)\n",
        "inds = torch.max(preds,dim=1)[0].argsort()[:10]\n",
        "print(torch.max(preds,dim=1)[0][inds])\n",
        "for i,im in enumerate(test_loader.dataset.data[inds]):\n",
        "  plt.imshow(im,cmap='gray')\n",
        "  plt.title(f'predicted: {preds[i].argmax()}')\n",
        "  plt.show()"
      ],
      "execution_count": 32,
      "outputs": [
        {
          "output_type": "stream",
          "text": [
            "tensor([0.2998, 0.3426, 0.3545, 0.3602, 0.3694, 0.3808, 0.3981, 0.4009, 0.4023,\n",
            "        0.4100], grad_fn=<IndexBackward>)\n",
            "tensor([2.3121e-13, 4.4572e-16, 6.0676e-12, 7.1356e-09, 1.5891e-19, 8.4657e-12,\n",
            "        4.9507e-29, 1.0000e+00, 4.3077e-14, 1.1976e-10],\n",
            "       grad_fn=<SelectBackward>)\n"
          ],
          "name": "stdout"
        },
        {
          "output_type": "display_data",
          "data": {
            "image/png": "[encoded data removed]",
            "text/plain": [
              "<Figure size 432x288 with 1 Axes>"
            ]
          },
          "metadata": {
            "tags": [],
            "needs_background": "light"
          }
        },
        {
          "output_type": "stream",
          "text": [
            "tensor([4.9270e-10, 9.0126e-09, 1.0000e+00, 4.5122e-12, 3.4076e-22, 1.3993e-09,\n",
            "        5.2431e-13, 3.9875e-18, 1.5328e-09, 1.1064e-16],\n",
            "       grad_fn=<SelectBackward>)\n"
          ],
          "name": "stdout"
        },
        {
          "output_type": "display_data",
          "data": {
            "image/png": "[encoded data removed]",
            "text/plain": [
              "<Figure size 432x288 with 1 Axes>"
            ]
          },
          "metadata": {
            "tags": [],
            "needs_background": "light"
          }
        },
        {
          "output_type": "stream",
          "text": [
            "tensor([1.6124e-11, 9.9998e-01, 4.0230e-06, 1.6821e-08, 5.8121e-08, 8.6070e-09,\n",
            "        7.2224e-12, 7.3269e-06, 5.7727e-06, 2.2635e-09],\n",
            "       grad_fn=<SelectBackward>)\n"
          ],
          "name": "stdout"
        },
        {
          "output_type": "display_data",
          "data": {
            "image/png": "[encoded data removed]",
            "text/plain": [
              "<Figure size 432x288 with 1 Axes>"
            ]
          },
          "metadata": {
            "tags": [],
            "needs_background": "light"
          }
        },
        {
          "output_type": "stream",
          "text": [
            "tensor([1.0000e+00, 1.6297e-08, 6.3652e-11, 3.8670e-12, 4.3049e-10, 2.8304e-09,\n",
            "        5.8860e-08, 4.8369e-09, 3.1018e-13, 1.8701e-10],\n",
            "       grad_fn=<SelectBackward>)\n"
          ],
          "name": "stdout"
        },
        {
          "output_type": "display_data",
          "data": {
            "image/png": "[encoded data removed]",
            "text/plain": [
              "<Figure size 432x288 with 1 Axes>"
            ]
          },
          "metadata": {
            "tags": [],
            "needs_background": "light"
          }
        },
        {
          "output_type": "stream",
          "text": [
            "tensor([4.6211e-13, 4.3122e-10, 2.1455e-12, 3.1617e-11, 1.0000e+00, 4.9353e-14,\n",
            "        1.3110e-13, 4.0685e-08, 8.6470e-13, 8.8055e-07],\n",
            "       grad_fn=<SelectBackward>)\n"
          ],
          "name": "stdout"
        },
        {
          "output_type": "display_data",
          "data": {
            "image/png": "[encoded data removed]",
            "text/plain": [
              "<Figure size 432x288 with 1 Axes>"
            ]
          },
          "metadata": {
            "tags": [],
            "needs_background": "light"
          }
        },
        {
          "output_type": "stream",
          "text": [
            "tensor([9.4232e-14, 9.9999e-01, 4.7623e-10, 4.3453e-11, 1.7875e-09, 2.6415e-12,\n",
            "        4.7712e-15, 5.1174e-06, 1.1451e-09, 3.9510e-13],\n",
            "       grad_fn=<SelectBackward>)\n"
          ],
          "name": "stdout"
        },
        {
          "output_type": "display_data",
          "data": {
            "image/png": "[encoded data removed]",
            "text/plain": [
              "<Figure size 432x288 with 1 Axes>"
            ]
          },
          "metadata": {
            "tags": [],
            "needs_background": "light"
          }
        },
        {
          "output_type": "stream",
          "text": [
            "tensor([2.2682e-16, 1.7807e-07, 3.3007e-13, 3.5003e-08, 9.9998e-01, 1.7609e-09,\n",
            "        3.9527e-16, 1.1153e-08, 1.7756e-05, 2.7533e-07],\n",
            "       grad_fn=<SelectBackward>)\n"
          ],
          "name": "stdout"
        },
        {
          "output_type": "display_data",
          "data": {
            "image/png": "[encoded data removed]",
            "text/plain": [
              "<Figure size 432x288 with 1 Axes>"
            ]
          },
          "metadata": {
            "tags": [],
            "needs_background": "light"
          }
        },
        {
          "output_type": "stream",
          "text": [
            "tensor([1.4117e-15, 1.7036e-07, 1.6760e-10, 2.7806e-07, 2.5143e-08, 3.1681e-11,\n",
            "        1.4529e-23, 2.0553e-08, 2.1823e-11, 1.0000e+00],\n",
            "       grad_fn=<SelectBackward>)\n"
          ],
          "name": "stdout"
        },
        {
          "output_type": "display_data",
          "data": {
            "image/png": "[encoded data removed]",
            "text/plain": [
              "<Figure size 432x288 with 1 Axes>"
            ]
          },
          "metadata": {
            "tags": [],
            "needs_background": "light"
          }
        },
        {
          "output_type": "stream",
          "text": [
            "tensor([4.6440e-09, 5.8705e-10, 1.9194e-09, 6.2098e-10, 3.0199e-02, 7.5829e-01,\n",
            "        1.0813e-01, 1.3187e-16, 3.7901e-02, 6.5480e-02],\n",
            "       grad_fn=<SelectBackward>)\n"
          ],
          "name": "stdout"
        },
        {
          "output_type": "display_data",
          "data": {
            "image/png": "[encoded data removed]",
            "text/plain": [
              "<Figure size 432x288 with 1 Axes>"
            ]
          },
          "metadata": {
            "tags": [],
            "needs_background": "light"
          }
        },
        {
          "output_type": "stream",
          "text": [
            "tensor([5.1242e-16, 9.0639e-17, 1.7029e-18, 6.3931e-11, 1.7817e-06, 5.2788e-14,\n",
            "        7.6714e-27, 1.1602e-07, 8.7703e-11, 1.0000e+00],\n",
            "       grad_fn=<SelectBackward>)\n"
          ],
          "name": "stdout"
        },
        {
          "output_type": "display_data",
          "data": {
            "image/png": "[encoded data removed]",
            "text/plain": [
              "<Figure size 432x288 with 1 Axes>"
            ]
          },
          "metadata": {
            "tags": [],
            "needs_background": "light"
          }
        }
      ]
    },
    {
      "cell_type": "markdown",
      "metadata": {
        "id": "ox1MvvcRjFVL"
      },
      "source": [
        "### Ensemble"
      ]
    },
    {
      "cell_type": "code",
      "metadata": {
        "id": "eCPFhBLmjJZd"
      },
      "source": [
        "preds = ensemble.predict(test_loader)\n",
        "inds = torch.max(preds,dim=1)[0].argsort()[:10]\n",
        "print(torch.max(preds,dim=1)[0][inds])\n",
        "for i,im in enumerate(test_loader.dataset.data[inds]):\n",
        "  plt.imshow(im,cmap='gray')\n",
        "  plt.title(f'predicted: {preds[i].argmax()}')\n",
        "  plt.show()"
      ],
      "execution_count": null,
      "outputs": []
    },
    {
      "cell_type": "markdown",
      "metadata": {
        "id": "Z-6Drr4Mjy6w"
      },
      "source": [
        "### Which gives the 'best' uncertainty?"
      ]
    },
    {
      "cell_type": "code",
      "metadata": {
        "id": "uis0zKmmkcez"
      },
      "source": [
        "def ece(predictions, y, bins=10):\n",
        "  preds = predictions.argmax(dim=1)\n",
        "  confidences = predictions.max(dim=1)\n",
        "  l = np.linspace(0,1,bins+1)\n",
        "  ece = torch.zeros(bins)\n",
        "  N = y.size(0)\n",
        "  for ind, (lower,upper) in enumerate(zip(l[:-1], l[1:])):\n",
        "    indxs = torch.where((confidences<upper)&(confidences>=lower))\n",
        "    acc = (preds[indxs] == y[indxs]).mean().item()\n",
        "    conf = confidences[indxs].mean().item()\n",
        "    ece[ind] = (indxs.size(0)/N) * np.abs(acc-conf)\n",
        "  return ece\n"
      ],
      "execution_count": null,
      "outputs": []
    },
    {
      "cell_type": "markdown",
      "metadata": {
        "id": "b4TxmtQbANXY"
      },
      "source": [
        "## _References_"
      ]
    },
    {
      "cell_type": "markdown",
      "metadata": {
        "id": "ZZ8oHrcOANXY"
      },
      "source": [
        "- A very useful repository for a lot of Bayesian NN implementations: https://github.com/JavierAntoran/Bayesian-Neural-Networks\n",
        "- The code for the paper is found at https://github.com/wjmaddox/drbayes and specifically the following notebook was adapted for this demonstration (https://github.com/wjmaddox/drbayes/blob/master/experiments/synthetic_regression/visualizing_uncertainty.ipynb)\n"
      ]
    },
    {
      "cell_type": "code",
      "metadata": {
        "id": "TxYdtvcTANXZ",
        "colab": {
          "base_uri": "https://localhost:8080/"
        },
        "outputId": "e0947ae9-716b-4880-8f1c-690df08459be"
      },
      "source": [
        "!git config --global user.email \"youmed.tech@gmail.com\"\n",
        "!git config --global user.name \"ymohamedahmed\"\n",
        "!git --git-dir=drbayes/.git add -f drbayes/*.pt\n",
        "!git --git-dir=drbayes/.git commit -m \"updated checkpoints\"\n",
        "!git --git-dir=drbayes/.git push\n",
        "# !cd ../"
      ],
      "execution_count": 16,
      "outputs": [
        {
          "output_type": "stream",
          "text": [
            "On branch master\n",
            "Your branch is ahead of 'origin/master' by 1 commit.\n",
            "  (use \"git push\" to publish your local commits)\n",
            "\n",
            "Changes not staged for commit:\n",
            "\t\u001b[31mdeleted:    .gitignore\u001b[m\n",
            "\t\u001b[31mdeleted:    435_supplement.pdf\u001b[m\n",
            "\t\u001b[31mdeleted:    LICENSE\u001b[m\n",
            "\t\u001b[31mdeleted:    MLP-qmnist.pt\u001b[m\n",
            "\t\u001b[31mdeleted:    README.md\u001b[m\n",
            "\t\u001b[31mdeleted:    SIBDL_demo_group_13.ipynb\u001b[m\n",
            "\t\u001b[31mdeleted:    experiments/cifar_exps/README.md\u001b[m\n",
            "\t\u001b[31mdeleted:    experiments/cifar_exps/subspace_ess.py\u001b[m\n",
            "\t\u001b[31mdeleted:    experiments/cifar_exps/subspace_vi.py\u001b[m\n",
            "\t\u001b[31mdeleted:    experiments/cifar_exps/swag.py\u001b[m\n",
            "\t\u001b[31mdeleted:    experiments/data/MNIST/raw/train-images-idx3-ubyte\u001b[m\n",
            "\t\u001b[31mdeleted:    experiments/synthetic_regression/SIBDL-demo-group-13.ipynb\u001b[m\n",
            "\t\u001b[31mdeleted:    experiments/synthetic_regression/ckpts/curve.pt\u001b[m\n",
            "\t\u001b[31mdeleted:    experiments/synthetic_regression/ckpts/curve_parameters.npy\u001b[m\n",
            "\t\u001b[31mdeleted:    experiments/synthetic_regression/ckpts/data.npy\u001b[m\n",
            "\t\u001b[31mdeleted:    experiments/synthetic_regression/ckpts/sgd_checkpoint1.pt\u001b[m\n",
            "\t\u001b[31mdeleted:    experiments/synthetic_regression/ckpts/sgd_checkpoint2.pt\u001b[m\n",
            "\t\u001b[31mdeleted:    experiments/synthetic_regression/ckpts/sgd_checkpoint3.pt\u001b[m\n",
            "\t\u001b[31mdeleted:    experiments/synthetic_regression/ckpts/sgd_checkpoint4.pt\u001b[m\n",
            "\t\u001b[31mdeleted:    experiments/synthetic_regression/ckpts/sgd_checkpoint5.pt\u001b[m\n",
            "\t\u001b[31mdeleted:    experiments/synthetic_regression/ckpts/swag_checkpoint0-3000.pt\u001b[m\n",
            "\t\u001b[31mdeleted:    experiments/synthetic_regression/ckpts/swag_checkpoint1-3000.pt\u001b[m\n",
            "\t\u001b[31mdeleted:    experiments/synthetic_regression/data/MNIST/raw/train-images-idx3-ubyte\u001b[m\n",
            "\t\u001b[31mdeleted:    experiments/synthetic_regression/visualization.py\u001b[m\n",
            "\t\u001b[31mdeleted:    experiments/synthetic_regression/visualizing_uncertainty.ipynb\u001b[m\n",
            "\t\u001b[31mdeleted:    experiments/uci_exps/.coveragerc\u001b[m\n",
            "\t\u001b[31mdeleted:    experiments/uci_exps/.gitignore\u001b[m\n",
            "\t\u001b[31mdeleted:    experiments/uci_exps/.travis.yml\u001b[m\n",
            "\t\u001b[31mdeleted:    experiments/uci_exps/LICENSE\u001b[m\n",
            "\t\u001b[31mdeleted:    experiments/uci_exps/README.md\u001b[m\n",
            "\t\u001b[31mdeleted:    experiments/uci_exps/bayesian_benchmarks/__init__.py\u001b[m\n",
            "\t\u001b[31mdeleted:    experiments/uci_exps/bayesian_benchmarks/bayesian_benchmarksrc\u001b[m\n",
            "\t\u001b[31mdeleted:    experiments/uci_exps/bayesian_benchmarks/data.py\u001b[m\n",
            "\t\u001b[31mdeleted:    experiments/uci_exps/bayesian_benchmarks/database_utils.py\u001b[m\n",
            "\t\u001b[31mdeleted:    experiments/uci_exps/bayesian_benchmarks/models/README.md\u001b[m\n",
            "\t\u001b[31mdeleted:    experiments/uci_exps/bayesian_benchmarks/models/deep_gp_doubly_stochastic/README.md\u001b[m\n",
            "\t\u001b[31mdeleted:    experiments/uci_exps/bayesian_benchmarks/models/deep_gp_doubly_stochastic/models.py\u001b[m\n",
            "\t\u001b[31mdeleted:    experiments/uci_exps/bayesian_benchmarks/models/get_model.py\u001b[m\n",
            "\t\u001b[31mdeleted:    experiments/uci_exps/bayesian_benchmarks/models/nnet/models.py\u001b[m\n",
            "\t\u001b[31mdeleted:    experiments/uci_exps/bayesian_benchmarks/models/nnet/neural_linear.py\u001b[m\n",
            "\t\u001b[31mdeleted:    experiments/uci_exps/bayesian_benchmarks/models/non_bayesian_models.py\u001b[m\n",
            "\t\u001b[31mdeleted:    experiments/uci_exps/bayesian_benchmarks/models/template.py\u001b[m\n",
            "\t\u001b[31mdeleted:    experiments/uci_exps/bayesian_benchmarks/models/variationally_sparse_gp/README.md\u001b[m\n",
            "\t\u001b[31mdeleted:    experiments/uci_exps/bayesian_benchmarks/models/variationally_sparse_gp/models.py\u001b[m\n",
            "\t\u001b[31mdeleted:    experiments/uci_exps/bayesian_benchmarks/models/variationally_sparse_gp_minibatch/models.py\u001b[m\n",
            "\t\u001b[31mdeleted:    experiments/uci_exps/bayesian_benchmarks/paths.py\u001b[m\n",
            "\t\u001b[31mdeleted:    experiments/uci_exps/bayesian_benchmarks/results/calibration.ipynb\u001b[m\n",
            "\t\u001b[31mdeleted:    experiments/uci_exps/bayesian_benchmarks/results/sgd_nl_results.ipynb\u001b[m\n",
            "\t\u001b[31mdeleted:    experiments/uci_exps/bayesian_benchmarks/results/view_results.ipynb\u001b[m\n",
            "\t\u001b[31mdeleted:    experiments/uci_exps/bayesian_benchmarks/scripts/make_experiments.py\u001b[m\n",
            "\t\u001b[31mdeleted:    experiments/uci_exps/bayesian_benchmarks/scripts/run_all_pytest.py\u001b[m\n",
            "\t\u001b[31mdeleted:    experiments/uci_exps/bayesian_benchmarks/tasks/active_learning_continuous.py\u001b[m\n",
            "\t\u001b[31mdeleted:    experiments/uci_exps/bayesian_benchmarks/tasks/active_learning_discrete.py\u001b[m\n",
            "\t\u001b[31mdeleted:    experiments/uci_exps/bayesian_benchmarks/tasks/adversarial.py\u001b[m\n",
            "\t\u001b[31mdeleted:    experiments/uci_exps/bayesian_benchmarks/tasks/classification.py\u001b[m\n",
            "\t\u001b[31mdeleted:    experiments/uci_exps/bayesian_benchmarks/tasks/conditional_density_estimation.py\u001b[m\n",
            "\t\u001b[31mdeleted:    experiments/uci_exps/bayesian_benchmarks/tasks/learned_synthetic.py\u001b[m\n",
            "\t\u001b[31mdeleted:    experiments/uci_exps/bayesian_benchmarks/tasks/mmd.py\u001b[m\n",
            "\t\u001b[31mdeleted:    experiments/uci_exps/bayesian_benchmarks/tasks/nl_regression.py\u001b[m\n",
            "\t\u001b[31mdeleted:    experiments/uci_exps/bayesian_benchmarks/tasks/regression.py\u001b[m\n",
            "\t\u001b[31mdeleted:    experiments/uci_exps/bayesian_benchmarks/tasks/regression_runner.py\u001b[m\n",
            "\t\u001b[31mdeleted:    experiments/uci_exps/bayesian_benchmarks/tasks/run_ucilarge.sh\u001b[m\n",
            "\t\u001b[31mdeleted:    experiments/uci_exps/bayesian_benchmarks/tasks/run_ucismall.sh\u001b[m\n",
            "\t\u001b[31mdeleted:    experiments/uci_exps/bayesian_benchmarks/tasks/swag_regression.py\u001b[m\n",
            "\t\u001b[31mdeleted:    experiments/uci_exps/bayesian_benchmarks/tasks/view_results.py\u001b[m\n",
            "\t\u001b[31mdeleted:    experiments/uci_exps/setup.py\u001b[m\n",
            "\t\u001b[31mdeleted:    experiments/uci_exps/tests/test_data.py\u001b[m\n",
            "\t\u001b[31mdeleted:    experiments/uci_exps/tests/test_database.py\u001b[m\n",
            "\t\u001b[31mdeleted:    experiments/uci_exps/tests/test_models.py\u001b[m\n",
            "\t\u001b[31mdeleted:    experiments/uci_exps/tests/test_tasks.py\u001b[m\n",
            "\t\u001b[31mdeleted:    requirements.txt\u001b[m\n",
            "\t\u001b[31mdeleted:    setup.py\u001b[m\n",
            "\t\u001b[31mdeleted:    subspace_inference/__init__.py\u001b[m\n",
            "\t\u001b[31mdeleted:    subspace_inference/curves.py\u001b[m\n",
            "\t\u001b[31mdeleted:    subspace_inference/data.py\u001b[m\n",
            "\t\u001b[31mdeleted:    subspace_inference/losses.py\u001b[m\n",
            "\t\u001b[31mdeleted:    subspace_inference/models/__init__.py\u001b[m\n",
            "\t\u001b[31mdeleted:    subspace_inference/models/layers.py\u001b[m\n",
            "\t\u001b[31mdeleted:    subspace_inference/models/mlp.py\u001b[m\n",
            "\t\u001b[31mdeleted:    subspace_inference/models/preresnet.py\u001b[m\n",
            "\t\u001b[31mdeleted:    subspace_inference/models/preresnet_dropout.py\u001b[m\n",
            "\t\u001b[31mdeleted:    subspace_inference/models/regression_net.py\u001b[m\n",
            "\t\u001b[31mdeleted:    subspace_inference/models/vgg.py\u001b[m\n",
            "\t\u001b[31mdeleted:    subspace_inference/models/vgg_dropout.py\u001b[m\n",
            "\t\u001b[31mdeleted:    subspace_inference/models/wide_resnet.py\u001b[m\n",
            "\t\u001b[31mdeleted:    subspace_inference/models/wide_resnet_dropout.py\u001b[m\n",
            "\t\u001b[31mdeleted:    subspace_inference/posteriors/__init__.py\u001b[m\n",
            "\t\u001b[31mdeleted:    subspace_inference/posteriors/elliptical_slice.py\u001b[m\n",
            "\t\u001b[31mdeleted:    subspace_inference/posteriors/ess.py\u001b[m\n",
            "\t\u001b[31mdeleted:    subspace_inference/posteriors/inferences.py\u001b[m\n",
            "\t\u001b[31mdeleted:    subspace_inference/posteriors/proj_model.py\u001b[m\n",
            "\t\u001b[31mdeleted:    subspace_inference/posteriors/pyro.py\u001b[m\n",
            "\t\u001b[31mdeleted:    subspace_inference/posteriors/realnvp.py\u001b[m\n",
            "\t\u001b[31mdeleted:    subspace_inference/posteriors/subspaces.py\u001b[m\n",
            "\t\u001b[31mdeleted:    subspace_inference/posteriors/swag.py\u001b[m\n",
            "\t\u001b[31mdeleted:    subspace_inference/posteriors/vi_model.py\u001b[m\n",
            "\t\u001b[31mdeleted:    subspace_inference/posteriors/vinf_model.py\u001b[m\n",
            "\t\u001b[31mdeleted:    subspace_inference/utils.py\u001b[m\n",
            "\t\u001b[31mdeleted:    subspace_inference/visualization.py\u001b[m\n",
            "\t\u001b[31mdeleted:    vi-pca-model.pt\u001b[m\n",
            "\n",
            "Untracked files:\n",
            "\t\u001b[31m.config/\u001b[m\n",
            "\t\u001b[31mdrbayes/.gitignore\u001b[m\n",
            "\t\u001b[31mdrbayes/LICENSE\u001b[m\n",
            "\t\u001b[31mdrbayes/README.md\u001b[m\n",
            "\t\u001b[31mdrbayes/SIBDL_demo_group_13.ipynb\u001b[m\n",
            "\t\u001b[31mdrbayes/experiments/\u001b[m\n",
            "\t\u001b[31mdrbayes/setup.py\u001b[m\n",
            "\t\u001b[31mdrbayes/subspace_inference/\u001b[m\n",
            "\t\u001b[31msample_data/\u001b[m\n",
            "\n",
            "no changes added to commit\n",
            "fatal: could not read Username for 'https://github.com': No such device or address\n"
          ],
          "name": "stdout"
        }
      ]
    },
    {
      "cell_type": "code",
      "metadata": {
        "colab": {
          "base_uri": "https://localhost:8080/"
        },
        "id": "mp6BXqghM4jD",
        "outputId": "0da44fe3-8359-47ec-a32b-f2d204e0af54"
      },
      "source": [
        "!git --git-dir=drbayes/.git push"
      ],
      "execution_count": 20,
      "outputs": [
        {
          "output_type": "stream",
          "text": [
            "fatal: could not read Username for 'https://github.com': No such device or address\n"
          ],
          "name": "stdout"
        }
      ]
    },
    {
      "cell_type": "code",
      "metadata": {
        "id": "ibmJ03GZOd9r"
      },
      "source": [
        "del preds\n",
        "torch.cuda.empty_cache()"
      ],
      "execution_count": 23,
      "outputs": []
    },
    {
      "cell_type": "code",
      "metadata": {
        "id": "-uk9L9yJ9uzw"
      },
      "source": [
        ""
      ],
      "execution_count": null,
      "outputs": []
    }
  ]
}